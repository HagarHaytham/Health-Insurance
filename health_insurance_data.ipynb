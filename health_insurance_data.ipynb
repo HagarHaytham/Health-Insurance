{
  "nbformat": 4,
  "nbformat_minor": 0,
  "metadata": {
    "colab": {
      "provenance": []
    },
    "kernelspec": {
      "name": "python3",
      "display_name": "Python 3"
    },
    "language_info": {
      "name": "python"
    }
  },
  "cells": [
    {
      "cell_type": "markdown",
      "source": [
        "# Health Insurance\n",
        "\n",
        "#### Project Summary\n",
        "This project aims to gather data of health insurance plans and analyze it through many aspects, It aims to answer questions like:\n",
        "- What are the top 5 Networks that have the biggest Number of organizations\n",
        "- The Plans with the highest Individual Rate for Each Age for Year 2023\n",
        "- Average Individual Rate changes over years 2016 to 2023 grouped by Age\n",
        "And many more analytical questions.\n",
        "\n",
        "The project follows the following steps:\n",
        "* Step 1: Gather Data\n",
        "* Step 2: Explore and Assess the Data\n",
        "* Step 3: Define the Data Model\n",
        "* Step 4: Data Analysis\n",
        "* Step 5: Performance Optimization"
      ],
      "metadata": {
        "id": "suq-qd5GAw62"
      }
    },
    {
      "cell_type": "markdown",
      "source": [
        "## Step 1: Gather Data\n",
        "\n",
        "\n",
        "\n",
        "\n",
        "\n"
      ],
      "metadata": {
        "id": "kY29q80VEPui"
      }
    },
    {
      "cell_type": "code",
      "source": [
        "import requests\n",
        "import zipfile\n",
        "from io import BytesIO\n",
        "import os\n",
        "\n",
        "\n",
        "parent_folder = 'health-insurance-raw-data'\n",
        "domain = \"https://download.cms.gov/marketplace-puf/\"\n",
        "\n"
      ],
      "metadata": {
        "id": "OOatC6quAxQZ"
      },
      "execution_count": 1,
      "outputs": []
    },
    {
      "cell_type": "code",
      "source": [
        "def get_zip_urls (url):\n",
        "  zip_urls = []\n",
        "  for i in range(2014,2024):\n",
        "    zip_urls.append(domain+str(i)+url)\n",
        "\n",
        "  return zip_urls\n",
        "\n",
        "\n",
        "def download_data(urls,folder_name):\n",
        "  # Iterate over the URLs and extract the zip files\n",
        "  for url in urls:\n",
        "      response = requests.get(url)\n",
        "      year = url.split(\"/\")[-2]\n",
        "\n",
        "      with zipfile.ZipFile(BytesIO(response.content)) as z:\n",
        "          for filename in z.namelist():\n",
        "              os.makedirs(parent_folder + \"/\" + folder_name + \"/\" + year, exist_ok=True)\n",
        "\n",
        "              with open(parent_folder + \"/\" + folder_name + \"/\" +  year + \"/\" + filename, \"wb\") as f:\n",
        "                  f.write(z.read(filename))\n",
        "\n",
        "\n"
      ],
      "metadata": {
        "id": "Iz9QjmbE2scK"
      },
      "execution_count": 2,
      "outputs": []
    },
    {
      "cell_type": "code",
      "source": [
        "folders = ['benefits-and-cost-sharing',\"rate\",\"plan-attributes\",\"business-rules\",\"service-area\",\"network\"]\n",
        "remaining_urls = [\"/benefits-and-cost-sharing-puf.zip\",\"/rate-puf.zip\",\"/plan-attributes-puf.zip\",\"/business-rules-puf.zip\",\"/service-area-puf.zip\",\"/network-puf.zip\"]\n",
        "for i in range(len(folders)):\n",
        "  urls = get_zip_urls(remaining_urls[i])\n",
        "  download_data(urls,folders[i])"
      ],
      "metadata": {
        "id": "5-xodys14vbW"
      },
      "execution_count": 3,
      "outputs": []
    },
    {
      "cell_type": "markdown",
      "source": [
        "## Step 2 : Explore and Assess the data  "
      ],
      "metadata": {
        "id": "Fiz0pP9HHeKG"
      }
    },
    {
      "cell_type": "code",
      "source": [
        "!pip install pyspark"
      ],
      "metadata": {
        "colab": {
          "base_uri": "https://localhost:8080/"
        },
        "id": "c8gk-UeAuYlU",
        "outputId": "59f84cd9-4124-44bf-d2b1-cdb7977c5b87"
      },
      "execution_count": 4,
      "outputs": [
        {
          "output_type": "stream",
          "name": "stdout",
          "text": [
            "Collecting pyspark\n",
            "  Downloading pyspark-3.5.0.tar.gz (316.9 MB)\n",
            "\u001b[2K     \u001b[90m━━━━━━━━━━━━━━━━━━━━━━━━━━━━━━━━━━━━━━━━\u001b[0m \u001b[32m316.9/316.9 MB\u001b[0m \u001b[31m3.9 MB/s\u001b[0m eta \u001b[36m0:00:00\u001b[0m\n",
            "\u001b[?25h  Preparing metadata (setup.py) ... \u001b[?25l\u001b[?25hdone\n",
            "Requirement already satisfied: py4j==0.10.9.7 in /usr/local/lib/python3.10/dist-packages (from pyspark) (0.10.9.7)\n",
            "Building wheels for collected packages: pyspark\n",
            "  Building wheel for pyspark (setup.py) ... \u001b[?25l\u001b[?25hdone\n",
            "  Created wheel for pyspark: filename=pyspark-3.5.0-py2.py3-none-any.whl size=317425344 sha256=de90e5c86c257133b466386790b37a2065853faa62f39bc1d7afca789d559c61\n",
            "  Stored in directory: /root/.cache/pip/wheels/41/4e/10/c2cf2467f71c678cfc8a6b9ac9241e5e44a01940da8fbb17fc\n",
            "Successfully built pyspark\n",
            "Installing collected packages: pyspark\n",
            "Successfully installed pyspark-3.5.0\n"
          ]
        }
      ]
    },
    {
      "cell_type": "code",
      "source": [
        "from pyspark.sql import SparkSession"
      ],
      "metadata": {
        "id": "vtVzucrHuZ3l"
      },
      "execution_count": 5,
      "outputs": []
    },
    {
      "cell_type": "code",
      "source": [
        "from pyspark.sql.functions import countDistinct\n",
        "from pyspark.sql.functions import monotonically_increasing_id\n",
        "from pyspark.sql.functions import count,when,col\n",
        "from pyspark.sql.functions import desc\n"
      ],
      "metadata": {
        "id": "02XqUKN3MmbW"
      },
      "execution_count": 6,
      "outputs": []
    },
    {
      "cell_type": "code",
      "source": [
        "spark = SparkSession.builder \\\n",
        "    .appName(\"HealthInsurance\") \\\n",
        "    .getOrCreate()"
      ],
      "metadata": {
        "id": "-BV8eTYpucA_"
      },
      "execution_count": 7,
      "outputs": []
    },
    {
      "cell_type": "markdown",
      "source": [
        "### 1- Plan Attributes Raw Data"
      ],
      "metadata": {
        "id": "_ZWL5YF9HyZp"
      }
    },
    {
      "cell_type": "code",
      "source": [
        "df_plan_raw = spark.read.option(\"header\", \"true\").option(\"inferSchema\", \"true\").csv(\"/content/health-insurance-raw-data/plan-attributes/*/*.csv\")\n",
        "\n",
        "\n",
        "df_plan_raw.show(5)\n",
        "# df_plan_raw.filter(df_plan_raw.BusinessYear == \"2023\").show()\n"
      ],
      "metadata": {
        "colab": {
          "base_uri": "https://localhost:8080/"
        },
        "id": "GGcpwPAcuRak",
        "outputId": "ccbcea48-f026-455c-c4e5-7c3906513e3b"
      },
      "execution_count": 8,
      "outputs": [
        {
          "output_type": "stream",
          "name": "stdout",
          "text": [
            "+------------+---------+--------+------------------------------+----------+---------------+------------------+--------------+-------------------+--------------------+-------------+---------+-------------+-----------+---------+---------+----------+----------+----------------+----------------+----------------------------+-------------------------------+---------------------------+-------------------+------------------------------------------------------------+----------------------+--------------------+---------------+----------------------+--------------------------------+----------------------+---------------------------------------+----------------+-----------------+------------------+--------------------+-------------------------------+------------------------+-----------------------------------+---------------+-----------------------+------------+-----------------+------------------------+--------------------+--------------------+------------------------+--------------------------------+---------------------------------------+----------------------+--------------------+---------------------+------------------------+-----------------------+-------------------------+-------------------+---------------------------+--------------------------+----------------------------+----------------------+---------------------------------+--------------------------------+----------------------------------+----------------------------+-------------------------------+-----------------------------+----------------------------------------------+--------------------------------------------------------+--------------------------+-------------------------------+------------------------------+--------------------------+-------------------------------+------------------------------+--------------------------+-------------------------------+------------------------------+----------------------------+---------------------------------+--------------------------------+--------------------------+-------------------------------+------------------------------+--------------------------+-------------------------------+------------------------------+--------------------------+-------------------------------+------------------------------+----------------------------+---------------------------------+--------------------------------+--------------------------+-------------------------------+------------------------------+--------------------------+-------------------------------+------------------------------+--------------------------+-------------------------------+------------------------------+----------------------------+---------------------------------+--------------------------------+-------------------------+------------------------------+-----------------------------+--------------------------+-------------------------+------------------------------+-----------------------------+--------------------------+-------------------------+------------------------------+-----------------------------+---------------------------+--------------------------------+-------------------------------+-------------------------+------------------------------+-----------------------------+--------------------------+-------------------------+------------------------------+-----------------------------+--------------------------+-------------------------+------------------------------+-----------------------------+---------------------------+--------------------------------+-------------------------------+-------------------------+------------------------------+-----------------------------+--------------------------+-------------------------+------------------------------+-----------------------------+--------------------------+-------------------------+------------------------------+-----------------------------+---------------------------+--------------------------------+-------------------------------+-------------+----------------------------+----------------------------------+-------------------------------+--------------------+\n",
            "|BusinessYear|StateCode|IssuerId|IssuerMarketPlaceMarketingName|SourceName|     ImportDate|    MarketCoverage|DentalOnlyPlan|StandardComponentId|   PlanMarketingName|HIOSProductId|NetworkId|ServiceAreaId|FormularyId|IsNewPlan| PlanType|MetalLevel|DesignType|UniquePlanDesign| QHPNonQHPTypeId|IsNoticeRequiredForPregnancy|IsReferralRequiredForSpecialist|SpecialistRequiringReferral|PlanLevelExclusions|IndianPlanVariationEstimatedAdvancedPaymentAmountPerEnrollee|CompositeRatingOffered|   ChildOnlyOffering|ChildOnlyPlanId|WellnessProgramOffered|DiseaseManagementProgramsOffered|EHBPercentTotalPremium|EHBPediatricDentalApportionmentQuantity|IsGuaranteedRate|PlanEffectiveDate|PlanExpirationDate|OutOfCountryCoverage|OutOfCountryCoverageDescription|OutOfServiceAreaCoverage|OutOfServiceAreaCoverageDescription|NationalNetwork|URLForEnrollmentPayment|FormularyURL|           PlanId|PlanVariantMarketingName|    CSRVariationType|IssuerActuarialValue|AVCalculatorOutputNumber|MedicalDrugDeductiblesIntegrated|MedicalDrugMaximumOutofPocketIntegrated|MultipleInNetworkTiers|FirstTierUtilization|SecondTierUtilization|SBCHavingaBabyDeductible|SBCHavingaBabyCopayment|SBCHavingaBabyCoinsurance|SBCHavingaBabyLimit|SBCHavingDiabetesDeductible|SBCHavingDiabetesCopayment|SBCHavingDiabetesCoinsurance|SBCHavingDiabetesLimit|SBCHavingSimplefractureDeductible|SBCHavingSimplefractureCopayment|SBCHavingSimplefractureCoinsurance|SBCHavingSimplefractureLimit|SpecialtyDrugMaximumCoinsurance|InpatientCopaymentMaximumDays|BeginPrimaryCareCostSharingAfterNumberOfVisits|BeginPrimaryCareDeductibleCoinsuranceAfterNumberOfCopays|MEHBInnTier1IndividualMOOP|MEHBInnTier1FamilyPerPersonMOOP|MEHBInnTier1FamilyPerGroupMOOP|MEHBInnTier2IndividualMOOP|MEHBInnTier2FamilyPerPersonMOOP|MEHBInnTier2FamilyPerGroupMOOP|MEHBOutOfNetIndividualMOOP|MEHBOutOfNetFamilyPerPersonMOOP|MEHBOutOfNetFamilyPerGroupMOOP|MEHBCombInnOonIndividualMOOP|MEHBCombInnOonFamilyPerPersonMOOP|MEHBCombInnOonFamilyPerGroupMOOP|DEHBInnTier1IndividualMOOP|DEHBInnTier1FamilyPerPersonMOOP|DEHBInnTier1FamilyPerGroupMOOP|DEHBInnTier2IndividualMOOP|DEHBInnTier2FamilyPerPersonMOOP|DEHBInnTier2FamilyPerGroupMOOP|DEHBOutOfNetIndividualMOOP|DEHBOutOfNetFamilyPerPersonMOOP|DEHBOutOfNetFamilyPerGroupMOOP|DEHBCombInnOonIndividualMOOP|DEHBCombInnOonFamilyPerPersonMOOP|DEHBCombInnOonFamilyPerGroupMOOP|TEHBInnTier1IndividualMOOP|TEHBInnTier1FamilyPerPersonMOOP|TEHBInnTier1FamilyPerGroupMOOP|TEHBInnTier2IndividualMOOP|TEHBInnTier2FamilyPerPersonMOOP|TEHBInnTier2FamilyPerGroupMOOP|TEHBOutOfNetIndividualMOOP|TEHBOutOfNetFamilyPerPersonMOOP|TEHBOutOfNetFamilyPerGroupMOOP|TEHBCombInnOonIndividualMOOP|TEHBCombInnOonFamilyPerPersonMOOP|TEHBCombInnOonFamilyPerGroupMOOP|MEHBDedInnTier1Individual|MEHBDedInnTier1FamilyPerPerson|MEHBDedInnTier1FamilyPerGroup|MEHBDedInnTier1Coinsurance|MEHBDedInnTier2Individual|MEHBDedInnTier2FamilyPerPerson|MEHBDedInnTier2FamilyPerGroup|MEHBDedInnTier2Coinsurance|MEHBDedOutOfNetIndividual|MEHBDedOutOfNetFamilyPerPerson|MEHBDedOutOfNetFamilyPerGroup|MEHBDedCombInnOonIndividual|MEHBDedCombInnOonFamilyPerPerson|MEHBDedCombInnOonFamilyPerGroup|DEHBDedInnTier1Individual|DEHBDedInnTier1FamilyPerPerson|DEHBDedInnTier1FamilyPerGroup|DEHBDedInnTier1Coinsurance|DEHBDedInnTier2Individual|DEHBDedInnTier2FamilyPerPerson|DEHBDedInnTier2FamilyPerGroup|DEHBDedInnTier2Coinsurance|DEHBDedOutOfNetIndividual|DEHBDedOutOfNetFamilyPerPerson|DEHBDedOutOfNetFamilyPerGroup|DEHBDedCombInnOonIndividual|DEHBDedCombInnOonFamilyPerPerson|DEHBDedCombInnOonFamilyPerGroup|TEHBDedInnTier1Individual|TEHBDedInnTier1FamilyPerPerson|TEHBDedInnTier1FamilyPerGroup|TEHBDedInnTier1Coinsurance|TEHBDedInnTier2Individual|TEHBDedInnTier2FamilyPerPerson|TEHBDedInnTier2FamilyPerGroup|TEHBDedInnTier2Coinsurance|TEHBDedOutOfNetIndividual|TEHBDedOutOfNetFamilyPerPerson|TEHBDedOutOfNetFamilyPerGroup|TEHBDedCombInnOonIndividual|TEHBDedCombInnOonFamilyPerPerson|TEHBDedCombInnOonFamilyPerGroup|IsHSAEligible|HSAOrHRAEmployerContribution|HSAOrHRAEmployerContributionAmount|URLForSummaryofBenefitsCoverage|        PlanBrochure|\n",
            "+------------+---------+--------+------------------------------+----------+---------------+------------------+--------------+-------------------+--------------------+-------------+---------+-------------+-----------+---------+---------+----------+----------+----------------+----------------+----------------------------+-------------------------------+---------------------------+-------------------+------------------------------------------------------------+----------------------+--------------------+---------------+----------------------+--------------------------------+----------------------+---------------------------------------+----------------+-----------------+------------------+--------------------+-------------------------------+------------------------+-----------------------------------+---------------+-----------------------+------------+-----------------+------------------------+--------------------+--------------------+------------------------+--------------------------------+---------------------------------------+----------------------+--------------------+---------------------+------------------------+-----------------------+-------------------------+-------------------+---------------------------+--------------------------+----------------------------+----------------------+---------------------------------+--------------------------------+----------------------------------+----------------------------+-------------------------------+-----------------------------+----------------------------------------------+--------------------------------------------------------+--------------------------+-------------------------------+------------------------------+--------------------------+-------------------------------+------------------------------+--------------------------+-------------------------------+------------------------------+----------------------------+---------------------------------+--------------------------------+--------------------------+-------------------------------+------------------------------+--------------------------+-------------------------------+------------------------------+--------------------------+-------------------------------+------------------------------+----------------------------+---------------------------------+--------------------------------+--------------------------+-------------------------------+------------------------------+--------------------------+-------------------------------+------------------------------+--------------------------+-------------------------------+------------------------------+----------------------------+---------------------------------+--------------------------------+-------------------------+------------------------------+-----------------------------+--------------------------+-------------------------+------------------------------+-----------------------------+--------------------------+-------------------------+------------------------------+-----------------------------+---------------------------+--------------------------------+-------------------------------+-------------------------+------------------------------+-----------------------------+--------------------------+-------------------------+------------------------------+-----------------------------+--------------------------+-------------------------+------------------------------+-----------------------------+---------------------------+--------------------------------+-------------------------------+-------------------------+------------------------------+-----------------------------+--------------------------+-------------------------+------------------------------+-----------------------------+--------------------------+-------------------------+------------------------------+-----------------------------+---------------------------+--------------------------------+-------------------------------+-------------+----------------------------+----------------------------------+-------------------------------+--------------------+\n",
            "|        2023|       AK|   21989|          Delta Dental of A...|      HIOS|11/19/2022 1:01|SHOP (Small Group)|           Yes|     21989AK0130001|Delta Dental Prem...|   21989AK013|   AKN001|       AKS001|       NULL| Existing|Indemnity|      High|      NULL|            NULL|Off the Exchange|                        NULL|                             No|                       NULL|               NULL|                                                        NULL|                    No|Allows Adult and ...|             No|  Allows Adult and ...|                            NULL|                  NULL|                                   NULL|  Estimated Rate|         1/1/2023|        12/31/2023|                 Yes|           Providers treated...|                     Yes|                   National Network|            Yes|   https://www.delta...|        NULL|21989AK0130001-00|    Delta Dental Prem...|Standard High Off...|                NULL|                    NULL|                            NULL|                                   NULL|                    No|                100%|                 NULL|                    NULL|                   NULL|                     NULL|               NULL|                       NULL|                      NULL|                        NULL|                  NULL|                             NULL|                            NULL|                              NULL|                        NULL|                           NULL|                            0|                                             0|                                                       0|            Not Applicable|           per person not ap...|          per group not app...|                      NULL|                           NULL|                          NULL|            Not Applicable|           per person not ap...|          per group not app...|                       $375 |                  $375 per person|                  $750 per group|                      NULL|                           NULL|                          NULL|                      NULL|                           NULL|                          NULL|                      NULL|                           NULL|                          NULL|                        NULL|                             NULL|                            NULL|                      NULL|                           NULL|                          NULL|                      NULL|                           NULL|                          NULL|                      NULL|                           NULL|                          NULL|                        NULL|                             NULL|                            NULL|           Not Applicable|          per person not ap...|         per group not app...|                      NULL|                     NULL|                          NULL|                         NULL|                      NULL|           Not Applicable|          per person not ap...|         per group not app...|                       $50 |                  $50 per person|                 $150 per group|                     NULL|                          NULL|                         NULL|                      NULL|                     NULL|                          NULL|                         NULL|                      NULL|                     NULL|                          NULL|                         NULL|                       NULL|                            NULL|                           NULL|                     NULL|                          NULL|                         NULL|                      NULL|                     NULL|                          NULL|                         NULL|                      NULL|                     NULL|                          NULL|                         NULL|                       NULL|                            NULL|                           NULL|         NULL|                        NULL|                              NULL|                           NULL|https://www.delta...|\n",
            "|        2023|       AK|   21989|          Delta Dental of A...|      HIOS|11/19/2022 1:01|        Individual|           Yes|     21989AK0030001|Delta Dental Prem...|   21989AK003|   AKN001|       AKS001|       NULL| Existing|Indemnity|       Low|      NULL|            NULL|            Both|                        NULL|                           NULL|                       NULL|               NULL|                                                        NULL|                    No|Allows Adult and ...|           NULL|                  NULL|                            NULL|                  NULL|                                      1| Guaranteed Rate|         1/1/2023|        12/31/2023|                 Yes|           Providers treated...|                     Yes|                   National network|            Yes|   https://www.delta...|        NULL|21989AK0030001-00|    Delta Dental Prem...|Standard Low Off ...|                NULL|                    NULL|                            NULL|                                   NULL|                    No|                100%|                 NULL|                    NULL|                   NULL|                     NULL|               NULL|                       NULL|                      NULL|                        NULL|                  NULL|                             NULL|                            NULL|                              NULL|                        NULL|                           NULL|                            0|                                             0|                                                       0|            Not Applicable|           per person not ap...|          per group not app...|                      NULL|                           NULL|                          NULL|            Not Applicable|           per person not ap...|          per group not app...|                       $375 |                  $375 per person|                  $750 per group|                      NULL|                           NULL|                          NULL|                      NULL|                           NULL|                          NULL|                      NULL|                           NULL|                          NULL|                        NULL|                             NULL|                            NULL|                      NULL|                           NULL|                          NULL|                      NULL|                           NULL|                          NULL|                      NULL|                           NULL|                          NULL|                        NULL|                             NULL|                            NULL|           Not Applicable|          per person not ap...|         per group not app...|                      NULL|                     NULL|                          NULL|                         NULL|                      NULL|           Not Applicable|          per person not ap...|         per group not app...|                        $0 |                   $0 per person|                   $0 per group|                     NULL|                          NULL|                         NULL|                      NULL|                     NULL|                          NULL|                         NULL|                      NULL|                     NULL|                          NULL|                         NULL|                       NULL|                            NULL|                           NULL|                     NULL|                          NULL|                         NULL|                      NULL|                     NULL|                          NULL|                         NULL|                      NULL|                     NULL|                          NULL|                         NULL|                       NULL|                            NULL|                           NULL|         NULL|                        NULL|                              NULL|                           NULL|https://www.delta...|\n",
            "|        2023|       AK|   21989|          Delta Dental of A...|      HIOS|11/19/2022 1:01|        Individual|           Yes|     21989AK0030001|Delta Dental Prem...|   21989AK003|   AKN001|       AKS001|       NULL| Existing|Indemnity|       Low|      NULL|            NULL|            Both|                        NULL|                           NULL|                       NULL|               NULL|                                                        NULL|                    No|Allows Adult and ...|           NULL|                  NULL|                            NULL|                  NULL|                                      1| Guaranteed Rate|         1/1/2023|        12/31/2023|                 Yes|           Providers treated...|                     Yes|                   National network|            Yes|   https://www.delta...|        NULL|21989AK0030001-01|    Delta Dental Prem...|Standard Low On E...|                NULL|                    NULL|                            NULL|                                   NULL|                    No|                100%|                 NULL|                    NULL|                   NULL|                     NULL|               NULL|                       NULL|                      NULL|                        NULL|                  NULL|                             NULL|                            NULL|                              NULL|                        NULL|                           NULL|                            0|                                             0|                                                       0|            Not Applicable|           per person not ap...|          per group not app...|                      NULL|                           NULL|                          NULL|            Not Applicable|           per person not ap...|          per group not app...|                       $375 |                  $375 per person|                  $750 per group|                      NULL|                           NULL|                          NULL|                      NULL|                           NULL|                          NULL|                      NULL|                           NULL|                          NULL|                        NULL|                             NULL|                            NULL|                      NULL|                           NULL|                          NULL|                      NULL|                           NULL|                          NULL|                      NULL|                           NULL|                          NULL|                        NULL|                             NULL|                            NULL|           Not Applicable|          per person not ap...|         per group not app...|                      NULL|                     NULL|                          NULL|                         NULL|                      NULL|           Not Applicable|          per person not ap...|         per group not app...|                        $0 |                   $0 per person|                   $0 per group|                     NULL|                          NULL|                         NULL|                      NULL|                     NULL|                          NULL|                         NULL|                      NULL|                     NULL|                          NULL|                         NULL|                       NULL|                            NULL|                           NULL|                     NULL|                          NULL|                         NULL|                      NULL|                     NULL|                          NULL|                         NULL|                      NULL|                     NULL|                          NULL|                         NULL|                       NULL|                            NULL|                           NULL|         NULL|                        NULL|                              NULL|                           NULL|https://www.delta...|\n",
            "|        2023|       AK|   21989|          Delta Dental of A...|      HIOS|11/19/2022 1:01|SHOP (Small Group)|           Yes|     21989AK0130002|Delta Dental Prem...|   21989AK013|   AKN001|       AKS001|       NULL| Existing|Indemnity|      High|      NULL|            NULL|Off the Exchange|                        NULL|                             No|                       NULL|               NULL|                                                        NULL|                    No|Allows Adult and ...|             No|  Allows Adult and ...|                            NULL|                  NULL|                                   NULL|  Estimated Rate|         1/1/2023|        12/31/2023|                 Yes|           Providers treated...|                     Yes|                   National Network|            Yes|   https://www.delta...|        NULL|21989AK0130002-00|    Delta Dental Prem...|Standard High Off...|                NULL|                    NULL|                            NULL|                                   NULL|                    No|                100%|                 NULL|                    NULL|                   NULL|                     NULL|               NULL|                       NULL|                      NULL|                        NULL|                  NULL|                             NULL|                            NULL|                              NULL|                        NULL|                           NULL|                            0|                                             0|                                                       0|            Not Applicable|           per person not ap...|          per group not app...|                      NULL|                           NULL|                          NULL|            Not Applicable|           per person not ap...|          per group not app...|                       $375 |                  $375 per person|                  $750 per group|                      NULL|                           NULL|                          NULL|                      NULL|                           NULL|                          NULL|                      NULL|                           NULL|                          NULL|                        NULL|                             NULL|                            NULL|                      NULL|                           NULL|                          NULL|                      NULL|                           NULL|                          NULL|                      NULL|                           NULL|                          NULL|                        NULL|                             NULL|                            NULL|           Not Applicable|          per person not ap...|         per group not app...|                      NULL|                     NULL|                          NULL|                         NULL|                      NULL|           Not Applicable|          per person not ap...|         per group not app...|                       $50 |                  $50 per person|                 $150 per group|                     NULL|                          NULL|                         NULL|                      NULL|                     NULL|                          NULL|                         NULL|                      NULL|                     NULL|                          NULL|                         NULL|                       NULL|                            NULL|                           NULL|                     NULL|                          NULL|                         NULL|                      NULL|                     NULL|                          NULL|                         NULL|                      NULL|                     NULL|                          NULL|                         NULL|                       NULL|                            NULL|                           NULL|         NULL|                        NULL|                              NULL|                           NULL|https://www.delta...|\n",
            "|        2023|       AK|   21989|          Delta Dental of A...|      HIOS|11/19/2022 1:01|SHOP (Small Group)|           Yes|     21989AK0130024|Delta Dental Prem...|   21989AK013|   AKN001|       AKS001|       NULL| Existing|Indemnity|      High|      NULL|            NULL|Off the Exchange|                        NULL|                             No|                       NULL|               NULL|                                                        NULL|                    No|Allows Adult and ...|             No|  Allows Adult and ...|                            NULL|                  NULL|                                   NULL|  Estimated Rate|         1/1/2023|        12/31/2023|                 Yes|           Providers treated...|                     Yes|                   National Network|            Yes|   https://www.delta...|        NULL|21989AK0130024-00|    Delta Dental Prem...|Standard High Off...|                NULL|                    NULL|                            NULL|                                   NULL|                    No|                100%|                 NULL|                    NULL|                   NULL|                     NULL|               NULL|                       NULL|                      NULL|                        NULL|                  NULL|                             NULL|                            NULL|                              NULL|                        NULL|                           NULL|                            0|                                             0|                                                       0|            Not Applicable|           per person not ap...|          per group not app...|                      NULL|                           NULL|                          NULL|            Not Applicable|           per person not ap...|          per group not app...|                       $375 |                  $375 per person|                  $750 per group|                      NULL|                           NULL|                          NULL|                      NULL|                           NULL|                          NULL|                      NULL|                           NULL|                          NULL|                        NULL|                             NULL|                            NULL|                      NULL|                           NULL|                          NULL|                      NULL|                           NULL|                          NULL|                      NULL|                           NULL|                          NULL|                        NULL|                             NULL|                            NULL|           Not Applicable|          per person not ap...|         per group not app...|                      NULL|                     NULL|                          NULL|                         NULL|                      NULL|           Not Applicable|          per person not ap...|         per group not app...|                       $50 |                  $50 per person|                 $150 per group|                     NULL|                          NULL|                         NULL|                      NULL|                     NULL|                          NULL|                         NULL|                      NULL|                     NULL|                          NULL|                         NULL|                       NULL|                            NULL|                           NULL|                     NULL|                          NULL|                         NULL|                      NULL|                     NULL|                          NULL|                         NULL|                      NULL|                     NULL|                          NULL|                         NULL|                       NULL|                            NULL|                           NULL|         NULL|                        NULL|                              NULL|                           NULL|https://www.delta...|\n",
            "+------------+---------+--------+------------------------------+----------+---------------+------------------+--------------+-------------------+--------------------+-------------+---------+-------------+-----------+---------+---------+----------+----------+----------------+----------------+----------------------------+-------------------------------+---------------------------+-------------------+------------------------------------------------------------+----------------------+--------------------+---------------+----------------------+--------------------------------+----------------------+---------------------------------------+----------------+-----------------+------------------+--------------------+-------------------------------+------------------------+-----------------------------------+---------------+-----------------------+------------+-----------------+------------------------+--------------------+--------------------+------------------------+--------------------------------+---------------------------------------+----------------------+--------------------+---------------------+------------------------+-----------------------+-------------------------+-------------------+---------------------------+--------------------------+----------------------------+----------------------+---------------------------------+--------------------------------+----------------------------------+----------------------------+-------------------------------+-----------------------------+----------------------------------------------+--------------------------------------------------------+--------------------------+-------------------------------+------------------------------+--------------------------+-------------------------------+------------------------------+--------------------------+-------------------------------+------------------------------+----------------------------+---------------------------------+--------------------------------+--------------------------+-------------------------------+------------------------------+--------------------------+-------------------------------+------------------------------+--------------------------+-------------------------------+------------------------------+----------------------------+---------------------------------+--------------------------------+--------------------------+-------------------------------+------------------------------+--------------------------+-------------------------------+------------------------------+--------------------------+-------------------------------+------------------------------+----------------------------+---------------------------------+--------------------------------+-------------------------+------------------------------+-----------------------------+--------------------------+-------------------------+------------------------------+-----------------------------+--------------------------+-------------------------+------------------------------+-----------------------------+---------------------------+--------------------------------+-------------------------------+-------------------------+------------------------------+-----------------------------+--------------------------+-------------------------+------------------------------+-----------------------------+--------------------------+-------------------------+------------------------------+-----------------------------+---------------------------+--------------------------------+-------------------------------+-------------------------+------------------------------+-----------------------------+--------------------------+-------------------------+------------------------------+-----------------------------+--------------------------+-------------------------+------------------------------+-----------------------------+---------------------------+--------------------------------+-------------------------------+-------------+----------------------------+----------------------------------+-------------------------------+--------------------+\n",
            "only showing top 5 rows\n",
            "\n"
          ]
        }
      ]
    },
    {
      "cell_type": "code",
      "source": [
        "df_plan_raw.count()"
      ],
      "metadata": {
        "colab": {
          "base_uri": "https://localhost:8080/"
        },
        "id": "yXNipJuJvyLF",
        "outputId": "1d533eba-6504-4125-eefa-ef4fe364961c"
      },
      "execution_count": 9,
      "outputs": [
        {
          "output_type": "execute_result",
          "data": {
            "text/plain": [
              "227036"
            ]
          },
          "metadata": {},
          "execution_count": 9
        }
      ]
    },
    {
      "cell_type": "code",
      "source": [
        "# df_plan_raw.printSchema()"
      ],
      "metadata": {
        "id": "hX4v4Id3LPUO"
      },
      "execution_count": 10,
      "outputs": []
    },
    {
      "cell_type": "code",
      "source": [
        "df_plan_raw.select(countDistinct(\"StandardComponentId\")).show()\n"
      ],
      "metadata": {
        "colab": {
          "base_uri": "https://localhost:8080/"
        },
        "id": "CwMU8q7WMjbQ",
        "outputId": "e3017e74-3936-4f7e-9cb0-6557ee2092c7"
      },
      "execution_count": 11,
      "outputs": [
        {
          "output_type": "stream",
          "name": "stdout",
          "text": [
            "+-----------------------------------+\n",
            "|count(DISTINCT StandardComponentId)|\n",
            "+-----------------------------------+\n",
            "|                              17814|\n",
            "+-----------------------------------+\n",
            "\n"
          ]
        }
      ]
    },
    {
      "cell_type": "code",
      "source": [
        "df_plan_raw.filter(df_plan_raw.IssuerMarketPlaceMarketingName == \"HIOS\").show(5)\n"
      ],
      "metadata": {
        "colab": {
          "base_uri": "https://localhost:8080/"
        },
        "id": "f5xle4FfSeD_",
        "outputId": "af098f50-0391-412c-f232-dd3543a57d1b"
      },
      "execution_count": 12,
      "outputs": [
        {
          "output_type": "stream",
          "name": "stdout",
          "text": [
            "+------------+---------+--------+------------------------------+----------+-------------------+--------------+--------------+-------------------+------------------+-------------+----------+--------------+--------------------+----------+--------+----------+----------+----------------+---------------+----------------------------+-------------------------------+---------------------------+-------------------+------------------------------------------------------------+----------------------+-----------------+---------------+----------------------+--------------------------------+----------------------+---------------------------------------+----------------+-----------------+------------------+--------------------+-------------------------------+------------------------+-----------------------------------+---------------+-----------------------+------------+------+------------------------+----------------+--------------------+------------------------+--------------------------------+---------------------------------------+----------------------+--------------------+---------------------+------------------------+-----------------------+-------------------------+-------------------+---------------------------+--------------------------+----------------------------+----------------------+---------------------------------+--------------------------------+----------------------------------+----------------------------+-------------------------------+-----------------------------+----------------------------------------------+--------------------------------------------------------+--------------------------+-------------------------------+------------------------------+--------------------------+-------------------------------+------------------------------+--------------------------+-------------------------------+------------------------------+----------------------------+---------------------------------+--------------------------------+--------------------------+-------------------------------+------------------------------+--------------------------+-------------------------------+------------------------------+--------------------------+-------------------------------+------------------------------+----------------------------+---------------------------------+--------------------------------+--------------------------+-------------------------------+------------------------------+--------------------------+-------------------------------+------------------------------+--------------------------+-------------------------------+------------------------------+----------------------------+---------------------------------+--------------------------------+-------------------------+------------------------------+-----------------------------+--------------------------+-------------------------+------------------------------+-----------------------------+--------------------------+-------------------------+------------------------------+-----------------------------+---------------------------+--------------------------------+-------------------------------+-------------------------+------------------------------+-----------------------------+--------------------------+-------------------------+------------------------------+-----------------------------+--------------------------+-------------------------+------------------------------+-----------------------------+---------------------------+--------------------------------+-------------------------------+-------------------------+------------------------------+-----------------------------+--------------------------+-------------------------+------------------------------+-----------------------------+--------------------------+-------------------------+------------------------------+-----------------------------+---------------------------+--------------------------------+-------------------------------+-------------+----------------------------+----------------------------------+-------------------------------+------------+\n",
            "|BusinessYear|StateCode|IssuerId|IssuerMarketPlaceMarketingName|SourceName|         ImportDate|MarketCoverage|DentalOnlyPlan|StandardComponentId| PlanMarketingName|HIOSProductId| NetworkId| ServiceAreaId|         FormularyId| IsNewPlan|PlanType|MetalLevel|DesignType|UniquePlanDesign|QHPNonQHPTypeId|IsNoticeRequiredForPregnancy|IsReferralRequiredForSpecialist|SpecialistRequiringReferral|PlanLevelExclusions|IndianPlanVariationEstimatedAdvancedPaymentAmountPerEnrollee|CompositeRatingOffered|ChildOnlyOffering|ChildOnlyPlanId|WellnessProgramOffered|DiseaseManagementProgramsOffered|EHBPercentTotalPremium|EHBPediatricDentalApportionmentQuantity|IsGuaranteedRate|PlanEffectiveDate|PlanExpirationDate|OutOfCountryCoverage|OutOfCountryCoverageDescription|OutOfServiceAreaCoverage|OutOfServiceAreaCoverageDescription|NationalNetwork|URLForEnrollmentPayment|FormularyURL|PlanId|PlanVariantMarketingName|CSRVariationType|IssuerActuarialValue|AVCalculatorOutputNumber|MedicalDrugDeductiblesIntegrated|MedicalDrugMaximumOutofPocketIntegrated|MultipleInNetworkTiers|FirstTierUtilization|SecondTierUtilization|SBCHavingaBabyDeductible|SBCHavingaBabyCopayment|SBCHavingaBabyCoinsurance|SBCHavingaBabyLimit|SBCHavingDiabetesDeductible|SBCHavingDiabetesCopayment|SBCHavingDiabetesCoinsurance|SBCHavingDiabetesLimit|SBCHavingSimplefractureDeductible|SBCHavingSimplefractureCopayment|SBCHavingSimplefractureCoinsurance|SBCHavingSimplefractureLimit|SpecialtyDrugMaximumCoinsurance|InpatientCopaymentMaximumDays|BeginPrimaryCareCostSharingAfterNumberOfVisits|BeginPrimaryCareDeductibleCoinsuranceAfterNumberOfCopays|MEHBInnTier1IndividualMOOP|MEHBInnTier1FamilyPerPersonMOOP|MEHBInnTier1FamilyPerGroupMOOP|MEHBInnTier2IndividualMOOP|MEHBInnTier2FamilyPerPersonMOOP|MEHBInnTier2FamilyPerGroupMOOP|MEHBOutOfNetIndividualMOOP|MEHBOutOfNetFamilyPerPersonMOOP|MEHBOutOfNetFamilyPerGroupMOOP|MEHBCombInnOonIndividualMOOP|MEHBCombInnOonFamilyPerPersonMOOP|MEHBCombInnOonFamilyPerGroupMOOP|DEHBInnTier1IndividualMOOP|DEHBInnTier1FamilyPerPersonMOOP|DEHBInnTier1FamilyPerGroupMOOP|DEHBInnTier2IndividualMOOP|DEHBInnTier2FamilyPerPersonMOOP|DEHBInnTier2FamilyPerGroupMOOP|DEHBOutOfNetIndividualMOOP|DEHBOutOfNetFamilyPerPersonMOOP|DEHBOutOfNetFamilyPerGroupMOOP|DEHBCombInnOonIndividualMOOP|DEHBCombInnOonFamilyPerPersonMOOP|DEHBCombInnOonFamilyPerGroupMOOP|TEHBInnTier1IndividualMOOP|TEHBInnTier1FamilyPerPersonMOOP|TEHBInnTier1FamilyPerGroupMOOP|TEHBInnTier2IndividualMOOP|TEHBInnTier2FamilyPerPersonMOOP|TEHBInnTier2FamilyPerGroupMOOP|TEHBOutOfNetIndividualMOOP|TEHBOutOfNetFamilyPerPersonMOOP|TEHBOutOfNetFamilyPerGroupMOOP|TEHBCombInnOonIndividualMOOP|TEHBCombInnOonFamilyPerPersonMOOP|TEHBCombInnOonFamilyPerGroupMOOP|MEHBDedInnTier1Individual|MEHBDedInnTier1FamilyPerPerson|MEHBDedInnTier1FamilyPerGroup|MEHBDedInnTier1Coinsurance|MEHBDedInnTier2Individual|MEHBDedInnTier2FamilyPerPerson|MEHBDedInnTier2FamilyPerGroup|MEHBDedInnTier2Coinsurance|MEHBDedOutOfNetIndividual|MEHBDedOutOfNetFamilyPerPerson|MEHBDedOutOfNetFamilyPerGroup|MEHBDedCombInnOonIndividual|MEHBDedCombInnOonFamilyPerPerson|MEHBDedCombInnOonFamilyPerGroup|DEHBDedInnTier1Individual|DEHBDedInnTier1FamilyPerPerson|DEHBDedInnTier1FamilyPerGroup|DEHBDedInnTier1Coinsurance|DEHBDedInnTier2Individual|DEHBDedInnTier2FamilyPerPerson|DEHBDedInnTier2FamilyPerGroup|DEHBDedInnTier2Coinsurance|DEHBDedOutOfNetIndividual|DEHBDedOutOfNetFamilyPerPerson|DEHBDedOutOfNetFamilyPerGroup|DEHBDedCombInnOonIndividual|DEHBDedCombInnOonFamilyPerPerson|DEHBDedCombInnOonFamilyPerGroup|TEHBDedInnTier1Individual|TEHBDedInnTier1FamilyPerPerson|TEHBDedInnTier1FamilyPerGroup|TEHBDedInnTier1Coinsurance|TEHBDedInnTier2Individual|TEHBDedInnTier2FamilyPerPerson|TEHBDedInnTier2FamilyPerGroup|TEHBDedInnTier2Coinsurance|TEHBDedOutOfNetIndividual|TEHBDedOutOfNetFamilyPerPerson|TEHBDedOutOfNetFamilyPerGroup|TEHBDedCombInnOonIndividual|TEHBDedCombInnOonFamilyPerPerson|TEHBDedCombInnOonFamilyPerGroup|IsHSAEligible|HSAOrHRAEmployerContribution|HSAOrHRAEmployerContributionAmount|URLForSummaryofBenefitsCoverage|PlanBrochure|\n",
            "+------------+---------+--------+------------------------------+----------+-------------------+--------------+--------------+-------------------+------------------+-------------+----------+--------------+--------------------+----------+--------+----------+----------+----------------+---------------+----------------------------+-------------------------------+---------------------------+-------------------+------------------------------------------------------------+----------------------+-----------------+---------------+----------------------+--------------------------------+----------------------+---------------------------------------+----------------+-----------------+------------------+--------------------+-------------------------------+------------------------+-----------------------------------+---------------+-----------------------+------------+------+------------------------+----------------+--------------------+------------------------+--------------------------------+---------------------------------------+----------------------+--------------------+---------------------+------------------------+-----------------------+-------------------------+-------------------+---------------------------+--------------------------+----------------------------+----------------------+---------------------------------+--------------------------------+----------------------------------+----------------------------+-------------------------------+-----------------------------+----------------------------------------------+--------------------------------------------------------+--------------------------+-------------------------------+------------------------------+--------------------------+-------------------------------+------------------------------+--------------------------+-------------------------------+------------------------------+----------------------------+---------------------------------+--------------------------------+--------------------------+-------------------------------+------------------------------+--------------------------+-------------------------------+------------------------------+--------------------------+-------------------------------+------------------------------+----------------------------+---------------------------------+--------------------------------+--------------------------+-------------------------------+------------------------------+--------------------------+-------------------------------+------------------------------+--------------------------+-------------------------------+------------------------------+----------------------------+---------------------------------+--------------------------------+-------------------------+------------------------------+-----------------------------+--------------------------+-------------------------+------------------------------+-----------------------------+--------------------------+-------------------------+------------------------------+-----------------------------+---------------------------+--------------------------------+-------------------------------+-------------------------+------------------------------+-----------------------------+--------------------------+-------------------------+------------------------------+-----------------------------+--------------------------+-------------------------+------------------------------+-----------------------------+---------------------------+--------------------------------+-------------------------------+-------------------------+------------------------------+-----------------------------+--------------------------+-------------------------+------------------------------+-----------------------------+--------------------------+-------------------------+------------------------------+-----------------------------+---------------------------+--------------------------------+-------------------------------+-------------+----------------------------+----------------------------------+-------------------------------+------------+\n",
            "|        2016|       AK|   21989|                          HIOS|         4|2015-08-22 15:09:32|             1|         21989|                 AK|SHOP (Small Group)|          Yes|93-0438772|21989AK0080001|Delta Dental Prem...|21989AK008|    NULL|    AKN001|    AKS001|            NULL|            New|                   Indemnity|                           High|                       NULL|   Off the Exchange|                                                        NULL|                  NULL|             NULL|           NULL|                  NULL|                              No|  Allows Adult and ...|                                   NULL|            NULL|             NULL|              NULL|              $49.42|                 Estimated Rate|                    NULL|                                  0|              0|                      0|  2016-01-01|  NULL|                      No|            NULL|                 Yes|        National Network|                             Yes|                                   NULL|                  NULL|   21989AK0080001-00| Standard High Off...|                  86.30%|                   NULL|                     NULL|               NULL|                         No|                      100%|                        NULL|                  NULL|                             NULL|                            NULL|                              NULL|                        NULL|                           NULL|                         NULL|                                          NULL|                                          Not Applicable|      per person not ap...|           per group not app...|                          NULL|                      NULL|                           NULL|                Not Applicable|      per person not ap...|           per group not app...|                          $350|             $350 per person|                   $700 per group|                            NULL|                      NULL|                           NULL|                          NULL|                      NULL|                           NULL|                          NULL|                      NULL|                           NULL|                          NULL|                        NULL|                             NULL|                            NULL|                      NULL|                           NULL|                          NULL|                      NULL|                           NULL|                          NULL|                      NULL|                           NULL|                          NULL|                        NULL|                             NULL|                  Not Applicable|     per person not ap...|          per group not app...|                         NULL|                      NULL|                     NULL|                          NULL|                         NULL|            Not Applicable|     per person not ap...|          per group not app...|                          $50|             $50 per person|                  $150 per group|                           NULL|                     NULL|                          NULL|                         NULL|                      NULL|                     NULL|                          NULL|                         NULL|                      NULL|                     NULL|                          NULL|                         NULL|                       NULL|                            NULL|                           NULL|                     NULL|                          NULL|                         NULL|                      NULL|                     NULL|                          NULL|                         NULL|                      NULL|                     NULL|                          NULL|                         NULL|                       NULL|                            NULL|                           NULL|         NULL|                        NULL|              https://www.modah...|           https://www.modah...|           4|\n",
            "|        2016|       AK|   21989|                          HIOS|         4|2015-08-22 15:09:32|             1|         21989|                 AK|        Individual|          Yes|93-0438772|21989AK0030001|Delta Dental Prem...|21989AK003|    NULL|    AKN001|    AKS001|            NULL|       Existing|                   Indemnity|                            Low|                       NULL|               Both|                                                        NULL|                  NULL|             NULL|           NULL|                  NULL|                              No|  Allows Adult and ...|                                   NULL|            NULL|             NULL|              NULL|              $43.00|                Guaranteed Rate|                    NULL|                                  0|              0|                      0|  2016-01-01|  NULL|                      No|            NULL|                 Yes|        National Network|                             Yes|                                   NULL|                  NULL|   21989AK0030001-00| Standard Low Off ...|                  70.70%|                   NULL|                     NULL|               NULL|                         No|                      100%|                        NULL|                  NULL|                             NULL|                            NULL|                              NULL|                        NULL|                           NULL|                         NULL|                                          NULL|                                          Not Applicable|      per person not ap...|           per group not app...|                          NULL|                      NULL|                           NULL|                Not Applicable|      per person not ap...|           per group not app...|                          $350|             $350 per person|                   $700 per group|                            NULL|                      NULL|                           NULL|                          NULL|                      NULL|                           NULL|                          NULL|                      NULL|                           NULL|                          NULL|                        NULL|                             NULL|                            NULL|                      NULL|                           NULL|                          NULL|                      NULL|                           NULL|                          NULL|                      NULL|                           NULL|                          NULL|                        NULL|                             NULL|                  Not Applicable|     per person not ap...|          per group not app...|                         NULL|                      NULL|                     NULL|                          NULL|                         NULL|            Not Applicable|     per person not ap...|          per group not app...|                           $0|              $0 per person|                    $0 per group|                           NULL|                     NULL|                          NULL|                         NULL|                      NULL|                     NULL|                          NULL|                         NULL|                      NULL|                     NULL|                          NULL|                         NULL|                       NULL|                            NULL|                           NULL|                     NULL|                          NULL|                         NULL|                      NULL|                     NULL|                          NULL|                         NULL|                      NULL|                     NULL|                          NULL|                         NULL|                       NULL|                            NULL|                           NULL|         NULL|                        NULL|              https://www.modah...|           https://www.modah...|           4|\n",
            "|        2016|       AK|   21989|                          HIOS|         4|2015-08-22 15:09:32|             1|         21989|                 AK|        Individual|          Yes|93-0438772|21989AK0030001|Delta Dental Prem...|21989AK003|    NULL|    AKN001|    AKS001|            NULL|       Existing|                   Indemnity|                            Low|                       NULL|               Both|                                                        NULL|                  NULL|             NULL|           NULL|                  NULL|                              No|  Allows Adult and ...|                                   NULL|            NULL|             NULL|              NULL|              $43.00|                Guaranteed Rate|                    NULL|                                  0|              0|                      0|  2016-01-01|  NULL|                      No|            NULL|                 Yes|        National Network|                             Yes|                                   NULL|                  NULL|   21989AK0030001-01| Standard Low On E...|                  70.70%|                   NULL|                     NULL|               NULL|                         No|                      100%|                        NULL|                  NULL|                             NULL|                            NULL|                              NULL|                        NULL|                           NULL|                         NULL|                                          NULL|                                          Not Applicable|      per person not ap...|           per group not app...|                          NULL|                      NULL|                           NULL|                Not Applicable|      per person not ap...|           per group not app...|                          $350|             $350 per person|                   $700 per group|                            NULL|                      NULL|                           NULL|                          NULL|                      NULL|                           NULL|                          NULL|                      NULL|                           NULL|                          NULL|                        NULL|                             NULL|                            NULL|                      NULL|                           NULL|                          NULL|                      NULL|                           NULL|                          NULL|                      NULL|                           NULL|                          NULL|                        NULL|                             NULL|                  Not Applicable|     per person not ap...|          per group not app...|                         NULL|                      NULL|                     NULL|                          NULL|                         NULL|            Not Applicable|     per person not ap...|          per group not app...|                           $0|              $0 per person|                    $0 per group|                           NULL|                     NULL|                          NULL|                         NULL|                      NULL|                     NULL|                          NULL|                         NULL|                      NULL|                     NULL|                          NULL|                         NULL|                       NULL|                            NULL|                           NULL|                     NULL|                          NULL|                         NULL|                      NULL|                     NULL|                          NULL|                         NULL|                      NULL|                     NULL|                          NULL|                         NULL|                       NULL|                            NULL|                           NULL|         NULL|                        NULL|              https://www.modah...|           https://www.modah...|           5|\n",
            "|        2016|       AK|   21989|                          HIOS|         4|2015-08-22 15:09:32|             2|         21989|                 AK|        Individual|          Yes|93-0438772|21989AK0050001|Delta Dental PPO ...|21989AK005|    NULL|    AKN002|    AKS002|            NULL|            New|                         PPO|                           High|                       NULL|               Both|                                                        NULL|                  NULL|             NULL|           NULL|                  NULL|                              No|  Allows Adult and ...|                                   NULL|            NULL|             NULL|              NULL|              $38.00|                Guaranteed Rate|                    NULL|                                  0|              0|                      0|  2016-01-01|  NULL|                      No|            NULL|                 Yes|        National Network|                             Yes|                                   NULL|                  NULL|   21989AK0050001-00| Standard High Off...|                  83.40%|                   NULL|                     NULL|               NULL|                         No|                      100%|                        NULL|                  NULL|                             NULL|                            NULL|                              NULL|                        NULL|                           NULL|                         NULL|                                          NULL|                                                    $350|           $350 per person|                 $700 per group|                          NULL|                      NULL|                           NULL|                Not Applicable|      per person not ap...|           per group not app...|                Not Applicable|        per person not ap...|             per group not app...|                            NULL|                      NULL|                           NULL|                          NULL|                      NULL|                           NULL|                          NULL|                      NULL|                           NULL|                          NULL|                        NULL|                             NULL|                            NULL|                      NULL|                           NULL|                          NULL|                      NULL|                           NULL|                          NULL|                      NULL|                           NULL|                          NULL|                        NULL|                             NULL|                  Not Applicable|     per person not ap...|          per group not app...|                         NULL|                      NULL|                     NULL|                          NULL|                         NULL|            Not Applicable|     per person not ap...|          per group not app...|                           $0|              $0 per person|                    $0 per group|                           NULL|                     NULL|                          NULL|                         NULL|                      NULL|                     NULL|                          NULL|                         NULL|                      NULL|                     NULL|                          NULL|                         NULL|                       NULL|                            NULL|                           NULL|                     NULL|                          NULL|                         NULL|                      NULL|                     NULL|                          NULL|                         NULL|                      NULL|                     NULL|                          NULL|                         NULL|                       NULL|                            NULL|                           NULL|         NULL|                        NULL|              https://www.modah...|           https://www.modah...|           4|\n",
            "|        2016|       AK|   21989|                          HIOS|         4|2015-08-22 15:09:32|             2|         21989|                 AK|SHOP (Small Group)|          Yes|93-0438772|21989AK0080002|Delta Dental Prem...|21989AK008|    NULL|    AKN001|    AKS001|            NULL|            New|                   Indemnity|                           High|                       NULL|   Off the Exchange|                                                        NULL|                  NULL|             NULL|           NULL|                  NULL|                              No|  Allows Adult and ...|                                   NULL|            NULL|             NULL|              NULL|              $49.42|                 Estimated Rate|                    NULL|                                  0|              0|                      0|  2016-01-01|  NULL|                      No|            NULL|                 Yes|        National Network|                             Yes|                                   NULL|                  NULL|   21989AK0080002-00| Standard High Off...|                  86.30%|                   NULL|                     NULL|               NULL|                         No|                      100%|                        NULL|                  NULL|                             NULL|                            NULL|                              NULL|                        NULL|                           NULL|                         NULL|                                          NULL|                                          Not Applicable|      per person not ap...|           per group not app...|                          NULL|                      NULL|                           NULL|                Not Applicable|      per person not ap...|           per group not app...|                          $350|             $350 per person|                   $700 per group|                            NULL|                      NULL|                           NULL|                          NULL|                      NULL|                           NULL|                          NULL|                      NULL|                           NULL|                          NULL|                        NULL|                             NULL|                            NULL|                      NULL|                           NULL|                          NULL|                      NULL|                           NULL|                          NULL|                      NULL|                           NULL|                          NULL|                        NULL|                             NULL|                  Not Applicable|     per person not ap...|          per group not app...|                         NULL|                      NULL|                     NULL|                          NULL|                         NULL|            Not Applicable|     per person not ap...|          per group not app...|                          $50|             $50 per person|                  $150 per group|                           NULL|                     NULL|                          NULL|                         NULL|                      NULL|                     NULL|                          NULL|                         NULL|                      NULL|                     NULL|                          NULL|                         NULL|                       NULL|                            NULL|                           NULL|                     NULL|                          NULL|                         NULL|                      NULL|                     NULL|                          NULL|                         NULL|                      NULL|                     NULL|                          NULL|                         NULL|                       NULL|                            NULL|                           NULL|         NULL|                        NULL|              https://www.modah...|           https://www.modah...|           4|\n",
            "+------------+---------+--------+------------------------------+----------+-------------------+--------------+--------------+-------------------+------------------+-------------+----------+--------------+--------------------+----------+--------+----------+----------+----------------+---------------+----------------------------+-------------------------------+---------------------------+-------------------+------------------------------------------------------------+----------------------+-----------------+---------------+----------------------+--------------------------------+----------------------+---------------------------------------+----------------+-----------------+------------------+--------------------+-------------------------------+------------------------+-----------------------------------+---------------+-----------------------+------------+------+------------------------+----------------+--------------------+------------------------+--------------------------------+---------------------------------------+----------------------+--------------------+---------------------+------------------------+-----------------------+-------------------------+-------------------+---------------------------+--------------------------+----------------------------+----------------------+---------------------------------+--------------------------------+----------------------------------+----------------------------+-------------------------------+-----------------------------+----------------------------------------------+--------------------------------------------------------+--------------------------+-------------------------------+------------------------------+--------------------------+-------------------------------+------------------------------+--------------------------+-------------------------------+------------------------------+----------------------------+---------------------------------+--------------------------------+--------------------------+-------------------------------+------------------------------+--------------------------+-------------------------------+------------------------------+--------------------------+-------------------------------+------------------------------+----------------------------+---------------------------------+--------------------------------+--------------------------+-------------------------------+------------------------------+--------------------------+-------------------------------+------------------------------+--------------------------+-------------------------------+------------------------------+----------------------------+---------------------------------+--------------------------------+-------------------------+------------------------------+-----------------------------+--------------------------+-------------------------+------------------------------+-----------------------------+--------------------------+-------------------------+------------------------------+-----------------------------+---------------------------+--------------------------------+-------------------------------+-------------------------+------------------------------+-----------------------------+--------------------------+-------------------------+------------------------------+-----------------------------+--------------------------+-------------------------+------------------------------+-----------------------------+---------------------------+--------------------------------+-------------------------------+-------------------------+------------------------------+-----------------------------+--------------------------+-------------------------+------------------------------+-----------------------------+--------------------------+-------------------------+------------------------------+-----------------------------+---------------------------+--------------------------------+-------------------------------+-------------+----------------------------+----------------------------------+-------------------------------+------------+\n",
            "only showing top 5 rows\n",
            "\n"
          ]
        }
      ]
    },
    {
      "cell_type": "code",
      "source": [
        "df_plan_raw.filter(df_plan_raw.IssuerId == \"21989\").show(50)\n"
      ],
      "metadata": {
        "colab": {
          "base_uri": "https://localhost:8080/"
        },
        "id": "ZxhNiUjlTgDI",
        "outputId": "edd175a0-5518-4b61-e47d-2b740e5b0f6e"
      },
      "execution_count": 13,
      "outputs": [
        {
          "output_type": "stream",
          "name": "stdout",
          "text": [
            "+------------+---------+--------+------------------------------+----------+-------------------+------------------+--------------+-------------------+--------------------+-------------+----------+--------------+--------------------+----------+---------+----------+----------+----------------+----------------+----------------------------+-------------------------------+---------------------------+-------------------+------------------------------------------------------------+----------------------+--------------------+---------------+----------------------+--------------------------------+----------------------+---------------------------------------+----------------+-----------------+------------------+--------------------+-------------------------------+------------------------+-----------------------------------+---------------+-----------------------+-----------------+--------------------+------------------------+--------------------+--------------------+------------------------+--------------------------------+---------------------------------------+----------------------+--------------------+---------------------+------------------------+-----------------------+-------------------------+-------------------+---------------------------+--------------------------+----------------------------+----------------------+---------------------------------+--------------------------------+----------------------------------+----------------------------+-------------------------------+-----------------------------+----------------------------------------------+--------------------------------------------------------+--------------------------+-------------------------------+------------------------------+--------------------------+-------------------------------+------------------------------+--------------------------+-------------------------------+------------------------------+----------------------------+---------------------------------+--------------------------------+--------------------------+-------------------------------+------------------------------+--------------------------+-------------------------------+------------------------------+--------------------------+-------------------------------+------------------------------+----------------------------+---------------------------------+--------------------------------+--------------------------+-------------------------------+------------------------------+--------------------------+-------------------------------+------------------------------+--------------------------+-------------------------------+------------------------------+----------------------------+---------------------------------+--------------------------------+-------------------------+------------------------------+-----------------------------+--------------------------+-------------------------+------------------------------+-----------------------------+--------------------------+-------------------------+------------------------------+-----------------------------+---------------------------+--------------------------------+-------------------------------+-------------------------+------------------------------+-----------------------------+--------------------------+-------------------------+------------------------------+-----------------------------+--------------------------+-------------------------+------------------------------+-----------------------------+---------------------------+--------------------------------+-------------------------------+-------------------------+------------------------------+-----------------------------+--------------------------+-------------------------+------------------------------+-----------------------------+--------------------------+-------------------------+------------------------------+-----------------------------+---------------------------+--------------------------------+-------------------------------+-------------+----------------------------+----------------------------------+-------------------------------+--------------------+\n",
            "|BusinessYear|StateCode|IssuerId|IssuerMarketPlaceMarketingName|SourceName|         ImportDate|    MarketCoverage|DentalOnlyPlan|StandardComponentId|   PlanMarketingName|HIOSProductId| NetworkId| ServiceAreaId|         FormularyId| IsNewPlan| PlanType|MetalLevel|DesignType|UniquePlanDesign| QHPNonQHPTypeId|IsNoticeRequiredForPregnancy|IsReferralRequiredForSpecialist|SpecialistRequiringReferral|PlanLevelExclusions|IndianPlanVariationEstimatedAdvancedPaymentAmountPerEnrollee|CompositeRatingOffered|   ChildOnlyOffering|ChildOnlyPlanId|WellnessProgramOffered|DiseaseManagementProgramsOffered|EHBPercentTotalPremium|EHBPediatricDentalApportionmentQuantity|IsGuaranteedRate|PlanEffectiveDate|PlanExpirationDate|OutOfCountryCoverage|OutOfCountryCoverageDescription|OutOfServiceAreaCoverage|OutOfServiceAreaCoverageDescription|NationalNetwork|URLForEnrollmentPayment|     FormularyURL|              PlanId|PlanVariantMarketingName|    CSRVariationType|IssuerActuarialValue|AVCalculatorOutputNumber|MedicalDrugDeductiblesIntegrated|MedicalDrugMaximumOutofPocketIntegrated|MultipleInNetworkTiers|FirstTierUtilization|SecondTierUtilization|SBCHavingaBabyDeductible|SBCHavingaBabyCopayment|SBCHavingaBabyCoinsurance|SBCHavingaBabyLimit|SBCHavingDiabetesDeductible|SBCHavingDiabetesCopayment|SBCHavingDiabetesCoinsurance|SBCHavingDiabetesLimit|SBCHavingSimplefractureDeductible|SBCHavingSimplefractureCopayment|SBCHavingSimplefractureCoinsurance|SBCHavingSimplefractureLimit|SpecialtyDrugMaximumCoinsurance|InpatientCopaymentMaximumDays|BeginPrimaryCareCostSharingAfterNumberOfVisits|BeginPrimaryCareDeductibleCoinsuranceAfterNumberOfCopays|MEHBInnTier1IndividualMOOP|MEHBInnTier1FamilyPerPersonMOOP|MEHBInnTier1FamilyPerGroupMOOP|MEHBInnTier2IndividualMOOP|MEHBInnTier2FamilyPerPersonMOOP|MEHBInnTier2FamilyPerGroupMOOP|MEHBOutOfNetIndividualMOOP|MEHBOutOfNetFamilyPerPersonMOOP|MEHBOutOfNetFamilyPerGroupMOOP|MEHBCombInnOonIndividualMOOP|MEHBCombInnOonFamilyPerPersonMOOP|MEHBCombInnOonFamilyPerGroupMOOP|DEHBInnTier1IndividualMOOP|DEHBInnTier1FamilyPerPersonMOOP|DEHBInnTier1FamilyPerGroupMOOP|DEHBInnTier2IndividualMOOP|DEHBInnTier2FamilyPerPersonMOOP|DEHBInnTier2FamilyPerGroupMOOP|DEHBOutOfNetIndividualMOOP|DEHBOutOfNetFamilyPerPersonMOOP|DEHBOutOfNetFamilyPerGroupMOOP|DEHBCombInnOonIndividualMOOP|DEHBCombInnOonFamilyPerPersonMOOP|DEHBCombInnOonFamilyPerGroupMOOP|TEHBInnTier1IndividualMOOP|TEHBInnTier1FamilyPerPersonMOOP|TEHBInnTier1FamilyPerGroupMOOP|TEHBInnTier2IndividualMOOP|TEHBInnTier2FamilyPerPersonMOOP|TEHBInnTier2FamilyPerGroupMOOP|TEHBOutOfNetIndividualMOOP|TEHBOutOfNetFamilyPerPersonMOOP|TEHBOutOfNetFamilyPerGroupMOOP|TEHBCombInnOonIndividualMOOP|TEHBCombInnOonFamilyPerPersonMOOP|TEHBCombInnOonFamilyPerGroupMOOP|MEHBDedInnTier1Individual|MEHBDedInnTier1FamilyPerPerson|MEHBDedInnTier1FamilyPerGroup|MEHBDedInnTier1Coinsurance|MEHBDedInnTier2Individual|MEHBDedInnTier2FamilyPerPerson|MEHBDedInnTier2FamilyPerGroup|MEHBDedInnTier2Coinsurance|MEHBDedOutOfNetIndividual|MEHBDedOutOfNetFamilyPerPerson|MEHBDedOutOfNetFamilyPerGroup|MEHBDedCombInnOonIndividual|MEHBDedCombInnOonFamilyPerPerson|MEHBDedCombInnOonFamilyPerGroup|DEHBDedInnTier1Individual|DEHBDedInnTier1FamilyPerPerson|DEHBDedInnTier1FamilyPerGroup|DEHBDedInnTier1Coinsurance|DEHBDedInnTier2Individual|DEHBDedInnTier2FamilyPerPerson|DEHBDedInnTier2FamilyPerGroup|DEHBDedInnTier2Coinsurance|DEHBDedOutOfNetIndividual|DEHBDedOutOfNetFamilyPerPerson|DEHBDedOutOfNetFamilyPerGroup|DEHBDedCombInnOonIndividual|DEHBDedCombInnOonFamilyPerPerson|DEHBDedCombInnOonFamilyPerGroup|TEHBDedInnTier1Individual|TEHBDedInnTier1FamilyPerPerson|TEHBDedInnTier1FamilyPerGroup|TEHBDedInnTier1Coinsurance|TEHBDedInnTier2Individual|TEHBDedInnTier2FamilyPerPerson|TEHBDedInnTier2FamilyPerGroup|TEHBDedInnTier2Coinsurance|TEHBDedOutOfNetIndividual|TEHBDedOutOfNetFamilyPerPerson|TEHBDedOutOfNetFamilyPerGroup|TEHBDedCombInnOonIndividual|TEHBDedCombInnOonFamilyPerPerson|TEHBDedCombInnOonFamilyPerGroup|IsHSAEligible|HSAOrHRAEmployerContribution|HSAOrHRAEmployerContributionAmount|URLForSummaryofBenefitsCoverage|        PlanBrochure|\n",
            "+------------+---------+--------+------------------------------+----------+-------------------+------------------+--------------+-------------------+--------------------+-------------+----------+--------------+--------------------+----------+---------+----------+----------+----------------+----------------+----------------------------+-------------------------------+---------------------------+-------------------+------------------------------------------------------------+----------------------+--------------------+---------------+----------------------+--------------------------------+----------------------+---------------------------------------+----------------+-----------------+------------------+--------------------+-------------------------------+------------------------+-----------------------------------+---------------+-----------------------+-----------------+--------------------+------------------------+--------------------+--------------------+------------------------+--------------------------------+---------------------------------------+----------------------+--------------------+---------------------+------------------------+-----------------------+-------------------------+-------------------+---------------------------+--------------------------+----------------------------+----------------------+---------------------------------+--------------------------------+----------------------------------+----------------------------+-------------------------------+-----------------------------+----------------------------------------------+--------------------------------------------------------+--------------------------+-------------------------------+------------------------------+--------------------------+-------------------------------+------------------------------+--------------------------+-------------------------------+------------------------------+----------------------------+---------------------------------+--------------------------------+--------------------------+-------------------------------+------------------------------+--------------------------+-------------------------------+------------------------------+--------------------------+-------------------------------+------------------------------+----------------------------+---------------------------------+--------------------------------+--------------------------+-------------------------------+------------------------------+--------------------------+-------------------------------+------------------------------+--------------------------+-------------------------------+------------------------------+----------------------------+---------------------------------+--------------------------------+-------------------------+------------------------------+-----------------------------+--------------------------+-------------------------+------------------------------+-----------------------------+--------------------------+-------------------------+------------------------------+-----------------------------+---------------------------+--------------------------------+-------------------------------+-------------------------+------------------------------+-----------------------------+--------------------------+-------------------------+------------------------------+-----------------------------+--------------------------+-------------------------+------------------------------+-----------------------------+---------------------------+--------------------------------+-------------------------------+-------------------------+------------------------------+-----------------------------+--------------------------+-------------------------+------------------------------+-----------------------------+--------------------------+-------------------------+------------------------------+-----------------------------+---------------------------+--------------------------------+-------------------------------+-------------+----------------------------+----------------------------------+-------------------------------+--------------------+\n",
            "|        2023|       AK|   21989|          Delta Dental of A...|      HIOS|    11/19/2022 1:01|SHOP (Small Group)|           Yes|     21989AK0130001|Delta Dental Prem...|   21989AK013|    AKN001|        AKS001|                NULL|  Existing|Indemnity|      High|      NULL|            NULL|Off the Exchange|                        NULL|                             No|                       NULL|               NULL|                                                        NULL|                    No|Allows Adult and ...|             No|  Allows Adult and ...|                            NULL|                  NULL|                                   NULL|  Estimated Rate|         1/1/2023|        12/31/2023|                 Yes|           Providers treated...|                     Yes|                   National Network|            Yes|   https://www.delta...|             NULL|   21989AK0130001-00|    Delta Dental Prem...|Standard High Off...|                NULL|                    NULL|                            NULL|                                   NULL|                    No|                100%|                 NULL|                    NULL|                   NULL|                     NULL|               NULL|                       NULL|                      NULL|                        NULL|                  NULL|                             NULL|                            NULL|                              NULL|                        NULL|                           NULL|                            0|                                             0|                                                       0|            Not Applicable|           per person not ap...|          per group not app...|                      NULL|                           NULL|                          NULL|            Not Applicable|           per person not ap...|          per group not app...|                       $375 |                  $375 per person|                  $750 per group|                      NULL|                           NULL|                          NULL|                      NULL|                           NULL|                          NULL|                      NULL|                           NULL|                          NULL|                        NULL|                             NULL|                            NULL|                      NULL|                           NULL|                          NULL|                      NULL|                           NULL|                          NULL|                      NULL|                           NULL|                          NULL|                        NULL|                             NULL|                            NULL|           Not Applicable|          per person not ap...|         per group not app...|                      NULL|                     NULL|                          NULL|                         NULL|                      NULL|           Not Applicable|          per person not ap...|         per group not app...|                       $50 |                  $50 per person|                 $150 per group|                     NULL|                          NULL|                         NULL|                      NULL|                     NULL|                          NULL|                         NULL|                      NULL|                     NULL|                          NULL|                         NULL|                       NULL|                            NULL|                           NULL|                     NULL|                          NULL|                         NULL|                      NULL|                     NULL|                          NULL|                         NULL|                      NULL|                     NULL|                          NULL|                         NULL|                       NULL|                            NULL|                           NULL|         NULL|                        NULL|                              NULL|                           NULL|https://www.delta...|\n",
            "|        2023|       AK|   21989|          Delta Dental of A...|      HIOS|    11/19/2022 1:01|        Individual|           Yes|     21989AK0030001|Delta Dental Prem...|   21989AK003|    AKN001|        AKS001|                NULL|  Existing|Indemnity|       Low|      NULL|            NULL|            Both|                        NULL|                           NULL|                       NULL|               NULL|                                                        NULL|                    No|Allows Adult and ...|           NULL|                  NULL|                            NULL|                  NULL|                                      1| Guaranteed Rate|         1/1/2023|        12/31/2023|                 Yes|           Providers treated...|                     Yes|                   National network|            Yes|   https://www.delta...|             NULL|   21989AK0030001-00|    Delta Dental Prem...|Standard Low Off ...|                NULL|                    NULL|                            NULL|                                   NULL|                    No|                100%|                 NULL|                    NULL|                   NULL|                     NULL|               NULL|                       NULL|                      NULL|                        NULL|                  NULL|                             NULL|                            NULL|                              NULL|                        NULL|                           NULL|                            0|                                             0|                                                       0|            Not Applicable|           per person not ap...|          per group not app...|                      NULL|                           NULL|                          NULL|            Not Applicable|           per person not ap...|          per group not app...|                       $375 |                  $375 per person|                  $750 per group|                      NULL|                           NULL|                          NULL|                      NULL|                           NULL|                          NULL|                      NULL|                           NULL|                          NULL|                        NULL|                             NULL|                            NULL|                      NULL|                           NULL|                          NULL|                      NULL|                           NULL|                          NULL|                      NULL|                           NULL|                          NULL|                        NULL|                             NULL|                            NULL|           Not Applicable|          per person not ap...|         per group not app...|                      NULL|                     NULL|                          NULL|                         NULL|                      NULL|           Not Applicable|          per person not ap...|         per group not app...|                        $0 |                   $0 per person|                   $0 per group|                     NULL|                          NULL|                         NULL|                      NULL|                     NULL|                          NULL|                         NULL|                      NULL|                     NULL|                          NULL|                         NULL|                       NULL|                            NULL|                           NULL|                     NULL|                          NULL|                         NULL|                      NULL|                     NULL|                          NULL|                         NULL|                      NULL|                     NULL|                          NULL|                         NULL|                       NULL|                            NULL|                           NULL|         NULL|                        NULL|                              NULL|                           NULL|https://www.delta...|\n",
            "|        2023|       AK|   21989|          Delta Dental of A...|      HIOS|    11/19/2022 1:01|        Individual|           Yes|     21989AK0030001|Delta Dental Prem...|   21989AK003|    AKN001|        AKS001|                NULL|  Existing|Indemnity|       Low|      NULL|            NULL|            Both|                        NULL|                           NULL|                       NULL|               NULL|                                                        NULL|                    No|Allows Adult and ...|           NULL|                  NULL|                            NULL|                  NULL|                                      1| Guaranteed Rate|         1/1/2023|        12/31/2023|                 Yes|           Providers treated...|                     Yes|                   National network|            Yes|   https://www.delta...|             NULL|   21989AK0030001-01|    Delta Dental Prem...|Standard Low On E...|                NULL|                    NULL|                            NULL|                                   NULL|                    No|                100%|                 NULL|                    NULL|                   NULL|                     NULL|               NULL|                       NULL|                      NULL|                        NULL|                  NULL|                             NULL|                            NULL|                              NULL|                        NULL|                           NULL|                            0|                                             0|                                                       0|            Not Applicable|           per person not ap...|          per group not app...|                      NULL|                           NULL|                          NULL|            Not Applicable|           per person not ap...|          per group not app...|                       $375 |                  $375 per person|                  $750 per group|                      NULL|                           NULL|                          NULL|                      NULL|                           NULL|                          NULL|                      NULL|                           NULL|                          NULL|                        NULL|                             NULL|                            NULL|                      NULL|                           NULL|                          NULL|                      NULL|                           NULL|                          NULL|                      NULL|                           NULL|                          NULL|                        NULL|                             NULL|                            NULL|           Not Applicable|          per person not ap...|         per group not app...|                      NULL|                     NULL|                          NULL|                         NULL|                      NULL|           Not Applicable|          per person not ap...|         per group not app...|                        $0 |                   $0 per person|                   $0 per group|                     NULL|                          NULL|                         NULL|                      NULL|                     NULL|                          NULL|                         NULL|                      NULL|                     NULL|                          NULL|                         NULL|                       NULL|                            NULL|                           NULL|                     NULL|                          NULL|                         NULL|                      NULL|                     NULL|                          NULL|                         NULL|                      NULL|                     NULL|                          NULL|                         NULL|                       NULL|                            NULL|                           NULL|         NULL|                        NULL|                              NULL|                           NULL|https://www.delta...|\n",
            "|        2023|       AK|   21989|          Delta Dental of A...|      HIOS|    11/19/2022 1:01|SHOP (Small Group)|           Yes|     21989AK0130002|Delta Dental Prem...|   21989AK013|    AKN001|        AKS001|                NULL|  Existing|Indemnity|      High|      NULL|            NULL|Off the Exchange|                        NULL|                             No|                       NULL|               NULL|                                                        NULL|                    No|Allows Adult and ...|             No|  Allows Adult and ...|                            NULL|                  NULL|                                   NULL|  Estimated Rate|         1/1/2023|        12/31/2023|                 Yes|           Providers treated...|                     Yes|                   National Network|            Yes|   https://www.delta...|             NULL|   21989AK0130002-00|    Delta Dental Prem...|Standard High Off...|                NULL|                    NULL|                            NULL|                                   NULL|                    No|                100%|                 NULL|                    NULL|                   NULL|                     NULL|               NULL|                       NULL|                      NULL|                        NULL|                  NULL|                             NULL|                            NULL|                              NULL|                        NULL|                           NULL|                            0|                                             0|                                                       0|            Not Applicable|           per person not ap...|          per group not app...|                      NULL|                           NULL|                          NULL|            Not Applicable|           per person not ap...|          per group not app...|                       $375 |                  $375 per person|                  $750 per group|                      NULL|                           NULL|                          NULL|                      NULL|                           NULL|                          NULL|                      NULL|                           NULL|                          NULL|                        NULL|                             NULL|                            NULL|                      NULL|                           NULL|                          NULL|                      NULL|                           NULL|                          NULL|                      NULL|                           NULL|                          NULL|                        NULL|                             NULL|                            NULL|           Not Applicable|          per person not ap...|         per group not app...|                      NULL|                     NULL|                          NULL|                         NULL|                      NULL|           Not Applicable|          per person not ap...|         per group not app...|                       $50 |                  $50 per person|                 $150 per group|                     NULL|                          NULL|                         NULL|                      NULL|                     NULL|                          NULL|                         NULL|                      NULL|                     NULL|                          NULL|                         NULL|                       NULL|                            NULL|                           NULL|                     NULL|                          NULL|                         NULL|                      NULL|                     NULL|                          NULL|                         NULL|                      NULL|                     NULL|                          NULL|                         NULL|                       NULL|                            NULL|                           NULL|         NULL|                        NULL|                              NULL|                           NULL|https://www.delta...|\n",
            "|        2023|       AK|   21989|          Delta Dental of A...|      HIOS|    11/19/2022 1:01|SHOP (Small Group)|           Yes|     21989AK0130024|Delta Dental Prem...|   21989AK013|    AKN001|        AKS001|                NULL|  Existing|Indemnity|      High|      NULL|            NULL|Off the Exchange|                        NULL|                             No|                       NULL|               NULL|                                                        NULL|                    No|Allows Adult and ...|             No|  Allows Adult and ...|                            NULL|                  NULL|                                   NULL|  Estimated Rate|         1/1/2023|        12/31/2023|                 Yes|           Providers treated...|                     Yes|                   National Network|            Yes|   https://www.delta...|             NULL|   21989AK0130024-00|    Delta Dental Prem...|Standard High Off...|                NULL|                    NULL|                            NULL|                                   NULL|                    No|                100%|                 NULL|                    NULL|                   NULL|                     NULL|               NULL|                       NULL|                      NULL|                        NULL|                  NULL|                             NULL|                            NULL|                              NULL|                        NULL|                           NULL|                            0|                                             0|                                                       0|            Not Applicable|           per person not ap...|          per group not app...|                      NULL|                           NULL|                          NULL|            Not Applicable|           per person not ap...|          per group not app...|                       $375 |                  $375 per person|                  $750 per group|                      NULL|                           NULL|                          NULL|                      NULL|                           NULL|                          NULL|                      NULL|                           NULL|                          NULL|                        NULL|                             NULL|                            NULL|                      NULL|                           NULL|                          NULL|                      NULL|                           NULL|                          NULL|                      NULL|                           NULL|                          NULL|                        NULL|                             NULL|                            NULL|           Not Applicable|          per person not ap...|         per group not app...|                      NULL|                     NULL|                          NULL|                         NULL|                      NULL|           Not Applicable|          per person not ap...|         per group not app...|                       $50 |                  $50 per person|                 $150 per group|                     NULL|                          NULL|                         NULL|                      NULL|                     NULL|                          NULL|                         NULL|                      NULL|                     NULL|                          NULL|                         NULL|                       NULL|                            NULL|                           NULL|                     NULL|                          NULL|                         NULL|                      NULL|                     NULL|                          NULL|                         NULL|                      NULL|                     NULL|                          NULL|                         NULL|                       NULL|                            NULL|                           NULL|         NULL|                        NULL|                              NULL|                           NULL|https://www.delta...|\n",
            "|        2023|       AK|   21989|          Delta Dental of A...|      HIOS|    11/19/2022 1:01|SHOP (Small Group)|           Yes|     21989AK0030051|Delta Dental Prem...|   21989AK003|    AKN001|        AKS001|                NULL|  Existing|Indemnity|      High|      NULL|            NULL|Off the Exchange|                        NULL|                           NULL|                       NULL|               NULL|                                                        NULL|                    No|Allows Adult and ...|             No|  Allows Adult and ...|                            NULL|                  NULL|                                   NULL|  Estimated Rate|         1/1/2023|        12/31/2023|                 Yes|           Providers treated...|                     Yes|                   National Network|            Yes|   https://www.delta...|             NULL|   21989AK0030051-00|    Delta Dental Prem...|Standard High Off...|                NULL|                    NULL|                            NULL|                                   NULL|                    No|                100%|                 NULL|                    NULL|                   NULL|                     NULL|               NULL|                       NULL|                      NULL|                        NULL|                  NULL|                             NULL|                            NULL|                              NULL|                        NULL|                           NULL|                            0|                                             0|                                                       0|            Not Applicable|           per person not ap...|          per group not app...|                      NULL|                           NULL|                          NULL|            Not Applicable|           per person not ap...|          per group not app...|                       $375 |                  $375 per person|                  $750 per group|                      NULL|                           NULL|                          NULL|                      NULL|                           NULL|                          NULL|                      NULL|                           NULL|                          NULL|                        NULL|                             NULL|                            NULL|                      NULL|                           NULL|                          NULL|                      NULL|                           NULL|                          NULL|                      NULL|                           NULL|                          NULL|                        NULL|                             NULL|                            NULL|           Not Applicable|          per person not ap...|         per group not app...|                      NULL|                     NULL|                          NULL|                         NULL|                      NULL|           Not Applicable|          per person not ap...|         per group not app...|                       $50 |                  $50 per person|                 $150 per group|                     NULL|                          NULL|                         NULL|                      NULL|                     NULL|                          NULL|                         NULL|                      NULL|                     NULL|                          NULL|                         NULL|                       NULL|                            NULL|                           NULL|                     NULL|                          NULL|                         NULL|                      NULL|                     NULL|                          NULL|                         NULL|                      NULL|                     NULL|                          NULL|                         NULL|                       NULL|                            NULL|                           NULL|         NULL|                        NULL|                              NULL|                           NULL|https://www.delta...|\n",
            "|        2023|       AK|   21989|          Delta Dental of A...|      HIOS|    11/19/2022 1:01|SHOP (Small Group)|           Yes|     21989AK0030052|Delta Dental Prem...|   21989AK003|    AKN001|        AKS001|                NULL|  Existing|Indemnity|      High|      NULL|            NULL|Off the Exchange|                        NULL|                           NULL|                       NULL|               NULL|                                                        NULL|                    No|Allows Adult and ...|             No|  Allows Adult and ...|                            NULL|                  NULL|                                   NULL|  Estimated Rate|         1/1/2023|        12/31/2023|                 Yes|           Providers treated...|                     Yes|                   National Network|            Yes|   https://www.delta...|             NULL|   21989AK0030052-00|    Delta Dental Prem...|Standard High Off...|                NULL|                    NULL|                            NULL|                                   NULL|                    No|                100%|                 NULL|                    NULL|                   NULL|                     NULL|               NULL|                       NULL|                      NULL|                        NULL|                  NULL|                             NULL|                            NULL|                              NULL|                        NULL|                           NULL|                            0|                                             0|                                                       0|            Not Applicable|           per person not ap...|          per group not app...|                      NULL|                           NULL|                          NULL|            Not Applicable|           per person not ap...|          per group not app...|                       $375 |                  $375 per person|                  $750 per group|                      NULL|                           NULL|                          NULL|                      NULL|                           NULL|                          NULL|                      NULL|                           NULL|                          NULL|                        NULL|                             NULL|                            NULL|                      NULL|                           NULL|                          NULL|                      NULL|                           NULL|                          NULL|                      NULL|                           NULL|                          NULL|                        NULL|                             NULL|                            NULL|           Not Applicable|          per person not ap...|         per group not app...|                      NULL|                     NULL|                          NULL|                         NULL|                      NULL|           Not Applicable|          per person not ap...|         per group not app...|                       $50 |                  $50 per person|                 $150 per group|                     NULL|                          NULL|                         NULL|                      NULL|                     NULL|                          NULL|                         NULL|                      NULL|                     NULL|                          NULL|                         NULL|                       NULL|                            NULL|                           NULL|                     NULL|                          NULL|                         NULL|                      NULL|                     NULL|                          NULL|                         NULL|                      NULL|                     NULL|                          NULL|                         NULL|                       NULL|                            NULL|                           NULL|         NULL|                        NULL|                              NULL|                           NULL|https://www.delta...|\n",
            "|        2023|       AK|   21989|          Delta Dental of A...|      HIOS|    11/19/2022 1:01|        Individual|           Yes|     21989AK0050001|Delta Dental PPO ...|   21989AK005|    AKN002|        AKS002|                NULL|  Existing|      PPO|      High|      NULL|            NULL|            Both|                        NULL|                           NULL|                       NULL|               NULL|                                                        NULL|                    No|Allows Adult and ...|           NULL|                  NULL|                            NULL|                  NULL|                                      1| Guaranteed Rate|         1/1/2023|        12/31/2023|                 Yes|           Treated as out-of...|                     Yes|                   National network|            Yes|   https://www.delta...|             NULL|   21989AK0050001-00|    Delta Dental PPO ...|Standard High Off...|                NULL|                    NULL|                            NULL|                                   NULL|                    No|                100%|                 NULL|                    NULL|                   NULL|                     NULL|               NULL|                       NULL|                      NULL|                        NULL|                  NULL|                             NULL|                            NULL|                              NULL|                        NULL|                           NULL|                            0|                                             0|                                                       0|                     $375 |                $375 per person|                $750 per group|                      NULL|                           NULL|                          NULL|            Not Applicable|           per person not ap...|          per group not app...|              Not Applicable|             per person not ap...|            per group not app...|                      NULL|                           NULL|                          NULL|                      NULL|                           NULL|                          NULL|                      NULL|                           NULL|                          NULL|                        NULL|                             NULL|                            NULL|                      NULL|                           NULL|                          NULL|                      NULL|                           NULL|                          NULL|                      NULL|                           NULL|                          NULL|                        NULL|                             NULL|                            NULL|           Not Applicable|          per person not ap...|         per group not app...|                      NULL|                     NULL|                          NULL|                         NULL|                      NULL|           Not Applicable|          per person not ap...|         per group not app...|                       $50 |                  $50 per person|                 $150 per group|                     NULL|                          NULL|                         NULL|                      NULL|                     NULL|                          NULL|                         NULL|                      NULL|                     NULL|                          NULL|                         NULL|                       NULL|                            NULL|                           NULL|                     NULL|                          NULL|                         NULL|                      NULL|                     NULL|                          NULL|                         NULL|                      NULL|                     NULL|                          NULL|                         NULL|                       NULL|                            NULL|                           NULL|         NULL|                        NULL|                              NULL|                           NULL|https://www.delta...|\n",
            "|        2023|       AK|   21989|          Delta Dental of A...|      HIOS|    11/19/2022 1:01|        Individual|           Yes|     21989AK0050001|Delta Dental PPO ...|   21989AK005|    AKN002|        AKS002|                NULL|  Existing|      PPO|      High|      NULL|            NULL|            Both|                        NULL|                           NULL|                       NULL|               NULL|                                                        NULL|                    No|Allows Adult and ...|           NULL|                  NULL|                            NULL|                  NULL|                                      1| Guaranteed Rate|         1/1/2023|        12/31/2023|                 Yes|           Treated as out-of...|                     Yes|                   National network|            Yes|   https://www.delta...|             NULL|   21989AK0050001-01|    Delta Dental PPO ...|Standard High On ...|                NULL|                    NULL|                            NULL|                                   NULL|                    No|                100%|                 NULL|                    NULL|                   NULL|                     NULL|               NULL|                       NULL|                      NULL|                        NULL|                  NULL|                             NULL|                            NULL|                              NULL|                        NULL|                           NULL|                            0|                                             0|                                                       0|                     $375 |                $375 per person|                $750 per group|                      NULL|                           NULL|                          NULL|            Not Applicable|           per person not ap...|          per group not app...|              Not Applicable|             per person not ap...|            per group not app...|                      NULL|                           NULL|                          NULL|                      NULL|                           NULL|                          NULL|                      NULL|                           NULL|                          NULL|                        NULL|                             NULL|                            NULL|                      NULL|                           NULL|                          NULL|                      NULL|                           NULL|                          NULL|                      NULL|                           NULL|                          NULL|                        NULL|                             NULL|                            NULL|           Not Applicable|          per person not ap...|         per group not app...|                      NULL|                     NULL|                          NULL|                         NULL|                      NULL|           Not Applicable|          per person not ap...|         per group not app...|                       $50 |                  $50 per person|                 $150 per group|                     NULL|                          NULL|                         NULL|                      NULL|                     NULL|                          NULL|                         NULL|                      NULL|                     NULL|                          NULL|                         NULL|                       NULL|                            NULL|                           NULL|                     NULL|                          NULL|                         NULL|                      NULL|                     NULL|                          NULL|                         NULL|                      NULL|                     NULL|                          NULL|                         NULL|                       NULL|                            NULL|                           NULL|         NULL|                        NULL|                              NULL|                           NULL|https://www.delta...|\n",
            "|        2023|       AK|   21989|          Delta Dental of A...|      HIOS|    11/19/2022 1:01|SHOP (Small Group)|           Yes|     21989AK0080001|Delta Dental Prem...|   21989AK008|    AKN001|        AKS001|                NULL|  Existing|Indemnity|      High|      NULL|            NULL|Off the Exchange|                        NULL|                           NULL|                       NULL|               NULL|                                                        NULL|                    No|Allows Adult and ...|             No|  Allows Adult and ...|                            NULL|                  NULL|                                   NULL|  Estimated Rate|         1/1/2023|        12/31/2023|                 Yes|           Providers treated...|                     Yes|                   National Network|            Yes|   https://www.delta...|             NULL|   21989AK0080001-00|    Delta Dental Prem...|Standard High Off...|                NULL|                    NULL|                            NULL|                                   NULL|                    No|                100%|                 NULL|                    NULL|                   NULL|                     NULL|               NULL|                       NULL|                      NULL|                        NULL|                  NULL|                             NULL|                            NULL|                              NULL|                        NULL|                           NULL|                            0|                                             0|                                                       0|            Not Applicable|           per person not ap...|          per group not app...|                      NULL|                           NULL|                          NULL|            Not Applicable|           per person not ap...|          per group not app...|                       $375 |                  $375 per person|                  $750 per group|                      NULL|                           NULL|                          NULL|                      NULL|                           NULL|                          NULL|                      NULL|                           NULL|                          NULL|                        NULL|                             NULL|                            NULL|                      NULL|                           NULL|                          NULL|                      NULL|                           NULL|                          NULL|                      NULL|                           NULL|                          NULL|                        NULL|                             NULL|                            NULL|           Not Applicable|          per person not ap...|         per group not app...|                      NULL|                     NULL|                          NULL|                         NULL|                      NULL|           Not Applicable|          per person not ap...|         per group not app...|                       $50 |                  $50 per person|                 $150 per group|                     NULL|                          NULL|                         NULL|                      NULL|                     NULL|                          NULL|                         NULL|                      NULL|                     NULL|                          NULL|                         NULL|                       NULL|                            NULL|                           NULL|                     NULL|                          NULL|                         NULL|                      NULL|                     NULL|                          NULL|                         NULL|                      NULL|                     NULL|                          NULL|                         NULL|                       NULL|                            NULL|                           NULL|         NULL|                        NULL|                              NULL|                           NULL|https://www.delta...|\n",
            "|        2023|       AK|   21989|          Delta Dental of A...|      HIOS|    11/19/2022 1:01|SHOP (Small Group)|           Yes|     21989AK0080002|Delta Dental Prem...|   21989AK008|    AKN001|        AKS001|                NULL|  Existing|Indemnity|      High|      NULL|            NULL|Off the Exchange|                        NULL|                           NULL|                       NULL|               NULL|                                                        NULL|                    No|Allows Adult and ...|             No|  Allows Adult and ...|                            NULL|                  NULL|                                   NULL|  Estimated Rate|         1/1/2023|        12/31/2023|                 Yes|           Providers treated...|                     Yes|                   National Network|            Yes|   https://www.delta...|             NULL|   21989AK0080002-00|    Delta Dental Prem...|Standard High Off...|                NULL|                    NULL|                            NULL|                                   NULL|                    No|                100%|                 NULL|                    NULL|                   NULL|                     NULL|               NULL|                       NULL|                      NULL|                        NULL|                  NULL|                             NULL|                            NULL|                              NULL|                        NULL|                           NULL|                            0|                                             0|                                                       0|            Not Applicable|           per person not ap...|          per group not app...|                      NULL|                           NULL|                          NULL|            Not Applicable|           per person not ap...|          per group not app...|                       $375 |                  $375 per person|                  $750 per group|                      NULL|                           NULL|                          NULL|                      NULL|                           NULL|                          NULL|                      NULL|                           NULL|                          NULL|                        NULL|                             NULL|                            NULL|                      NULL|                           NULL|                          NULL|                      NULL|                           NULL|                          NULL|                      NULL|                           NULL|                          NULL|                        NULL|                             NULL|                            NULL|           Not Applicable|          per person not ap...|         per group not app...|                      NULL|                     NULL|                          NULL|                         NULL|                      NULL|           Not Applicable|          per person not ap...|         per group not app...|                       $50 |                  $50 per person|                 $150 per group|                     NULL|                          NULL|                         NULL|                      NULL|                     NULL|                          NULL|                         NULL|                      NULL|                     NULL|                          NULL|                         NULL|                       NULL|                            NULL|                           NULL|                     NULL|                          NULL|                         NULL|                      NULL|                     NULL|                          NULL|                         NULL|                      NULL|                     NULL|                          NULL|                         NULL|                       NULL|                            NULL|                           NULL|         NULL|                        NULL|                              NULL|                           NULL|https://www.delta...|\n",
            "|        2023|       AK|   21989|          Delta Dental of A...|      HIOS|    11/19/2022 1:01|SHOP (Small Group)|           Yes|     21989AK0080003|Delta Dental Prem...|   21989AK008|    AKN001|        AKS001|                NULL|  Existing|Indemnity|      High|      NULL|            NULL|Off the Exchange|                        NULL|                           NULL|                       NULL|               NULL|                                                        NULL|                    No|Allows Adult and ...|             No|  Allows Adult and ...|                            NULL|                  NULL|                                   NULL|  Estimated Rate|         1/1/2023|        12/31/2023|                 Yes|           Providers treated...|                     Yes|                   National Network|            Yes|   https://www.delta...|             NULL|   21989AK0080003-00|    Delta Dental Prem...|Standard High Off...|                NULL|                    NULL|                            NULL|                                   NULL|                    No|                100%|                 NULL|                    NULL|                   NULL|                     NULL|               NULL|                       NULL|                      NULL|                        NULL|                  NULL|                             NULL|                            NULL|                              NULL|                        NULL|                           NULL|                            0|                                             0|                                                       0|            Not Applicable|           per person not ap...|          per group not app...|                      NULL|                           NULL|                          NULL|            Not Applicable|           per person not ap...|          per group not app...|                       $375 |                  $375 per person|                  $750 per group|                      NULL|                           NULL|                          NULL|                      NULL|                           NULL|                          NULL|                      NULL|                           NULL|                          NULL|                        NULL|                             NULL|                            NULL|                      NULL|                           NULL|                          NULL|                      NULL|                           NULL|                          NULL|                      NULL|                           NULL|                          NULL|                        NULL|                             NULL|                            NULL|           Not Applicable|          per person not ap...|         per group not app...|                      NULL|                     NULL|                          NULL|                         NULL|                      NULL|           Not Applicable|          per person not ap...|         per group not app...|                       $50 |                  $50 per person|                 $150 per group|                     NULL|                          NULL|                         NULL|                      NULL|                     NULL|                          NULL|                         NULL|                      NULL|                     NULL|                          NULL|                         NULL|                       NULL|                            NULL|                           NULL|                     NULL|                          NULL|                         NULL|                      NULL|                     NULL|                          NULL|                         NULL|                      NULL|                     NULL|                          NULL|                         NULL|                       NULL|                            NULL|                           NULL|         NULL|                        NULL|                              NULL|                           NULL|https://www.delta...|\n",
            "|        2023|       AK|   21989|          Delta Dental of A...|      HIOS|    11/19/2022 1:01|SHOP (Small Group)|           Yes|     21989AK0100001|Delta Dental PPO ...|   21989AK010|    AKN002|        AKS002|                NULL|  Existing|      PPO|      High|      NULL|            NULL|Off the Exchange|                        NULL|                           NULL|                       NULL|               NULL|                                                        NULL|                    No|Allows Adult and ...|             No|  Allows Adult and ...|                            NULL|                  NULL|                                   NULL|  Estimated Rate|         1/1/2023|        12/31/2023|                 Yes|           Providers treated...|                     Yes|                   National Network|            Yes|   https://www.delta...|             NULL|   21989AK0100001-00|    Delta Dental PPO ...|Standard High Off...|                NULL|                    NULL|                            NULL|                                   NULL|                    No|                100%|                 NULL|                    NULL|                   NULL|                     NULL|               NULL|                       NULL|                      NULL|                        NULL|                  NULL|                             NULL|                            NULL|                              NULL|                        NULL|                           NULL|                            0|                                             0|                                                       0|                     $375 |                $375 per person|                $750 per group|                      NULL|                           NULL|                          NULL|            Not Applicable|           per person not ap...|          per group not app...|              Not Applicable|             per person not ap...|            per group not app...|                      NULL|                           NULL|                          NULL|                      NULL|                           NULL|                          NULL|                      NULL|                           NULL|                          NULL|                        NULL|                             NULL|                            NULL|                      NULL|                           NULL|                          NULL|                      NULL|                           NULL|                          NULL|                      NULL|                           NULL|                          NULL|                        NULL|                             NULL|                            NULL|           Not Applicable|          per person not ap...|         per group not app...|                      NULL|                     NULL|                          NULL|                         NULL|                      NULL|           Not Applicable|          per person not ap...|         per group not app...|                       $50 |                  $50 per person|                 $150 per group|                     NULL|                          NULL|                         NULL|                      NULL|                     NULL|                          NULL|                         NULL|                      NULL|                     NULL|                          NULL|                         NULL|                       NULL|                            NULL|                           NULL|                     NULL|                          NULL|                         NULL|                      NULL|                     NULL|                          NULL|                         NULL|                      NULL|                     NULL|                          NULL|                         NULL|                       NULL|                            NULL|                           NULL|         NULL|                        NULL|                              NULL|                           NULL|https://www.delta...|\n",
            "|        2023|       AK|   21989|          Delta Dental of A...|      HIOS|    11/19/2022 1:01|        Individual|           Yes|     21989AK0050002|Delta Dental PPO ...|   21989AK005|    AKN002|        AKS002|                NULL|  Existing|      PPO|      High|      NULL|            NULL|            Both|                        NULL|                           NULL|                       NULL|               NULL|                                                        NULL|                    No|Allows Adult and ...|           NULL|                  NULL|                            NULL|                  NULL|                                      1| Guaranteed Rate|         1/1/2023|        12/31/2023|                 Yes|           Treated as out-of...|                     Yes|                   National network|            Yes|   https://www.delta...|             NULL|   21989AK0050002-00|    Delta Dental PPO ...|Standard High Off...|                NULL|                    NULL|                            NULL|                                   NULL|                    No|                100%|                 NULL|                    NULL|                   NULL|                     NULL|               NULL|                       NULL|                      NULL|                        NULL|                  NULL|                             NULL|                            NULL|                              NULL|                        NULL|                           NULL|                            0|                                             0|                                                       0|                     $375 |                $375 per person|                $750 per group|                      NULL|                           NULL|                          NULL|            Not Applicable|           per person not ap...|          per group not app...|              Not Applicable|             per person not ap...|            per group not app...|                      NULL|                           NULL|                          NULL|                      NULL|                           NULL|                          NULL|                      NULL|                           NULL|                          NULL|                        NULL|                             NULL|                            NULL|                      NULL|                           NULL|                          NULL|                      NULL|                           NULL|                          NULL|                      NULL|                           NULL|                          NULL|                        NULL|                             NULL|                            NULL|           Not Applicable|          per person not ap...|         per group not app...|                      NULL|                     NULL|                          NULL|                         NULL|                      NULL|           Not Applicable|          per person not ap...|         per group not app...|                       $50 |                  $50 per person|                 $150 per group|                     NULL|                          NULL|                         NULL|                      NULL|                     NULL|                          NULL|                         NULL|                      NULL|                     NULL|                          NULL|                         NULL|                       NULL|                            NULL|                           NULL|                     NULL|                          NULL|                         NULL|                      NULL|                     NULL|                          NULL|                         NULL|                      NULL|                     NULL|                          NULL|                         NULL|                       NULL|                            NULL|                           NULL|         NULL|                        NULL|                              NULL|                           NULL|https://www.delta...|\n",
            "|        2023|       AK|   21989|          Delta Dental of A...|      HIOS|    11/19/2022 1:01|        Individual|           Yes|     21989AK0050002|Delta Dental PPO ...|   21989AK005|    AKN002|        AKS002|                NULL|  Existing|      PPO|      High|      NULL|            NULL|            Both|                        NULL|                           NULL|                       NULL|               NULL|                                                        NULL|                    No|Allows Adult and ...|           NULL|                  NULL|                            NULL|                  NULL|                                      1| Guaranteed Rate|         1/1/2023|        12/31/2023|                 Yes|           Treated as out-of...|                     Yes|                   National network|            Yes|   https://www.delta...|             NULL|   21989AK0050002-01|    Delta Dental PPO ...|Standard High On ...|                NULL|                    NULL|                            NULL|                                   NULL|                    No|                100%|                 NULL|                    NULL|                   NULL|                     NULL|               NULL|                       NULL|                      NULL|                        NULL|                  NULL|                             NULL|                            NULL|                              NULL|                        NULL|                           NULL|                            0|                                             0|                                                       0|                     $375 |                $375 per person|                $750 per group|                      NULL|                           NULL|                          NULL|            Not Applicable|           per person not ap...|          per group not app...|              Not Applicable|             per person not ap...|            per group not app...|                      NULL|                           NULL|                          NULL|                      NULL|                           NULL|                          NULL|                      NULL|                           NULL|                          NULL|                        NULL|                             NULL|                            NULL|                      NULL|                           NULL|                          NULL|                      NULL|                           NULL|                          NULL|                      NULL|                           NULL|                          NULL|                        NULL|                             NULL|                            NULL|           Not Applicable|          per person not ap...|         per group not app...|                      NULL|                     NULL|                          NULL|                         NULL|                      NULL|           Not Applicable|          per person not ap...|         per group not app...|                       $50 |                  $50 per person|                 $150 per group|                     NULL|                          NULL|                         NULL|                      NULL|                     NULL|                          NULL|                         NULL|                      NULL|                     NULL|                          NULL|                         NULL|                       NULL|                            NULL|                           NULL|                     NULL|                          NULL|                         NULL|                      NULL|                     NULL|                          NULL|                         NULL|                      NULL|                     NULL|                          NULL|                         NULL|                       NULL|                            NULL|                           NULL|         NULL|                        NULL|                              NULL|                           NULL|https://www.delta...|\n",
            "|        2023|       AK|   21989|          Delta Dental of A...|      HIOS|    11/19/2022 1:01|SHOP (Small Group)|           Yes|     21989AK0100002|Delta Dental PPO ...|   21989AK010|    AKN002|        AKS002|                NULL|  Existing|      PPO|      High|      NULL|            NULL|Off the Exchange|                        NULL|                           NULL|                       NULL|               NULL|                                                        NULL|                    No|Allows Adult and ...|             No|  Allows Adult and ...|                            NULL|                  NULL|                                   NULL|  Estimated Rate|         1/1/2023|        12/31/2023|                 Yes|           Providers treated...|                     Yes|                   National Network|            Yes|   https://www.delta...|             NULL|   21989AK0100002-00|    Delta Dental PPO ...|Standard High Off...|                NULL|                    NULL|                            NULL|                                   NULL|                    No|                100%|                 NULL|                    NULL|                   NULL|                     NULL|               NULL|                       NULL|                      NULL|                        NULL|                  NULL|                             NULL|                            NULL|                              NULL|                        NULL|                           NULL|                            0|                                             0|                                                       0|                     $375 |                $375 per person|                $750 per group|                      NULL|                           NULL|                          NULL|            Not Applicable|           per person not ap...|          per group not app...|              Not Applicable|             per person not ap...|            per group not app...|                      NULL|                           NULL|                          NULL|                      NULL|                           NULL|                          NULL|                      NULL|                           NULL|                          NULL|                        NULL|                             NULL|                            NULL|                      NULL|                           NULL|                          NULL|                      NULL|                           NULL|                          NULL|                      NULL|                           NULL|                          NULL|                        NULL|                             NULL|                            NULL|           Not Applicable|          per person not ap...|         per group not app...|                      NULL|                     NULL|                          NULL|                         NULL|                      NULL|           Not Applicable|          per person not ap...|         per group not app...|                       $50 |                  $50 per person|                 $150 per group|                     NULL|                          NULL|                         NULL|                      NULL|                     NULL|                          NULL|                         NULL|                      NULL|                     NULL|                          NULL|                         NULL|                       NULL|                            NULL|                           NULL|                     NULL|                          NULL|                         NULL|                      NULL|                     NULL|                          NULL|                         NULL|                      NULL|                     NULL|                          NULL|                         NULL|                       NULL|                            NULL|                           NULL|         NULL|                        NULL|                              NULL|                           NULL|https://www.delta...|\n",
            "|        2023|       AK|   21989|          Delta Dental of A...|      HIOS|    11/19/2022 1:01|SHOP (Small Group)|           Yes|     21989AK0100003|Delta Dental PPO ...|   21989AK010|    AKN002|        AKS002|                NULL|  Existing|      PPO|      High|      NULL|            NULL|Off the Exchange|                        NULL|                           NULL|                       NULL|               NULL|                                                        NULL|                    No|Allows Adult and ...|             No|  Allows Adult and ...|                            NULL|                  NULL|                                   NULL|  Estimated Rate|         1/1/2023|        12/31/2023|                 Yes|           Providers treated...|                     Yes|                   National Network|            Yes|   https://www.delta...|             NULL|   21989AK0100003-00|    Delta Dental PPO ...|Standard High Off...|                NULL|                    NULL|                            NULL|                                   NULL|                    No|                100%|                 NULL|                    NULL|                   NULL|                     NULL|               NULL|                       NULL|                      NULL|                        NULL|                  NULL|                             NULL|                            NULL|                              NULL|                        NULL|                           NULL|                            0|                                             0|                                                       0|                     $375 |                $375 per person|                $750 per group|                      NULL|                           NULL|                          NULL|            Not Applicable|           per person not ap...|          per group not app...|              Not Applicable|             per person not ap...|            per group not app...|                      NULL|                           NULL|                          NULL|                      NULL|                           NULL|                          NULL|                      NULL|                           NULL|                          NULL|                        NULL|                             NULL|                            NULL|                      NULL|                           NULL|                          NULL|                      NULL|                           NULL|                          NULL|                      NULL|                           NULL|                          NULL|                        NULL|                             NULL|                            NULL|           Not Applicable|          per person not ap...|         per group not app...|                      NULL|                     NULL|                          NULL|                         NULL|                      NULL|           Not Applicable|          per person not ap...|         per group not app...|                       $50 |                  $50 per person|                 $150 per group|                     NULL|                          NULL|                         NULL|                      NULL|                     NULL|                          NULL|                         NULL|                      NULL|                     NULL|                          NULL|                         NULL|                       NULL|                            NULL|                           NULL|                     NULL|                          NULL|                         NULL|                      NULL|                     NULL|                          NULL|                         NULL|                      NULL|                     NULL|                          NULL|                         NULL|                       NULL|                            NULL|                           NULL|         NULL|                        NULL|                              NULL|                           NULL|https://www.delta...|\n",
            "|        2023|       AK|   21989|          Delta Dental of A...|      HIOS|    11/19/2022 1:01|SHOP (Small Group)|           Yes|     21989AK0110001|Delta Dental Prem...|   21989AK011|    AKN001|        AKS001|                NULL|  Existing|Indemnity|      High|      NULL|            NULL|Off the Exchange|                        NULL|                           NULL|                       NULL|               NULL|                                                        NULL|                    No|Allows Adult and ...|             No|  Allows Adult and ...|                            NULL|                  NULL|                                   NULL|  Estimated Rate|         1/1/2023|        12/31/2023|                 Yes|           Providers treated...|                     Yes|                   National Network|            Yes|   https://www.delta...|             NULL|   21989AK0110001-00|    Delta Dental Prem...|Standard High Off...|                NULL|                    NULL|                            NULL|                                   NULL|                    No|                100%|                 NULL|                    NULL|                   NULL|                     NULL|               NULL|                       NULL|                      NULL|                        NULL|                  NULL|                             NULL|                            NULL|                              NULL|                        NULL|                           NULL|                            0|                                             0|                                                       0|            Not Applicable|           per person not ap...|          per group not app...|                      NULL|                           NULL|                          NULL|            Not Applicable|           per person not ap...|          per group not app...|                       $350 |                  $350 per person|                  $700 per group|                      NULL|                           NULL|                          NULL|                      NULL|                           NULL|                          NULL|                      NULL|                           NULL|                          NULL|                        NULL|                             NULL|                            NULL|                      NULL|                           NULL|                          NULL|                      NULL|                           NULL|                          NULL|                      NULL|                           NULL|                          NULL|                        NULL|                             NULL|                            NULL|           Not Applicable|          per person not ap...|         per group not app...|                      NULL|                     NULL|                          NULL|                         NULL|                      NULL|           Not Applicable|          per person not ap...|         per group not app...|                       $50 |                  $50 per person|                 $150 per group|                     NULL|                          NULL|                         NULL|                      NULL|                     NULL|                          NULL|                         NULL|                      NULL|                     NULL|                          NULL|                         NULL|                       NULL|                            NULL|                           NULL|                     NULL|                          NULL|                         NULL|                      NULL|                     NULL|                          NULL|                         NULL|                      NULL|                     NULL|                          NULL|                         NULL|                       NULL|                            NULL|                           NULL|         NULL|                        NULL|                              NULL|                           NULL|https://www.delta...|\n",
            "|        2023|       AK|   21989|          Delta Dental of A...|      HIOS|    11/19/2022 1:01|        Individual|           Yes|     21989AK0070001|Delta Dental Prem...|   21989AK007|    AKN001|        AKS002|                NULL|  Existing|Indemnity|       Low|      NULL|            NULL|Off the Exchange|                        NULL|                           NULL|                       NULL|               NULL|                                                        NULL|                    No|   Allows Child-Only|           NULL|                  NULL|                            NULL|                  NULL|                                      1| Guaranteed Rate|         1/1/2023|        12/31/2023|                 Yes|           Treated as out-of...|                     Yes|                   National network|            Yes|   https://www.delta...|             NULL|   21989AK0070001-00|    Delta Dental Prem...|Standard Low Off ...|                NULL|                    NULL|                            NULL|                                   NULL|                    No|                100%|                 NULL|                    NULL|                   NULL|                     NULL|               NULL|                       NULL|                      NULL|                        NULL|                  NULL|                             NULL|                            NULL|                              NULL|                        NULL|                           NULL|                            0|                                             0|                                                       0|            Not Applicable|           per person not ap...|          per group not app...|                      NULL|                           NULL|                          NULL|            Not Applicable|           per person not ap...|          per group not app...|                       $375 |                  $375 per person|                  $750 per group|                      NULL|                           NULL|                          NULL|                      NULL|                           NULL|                          NULL|                      NULL|                           NULL|                          NULL|                        NULL|                             NULL|                            NULL|                      NULL|                           NULL|                          NULL|                      NULL|                           NULL|                          NULL|                      NULL|                           NULL|                          NULL|                        NULL|                             NULL|                            NULL|           Not Applicable|          per person not ap...|         per group not app...|                      NULL|                     NULL|                          NULL|                         NULL|                      NULL|           Not Applicable|          per person not ap...|         per group not app...|                        $0 |                   $0 per person|                   $0 per group|                     NULL|                          NULL|                         NULL|                      NULL|                     NULL|                          NULL|                         NULL|                      NULL|                     NULL|                          NULL|                         NULL|                       NULL|                            NULL|                           NULL|                     NULL|                          NULL|                         NULL|                      NULL|                     NULL|                          NULL|                         NULL|                      NULL|                     NULL|                          NULL|                         NULL|                       NULL|                            NULL|                           NULL|         NULL|                        NULL|                              NULL|                           NULL|https://www.delta...|\n",
            "|        2023|       AK|   21989|          Delta Dental of A...|      HIOS|    11/19/2022 1:01|SHOP (Small Group)|           Yes|     21989AK0160001|Delta Dental PPO,...|   21989AK016|    AKN002|        AKS002|                NULL|  Existing|      PPO|      High|      NULL|            NULL|Off the Exchange|                        NULL|                           NULL|                       NULL|               NULL|                                                        NULL|                    No|Allows Adult and ...|             No|  Allows Adult and ...|                            NULL|                  NULL|                                   NULL|  Estimated Rate|         1/1/2023|        12/31/2023|                 Yes|           Providers treated...|                     Yes|                   National Network|            Yes|   https://www.delta...|             NULL|   21989AK0160001-00|    Delta Dental PPO,...|Standard High Off...|                NULL|                    NULL|                            NULL|                                   NULL|                    No|                100%|                 NULL|                    NULL|                   NULL|                     NULL|               NULL|                       NULL|                      NULL|                        NULL|                  NULL|                             NULL|                            NULL|                              NULL|                        NULL|                           NULL|                            0|                                             0|                                                       0|            Not Applicable|           per person not ap...|          per group not app...|                      NULL|                           NULL|                          NULL|            Not Applicable|           per person not ap...|          per group not app...|                       $375 |                  $375 per person|                  $750 per group|                      NULL|                           NULL|                          NULL|                      NULL|                           NULL|                          NULL|                      NULL|                           NULL|                          NULL|                        NULL|                             NULL|                            NULL|                      NULL|                           NULL|                          NULL|                      NULL|                           NULL|                          NULL|                      NULL|                           NULL|                          NULL|                        NULL|                             NULL|                            NULL|           Not Applicable|          per person not ap...|         per group not app...|                      NULL|                     NULL|                          NULL|                         NULL|                      NULL|           Not Applicable|          per person not ap...|         per group not app...|                       $50 |                  $50 per person|                 $150 per group|                     NULL|                          NULL|                         NULL|                      NULL|                     NULL|                          NULL|                         NULL|                      NULL|                     NULL|                          NULL|                         NULL|                       NULL|                            NULL|                           NULL|                     NULL|                          NULL|                         NULL|                      NULL|                     NULL|                          NULL|                         NULL|                      NULL|                     NULL|                          NULL|                         NULL|                       NULL|                            NULL|                           NULL|         NULL|                        NULL|                              NULL|                           NULL|https://www.delta...|\n",
            "|        2023|       AK|   21989|          Delta Dental of A...|      HIOS|    11/19/2022 1:01|SHOP (Small Group)|           Yes|     21989AK0160002|Delta Dental PPO,...|   21989AK016|    AKN002|        AKS002|                NULL|  Existing|      PPO|      High|      NULL|            NULL|Off the Exchange|                        NULL|                           NULL|                       NULL|               NULL|                                                        NULL|                    No|Allows Adult and ...|             No|  Allows Adult and ...|                            NULL|                  NULL|                                   NULL|  Estimated Rate|         1/1/2023|        12/31/2023|                 Yes|           Providers treated...|                     Yes|                   National Network|            Yes|   https://www.delta...|             NULL|   21989AK0160002-00|    Delta Dental PPO,...|Standard High Off...|                NULL|                    NULL|                            NULL|                                   NULL|                    No|                100%|                 NULL|                    NULL|                   NULL|                     NULL|               NULL|                       NULL|                      NULL|                        NULL|                  NULL|                             NULL|                            NULL|                              NULL|                        NULL|                           NULL|                            0|                                             0|                                                       0|            Not Applicable|           per person not ap...|          per group not app...|                      NULL|                           NULL|                          NULL|            Not Applicable|           per person not ap...|          per group not app...|                       $375 |                  $375 per person|                  $750 per group|                      NULL|                           NULL|                          NULL|                      NULL|                           NULL|                          NULL|                      NULL|                           NULL|                          NULL|                        NULL|                             NULL|                            NULL|                      NULL|                           NULL|                          NULL|                      NULL|                           NULL|                          NULL|                      NULL|                           NULL|                          NULL|                        NULL|                             NULL|                            NULL|           Not Applicable|          per person not ap...|         per group not app...|                      NULL|                     NULL|                          NULL|                         NULL|                      NULL|           Not Applicable|          per person not ap...|         per group not app...|                       $50 |                  $50 per person|                 $150 per group|                     NULL|                          NULL|                         NULL|                      NULL|                     NULL|                          NULL|                         NULL|                      NULL|                     NULL|                          NULL|                         NULL|                       NULL|                            NULL|                           NULL|                     NULL|                          NULL|                         NULL|                      NULL|                     NULL|                          NULL|                         NULL|                      NULL|                     NULL|                          NULL|                         NULL|                       NULL|                            NULL|                           NULL|         NULL|                        NULL|                              NULL|                           NULL|https://www.delta...|\n",
            "|        2023|       AK|   21989|          Delta Dental of A...|      HIOS|    11/19/2022 1:01|SHOP (Small Group)|           Yes|     21989AK0160061|Delta Dental PPO,...|   21989AK016|    AKN002|        AKS002|                NULL|       New|      PPO|      High|      NULL|            NULL|Off the Exchange|                        NULL|                           NULL|                       NULL|               NULL|                                                        NULL|                    No|Allows Adult and ...|             No|  Allows Adult and ...|                            NULL|                  NULL|                                   NULL|  Estimated Rate|         1/1/2023|        12/31/2023|                 Yes|           Providers treated...|                     Yes|                   National Network|            Yes|   https://www.delta...|             NULL|   21989AK0160061-00|    Delta Dental PPO,...|Standard High Off...|                NULL|                    NULL|                            NULL|                                   NULL|                    No|                100%|                 NULL|                    NULL|                   NULL|                     NULL|               NULL|                       NULL|                      NULL|                        NULL|                  NULL|                             NULL|                            NULL|                              NULL|                        NULL|                           NULL|                            0|                                             0|                                                       0|            Not Applicable|           per person not ap...|          per group not app...|                      NULL|                           NULL|                          NULL|            Not Applicable|           per person not ap...|          per group not app...|                       $375 |                  $375 per person|                  $750 per group|                      NULL|                           NULL|                          NULL|                      NULL|                           NULL|                          NULL|                      NULL|                           NULL|                          NULL|                        NULL|                             NULL|                            NULL|                      NULL|                           NULL|                          NULL|                      NULL|                           NULL|                          NULL|                      NULL|                           NULL|                          NULL|                        NULL|                             NULL|                            NULL|           Not Applicable|          per person not ap...|         per group not app...|                      NULL|                     NULL|                          NULL|                         NULL|                      NULL|           Not Applicable|          per person not ap...|         per group not app...|                       $50 |                  $50 per person|                 $150 per group|                     NULL|                          NULL|                         NULL|                      NULL|                     NULL|                          NULL|                         NULL|                      NULL|                     NULL|                          NULL|                         NULL|                       NULL|                            NULL|                           NULL|                     NULL|                          NULL|                         NULL|                      NULL|                     NULL|                          NULL|                         NULL|                      NULL|                     NULL|                          NULL|                         NULL|                       NULL|                            NULL|                           NULL|         NULL|                        NULL|                              NULL|                           NULL|https://www.delta...|\n",
            "|        2023|       AK|   21989|          Delta Dental of A...|      HIOS|    11/19/2022 1:01|SHOP (Small Group)|           Yes|     21989AK0160057|Delta Dental PPO,...|   21989AK016|    AKN002|        AKS002|                NULL|       New|      PPO|      High|      NULL|            NULL|Off the Exchange|                        NULL|                           NULL|                       NULL|               NULL|                                                        NULL|                    No|Allows Adult and ...|             No|  Allows Adult and ...|                            NULL|                  NULL|                                   NULL|  Estimated Rate|         1/1/2023|        12/31/2023|                 Yes|           Providers treated...|                     Yes|                   National Network|            Yes|   https://www.delta...|             NULL|   21989AK0160057-00|    Delta Dental PPO,...|Standard High Off...|                NULL|                    NULL|                            NULL|                                   NULL|                    No|                100%|                 NULL|                    NULL|                   NULL|                     NULL|               NULL|                       NULL|                      NULL|                        NULL|                  NULL|                             NULL|                            NULL|                              NULL|                        NULL|                           NULL|                            0|                                             0|                                                       0|            Not Applicable|           per person not ap...|          per group not app...|                      NULL|                           NULL|                          NULL|            Not Applicable|           per person not ap...|          per group not app...|                       $375 |                  $375 per person|                  $750 per group|                      NULL|                           NULL|                          NULL|                      NULL|                           NULL|                          NULL|                      NULL|                           NULL|                          NULL|                        NULL|                             NULL|                            NULL|                      NULL|                           NULL|                          NULL|                      NULL|                           NULL|                          NULL|                      NULL|                           NULL|                          NULL|                        NULL|                             NULL|                            NULL|           Not Applicable|          per person not ap...|         per group not app...|                      NULL|                     NULL|                          NULL|                         NULL|                      NULL|           Not Applicable|          per person not ap...|         per group not app...|                       $50 |                  $50 per person|                 $150 per group|                     NULL|                          NULL|                         NULL|                      NULL|                     NULL|                          NULL|                         NULL|                      NULL|                     NULL|                          NULL|                         NULL|                       NULL|                            NULL|                           NULL|                     NULL|                          NULL|                         NULL|                      NULL|                     NULL|                          NULL|                         NULL|                      NULL|                     NULL|                          NULL|                         NULL|                       NULL|                            NULL|                           NULL|         NULL|                        NULL|                              NULL|                           NULL|https://www.delta...|\n",
            "|        2023|       AK|   21989|          Delta Dental of A...|      HIOS|    11/19/2022 1:01|SHOP (Small Group)|           Yes|     21989AK0160058|Delta Dental PPO,...|   21989AK016|    AKN002|        AKS002|                NULL|       New|      PPO|      High|      NULL|            NULL|Off the Exchange|                        NULL|                           NULL|                       NULL|               NULL|                                                        NULL|                    No|Allows Adult and ...|             No|  Allows Adult and ...|                            NULL|                  NULL|                                   NULL|  Estimated Rate|         1/1/2023|        12/31/2023|                 Yes|           Providers treated...|                     Yes|                   National Network|            Yes|   https://www.delta...|             NULL|   21989AK0160058-00|    Delta Dental PPO,...|Standard High Off...|                NULL|                    NULL|                            NULL|                                   NULL|                    No|                100%|                 NULL|                    NULL|                   NULL|                     NULL|               NULL|                       NULL|                      NULL|                        NULL|                  NULL|                             NULL|                            NULL|                              NULL|                        NULL|                           NULL|                            0|                                             0|                                                       0|            Not Applicable|           per person not ap...|          per group not app...|                      NULL|                           NULL|                          NULL|            Not Applicable|           per person not ap...|          per group not app...|                       $375 |                  $375 per person|                  $750 per group|                      NULL|                           NULL|                          NULL|                      NULL|                           NULL|                          NULL|                      NULL|                           NULL|                          NULL|                        NULL|                             NULL|                            NULL|                      NULL|                           NULL|                          NULL|                      NULL|                           NULL|                          NULL|                      NULL|                           NULL|                          NULL|                        NULL|                             NULL|                            NULL|           Not Applicable|          per person not ap...|         per group not app...|                      NULL|                     NULL|                          NULL|                         NULL|                      NULL|           Not Applicable|          per person not ap...|         per group not app...|                       $50 |                  $50 per person|                 $150 per group|                     NULL|                          NULL|                         NULL|                      NULL|                     NULL|                          NULL|                         NULL|                      NULL|                     NULL|                          NULL|                         NULL|                       NULL|                            NULL|                           NULL|                     NULL|                          NULL|                         NULL|                      NULL|                     NULL|                          NULL|                         NULL|                      NULL|                     NULL|                          NULL|                         NULL|                       NULL|                            NULL|                           NULL|         NULL|                        NULL|                              NULL|                           NULL|https://www.delta...|\n",
            "|        2023|       AK|   21989|          Delta Dental of A...|      HIOS|    11/19/2022 1:01|SHOP (Small Group)|           Yes|     21989AK0040051|          PPO Plus 1|   21989AK004|    AKN002|        AKS002|                NULL|       New|      PPO|      High|      NULL|            NULL|Off the Exchange|                        NULL|                           NULL|                       NULL|               NULL|                                                        NULL|                    No|Allows Adult and ...|             No|  Allows Adult and ...|                            NULL|                  NULL|                                   NULL|  Estimated Rate|         1/1/2023|        12/31/2023|                 Yes|           Providers treated...|                     Yes|                   National Network|            Yes|   https://www.delta...|             NULL|   21989AK0040051-00|              PPO Plus 1|Standard High Off...|                NULL|                    NULL|                            NULL|                                   NULL|                    No|                100%|                 NULL|                    NULL|                   NULL|                     NULL|               NULL|                       NULL|                      NULL|                        NULL|                  NULL|                             NULL|                            NULL|                              NULL|                        NULL|                           NULL|                            0|                                             0|                                                       0|            Not Applicable|           per person not ap...|          per group not app...|                      NULL|                           NULL|                          NULL|            Not Applicable|           per person not ap...|          per group not app...|                       $375 |                  $375 per person|                  $750 per group|                      NULL|                           NULL|                          NULL|                      NULL|                           NULL|                          NULL|                      NULL|                           NULL|                          NULL|                        NULL|                             NULL|                            NULL|                      NULL|                           NULL|                          NULL|                      NULL|                           NULL|                          NULL|                      NULL|                           NULL|                          NULL|                        NULL|                             NULL|                            NULL|           Not Applicable|          per person not ap...|         per group not app...|                      NULL|                     NULL|                          NULL|                         NULL|                      NULL|           Not Applicable|          per person not ap...|         per group not app...|                       $50 |                  $50 per person|                 $150 per group|                     NULL|                          NULL|                         NULL|                      NULL|                     NULL|                          NULL|                         NULL|                      NULL|                     NULL|                          NULL|                         NULL|                       NULL|                            NULL|                           NULL|                     NULL|                          NULL|                         NULL|                      NULL|                     NULL|                          NULL|                         NULL|                      NULL|                     NULL|                          NULL|                         NULL|                       NULL|                            NULL|                           NULL|         NULL|                        NULL|                              NULL|                           NULL|https://www.delta...|\n",
            "|        2023|       AK|   21989|          Delta Dental of A...|      HIOS|    11/19/2022 1:01|SHOP (Small Group)|           Yes|     21989AK0040052|          PPO Plus 2|   21989AK004|    AKN002|        AKS002|                NULL|       New|      PPO|      High|      NULL|            NULL|Off the Exchange|                        NULL|                           NULL|                       NULL|               NULL|                                                        NULL|                    No|Allows Adult and ...|             No|  Allows Adult and ...|                            NULL|                  NULL|                                   NULL|  Estimated Rate|         1/1/2023|        12/31/2023|                 Yes|           Providers treated...|                     Yes|                   National Network|            Yes|   https://www.delta...|             NULL|   21989AK0040052-00|              PPO Plus 2|Standard High Off...|                NULL|                    NULL|                            NULL|                                   NULL|                    No|                100%|                 NULL|                    NULL|                   NULL|                     NULL|               NULL|                       NULL|                      NULL|                        NULL|                  NULL|                             NULL|                            NULL|                              NULL|                        NULL|                           NULL|                            0|                                             0|                                                       0|            Not Applicable|           per person not ap...|          per group not app...|                      NULL|                           NULL|                          NULL|            Not Applicable|           per person not ap...|          per group not app...|                       $375 |                  $375 per person|                  $750 per group|                      NULL|                           NULL|                          NULL|                      NULL|                           NULL|                          NULL|                      NULL|                           NULL|                          NULL|                        NULL|                             NULL|                            NULL|                      NULL|                           NULL|                          NULL|                      NULL|                           NULL|                          NULL|                      NULL|                           NULL|                          NULL|                        NULL|                             NULL|                            NULL|           Not Applicable|          per person not ap...|         per group not app...|                      NULL|                     NULL|                          NULL|                         NULL|                      NULL|           Not Applicable|          per person not ap...|         per group not app...|                       $50 |                  $50 per person|                 $150 per group|                     NULL|                          NULL|                         NULL|                      NULL|                     NULL|                          NULL|                         NULL|                      NULL|                     NULL|                          NULL|                         NULL|                       NULL|                            NULL|                           NULL|                     NULL|                          NULL|                         NULL|                      NULL|                     NULL|                          NULL|                         NULL|                      NULL|                     NULL|                          NULL|                         NULL|                       NULL|                            NULL|                           NULL|         NULL|                        NULL|                              NULL|                           NULL|https://www.delta...|\n",
            "|        2023|       AK|   21989|          Delta Dental of A...|      HIOS|    11/19/2022 1:01|SHOP (Small Group)|           Yes|     21989AK0040053|          PPO Plus 3|   21989AK004|    AKN002|        AKS002|                NULL|       New|      PPO|      High|      NULL|            NULL|Off the Exchange|                        NULL|                           NULL|                       NULL|               NULL|                                                        NULL|                    No|Allows Adult and ...|             No|  Allows Adult and ...|                            NULL|                  NULL|                                   NULL|  Estimated Rate|         1/1/2023|        12/31/2023|                 Yes|           Providers treated...|                     Yes|                   National Network|            Yes|   https://www.delta...|             NULL|   21989AK0040053-00|              PPO Plus 3|Standard High Off...|                NULL|                    NULL|                            NULL|                                   NULL|                    No|                100%|                 NULL|                    NULL|                   NULL|                     NULL|               NULL|                       NULL|                      NULL|                        NULL|                  NULL|                             NULL|                            NULL|                              NULL|                        NULL|                           NULL|                            0|                                             0|                                                       0|            Not Applicable|           per person not ap...|          per group not app...|                      NULL|                           NULL|                          NULL|            Not Applicable|           per person not ap...|          per group not app...|                       $375 |                  $375 per person|                  $750 per group|                      NULL|                           NULL|                          NULL|                      NULL|                           NULL|                          NULL|                      NULL|                           NULL|                          NULL|                        NULL|                             NULL|                            NULL|                      NULL|                           NULL|                          NULL|                      NULL|                           NULL|                          NULL|                      NULL|                           NULL|                          NULL|                        NULL|                             NULL|                            NULL|           Not Applicable|          per person not ap...|         per group not app...|                      NULL|                     NULL|                          NULL|                         NULL|                      NULL|           Not Applicable|          per person not ap...|         per group not app...|                       $50 |                  $50 per person|                 $150 per group|                     NULL|                          NULL|                         NULL|                      NULL|                     NULL|                          NULL|                         NULL|                      NULL|                     NULL|                          NULL|                         NULL|                       NULL|                            NULL|                           NULL|                     NULL|                          NULL|                         NULL|                      NULL|                     NULL|                          NULL|                         NULL|                      NULL|                     NULL|                          NULL|                         NULL|                       NULL|                            NULL|                           NULL|         NULL|                        NULL|                              NULL|                           NULL|https://www.delta...|\n",
            "|        2023|       AK|   21989|          Delta Dental of A...|      HIOS|    11/19/2022 1:01|SHOP (Small Group)|           Yes|     21989AK0040054|          PPO Plus 4|   21989AK004|    AKN002|        AKS002|                NULL|       New|      PPO|      High|      NULL|            NULL|Off the Exchange|                        NULL|                           NULL|                       NULL|               NULL|                                                        NULL|                    No|Allows Adult and ...|             No|  Allows Adult and ...|                            NULL|                  NULL|                                   NULL|  Estimated Rate|         1/1/2023|        12/31/2023|                 Yes|           Providers treated...|                     Yes|                   National Network|            Yes|   https://www.delta...|             NULL|   21989AK0040054-00|              PPO Plus 4|Standard High Off...|                NULL|                    NULL|                            NULL|                                   NULL|                    No|                100%|                 NULL|                    NULL|                   NULL|                     NULL|               NULL|                       NULL|                      NULL|                        NULL|                  NULL|                             NULL|                            NULL|                              NULL|                        NULL|                           NULL|                            0|                                             0|                                                       0|            Not Applicable|           per person not ap...|          per group not app...|                      NULL|                           NULL|                          NULL|            Not Applicable|           per person not ap...|          per group not app...|                       $375 |                  $375 per person|                  $750 per group|                      NULL|                           NULL|                          NULL|                      NULL|                           NULL|                          NULL|                      NULL|                           NULL|                          NULL|                        NULL|                             NULL|                            NULL|                      NULL|                           NULL|                          NULL|                      NULL|                           NULL|                          NULL|                      NULL|                           NULL|                          NULL|                        NULL|                             NULL|                            NULL|           Not Applicable|          per person not ap...|         per group not app...|                      NULL|                     NULL|                          NULL|                         NULL|                      NULL|           Not Applicable|          per person not ap...|         per group not app...|                       $50 |                  $50 per person|                 $150 per group|                     NULL|                          NULL|                         NULL|                      NULL|                     NULL|                          NULL|                         NULL|                      NULL|                     NULL|                          NULL|                         NULL|                       NULL|                            NULL|                           NULL|                     NULL|                          NULL|                         NULL|                      NULL|                     NULL|                          NULL|                         NULL|                      NULL|                     NULL|                          NULL|                         NULL|                       NULL|                            NULL|                           NULL|         NULL|                        NULL|                              NULL|                           NULL|https://www.delta...|\n",
            "|        2023|       AK|   21989|          Delta Dental of A...|      HIOS|    11/19/2022 1:01|SHOP (Small Group)|           Yes|     21989AK0040055|          PPO Plus 5|   21989AK004|    AKN002|        AKS002|                NULL|       New|      PPO|      High|      NULL|            NULL|Off the Exchange|                        NULL|                           NULL|                       NULL|               NULL|                                                        NULL|                    No|Allows Adult and ...|             No|  Allows Adult and ...|                            NULL|                  NULL|                                   NULL|  Estimated Rate|         1/1/2023|        12/31/2023|                 Yes|           Providers treated...|                     Yes|                   National Network|            Yes|   https://www.delta...|             NULL|   21989AK0040055-00|              PPO Plus 5|Standard High Off...|                NULL|                    NULL|                            NULL|                                   NULL|                    No|                100%|                 NULL|                    NULL|                   NULL|                     NULL|               NULL|                       NULL|                      NULL|                        NULL|                  NULL|                             NULL|                            NULL|                              NULL|                        NULL|                           NULL|                            0|                                             0|                                                       0|            Not Applicable|           per person not ap...|          per group not app...|                      NULL|                           NULL|                          NULL|            Not Applicable|           per person not ap...|          per group not app...|                       $375 |                  $375 per person|                  $750 per group|                      NULL|                           NULL|                          NULL|                      NULL|                           NULL|                          NULL|                      NULL|                           NULL|                          NULL|                        NULL|                             NULL|                            NULL|                      NULL|                           NULL|                          NULL|                      NULL|                           NULL|                          NULL|                      NULL|                           NULL|                          NULL|                        NULL|                             NULL|                            NULL|           Not Applicable|          per person not ap...|         per group not app...|                      NULL|                     NULL|                          NULL|                         NULL|                      NULL|           Not Applicable|          per person not ap...|         per group not app...|                       $50 |                  $50 per person|                 $150 per group|                     NULL|                          NULL|                         NULL|                      NULL|                     NULL|                          NULL|                         NULL|                      NULL|                     NULL|                          NULL|                         NULL|                       NULL|                            NULL|                           NULL|                     NULL|                          NULL|                         NULL|                      NULL|                     NULL|                          NULL|                         NULL|                      NULL|                     NULL|                          NULL|                         NULL|                       NULL|                            NULL|                           NULL|         NULL|                        NULL|                              NULL|                           NULL|https://www.delta...|\n",
            "|        2016|       AK|   21989|                          HIOS|         4|2015-08-22 15:09:32|                 1|         21989|                 AK|  SHOP (Small Group)|          Yes|93-0438772|21989AK0080001|Delta Dental Prem...|21989AK008|     NULL|    AKN001|    AKS001|            NULL|             New|                   Indemnity|                           High|                       NULL|   Off the Exchange|                                                        NULL|                  NULL|                NULL|           NULL|                  NULL|                              No|  Allows Adult and ...|                                   NULL|            NULL|             NULL|              NULL|              $49.42|                 Estimated Rate|                    NULL|                                  0|              0|                      0|       2016-01-01|                NULL|                      No|                NULL|                 Yes|        National Network|                             Yes|                                   NULL|                  NULL|   21989AK0080001-00| Standard High Off...|                  86.30%|                   NULL|                     NULL|               NULL|                         No|                      100%|                        NULL|                  NULL|                             NULL|                            NULL|                              NULL|                        NULL|                           NULL|                         NULL|                                          NULL|                                          Not Applicable|      per person not ap...|           per group not app...|                          NULL|                      NULL|                           NULL|                Not Applicable|      per person not ap...|           per group not app...|                          $350|             $350 per person|                   $700 per group|                            NULL|                      NULL|                           NULL|                          NULL|                      NULL|                           NULL|                          NULL|                      NULL|                           NULL|                          NULL|                        NULL|                             NULL|                            NULL|                      NULL|                           NULL|                          NULL|                      NULL|                           NULL|                          NULL|                      NULL|                           NULL|                          NULL|                        NULL|                             NULL|                  Not Applicable|     per person not ap...|          per group not app...|                         NULL|                      NULL|                     NULL|                          NULL|                         NULL|            Not Applicable|     per person not ap...|          per group not app...|                          $50|             $50 per person|                  $150 per group|                           NULL|                     NULL|                          NULL|                         NULL|                      NULL|                     NULL|                          NULL|                         NULL|                      NULL|                     NULL|                          NULL|                         NULL|                       NULL|                            NULL|                           NULL|                     NULL|                          NULL|                         NULL|                      NULL|                     NULL|                          NULL|                         NULL|                      NULL|                     NULL|                          NULL|                         NULL|                       NULL|                            NULL|                           NULL|         NULL|                        NULL|              https://www.modah...|           https://www.modah...|                   4|\n",
            "|        2016|       AK|   21989|                          HIOS|         4|2015-08-22 15:09:32|                 1|         21989|                 AK|          Individual|          Yes|93-0438772|21989AK0030001|Delta Dental Prem...|21989AK003|     NULL|    AKN001|    AKS001|            NULL|        Existing|                   Indemnity|                            Low|                       NULL|               Both|                                                        NULL|                  NULL|                NULL|           NULL|                  NULL|                              No|  Allows Adult and ...|                                   NULL|            NULL|             NULL|              NULL|              $43.00|                Guaranteed Rate|                    NULL|                                  0|              0|                      0|       2016-01-01|                NULL|                      No|                NULL|                 Yes|        National Network|                             Yes|                                   NULL|                  NULL|   21989AK0030001-00| Standard Low Off ...|                  70.70%|                   NULL|                     NULL|               NULL|                         No|                      100%|                        NULL|                  NULL|                             NULL|                            NULL|                              NULL|                        NULL|                           NULL|                         NULL|                                          NULL|                                          Not Applicable|      per person not ap...|           per group not app...|                          NULL|                      NULL|                           NULL|                Not Applicable|      per person not ap...|           per group not app...|                          $350|             $350 per person|                   $700 per group|                            NULL|                      NULL|                           NULL|                          NULL|                      NULL|                           NULL|                          NULL|                      NULL|                           NULL|                          NULL|                        NULL|                             NULL|                            NULL|                      NULL|                           NULL|                          NULL|                      NULL|                           NULL|                          NULL|                      NULL|                           NULL|                          NULL|                        NULL|                             NULL|                  Not Applicable|     per person not ap...|          per group not app...|                         NULL|                      NULL|                     NULL|                          NULL|                         NULL|            Not Applicable|     per person not ap...|          per group not app...|                           $0|              $0 per person|                    $0 per group|                           NULL|                     NULL|                          NULL|                         NULL|                      NULL|                     NULL|                          NULL|                         NULL|                      NULL|                     NULL|                          NULL|                         NULL|                       NULL|                            NULL|                           NULL|                     NULL|                          NULL|                         NULL|                      NULL|                     NULL|                          NULL|                         NULL|                      NULL|                     NULL|                          NULL|                         NULL|                       NULL|                            NULL|                           NULL|         NULL|                        NULL|              https://www.modah...|           https://www.modah...|                   4|\n",
            "|        2016|       AK|   21989|                          HIOS|         4|2015-08-22 15:09:32|                 1|         21989|                 AK|          Individual|          Yes|93-0438772|21989AK0030001|Delta Dental Prem...|21989AK003|     NULL|    AKN001|    AKS001|            NULL|        Existing|                   Indemnity|                            Low|                       NULL|               Both|                                                        NULL|                  NULL|                NULL|           NULL|                  NULL|                              No|  Allows Adult and ...|                                   NULL|            NULL|             NULL|              NULL|              $43.00|                Guaranteed Rate|                    NULL|                                  0|              0|                      0|       2016-01-01|                NULL|                      No|                NULL|                 Yes|        National Network|                             Yes|                                   NULL|                  NULL|   21989AK0030001-01| Standard Low On E...|                  70.70%|                   NULL|                     NULL|               NULL|                         No|                      100%|                        NULL|                  NULL|                             NULL|                            NULL|                              NULL|                        NULL|                           NULL|                         NULL|                                          NULL|                                          Not Applicable|      per person not ap...|           per group not app...|                          NULL|                      NULL|                           NULL|                Not Applicable|      per person not ap...|           per group not app...|                          $350|             $350 per person|                   $700 per group|                            NULL|                      NULL|                           NULL|                          NULL|                      NULL|                           NULL|                          NULL|                      NULL|                           NULL|                          NULL|                        NULL|                             NULL|                            NULL|                      NULL|                           NULL|                          NULL|                      NULL|                           NULL|                          NULL|                      NULL|                           NULL|                          NULL|                        NULL|                             NULL|                  Not Applicable|     per person not ap...|          per group not app...|                         NULL|                      NULL|                     NULL|                          NULL|                         NULL|            Not Applicable|     per person not ap...|          per group not app...|                           $0|              $0 per person|                    $0 per group|                           NULL|                     NULL|                          NULL|                         NULL|                      NULL|                     NULL|                          NULL|                         NULL|                      NULL|                     NULL|                          NULL|                         NULL|                       NULL|                            NULL|                           NULL|                     NULL|                          NULL|                         NULL|                      NULL|                     NULL|                          NULL|                         NULL|                      NULL|                     NULL|                          NULL|                         NULL|                       NULL|                            NULL|                           NULL|         NULL|                        NULL|              https://www.modah...|           https://www.modah...|                   5|\n",
            "|        2016|       AK|   21989|                          HIOS|         4|2015-08-22 15:09:32|                 2|         21989|                 AK|          Individual|          Yes|93-0438772|21989AK0050001|Delta Dental PPO ...|21989AK005|     NULL|    AKN002|    AKS002|            NULL|             New|                         PPO|                           High|                       NULL|               Both|                                                        NULL|                  NULL|                NULL|           NULL|                  NULL|                              No|  Allows Adult and ...|                                   NULL|            NULL|             NULL|              NULL|              $38.00|                Guaranteed Rate|                    NULL|                                  0|              0|                      0|       2016-01-01|                NULL|                      No|                NULL|                 Yes|        National Network|                             Yes|                                   NULL|                  NULL|   21989AK0050001-00| Standard High Off...|                  83.40%|                   NULL|                     NULL|               NULL|                         No|                      100%|                        NULL|                  NULL|                             NULL|                            NULL|                              NULL|                        NULL|                           NULL|                         NULL|                                          NULL|                                                    $350|           $350 per person|                 $700 per group|                          NULL|                      NULL|                           NULL|                Not Applicable|      per person not ap...|           per group not app...|                Not Applicable|        per person not ap...|             per group not app...|                            NULL|                      NULL|                           NULL|                          NULL|                      NULL|                           NULL|                          NULL|                      NULL|                           NULL|                          NULL|                        NULL|                             NULL|                            NULL|                      NULL|                           NULL|                          NULL|                      NULL|                           NULL|                          NULL|                      NULL|                           NULL|                          NULL|                        NULL|                             NULL|                  Not Applicable|     per person not ap...|          per group not app...|                         NULL|                      NULL|                     NULL|                          NULL|                         NULL|            Not Applicable|     per person not ap...|          per group not app...|                           $0|              $0 per person|                    $0 per group|                           NULL|                     NULL|                          NULL|                         NULL|                      NULL|                     NULL|                          NULL|                         NULL|                      NULL|                     NULL|                          NULL|                         NULL|                       NULL|                            NULL|                           NULL|                     NULL|                          NULL|                         NULL|                      NULL|                     NULL|                          NULL|                         NULL|                      NULL|                     NULL|                          NULL|                         NULL|                       NULL|                            NULL|                           NULL|         NULL|                        NULL|              https://www.modah...|           https://www.modah...|                   4|\n",
            "|        2016|       AK|   21989|                          HIOS|         4|2015-08-22 15:09:32|                 2|         21989|                 AK|  SHOP (Small Group)|          Yes|93-0438772|21989AK0080002|Delta Dental Prem...|21989AK008|     NULL|    AKN001|    AKS001|            NULL|             New|                   Indemnity|                           High|                       NULL|   Off the Exchange|                                                        NULL|                  NULL|                NULL|           NULL|                  NULL|                              No|  Allows Adult and ...|                                   NULL|            NULL|             NULL|              NULL|              $49.42|                 Estimated Rate|                    NULL|                                  0|              0|                      0|       2016-01-01|                NULL|                      No|                NULL|                 Yes|        National Network|                             Yes|                                   NULL|                  NULL|   21989AK0080002-00| Standard High Off...|                  86.30%|                   NULL|                     NULL|               NULL|                         No|                      100%|                        NULL|                  NULL|                             NULL|                            NULL|                              NULL|                        NULL|                           NULL|                         NULL|                                          NULL|                                          Not Applicable|      per person not ap...|           per group not app...|                          NULL|                      NULL|                           NULL|                Not Applicable|      per person not ap...|           per group not app...|                          $350|             $350 per person|                   $700 per group|                            NULL|                      NULL|                           NULL|                          NULL|                      NULL|                           NULL|                          NULL|                      NULL|                           NULL|                          NULL|                        NULL|                             NULL|                            NULL|                      NULL|                           NULL|                          NULL|                      NULL|                           NULL|                          NULL|                      NULL|                           NULL|                          NULL|                        NULL|                             NULL|                  Not Applicable|     per person not ap...|          per group not app...|                         NULL|                      NULL|                     NULL|                          NULL|                         NULL|            Not Applicable|     per person not ap...|          per group not app...|                          $50|             $50 per person|                  $150 per group|                           NULL|                     NULL|                          NULL|                         NULL|                      NULL|                     NULL|                          NULL|                         NULL|                      NULL|                     NULL|                          NULL|                         NULL|                       NULL|                            NULL|                           NULL|                     NULL|                          NULL|                         NULL|                      NULL|                     NULL|                          NULL|                         NULL|                      NULL|                     NULL|                          NULL|                         NULL|                       NULL|                            NULL|                           NULL|         NULL|                        NULL|              https://www.modah...|           https://www.modah...|                   4|\n",
            "|        2016|       AK|   21989|                          HIOS|         4|2015-08-22 15:09:32|                 2|         21989|                 AK|          Individual|          Yes|93-0438772|21989AK0050001|Delta Dental PPO ...|21989AK005|     NULL|    AKN002|    AKS002|            NULL|             New|                         PPO|                           High|                       NULL|               Both|                                                        NULL|                  NULL|                NULL|           NULL|                  NULL|                              No|  Allows Adult and ...|                                   NULL|            NULL|             NULL|              NULL|              $38.00|                Guaranteed Rate|                    NULL|                                  0|              0|                      0|       2016-01-01|                NULL|                      No|                NULL|                 Yes|        National Network|                             Yes|                                   NULL|                  NULL|   21989AK0050001-01| Standard High On ...|                  83.40%|                   NULL|                     NULL|               NULL|                         No|                      100%|                        NULL|                  NULL|                             NULL|                            NULL|                              NULL|                        NULL|                           NULL|                         NULL|                                          NULL|                                                    $350|           $350 per person|                 $700 per group|                          NULL|                      NULL|                           NULL|                Not Applicable|      per person not ap...|           per group not app...|                Not Applicable|        per person not ap...|             per group not app...|                            NULL|                      NULL|                           NULL|                          NULL|                      NULL|                           NULL|                          NULL|                      NULL|                           NULL|                          NULL|                        NULL|                             NULL|                            NULL|                      NULL|                           NULL|                          NULL|                      NULL|                           NULL|                          NULL|                      NULL|                           NULL|                          NULL|                        NULL|                             NULL|                  Not Applicable|     per person not ap...|          per group not app...|                         NULL|                      NULL|                     NULL|                          NULL|                         NULL|            Not Applicable|     per person not ap...|          per group not app...|                           $0|              $0 per person|                    $0 per group|                           NULL|                     NULL|                          NULL|                         NULL|                      NULL|                     NULL|                          NULL|                         NULL|                      NULL|                     NULL|                          NULL|                         NULL|                       NULL|                            NULL|                           NULL|                     NULL|                          NULL|                         NULL|                      NULL|                     NULL|                          NULL|                         NULL|                      NULL|                     NULL|                          NULL|                         NULL|                       NULL|                            NULL|                           NULL|         NULL|                        NULL|              https://www.modah...|           https://www.modah...|                   5|\n",
            "|        2016|       AK|   21989|                          HIOS|         4|2015-08-22 15:09:32|                 3|         21989|                 AK|          Individual|          Yes|93-0438772|21989AK0050002|Delta Dental PPO ...|21989AK005|     NULL|    AKN002|    AKS002|            NULL|             New|                         PPO|                           High|                       NULL|               Both|                                                        NULL|                  NULL|                NULL|           NULL|                  NULL|                              No|  Allows Adult and ...|                                   NULL|            NULL|             NULL|              NULL|              $38.00|                Guaranteed Rate|                    NULL|                                  0|              0|                      0|       2016-01-01|                NULL|                      No|                NULL|                 Yes|        National Network|                             Yes|                                   NULL|                  NULL|   21989AK0050002-00| Standard High Off...|                  83.40%|                   NULL|                     NULL|               NULL|                         No|                      100%|                        NULL|                  NULL|                             NULL|                            NULL|                              NULL|                        NULL|                           NULL|                         NULL|                                          NULL|                                                    $350|           $350 per person|                 $700 per group|                          NULL|                      NULL|                           NULL|                Not Applicable|      per person not ap...|           per group not app...|                Not Applicable|        per person not ap...|             per group not app...|                            NULL|                      NULL|                           NULL|                          NULL|                      NULL|                           NULL|                          NULL|                      NULL|                           NULL|                          NULL|                        NULL|                             NULL|                            NULL|                      NULL|                           NULL|                          NULL|                      NULL|                           NULL|                          NULL|                      NULL|                           NULL|                          NULL|                        NULL|                             NULL|                  Not Applicable|     per person not ap...|          per group not app...|                         NULL|                      NULL|                     NULL|                          NULL|                         NULL|            Not Applicable|     per person not ap...|          per group not app...|                           $0|              $0 per person|                    $0 per group|                           NULL|                     NULL|                          NULL|                         NULL|                      NULL|                     NULL|                          NULL|                         NULL|                      NULL|                     NULL|                          NULL|                         NULL|                       NULL|                            NULL|                           NULL|                     NULL|                          NULL|                         NULL|                      NULL|                     NULL|                          NULL|                         NULL|                      NULL|                     NULL|                          NULL|                         NULL|                       NULL|                            NULL|                           NULL|         NULL|                        NULL|              https://www.modah...|           https://www.modah...|                   4|\n",
            "|        2016|       AK|   21989|                          HIOS|         4|2015-08-22 15:09:32|                 3|         21989|                 AK|  SHOP (Small Group)|          Yes|93-0438772|21989AK0090001|Delta Dental Prem...|21989AK009|     NULL|    AKN001|    AKS001|            NULL|             New|                   Indemnity|                           High|                       NULL|    On the Exchange|                                                        NULL|                  NULL|                NULL|           NULL|                  NULL|                              No|  Allows Adult and ...|                                   NULL|            NULL|             NULL|              NULL|              $49.42|                Guaranteed Rate|                    NULL|                                  0|              0|                      0|       2016-01-01|                NULL|                      No|                NULL|                 Yes|        National Network|                             Yes|                                   NULL|                  NULL|   21989AK0090001-01| Standard High On ...|                  86.30%|                   NULL|                     NULL|               NULL|                         No|                      100%|                        NULL|                  NULL|                             NULL|                            NULL|                              NULL|                        NULL|                           NULL|                         NULL|                                          NULL|                                          Not Applicable|      per person not ap...|           per group not app...|                          NULL|                      NULL|                           NULL|                Not Applicable|      per person not ap...|           per group not app...|                          $350|             $350 per person|                   $700 per group|                            NULL|                      NULL|                           NULL|                          NULL|                      NULL|                           NULL|                          NULL|                      NULL|                           NULL|                          NULL|                        NULL|                             NULL|                            NULL|                      NULL|                           NULL|                          NULL|                      NULL|                           NULL|                          NULL|                      NULL|                           NULL|                          NULL|                        NULL|                             NULL|                  Not Applicable|     per person not ap...|          per group not app...|                         NULL|                      NULL|                     NULL|                          NULL|                         NULL|            Not Applicable|     per person not ap...|          per group not app...|                          $50|             $50 per person|                  $150 per group|                           NULL|                     NULL|                          NULL|                         NULL|                      NULL|                     NULL|                          NULL|                         NULL|                      NULL|                     NULL|                          NULL|                         NULL|                       NULL|                            NULL|                           NULL|                     NULL|                          NULL|                         NULL|                      NULL|                     NULL|                          NULL|                         NULL|                      NULL|                     NULL|                          NULL|                         NULL|                       NULL|                            NULL|                           NULL|         NULL|                        NULL|              https://www.modah...|           https://www.modah...|                   4|\n",
            "|        2016|       AK|   21989|                          HIOS|         4|2015-08-22 15:09:32|                 3|         21989|                 AK|          Individual|          Yes|93-0438772|21989AK0050002|Delta Dental PPO ...|21989AK005|     NULL|    AKN002|    AKS002|            NULL|             New|                         PPO|                           High|                       NULL|               Both|                                                        NULL|                  NULL|                NULL|           NULL|                  NULL|                              No|  Allows Adult and ...|                                   NULL|            NULL|             NULL|              NULL|              $38.00|                Guaranteed Rate|                    NULL|                                  0|              0|                      0|       2016-01-01|                NULL|                      No|                NULL|                 Yes|        National Network|                             Yes|                                   NULL|                  NULL|   21989AK0050002-01| Standard High On ...|                  83.40%|                   NULL|                     NULL|               NULL|                         No|                      100%|                        NULL|                  NULL|                             NULL|                            NULL|                              NULL|                        NULL|                           NULL|                         NULL|                                          NULL|                                                    $350|           $350 per person|                 $700 per group|                          NULL|                      NULL|                           NULL|                Not Applicable|      per person not ap...|           per group not app...|                Not Applicable|        per person not ap...|             per group not app...|                            NULL|                      NULL|                           NULL|                          NULL|                      NULL|                           NULL|                          NULL|                      NULL|                           NULL|                          NULL|                        NULL|                             NULL|                            NULL|                      NULL|                           NULL|                          NULL|                      NULL|                           NULL|                          NULL|                      NULL|                           NULL|                          NULL|                        NULL|                             NULL|                  Not Applicable|     per person not ap...|          per group not app...|                         NULL|                      NULL|                     NULL|                          NULL|                         NULL|            Not Applicable|     per person not ap...|          per group not app...|                           $0|              $0 per person|                    $0 per group|                           NULL|                     NULL|                          NULL|                         NULL|                      NULL|                     NULL|                          NULL|                         NULL|                      NULL|                     NULL|                          NULL|                         NULL|                       NULL|                            NULL|                           NULL|                     NULL|                          NULL|                         NULL|                      NULL|                     NULL|                          NULL|                         NULL|                      NULL|                     NULL|                          NULL|                         NULL|                       NULL|                            NULL|                           NULL|         NULL|                        NULL|              https://www.modah...|           https://www.modah...|                   5|\n",
            "|        2016|       AK|   21989|                          HIOS|         4|2015-08-22 15:09:32|                 4|         21989|                 AK|          Individual|          Yes|93-0438772|21989AK0070001|Delta Dental Prem...|21989AK007|     NULL|    AKN001|    AKS001|            NULL|             New|                   Indemnity|                            Low|                       NULL|   Off the Exchange|                                                        NULL|                  NULL|                NULL|           NULL|                  NULL|                              No|  Allows Adult and ...|                                   NULL|            NULL|             NULL|              NULL|              $43.00|                Guaranteed Rate|                    NULL|                                  0|              0|                      0|       2016-01-01|                NULL|                      No|                NULL|                 Yes|        National Network|                             Yes|                                   NULL|                  NULL|   21989AK0070001-00| Standard Low Off ...|                  70.70%|                   NULL|                     NULL|               NULL|                         No|                      100%|                        NULL|                  NULL|                             NULL|                            NULL|                              NULL|                        NULL|                           NULL|                         NULL|                                          NULL|                                          Not Applicable|      per person not ap...|           per group not app...|                          NULL|                      NULL|                           NULL|                Not Applicable|      per person not ap...|           per group not app...|                          $350|             $350 per person|                   $700 per group|                            NULL|                      NULL|                           NULL|                          NULL|                      NULL|                           NULL|                          NULL|                      NULL|                           NULL|                          NULL|                        NULL|                             NULL|                            NULL|                      NULL|                           NULL|                          NULL|                      NULL|                           NULL|                          NULL|                      NULL|                           NULL|                          NULL|                        NULL|                             NULL|                  Not Applicable|     per person not ap...|          per group not app...|                         NULL|                      NULL|                     NULL|                          NULL|                         NULL|            Not Applicable|     per person not ap...|          per group not app...|                           $0|              $0 per person|                    $0 per group|                           NULL|                     NULL|                          NULL|                         NULL|                      NULL|                     NULL|                          NULL|                         NULL|                      NULL|                     NULL|                          NULL|                         NULL|                       NULL|                            NULL|                           NULL|                     NULL|                          NULL|                         NULL|                      NULL|                     NULL|                          NULL|                         NULL|                      NULL|                     NULL|                          NULL|                         NULL|                       NULL|                            NULL|                           NULL|         NULL|                        NULL|              https://www.modah...|           https://www.modah...|                   4|\n",
            "|        2016|       AK|   21989|                          HIOS|         4|2015-08-22 15:09:32|                 4|         21989|                 AK|  SHOP (Small Group)|          Yes|93-0438772|21989AK0090002|Delta Dental Prem...|21989AK009|     NULL|    AKN001|    AKS001|            NULL|             New|                   Indemnity|                           High|                       NULL|    On the Exchange|                                                        NULL|                  NULL|                NULL|           NULL|                  NULL|                              No|  Allows Adult and ...|                                   NULL|            NULL|             NULL|              NULL|              $49.42|                Guaranteed Rate|                    NULL|                                  0|              0|                      0|       2016-01-01|                NULL|                      No|                NULL|                 Yes|        National Network|                             Yes|                                   NULL|                  NULL|   21989AK0090002-01| Standard High On ...|                  86.30%|                   NULL|                     NULL|               NULL|                         No|                      100%|                        NULL|                  NULL|                             NULL|                            NULL|                              NULL|                        NULL|                           NULL|                         NULL|                                          NULL|                                          Not Applicable|      per person not ap...|           per group not app...|                          NULL|                      NULL|                           NULL|                Not Applicable|      per person not ap...|           per group not app...|                          $350|             $350 per person|                   $700 per group|                            NULL|                      NULL|                           NULL|                          NULL|                      NULL|                           NULL|                          NULL|                      NULL|                           NULL|                          NULL|                        NULL|                             NULL|                            NULL|                      NULL|                           NULL|                          NULL|                      NULL|                           NULL|                          NULL|                      NULL|                           NULL|                          NULL|                        NULL|                             NULL|                  Not Applicable|     per person not ap...|          per group not app...|                         NULL|                      NULL|                     NULL|                          NULL|                         NULL|            Not Applicable|     per person not ap...|          per group not app...|                          $50|             $50 per person|                  $150 per group|                           NULL|                     NULL|                          NULL|                         NULL|                      NULL|                     NULL|                          NULL|                         NULL|                      NULL|                     NULL|                          NULL|                         NULL|                       NULL|                            NULL|                           NULL|                     NULL|                          NULL|                         NULL|                      NULL|                     NULL|                          NULL|                         NULL|                      NULL|                     NULL|                          NULL|                         NULL|                       NULL|                            NULL|                           NULL|         NULL|                        NULL|              https://www.modah...|           https://www.modah...|                   4|\n",
            "|        2016|       AK|   21989|                          HIOS|         4|2015-08-22 15:09:32|                 5|         21989|                 AK|  SHOP (Small Group)|          Yes|93-0438772|21989AK0100001|Delta Dental PPO ...|21989AK010|     NULL|    AKN002|    AKS002|            NULL|             New|                         PPO|                           High|                       NULL|   Off the Exchange|                                                        NULL|                  NULL|                NULL|           NULL|                  NULL|                              No|  Allows Adult and ...|                                   NULL|            NULL|             NULL|              NULL|              $34.94|                 Estimated Rate|                    NULL|                                  0|              0|                      0|       2016-01-01|                NULL|                      No|                NULL|                 Yes|        National Network|                             Yes|                                   NULL|                  NULL|   21989AK0100001-00| Standard High Off...|                  86.30%|                   NULL|                     NULL|               NULL|                         No|                      100%|                        NULL|                  NULL|                             NULL|                            NULL|                              NULL|                        NULL|                           NULL|                         NULL|                                          NULL|                                                    $350|           $350 per person|                 $700 per group|                          NULL|                      NULL|                           NULL|                Not Applicable|      per person not ap...|           per group not app...|                Not Applicable|        per person not ap...|             per group not app...|                            NULL|                      NULL|                           NULL|                          NULL|                      NULL|                           NULL|                          NULL|                      NULL|                           NULL|                          NULL|                        NULL|                             NULL|                            NULL|                      NULL|                           NULL|                          NULL|                      NULL|                           NULL|                          NULL|                      NULL|                           NULL|                          NULL|                        NULL|                             NULL|                  Not Applicable|     per person not ap...|          per group not app...|                         NULL|                      NULL|                     NULL|                          NULL|                         NULL|            Not Applicable|     per person not ap...|          per group not app...|                          $50|             $50 per person|                  $150 per group|                           NULL|                     NULL|                          NULL|                         NULL|                      NULL|                     NULL|                          NULL|                         NULL|                      NULL|                     NULL|                          NULL|                         NULL|                       NULL|                            NULL|                           NULL|                     NULL|                          NULL|                         NULL|                      NULL|                     NULL|                          NULL|                         NULL|                      NULL|                     NULL|                          NULL|                         NULL|                       NULL|                            NULL|                           NULL|         NULL|                        NULL|              https://www.modah...|           https://www.modah...|                   4|\n",
            "|        2016|       AK|   21989|                          HIOS|         4|2015-08-22 15:09:32|                 6|         21989|                 AK|  SHOP (Small Group)|          Yes|93-0438772|21989AK0100002|Delta Dental PPO ...|21989AK010|     NULL|    AKN002|    AKS002|            NULL|             New|                         PPO|                           High|                       NULL|   Off the Exchange|                                                        NULL|                  NULL|                NULL|           NULL|                  NULL|                              No|  Allows Adult and ...|                                   NULL|            NULL|             NULL|              NULL|              $34.94|                 Estimated Rate|                    NULL|                                  0|              0|                      0|       2016-01-01|                NULL|                      No|                NULL|                 Yes|        National Network|                             Yes|                                   NULL|                  NULL|   21989AK0100002-00| Standard High Off...|                  86.30%|                   NULL|                     NULL|               NULL|                         No|                      100%|                        NULL|                  NULL|                             NULL|                            NULL|                              NULL|                        NULL|                           NULL|                         NULL|                                          NULL|                                                    $350|           $350 per person|                 $700 per group|                          NULL|                      NULL|                           NULL|                Not Applicable|      per person not ap...|           per group not app...|                Not Applicable|        per person not ap...|             per group not app...|                            NULL|                      NULL|                           NULL|                          NULL|                      NULL|                           NULL|                          NULL|                      NULL|                           NULL|                          NULL|                        NULL|                             NULL|                            NULL|                      NULL|                           NULL|                          NULL|                      NULL|                           NULL|                          NULL|                      NULL|                           NULL|                          NULL|                        NULL|                             NULL|                  Not Applicable|     per person not ap...|          per group not app...|                         NULL|                      NULL|                     NULL|                          NULL|                         NULL|            Not Applicable|     per person not ap...|          per group not app...|                          $50|             $50 per person|                  $150 per group|                           NULL|                     NULL|                          NULL|                         NULL|                      NULL|                     NULL|                          NULL|                         NULL|                      NULL|                     NULL|                          NULL|                         NULL|                       NULL|                            NULL|                           NULL|                     NULL|                          NULL|                         NULL|                      NULL|                     NULL|                          NULL|                         NULL|                      NULL|                     NULL|                          NULL|                         NULL|                       NULL|                            NULL|                           NULL|         NULL|                        NULL|              https://www.modah...|           https://www.modah...|                   4|\n",
            "|        2016|       AK|   21989|                          HIOS|         4|2015-08-22 15:09:32|                 7|         21989|                 AK|  SHOP (Small Group)|          Yes|93-0438772|21989AK0110001|Delta Dental Prem...|21989AK011|     NULL|    AKN001|    AKS001|            NULL|             New|                   Indemnity|                           High|                       NULL|   Off the Exchange|                                                        NULL|                  NULL|                NULL|           NULL|                  NULL|                              No|     Allows Child-Only|                                   NULL|            NULL|             NULL|              NULL|              $49.42|                 Estimated Rate|                    NULL|                                  0|              0|                      0|       2016-01-01|                NULL|                      No|                NULL|                 Yes|        National Network|                             Yes|                                   NULL|                  NULL|   21989AK0110001-00| Standard High Off...|                  86.30%|                   NULL|                     NULL|               NULL|                         No|                      100%|                        NULL|                  NULL|                             NULL|                            NULL|                              NULL|                        NULL|                           NULL|                         NULL|                                          NULL|                                          Not Applicable|      per person not ap...|           per group not app...|                          NULL|                      NULL|                           NULL|                Not Applicable|      per person not ap...|           per group not app...|                          $350|             $350 per person|                   $700 per group|                            NULL|                      NULL|                           NULL|                          NULL|                      NULL|                           NULL|                          NULL|                      NULL|                           NULL|                          NULL|                        NULL|                             NULL|                            NULL|                      NULL|                           NULL|                          NULL|                      NULL|                           NULL|                          NULL|                      NULL|                           NULL|                          NULL|                        NULL|                             NULL|                  Not Applicable|     per person not ap...|          per group not app...|                         NULL|                      NULL|                     NULL|                          NULL|                         NULL|            Not Applicable|     per person not ap...|          per group not app...|                          $50|             $50 per person|                  $150 per group|                           NULL|                     NULL|                          NULL|                         NULL|                      NULL|                     NULL|                          NULL|                         NULL|                      NULL|                     NULL|                          NULL|                         NULL|                       NULL|                            NULL|                           NULL|                     NULL|                          NULL|                         NULL|                      NULL|                     NULL|                          NULL|                         NULL|                      NULL|                     NULL|                          NULL|                         NULL|                       NULL|                            NULL|                           NULL|         NULL|                        NULL|              https://www.modah...|           https://www.modah...|                   4|\n",
            "|        2016|       AK|   21989|                          HIOS|         4|2015-08-22 15:09:32|                 8|         21989|                 AK|  SHOP (Small Group)|          Yes|93-0438772|21989AK0120001|Delta Dental PPO ...|21989AK012|     NULL|    AKN002|    AKS002|            NULL|             New|                         PPO|                           High|                       NULL|   Off the Exchange|                                                        NULL|                  NULL|                NULL|           NULL|                  NULL|                              No|     Allows Child-Only|                                   NULL|            NULL|             NULL|              NULL|              $34.94|                 Estimated Rate|                    NULL|                                  0|              0|                      0|       2016-01-01|                NULL|                      No|                NULL|                 Yes|        National Network|                             Yes|                                   NULL|                  NULL|   21989AK0120001-00| Standard High Off...|                  86.30%|                   NULL|                     NULL|               NULL|                         No|                      100%|                        NULL|                  NULL|                             NULL|                            NULL|                              NULL|                        NULL|                           NULL|                         NULL|                                          NULL|                                                    $350|           $350 per person|                 $700 per group|                          NULL|                      NULL|                           NULL|                Not Applicable|      per person not ap...|           per group not app...|                Not Applicable|        per person not ap...|             per group not app...|                            NULL|                      NULL|                           NULL|                          NULL|                      NULL|                           NULL|                          NULL|                      NULL|                           NULL|                          NULL|                        NULL|                             NULL|                            NULL|                      NULL|                           NULL|                          NULL|                      NULL|                           NULL|                          NULL|                      NULL|                           NULL|                          NULL|                        NULL|                             NULL|                  Not Applicable|     per person not ap...|          per group not app...|                         NULL|                      NULL|                     NULL|                          NULL|                         NULL|            Not Applicable|     per person not ap...|          per group not app...|                          $50|             $50 per person|                  $150 per group|                           NULL|                     NULL|                          NULL|                         NULL|                      NULL|                     NULL|                          NULL|                         NULL|                      NULL|                     NULL|                          NULL|                         NULL|                       NULL|                            NULL|                           NULL|                     NULL|                          NULL|                         NULL|                      NULL|                     NULL|                          NULL|                         NULL|                      NULL|                     NULL|                          NULL|                         NULL|                       NULL|                            NULL|                           NULL|         NULL|                        NULL|                              NULL|                           NULL|                   4|\n",
            "|        2022|       AK|   21989|          Delta Dental of A...|      HIOS|    8/19/2021 15:35|        Individual|           Yes|     21989AK0030001|Delta Dental Prem...|   21989AK003|    AKN001|        AKS001|                NULL|  Existing|Indemnity|       Low|      NULL|            Both|            NULL|                        NULL|                           NULL|                       NULL|               NULL|                                                          No|  Allows Adult and ...|                NULL|           NULL|                  NULL|                            NULL|                     1|                        Guaranteed Rate|        1/1/2022|       12/31/2022|               Yes|providers treated...|                            Yes|        national network|                                Yes|               |                   NULL|21989AK0030001-00|Delta Dental Prem...|    Standard Low Off ...|                NULL|                NULL|                    NULL|                            NULL|                                     No|                  100%|                NULL|                 NULL|                    NULL|                   NULL|                     NULL|               NULL|                       NULL|                      NULL|                        NULL|                  NULL|                             NULL|                            NULL|                              NULL|                        NULL|                              0|                            0|                                             0|                                          Not Applicable|      per person not ap...|           per group not app...|                          NULL|                      NULL|                           NULL|                Not Applicable|      per person not ap...|           per group not app...|                         $375 |             $375 per person|                   $750 per group|                            NULL|                      NULL|                           NULL|                          NULL|                      NULL|                           NULL|                          NULL|                      NULL|                           NULL|                          NULL|                        NULL|                             NULL|                            NULL|                      NULL|                           NULL|                          NULL|                      NULL|                           NULL|                          NULL|                      NULL|                           NULL|                          NULL|                        NULL|                             NULL|                  Not Applicable|     per person not ap...|          per group not app...|                         NULL|                      NULL|                     NULL|                          NULL|                         NULL|            Not Applicable|     per person not ap...|          per group not app...|                          $0 |              $0 per person|                    $0 per group|                           NULL|                     NULL|                          NULL|                         NULL|                      NULL|                     NULL|                          NULL|                         NULL|                      NULL|                     NULL|                          NULL|                         NULL|                       NULL|                            NULL|                           NULL|                     NULL|                          NULL|                         NULL|                      NULL|                     NULL|                          NULL|                         NULL|                      NULL|                     NULL|                          NULL|                         NULL|                       NULL|                            NULL|                           NULL|         NULL|                        NULL|                                  |           https://www.delta...|                NULL|\n",
            "|        2022|       AK|   21989|          Delta Dental of A...|      HIOS|    8/19/2021 15:35|        Individual|           Yes|     21989AK0030001|Delta Dental Prem...|   21989AK003|    AKN001|        AKS001|                NULL|  Existing|Indemnity|       Low|      NULL|            Both|            NULL|                        NULL|                           NULL|                       NULL|               NULL|                                                          No|  Allows Adult and ...|                NULL|           NULL|                  NULL|                            NULL|                     1|                        Guaranteed Rate|        1/1/2022|       12/31/2022|               Yes|providers treated...|                            Yes|        national network|                                Yes|               |                   NULL|21989AK0030001-01|Delta Dental Prem...|    Standard Low On E...|                NULL|                NULL|                    NULL|                            NULL|                                     No|                  100%|                NULL|                 NULL|                    NULL|                   NULL|                     NULL|               NULL|                       NULL|                      NULL|                        NULL|                  NULL|                             NULL|                            NULL|                              NULL|                        NULL|                              0|                            0|                                             0|                                          Not Applicable|      per person not ap...|           per group not app...|                          NULL|                      NULL|                           NULL|                Not Applicable|      per person not ap...|           per group not app...|                         $375 |             $375 per person|                   $750 per group|                            NULL|                      NULL|                           NULL|                          NULL|                      NULL|                           NULL|                          NULL|                      NULL|                           NULL|                          NULL|                        NULL|                             NULL|                            NULL|                      NULL|                           NULL|                          NULL|                      NULL|                           NULL|                          NULL|                      NULL|                           NULL|                          NULL|                        NULL|                             NULL|                  Not Applicable|     per person not ap...|          per group not app...|                         NULL|                      NULL|                     NULL|                          NULL|                         NULL|            Not Applicable|     per person not ap...|          per group not app...|                          $0 |              $0 per person|                    $0 per group|                           NULL|                     NULL|                          NULL|                         NULL|                      NULL|                     NULL|                          NULL|                         NULL|                      NULL|                     NULL|                          NULL|                         NULL|                       NULL|                            NULL|                           NULL|                     NULL|                          NULL|                         NULL|                      NULL|                     NULL|                          NULL|                         NULL|                      NULL|                     NULL|                          NULL|                         NULL|                       NULL|                            NULL|                           NULL|         NULL|                        NULL|                                  |           https://www.delta...|                NULL|\n",
            "|        2022|       AK|   21989|          Delta Dental of A...|      HIOS|    8/19/2021 15:35|        Individual|           Yes|     21989AK0050001|Delta Dental PPO ...|   21989AK005|    AKN002|        AKS002|                NULL|  Existing|      PPO|      High|      NULL|            Both|            NULL|                        NULL|                           NULL|                       NULL|               NULL|                                                          No|  Allows Adult and ...|                NULL|           NULL|                  NULL|                            NULL|                     1|                        Guaranteed Rate|        1/1/2022|       12/31/2022|               Yes|providers treated...|                            Yes|        national network|                                Yes|               |                   NULL|21989AK0050001-00|Delta Dental PPO ...|    Standard High Off...|                NULL|                NULL|                    NULL|                            NULL|                                     No|                  100%|                NULL|                 NULL|                    NULL|                   NULL|                     NULL|               NULL|                       NULL|                      NULL|                        NULL|                  NULL|                             NULL|                            NULL|                              NULL|                        NULL|                              0|                            0|                                             0|                                                   $375 |           $375 per person|                 $750 per group|                          NULL|                      NULL|                           NULL|                Not Applicable|      per person not ap...|           per group not app...|                Not Applicable|        per person not ap...|             per group not app...|                            NULL|                      NULL|                           NULL|                          NULL|                      NULL|                           NULL|                          NULL|                      NULL|                           NULL|                          NULL|                        NULL|                             NULL|                            NULL|                      NULL|                           NULL|                          NULL|                      NULL|                           NULL|                          NULL|                      NULL|                           NULL|                          NULL|                        NULL|                             NULL|                  Not Applicable|     per person not ap...|          per group not app...|                         NULL|                      NULL|                     NULL|                          NULL|                         NULL|            Not Applicable|     per person not ap...|          per group not app...|                          $0 |              $0 per person|                    $0 per group|                           NULL|                     NULL|                          NULL|                         NULL|                      NULL|                     NULL|                          NULL|                         NULL|                      NULL|                     NULL|                          NULL|                         NULL|                       NULL|                            NULL|                           NULL|                     NULL|                          NULL|                         NULL|                      NULL|                     NULL|                          NULL|                         NULL|                      NULL|                     NULL|                          NULL|                         NULL|                       NULL|                            NULL|                           NULL|         NULL|                        NULL|                                  |           https://www.delta...|                NULL|\n",
            "|        2022|       AK|   21989|          Delta Dental of A...|      HIOS|    8/19/2021 15:35|        Individual|           Yes|     21989AK0050001|Delta Dental PPO ...|   21989AK005|    AKN002|        AKS002|                NULL|  Existing|      PPO|      High|      NULL|            Both|            NULL|                        NULL|                           NULL|                       NULL|               NULL|                                                          No|  Allows Adult and ...|                NULL|           NULL|                  NULL|                            NULL|                     1|                        Guaranteed Rate|        1/1/2022|       12/31/2022|               Yes|providers treated...|                            Yes|        national network|                                Yes|               |                   NULL|21989AK0050001-01|Delta Dental PPO ...|    Standard High On ...|                NULL|                NULL|                    NULL|                            NULL|                                     No|                  100%|                NULL|                 NULL|                    NULL|                   NULL|                     NULL|               NULL|                       NULL|                      NULL|                        NULL|                  NULL|                             NULL|                            NULL|                              NULL|                        NULL|                              0|                            0|                                             0|                                                   $375 |           $375 per person|                 $750 per group|                          NULL|                      NULL|                           NULL|                Not Applicable|      per person not ap...|           per group not app...|                Not Applicable|        per person not ap...|             per group not app...|                            NULL|                      NULL|                           NULL|                          NULL|                      NULL|                           NULL|                          NULL|                      NULL|                           NULL|                          NULL|                        NULL|                             NULL|                            NULL|                      NULL|                           NULL|                          NULL|                      NULL|                           NULL|                          NULL|                      NULL|                           NULL|                          NULL|                        NULL|                             NULL|                  Not Applicable|     per person not ap...|          per group not app...|                         NULL|                      NULL|                     NULL|                          NULL|                         NULL|            Not Applicable|     per person not ap...|          per group not app...|                          $0 |              $0 per person|                    $0 per group|                           NULL|                     NULL|                          NULL|                         NULL|                      NULL|                     NULL|                          NULL|                         NULL|                      NULL|                     NULL|                          NULL|                         NULL|                       NULL|                            NULL|                           NULL|                     NULL|                          NULL|                         NULL|                      NULL|                     NULL|                          NULL|                         NULL|                      NULL|                     NULL|                          NULL|                         NULL|                       NULL|                            NULL|                           NULL|         NULL|                        NULL|                                  |           https://www.delta...|                NULL|\n",
            "|        2022|       AK|   21989|          Delta Dental of A...|      HIOS|    8/19/2021 15:35|        Individual|           Yes|     21989AK0050002|Delta Dental PPO ...|   21989AK005|    AKN002|        AKS002|                NULL|  Existing|      PPO|      High|      NULL|            Both|            NULL|                        NULL|                           NULL|                       NULL|               NULL|                                                          No|  Allows Adult and ...|                NULL|           NULL|                  NULL|                            NULL|                     1|                        Guaranteed Rate|        1/1/2022|       12/31/2022|               Yes|providers treated...|                            Yes|         National Netwok|                                Yes|               |                   NULL|21989AK0050002-00|Delta Dental PPO ...|    Standard High Off...|                NULL|                NULL|                    NULL|                            NULL|                                     No|                  100%|                NULL|                 NULL|                    NULL|                   NULL|                     NULL|               NULL|                       NULL|                      NULL|                        NULL|                  NULL|                             NULL|                            NULL|                              NULL|                        NULL|                              0|                            0|                                             0|                                                   $375 |           $375 per person|                 $750 per group|                          NULL|                      NULL|                           NULL|                Not Applicable|      per person not ap...|           per group not app...|                Not Applicable|        per person not ap...|             per group not app...|                            NULL|                      NULL|                           NULL|                          NULL|                      NULL|                           NULL|                          NULL|                      NULL|                           NULL|                          NULL|                        NULL|                             NULL|                            NULL|                      NULL|                           NULL|                          NULL|                      NULL|                           NULL|                          NULL|                      NULL|                           NULL|                          NULL|                        NULL|                             NULL|                  Not Applicable|     per person not ap...|          per group not app...|                         NULL|                      NULL|                     NULL|                          NULL|                         NULL|            Not Applicable|     per person not ap...|          per group not app...|                          $0 |              $0 per person|                    $0 per group|                           NULL|                     NULL|                          NULL|                         NULL|                      NULL|                     NULL|                          NULL|                         NULL|                      NULL|                     NULL|                          NULL|                         NULL|                       NULL|                            NULL|                           NULL|                     NULL|                          NULL|                         NULL|                      NULL|                     NULL|                          NULL|                         NULL|                      NULL|                     NULL|                          NULL|                         NULL|                       NULL|                            NULL|                           NULL|         NULL|                        NULL|                                  |           https://www.delta...|                NULL|\n",
            "|        2022|       AK|   21989|          Delta Dental of A...|      HIOS|    8/19/2021 15:35|        Individual|           Yes|     21989AK0050002|Delta Dental PPO ...|   21989AK005|    AKN002|        AKS002|                NULL|  Existing|      PPO|      High|      NULL|            Both|            NULL|                        NULL|                           NULL|                       NULL|               NULL|                                                          No|  Allows Adult and ...|                NULL|           NULL|                  NULL|                            NULL|                     1|                        Guaranteed Rate|        1/1/2022|       12/31/2022|               Yes|providers treated...|                            Yes|         National Netwok|                                Yes|               |                   NULL|21989AK0050002-01|Delta Dental PPO ...|    Standard High On ...|                NULL|                NULL|                    NULL|                            NULL|                                     No|                  100%|                NULL|                 NULL|                    NULL|                   NULL|                     NULL|               NULL|                       NULL|                      NULL|                        NULL|                  NULL|                             NULL|                            NULL|                              NULL|                        NULL|                              0|                            0|                                             0|                                                   $375 |           $375 per person|                 $750 per group|                          NULL|                      NULL|                           NULL|                Not Applicable|      per person not ap...|           per group not app...|                Not Applicable|        per person not ap...|             per group not app...|                            NULL|                      NULL|                           NULL|                          NULL|                      NULL|                           NULL|                          NULL|                      NULL|                           NULL|                          NULL|                        NULL|                             NULL|                            NULL|                      NULL|                           NULL|                          NULL|                      NULL|                           NULL|                          NULL|                      NULL|                           NULL|                          NULL|                        NULL|                             NULL|                  Not Applicable|     per person not ap...|          per group not app...|                         NULL|                      NULL|                     NULL|                          NULL|                         NULL|            Not Applicable|     per person not ap...|          per group not app...|                          $0 |              $0 per person|                    $0 per group|                           NULL|                     NULL|                          NULL|                         NULL|                      NULL|                     NULL|                          NULL|                         NULL|                      NULL|                     NULL|                          NULL|                         NULL|                       NULL|                            NULL|                           NULL|                     NULL|                          NULL|                         NULL|                      NULL|                     NULL|                          NULL|                         NULL|                      NULL|                     NULL|                          NULL|                         NULL|                       NULL|                            NULL|                           NULL|         NULL|                        NULL|                                  |           https://www.delta...|                NULL|\n",
            "+------------+---------+--------+------------------------------+----------+-------------------+------------------+--------------+-------------------+--------------------+-------------+----------+--------------+--------------------+----------+---------+----------+----------+----------------+----------------+----------------------------+-------------------------------+---------------------------+-------------------+------------------------------------------------------------+----------------------+--------------------+---------------+----------------------+--------------------------------+----------------------+---------------------------------------+----------------+-----------------+------------------+--------------------+-------------------------------+------------------------+-----------------------------------+---------------+-----------------------+-----------------+--------------------+------------------------+--------------------+--------------------+------------------------+--------------------------------+---------------------------------------+----------------------+--------------------+---------------------+------------------------+-----------------------+-------------------------+-------------------+---------------------------+--------------------------+----------------------------+----------------------+---------------------------------+--------------------------------+----------------------------------+----------------------------+-------------------------------+-----------------------------+----------------------------------------------+--------------------------------------------------------+--------------------------+-------------------------------+------------------------------+--------------------------+-------------------------------+------------------------------+--------------------------+-------------------------------+------------------------------+----------------------------+---------------------------------+--------------------------------+--------------------------+-------------------------------+------------------------------+--------------------------+-------------------------------+------------------------------+--------------------------+-------------------------------+------------------------------+----------------------------+---------------------------------+--------------------------------+--------------------------+-------------------------------+------------------------------+--------------------------+-------------------------------+------------------------------+--------------------------+-------------------------------+------------------------------+----------------------------+---------------------------------+--------------------------------+-------------------------+------------------------------+-----------------------------+--------------------------+-------------------------+------------------------------+-----------------------------+--------------------------+-------------------------+------------------------------+-----------------------------+---------------------------+--------------------------------+-------------------------------+-------------------------+------------------------------+-----------------------------+--------------------------+-------------------------+------------------------------+-----------------------------+--------------------------+-------------------------+------------------------------+-----------------------------+---------------------------+--------------------------------+-------------------------------+-------------------------+------------------------------+-----------------------------+--------------------------+-------------------------+------------------------------+-----------------------------+--------------------------+-------------------------+------------------------------+-----------------------------+---------------------------+--------------------------------+-------------------------------+-------------+----------------------------+----------------------------------+-------------------------------+--------------------+\n",
            "only showing top 50 rows\n",
            "\n"
          ]
        }
      ]
    },
    {
      "cell_type": "code",
      "source": [
        "df_plan_raw.filter(df_plan_raw.IssuerId == \"38344\").show(5)\n",
        "\n"
      ],
      "metadata": {
        "colab": {
          "base_uri": "https://localhost:8080/"
        },
        "id": "WQoic33KTwdw",
        "outputId": "2dd24247-0264-4d48-e0ff-6aaeef705a91"
      },
      "execution_count": 14,
      "outputs": [
        {
          "output_type": "stream",
          "name": "stdout",
          "text": [
            "+------------+---------+--------+------------------------------+----------+---------------+--------------+--------------+-------------------+--------------------+-------------+---------+-------------+-----------+---------+--------+----------+--------------+----------------+---------------+----------------------------+-------------------------------+---------------------------+-------------------+------------------------------------------------------------+----------------------+--------------------+---------------+----------------------+--------------------------------+----------------------+---------------------------------------+----------------+-----------------+------------------+--------------------+-------------------------------+------------------------+-----------------------------------+---------------+-----------------------+--------------------+-----------------+------------------------+--------------------+--------------------+------------------------+--------------------------------+---------------------------------------+----------------------+--------------------+---------------------+------------------------+-----------------------+-------------------------+-------------------+---------------------------+--------------------------+----------------------------+----------------------+---------------------------------+--------------------------------+----------------------------------+----------------------------+-------------------------------+-----------------------------+----------------------------------------------+--------------------------------------------------------+--------------------------+-------------------------------+------------------------------+--------------------------+-------------------------------+------------------------------+--------------------------+-------------------------------+------------------------------+----------------------------+---------------------------------+--------------------------------+--------------------------+-------------------------------+------------------------------+--------------------------+-------------------------------+------------------------------+--------------------------+-------------------------------+------------------------------+----------------------------+---------------------------------+--------------------------------+--------------------------+-------------------------------+------------------------------+--------------------------+-------------------------------+------------------------------+--------------------------+-------------------------------+------------------------------+----------------------------+---------------------------------+--------------------------------+-------------------------+------------------------------+-----------------------------+--------------------------+-------------------------+------------------------------+-----------------------------+--------------------------+-------------------------+------------------------------+-----------------------------+---------------------------+--------------------------------+-------------------------------+-------------------------+------------------------------+-----------------------------+--------------------------+-------------------------+------------------------------+-----------------------------+--------------------------+-------------------------+------------------------------+-----------------------------+---------------------------+--------------------------------+-------------------------------+-------------------------+------------------------------+-----------------------------+--------------------------+-------------------------+------------------------------+-----------------------------+--------------------------+-------------------------+------------------------------+-----------------------------+---------------------------+--------------------------------+-------------------------------+-------------+----------------------------+----------------------------------+-------------------------------+--------------------+\n",
            "|BusinessYear|StateCode|IssuerId|IssuerMarketPlaceMarketingName|SourceName|     ImportDate|MarketCoverage|DentalOnlyPlan|StandardComponentId|   PlanMarketingName|HIOSProductId|NetworkId|ServiceAreaId|FormularyId|IsNewPlan|PlanType|MetalLevel|    DesignType|UniquePlanDesign|QHPNonQHPTypeId|IsNoticeRequiredForPregnancy|IsReferralRequiredForSpecialist|SpecialistRequiringReferral|PlanLevelExclusions|IndianPlanVariationEstimatedAdvancedPaymentAmountPerEnrollee|CompositeRatingOffered|   ChildOnlyOffering|ChildOnlyPlanId|WellnessProgramOffered|DiseaseManagementProgramsOffered|EHBPercentTotalPremium|EHBPediatricDentalApportionmentQuantity|IsGuaranteedRate|PlanEffectiveDate|PlanExpirationDate|OutOfCountryCoverage|OutOfCountryCoverageDescription|OutOfServiceAreaCoverage|OutOfServiceAreaCoverageDescription|NationalNetwork|URLForEnrollmentPayment|        FormularyURL|           PlanId|PlanVariantMarketingName|    CSRVariationType|IssuerActuarialValue|AVCalculatorOutputNumber|MedicalDrugDeductiblesIntegrated|MedicalDrugMaximumOutofPocketIntegrated|MultipleInNetworkTiers|FirstTierUtilization|SecondTierUtilization|SBCHavingaBabyDeductible|SBCHavingaBabyCopayment|SBCHavingaBabyCoinsurance|SBCHavingaBabyLimit|SBCHavingDiabetesDeductible|SBCHavingDiabetesCopayment|SBCHavingDiabetesCoinsurance|SBCHavingDiabetesLimit|SBCHavingSimplefractureDeductible|SBCHavingSimplefractureCopayment|SBCHavingSimplefractureCoinsurance|SBCHavingSimplefractureLimit|SpecialtyDrugMaximumCoinsurance|InpatientCopaymentMaximumDays|BeginPrimaryCareCostSharingAfterNumberOfVisits|BeginPrimaryCareDeductibleCoinsuranceAfterNumberOfCopays|MEHBInnTier1IndividualMOOP|MEHBInnTier1FamilyPerPersonMOOP|MEHBInnTier1FamilyPerGroupMOOP|MEHBInnTier2IndividualMOOP|MEHBInnTier2FamilyPerPersonMOOP|MEHBInnTier2FamilyPerGroupMOOP|MEHBOutOfNetIndividualMOOP|MEHBOutOfNetFamilyPerPersonMOOP|MEHBOutOfNetFamilyPerGroupMOOP|MEHBCombInnOonIndividualMOOP|MEHBCombInnOonFamilyPerPersonMOOP|MEHBCombInnOonFamilyPerGroupMOOP|DEHBInnTier1IndividualMOOP|DEHBInnTier1FamilyPerPersonMOOP|DEHBInnTier1FamilyPerGroupMOOP|DEHBInnTier2IndividualMOOP|DEHBInnTier2FamilyPerPersonMOOP|DEHBInnTier2FamilyPerGroupMOOP|DEHBOutOfNetIndividualMOOP|DEHBOutOfNetFamilyPerPersonMOOP|DEHBOutOfNetFamilyPerGroupMOOP|DEHBCombInnOonIndividualMOOP|DEHBCombInnOonFamilyPerPersonMOOP|DEHBCombInnOonFamilyPerGroupMOOP|TEHBInnTier1IndividualMOOP|TEHBInnTier1FamilyPerPersonMOOP|TEHBInnTier1FamilyPerGroupMOOP|TEHBInnTier2IndividualMOOP|TEHBInnTier2FamilyPerPersonMOOP|TEHBInnTier2FamilyPerGroupMOOP|TEHBOutOfNetIndividualMOOP|TEHBOutOfNetFamilyPerPersonMOOP|TEHBOutOfNetFamilyPerGroupMOOP|TEHBCombInnOonIndividualMOOP|TEHBCombInnOonFamilyPerPersonMOOP|TEHBCombInnOonFamilyPerGroupMOOP|MEHBDedInnTier1Individual|MEHBDedInnTier1FamilyPerPerson|MEHBDedInnTier1FamilyPerGroup|MEHBDedInnTier1Coinsurance|MEHBDedInnTier2Individual|MEHBDedInnTier2FamilyPerPerson|MEHBDedInnTier2FamilyPerGroup|MEHBDedInnTier2Coinsurance|MEHBDedOutOfNetIndividual|MEHBDedOutOfNetFamilyPerPerson|MEHBDedOutOfNetFamilyPerGroup|MEHBDedCombInnOonIndividual|MEHBDedCombInnOonFamilyPerPerson|MEHBDedCombInnOonFamilyPerGroup|DEHBDedInnTier1Individual|DEHBDedInnTier1FamilyPerPerson|DEHBDedInnTier1FamilyPerGroup|DEHBDedInnTier1Coinsurance|DEHBDedInnTier2Individual|DEHBDedInnTier2FamilyPerPerson|DEHBDedInnTier2FamilyPerGroup|DEHBDedInnTier2Coinsurance|DEHBDedOutOfNetIndividual|DEHBDedOutOfNetFamilyPerPerson|DEHBDedOutOfNetFamilyPerGroup|DEHBDedCombInnOonIndividual|DEHBDedCombInnOonFamilyPerPerson|DEHBDedCombInnOonFamilyPerGroup|TEHBDedInnTier1Individual|TEHBDedInnTier1FamilyPerPerson|TEHBDedInnTier1FamilyPerGroup|TEHBDedInnTier1Coinsurance|TEHBDedInnTier2Individual|TEHBDedInnTier2FamilyPerPerson|TEHBDedInnTier2FamilyPerGroup|TEHBDedInnTier2Coinsurance|TEHBDedOutOfNetIndividual|TEHBDedOutOfNetFamilyPerPerson|TEHBDedOutOfNetFamilyPerGroup|TEHBDedCombInnOonIndividual|TEHBDedCombInnOonFamilyPerPerson|TEHBDedCombInnOonFamilyPerGroup|IsHSAEligible|HSAOrHRAEmployerContribution|HSAOrHRAEmployerContributionAmount|URLForSummaryofBenefitsCoverage|        PlanBrochure|\n",
            "+------------+---------+--------+------------------------------+----------+---------------+--------------+--------------+-------------------+--------------------+-------------+---------+-------------+-----------+---------+--------+----------+--------------+----------------+---------------+----------------------------+-------------------------------+---------------------------+-------------------+------------------------------------------------------------+----------------------+--------------------+---------------+----------------------+--------------------------------+----------------------+---------------------------------------+----------------+-----------------+------------------+--------------------+-------------------------------+------------------------+-----------------------------------+---------------+-----------------------+--------------------+-----------------+------------------------+--------------------+--------------------+------------------------+--------------------------------+---------------------------------------+----------------------+--------------------+---------------------+------------------------+-----------------------+-------------------------+-------------------+---------------------------+--------------------------+----------------------------+----------------------+---------------------------------+--------------------------------+----------------------------------+----------------------------+-------------------------------+-----------------------------+----------------------------------------------+--------------------------------------------------------+--------------------------+-------------------------------+------------------------------+--------------------------+-------------------------------+------------------------------+--------------------------+-------------------------------+------------------------------+----------------------------+---------------------------------+--------------------------------+--------------------------+-------------------------------+------------------------------+--------------------------+-------------------------------+------------------------------+--------------------------+-------------------------------+------------------------------+----------------------------+---------------------------------+--------------------------------+--------------------------+-------------------------------+------------------------------+--------------------------+-------------------------------+------------------------------+--------------------------+-------------------------------+------------------------------+----------------------------+---------------------------------+--------------------------------+-------------------------+------------------------------+-----------------------------+--------------------------+-------------------------+------------------------------+-----------------------------+--------------------------+-------------------------+------------------------------+-----------------------------+---------------------------+--------------------------------+-------------------------------+-------------------------+------------------------------+-----------------------------+--------------------------+-------------------------+------------------------------+-----------------------------+--------------------------+-------------------------+------------------------------+-----------------------------+---------------------------+--------------------------------+-------------------------------+-------------------------+------------------------------+-----------------------------+--------------------------+-------------------------+------------------------------+-----------------------------+--------------------------+-------------------------+------------------------------+-----------------------------+---------------------------+--------------------------------+-------------------------------+-------------+----------------------------+----------------------------------+-------------------------------+--------------------+\n",
            "|        2023|       AK|   38344|          Premera Blue Cros...|      HIOS|12/20/2022 1:00|    Individual|            No|     38344AK1060001|Premera Blue Cros...|   38344AK106|   AKN001|       AKS001|     AKF001| Existing|     PPO|      Gold|Not Applicable|             Yes|On the Exchange|                          No|                             No|                       NULL|               NULL|                                                      $0.00 |                    No|Allows Adult and ...|           NULL|                    No|            Asthma, Heart Dis...|                0.9937|                                   NULL|            NULL|         1/1/2023|        12/31/2023|                 Yes|           Benefits for cove...|                     Yes|               If you're outside...|             No|   https://pay.insta...|https://www.preme...|38344AK1060001-01|    Premera Blue Cros...|Standard Gold On ...|              79.18%|              0.79621838|                             Yes|                                    Yes|                   Yes|                 99%|                   1%|                 $1,500 |                   $10 |                  $3,300 |               $60 |                      $200 |                   $1,600 |                         $0 |                  $20 |                          $1,500 |                           $200 |                             $300 |                         $0 |                           NULL|                            0|                                             2|                                                       0|                      NULL|                           NULL|                          NULL|                      NULL|                           NULL|                          NULL|                      NULL|                           NULL|                          NULL|                        NULL|                             NULL|                            NULL|                      NULL|                           NULL|                          NULL|                      NULL|                           NULL|                          NULL|                      NULL|                           NULL|                          NULL|                        NULL|                             NULL|                            NULL|                   $6,300 |               $6300 per person|              $12600 per group|                   $6,300 |               $6300 per person|              $12600 per group|            Not Applicable|           per person not ap...|          per group not app...|              Not Applicable|             per person not ap...|            per group not app...|                     NULL|                          NULL|                         NULL|                      NULL|                     NULL|                          NULL|                         NULL|                      NULL|                     NULL|                          NULL|                         NULL|                       NULL|                            NULL|                           NULL|                     NULL|                          NULL|                         NULL|                      NULL|                     NULL|                          NULL|                         NULL|                      NULL|                     NULL|                          NULL|                         NULL|                       NULL|                            NULL|                           NULL|                  $1,500 |              $1500 per person|              $3000 per group|                    30.00%|                  $1,500 |              $1500 per person|              $3000 per group|                    30.00%|                  $3,000 |              $3000 per person|         per group not app...|             Not Applicable|            per person not ap...|           per group not app...|           No|                        NULL|                              NULL|           https://www.preme...|https://www.preme...|\n",
            "|        2023|       AK|   38344|          Premera Blue Cros...|      HIOS|12/20/2022 1:00|    Individual|            No|     38344AK1060001|Premera Blue Cros...|   38344AK106|   AKN001|       AKS001|     AKF001| Existing|     PPO|      Gold|Not Applicable|             Yes|On the Exchange|                          No|                             No|                       NULL|               NULL|                                                      $0.00 |                    No|Allows Adult and ...|           NULL|                    No|            Asthma, Heart Dis...|                0.9937|                                   NULL|            NULL|         1/1/2023|        12/31/2023|                 Yes|           Benefits for cove...|                     Yes|               If you're outside...|             No|   https://pay.insta...|https://www.preme...|38344AK1060001-02|    Premera Blue Cros...|Zero Cost Sharing...|             100.00%|                       1|                             Yes|                                    Yes|                   Yes|                 99%|                   1%|                     $0 |                    $0 |                      $0 |                $0 |                        $0 |                       $0 |                         $0 |                   $0 |                              $0 |                             $0 |                               $0 |                         $0 |                           NULL|                            0|                                             2|                                                       0|                      NULL|                           NULL|                          NULL|                      NULL|                           NULL|                          NULL|                      NULL|                           NULL|                          NULL|                        NULL|                             NULL|                            NULL|                      NULL|                           NULL|                          NULL|                      NULL|                           NULL|                          NULL|                      NULL|                           NULL|                          NULL|                        NULL|                             NULL|                            NULL|                       $0 |                  $0 per person|                  $0 per group|                       $0 |                  $0 per person|                  $0 per group|                       $0 |                  $0 per person|                  $0 per group|                         $0 |                    $0 per person|                    $0 per group|                     NULL|                          NULL|                         NULL|                      NULL|                     NULL|                          NULL|                         NULL|                      NULL|                     NULL|                          NULL|                         NULL|                       NULL|                            NULL|                           NULL|                     NULL|                          NULL|                         NULL|                      NULL|                     NULL|                          NULL|                         NULL|                      NULL|                     NULL|                          NULL|                         NULL|                       NULL|                            NULL|                           NULL|                      $0 |                 $0 per person|                 $0 per group|                     0.00%|                      $0 |                 $0 per person|                 $0 per group|                     0.00%|                      $0 |                 $0 per person|                 $0 per group|                        $0 |                   $0 per person|                   $0 per group|           No|                        NULL|                              NULL|           https://www.preme...|https://www.preme...|\n",
            "|        2023|       AK|   38344|          Premera Blue Cros...|      HIOS|12/20/2022 1:00|    Individual|            No|     38344AK1060001|Premera Blue Cros...|   38344AK106|   AKN001|       AKS001|     AKF001| Existing|     PPO|      Gold|Not Applicable|             Yes|On the Exchange|                          No|                             No|                       NULL|               NULL|                                                      $0.00 |                    No|Allows Adult and ...|           NULL|                    No|            Asthma, Heart Dis...|                0.9937|                                   NULL|            NULL|         1/1/2023|        12/31/2023|                 Yes|           Benefits for cove...|                     Yes|               If you're outside...|             No|   https://pay.insta...|https://www.preme...|38344AK1060001-03|    Premera Blue Cros...|Limited Cost Shar...|              79.18%|              0.79621838|                             Yes|                                    Yes|                   Yes|                 99%|                   1%|                 $1,500 |                   $10 |                  $3,300 |               $60 |                      $200 |                   $1,600 |                         $0 |                  $20 |                          $1,500 |                           $200 |                             $300 |                         $0 |                           NULL|                            0|                                             2|                                                       0|                      NULL|                           NULL|                          NULL|                      NULL|                           NULL|                          NULL|                      NULL|                           NULL|                          NULL|                        NULL|                             NULL|                            NULL|                      NULL|                           NULL|                          NULL|                      NULL|                           NULL|                          NULL|                      NULL|                           NULL|                          NULL|                        NULL|                             NULL|                            NULL|                   $6,300 |               $6300 per person|              $12600 per group|                   $6,300 |               $6300 per person|              $12600 per group|            Not Applicable|           per person not ap...|          per group not app...|              Not Applicable|             per person not ap...|            per group not app...|                     NULL|                          NULL|                         NULL|                      NULL|                     NULL|                          NULL|                         NULL|                      NULL|                     NULL|                          NULL|                         NULL|                       NULL|                            NULL|                           NULL|                     NULL|                          NULL|                         NULL|                      NULL|                     NULL|                          NULL|                         NULL|                      NULL|                     NULL|                          NULL|                         NULL|                       NULL|                            NULL|                           NULL|                  $1,500 |              $1500 per person|              $3000 per group|                    30.00%|                  $1,500 |              $1500 per person|              $3000 per group|                    30.00%|                  $3,000 |              $3000 per person|         per group not app...|             Not Applicable|            per person not ap...|           per group not app...|           No|                        NULL|                              NULL|           https://www.preme...|https://www.preme...|\n",
            "|        2023|       AK|   38344|          Premera Blue Cros...|      HIOS|12/20/2022 1:00|    Individual|            No|     38344AK1060002|Premera Blue Cros...|   38344AK106|   AKN001|       AKS001|     AKF002| Existing|     PPO|    Silver|Not Applicable|             Yes|On the Exchange|                          No|                             No|                       NULL|               NULL|                                                      $0.00 |                    No|Allows Adult and ...|           NULL|                    No|            Asthma, Heart Dis...|                0.9946|                                   NULL|            NULL|         1/1/2023|        12/31/2023|                 Yes|           Benefits for cove...|                     Yes|               If you're outside...|             No|   https://pay.insta...|https://www.preme...|38344AK1060002-01|    Premera Blue Cros...|Standard Silver O...|              70.96%|             0.718784417|                             Yes|                                    Yes|                   Yes|                 99%|                   1%|                 $4,500 |                   $10 |                  $2,400 |               $60 |                      $200 |                   $1,800 |                         $0 |                  $20 |                          $2,300 |                           $200 |                               $0 |                         $0 |                           NULL|                            0|                                             2|                                                       0|                      NULL|                           NULL|                          NULL|                      NULL|                           NULL|                          NULL|                      NULL|                           NULL|                          NULL|                        NULL|                             NULL|                            NULL|                      NULL|                           NULL|                          NULL|                      NULL|                           NULL|                          NULL|                      NULL|                           NULL|                          NULL|                        NULL|                             NULL|                            NULL|                   $8,200 |               $8200 per person|              $16400 per group|                   $8,200 |               $8200 per person|              $16400 per group|            Not Applicable|           per person not ap...|          per group not app...|              Not Applicable|             per person not ap...|            per group not app...|                     NULL|                          NULL|                         NULL|                      NULL|                     NULL|                          NULL|                         NULL|                      NULL|                     NULL|                          NULL|                         NULL|                       NULL|                            NULL|                           NULL|                     NULL|                          NULL|                         NULL|                      NULL|                     NULL|                          NULL|                         NULL|                      NULL|                     NULL|                          NULL|                         NULL|                       NULL|                            NULL|                           NULL|                  $4,500 |              $4500 per person|              $9000 per group|                    30.00%|                  $4,500 |              $4500 per person|              $9000 per group|                    30.00%|                  $9,000 |              $9000 per person|         per group not app...|             Not Applicable|            per person not ap...|           per group not app...|           No|                        NULL|                              NULL|           https://www.preme...|https://www.preme...|\n",
            "|        2023|       AK|   38344|          Premera Blue Cros...|      HIOS|12/20/2022 1:00|    Individual|            No|     38344AK1060002|Premera Blue Cros...|   38344AK106|   AKN001|       AKS001|     AKF002| Existing|     PPO|    Silver|Not Applicable|             Yes|On the Exchange|                          No|                             No|                       NULL|               NULL|                                                      $0.00 |                    No|Allows Adult and ...|           NULL|                    No|            Asthma, Heart Dis...|                0.9946|                                   NULL|            NULL|         1/1/2023|        12/31/2023|                 Yes|           Benefits for cove...|                     Yes|               If you're outside...|             No|   https://pay.insta...|https://www.preme...|38344AK1060002-02|    Premera Blue Cros...|Zero Cost Sharing...|             100.00%|                       1|                             Yes|                                    Yes|                   Yes|                 99%|                   1%|                     $0 |                    $0 |                      $0 |                $0 |                        $0 |                       $0 |                         $0 |                   $0 |                              $0 |                             $0 |                               $0 |                         $0 |                           NULL|                            0|                                             2|                                                       0|                      NULL|                           NULL|                          NULL|                      NULL|                           NULL|                          NULL|                      NULL|                           NULL|                          NULL|                        NULL|                             NULL|                            NULL|                      NULL|                           NULL|                          NULL|                      NULL|                           NULL|                          NULL|                      NULL|                           NULL|                          NULL|                        NULL|                             NULL|                            NULL|                       $0 |                  $0 per person|                  $0 per group|                       $0 |                  $0 per person|                  $0 per group|                       $0 |                  $0 per person|                  $0 per group|                         $0 |                    $0 per person|                    $0 per group|                     NULL|                          NULL|                         NULL|                      NULL|                     NULL|                          NULL|                         NULL|                      NULL|                     NULL|                          NULL|                         NULL|                       NULL|                            NULL|                           NULL|                     NULL|                          NULL|                         NULL|                      NULL|                     NULL|                          NULL|                         NULL|                      NULL|                     NULL|                          NULL|                         NULL|                       NULL|                            NULL|                           NULL|                      $0 |                 $0 per person|                 $0 per group|                     0.00%|                      $0 |                 $0 per person|                 $0 per group|                     0.00%|                      $0 |                 $0 per person|                 $0 per group|                        $0 |                   $0 per person|                   $0 per group|           No|                        NULL|                              NULL|           https://www.preme...|https://www.preme...|\n",
            "+------------+---------+--------+------------------------------+----------+---------------+--------------+--------------+-------------------+--------------------+-------------+---------+-------------+-----------+---------+--------+----------+--------------+----------------+---------------+----------------------------+-------------------------------+---------------------------+-------------------+------------------------------------------------------------+----------------------+--------------------+---------------+----------------------+--------------------------------+----------------------+---------------------------------------+----------------+-----------------+------------------+--------------------+-------------------------------+------------------------+-----------------------------------+---------------+-----------------------+--------------------+-----------------+------------------------+--------------------+--------------------+------------------------+--------------------------------+---------------------------------------+----------------------+--------------------+---------------------+------------------------+-----------------------+-------------------------+-------------------+---------------------------+--------------------------+----------------------------+----------------------+---------------------------------+--------------------------------+----------------------------------+----------------------------+-------------------------------+-----------------------------+----------------------------------------------+--------------------------------------------------------+--------------------------+-------------------------------+------------------------------+--------------------------+-------------------------------+------------------------------+--------------------------+-------------------------------+------------------------------+----------------------------+---------------------------------+--------------------------------+--------------------------+-------------------------------+------------------------------+--------------------------+-------------------------------+------------------------------+--------------------------+-------------------------------+------------------------------+----------------------------+---------------------------------+--------------------------------+--------------------------+-------------------------------+------------------------------+--------------------------+-------------------------------+------------------------------+--------------------------+-------------------------------+------------------------------+----------------------------+---------------------------------+--------------------------------+-------------------------+------------------------------+-----------------------------+--------------------------+-------------------------+------------------------------+-----------------------------+--------------------------+-------------------------+------------------------------+-----------------------------+---------------------------+--------------------------------+-------------------------------+-------------------------+------------------------------+-----------------------------+--------------------------+-------------------------+------------------------------+-----------------------------+--------------------------+-------------------------+------------------------------+-----------------------------+---------------------------+--------------------------------+-------------------------------+-------------------------+------------------------------+-----------------------------+--------------------------+-------------------------+------------------------------+-----------------------------+--------------------------+-------------------------+------------------------------+-----------------------------+---------------------------+--------------------------------+-------------------------------+-------------+----------------------------+----------------------------------+-------------------------------+--------------------+\n",
            "only showing top 5 rows\n",
            "\n"
          ]
        }
      ]
    },
    {
      "cell_type": "markdown",
      "source": [
        "We conclude from the above 3 cells that some data is outdated , and organization names were named HIOS at first then they were renamed in more recent years, so we don't need the raws with outdated data, so we can drop all data with ``` IssuerMarketPlaceMarketingName ``` value of ```HIOS```\n",
        "\n"
      ],
      "metadata": {
        "id": "BrCEfPX4UAd3"
      }
    },
    {
      "cell_type": "code",
      "source": [
        "df_plan_raw = df_plan_raw.filter(df_plan_raw.IssuerMarketPlaceMarketingName != \"HIOS\")\n"
      ],
      "metadata": {
        "id": "FrQQm2QNUq-k"
      },
      "execution_count": 15,
      "outputs": []
    },
    {
      "cell_type": "code",
      "source": [
        "df_plan_raw.select(countDistinct(\"StandardComponentId\")).show()\n"
      ],
      "metadata": {
        "colab": {
          "base_uri": "https://localhost:8080/"
        },
        "id": "hdgH80XAWvP8",
        "outputId": "a2fc64e6-7bf4-4470-f480-51dfaa6b2f44"
      },
      "execution_count": 16,
      "outputs": [
        {
          "output_type": "stream",
          "name": "stdout",
          "text": [
            "+-----------------------------------+\n",
            "|count(DISTINCT StandardComponentId)|\n",
            "+-----------------------------------+\n",
            "|                              14503|\n",
            "+-----------------------------------+\n",
            "\n"
          ]
        }
      ]
    },
    {
      "cell_type": "code",
      "source": [
        "df_plan_raw.count()"
      ],
      "metadata": {
        "colab": {
          "base_uri": "https://localhost:8080/"
        },
        "id": "25Mei6blNqXG",
        "outputId": "938f38cc-a840-4ccb-b874-cbcdbf214f2a"
      },
      "execution_count": 17,
      "outputs": [
        {
          "output_type": "execute_result",
          "data": {
            "text/plain": [
              "143932"
            ]
          },
          "metadata": {},
          "execution_count": 17
        }
      ]
    },
    {
      "cell_type": "code",
      "source": [
        "df_plan_raw = df_plan_raw.dropna(how = \"any\", subset = [\"PlanId\"])\n"
      ],
      "metadata": {
        "id": "L9lcRo4oUO_T"
      },
      "execution_count": 18,
      "outputs": []
    },
    {
      "cell_type": "code",
      "source": [
        "df_plan_raw.count()"
      ],
      "metadata": {
        "colab": {
          "base_uri": "https://localhost:8080/"
        },
        "id": "7Iuntj7dUW7u",
        "outputId": "ff0f2c56-36b1-49bd-a99d-e6e556ea21d2"
      },
      "execution_count": 19,
      "outputs": [
        {
          "output_type": "execute_result",
          "data": {
            "text/plain": [
              "132225"
            ]
          },
          "metadata": {},
          "execution_count": 19
        }
      ]
    },
    {
      "cell_type": "code",
      "source": [
        "from pyspark.sql.functions import length\n",
        "\n",
        "df_plan_raw = df_plan_raw.filter(length(df_plan_raw.PlanId) == 17)\n"
      ],
      "metadata": {
        "id": "bVF_L0hZWeIA"
      },
      "execution_count": 20,
      "outputs": []
    },
    {
      "cell_type": "code",
      "source": [
        "df_plan_raw.count()"
      ],
      "metadata": {
        "colab": {
          "base_uri": "https://localhost:8080/"
        },
        "id": "Wtyaj4WmWo0F",
        "outputId": "e5759e6f-bf08-487a-a5fc-99b9b335b7e0"
      },
      "execution_count": 21,
      "outputs": [
        {
          "output_type": "execute_result",
          "data": {
            "text/plain": [
              "33031"
            ]
          },
          "metadata": {},
          "execution_count": 21
        }
      ]
    },
    {
      "cell_type": "code",
      "source": [
        "df_plan_raw.createOrReplaceTempView(\"plan_staging\")\n"
      ],
      "metadata": {
        "id": "8cawOdrZJPnW"
      },
      "execution_count": 22,
      "outputs": []
    },
    {
      "cell_type": "markdown",
      "source": [
        "### 2- Network Raw Data"
      ],
      "metadata": {
        "id": "DxqMZL5AN3oK"
      }
    },
    {
      "cell_type": "code",
      "source": [
        "df_network_raw = spark.read.option(\"header\", \"true\").option(\"inferSchema\", \"true\").csv(\"/content/health-insurance-raw-data/network/*/*.csv\")\n",
        "\n",
        "\n",
        "df_network_raw.show()\n"
      ],
      "metadata": {
        "colab": {
          "base_uri": "https://localhost:8080/"
        },
        "id": "KkvaUYh-N-lv",
        "outputId": "c3674fbb-0457-408e-b581-6eed253b0fe2"
      },
      "execution_count": 23,
      "outputs": [
        {
          "output_type": "stream",
          "name": "stdout",
          "text": [
            "+------------+---------+--------+----------+----------+-------------------+---------+----------+--------------------+---------+--------------------+---------+--------------+----------+\n",
            "|BusinessYear|StateCode|IssuerId|SourceName|VersionNum|         ImportDate|IssuerId2|StateCode2|         NetworkName|NetworkId|          NetworkURL|RowNumber|MarketCoverage|DentalOnly|\n",
            "+------------+---------+--------+----------+----------+-------------------+---------+----------+--------------------+---------+--------------------+---------+--------------+----------+\n",
            "|        2015|       GA|   89942|      HIOS|         7|2015-02-19 06:21:02|    89942|        GA|Kaiser Permanente...|   GAN001|   kp.org/gaprovider|       13|          NULL|      NULL|\n",
            "|        2015|       GA|   93332|      HIOS|        10|2014-09-29 21:43:29|    93332|        GA|        Atlanta HMOx|   GAN001|https://www.human...|       13|          NULL|      NULL|\n",
            "|        2015|       GA|   93332|      HIOS|        10|2014-09-29 21:43:29|    93332|        GA|   Columbus, GA HMOx|   GAN002|https://www.human...|       14|          NULL|      NULL|\n",
            "|        2015|       GA|   93332|      HIOS|        10|2014-09-29 21:43:29|    93332|        GA|       Savannah HMOx|   GAN003|https://www.human...|       15|          NULL|      NULL|\n",
            "|        2015|       GA|   93332|      HIOS|        10|2014-09-29 21:43:29|    93332|        GA|          Macon HMOx|   GAN005|https://www.human...|       16|          NULL|      NULL|\n",
            "|        2015|       GA|   93332|      HIOS|        10|2014-09-29 21:43:29|    93332|        GA|National POS - Op...|   GAN004|https://www.human...|       17|          NULL|      NULL|\n",
            "|        2015|       GA|   98239|      HIOS|         4|2014-09-06 03:39:47|    98239|        GA|Careington Maximu...|   GAN001|www.careington.co...|       13|          NULL|      NULL|\n",
            "|        2015|       IN|   10064|      HIOS|         2|2014-08-08 08:53:29|    10064|        IN|Principal Plan De...|   INN001|http://c3.go2dent...|       13|          NULL|      NULL|\n",
            "|        2015|       IN|   17575|      HIOS|        14|2014-12-12 09:23:47|    17575|        IN|   Pathway X HMO/POS|   INN001|https://www.anthe...|       13|          NULL|      NULL|\n",
            "|        2015|       IN|   17575|      HIOS|        14|2014-12-12 09:23:47|    17575|        IN|Pathway X HMO/POS...|   INN002|https://www.anthe...|       14|          NULL|      NULL|\n",
            "|        2015|       IN|   17575|      HIOS|        14|2014-12-12 09:23:47|    17575|        IN|     Pathway HMO/POS|   INN003|https://www.anthe...|       15|          NULL|      NULL|\n",
            "|        2015|       IN|   17575|      HIOS|        14|2014-12-12 09:23:47|    17575|        IN|Pathway HMO/POS w...|   INN004|https://www.anthe...|       16|          NULL|      NULL|\n",
            "|        2015|       IN|   17575|      HIOS|        14|2014-12-12 09:23:47|    17575|        IN|Blue Preferred HM...|   INN005|https://www.anthe...|       17|          NULL|      NULL|\n",
            "|        2015|       IN|   17575|      HIOS|        14|2014-12-12 09:23:47|    17575|        IN|Blue Preferred HM...|   INN006|https://www.anthe...|       18|          NULL|      NULL|\n",
            "|        2015|       IN|   17575|      HIOS|        14|2014-12-12 09:23:47|    17575|        IN|         Blue Access|   INN007|https://www.anthe...|       19|          NULL|      NULL|\n",
            "|        2015|       IN|   17575|      HIOS|        14|2014-12-12 09:23:47|    17575|        IN|Blue Access with ...|   INN008|https://www.anthe...|       20|          NULL|      NULL|\n",
            "|        2015|       IN|   17575|      HIOS|        14|2014-12-12 09:23:47|    17575|        IN|        Dental Prime|   INN009|http://www.geoacc...|       21|          NULL|      NULL|\n",
            "|        2015|       IN|   20855|      HIOS|         9|2015-07-22 09:15:52|    20855|        IN|ADVANTAGE Health ...|   INN001|http://www.advant...|       13|          NULL|      NULL|\n",
            "|        2015|       IN|   21029|      HIOS|         3|2014-09-05 03:32:16|    21029|        IN|Assurant Dental N...|   INN001|http://assurant.g...|       13|          NULL|      NULL|\n",
            "|        2015|       IN|   28856|      HIOS|         1|2014-06-21 03:20:41|    28856|        IN|Delta Dental PPO ...|   INN001|http://www.deltad...|       13|          NULL|      NULL|\n",
            "+------------+---------+--------+----------+----------+-------------------+---------+----------+--------------------+---------+--------------------+---------+--------------+----------+\n",
            "only showing top 20 rows\n",
            "\n"
          ]
        }
      ]
    },
    {
      "cell_type": "code",
      "source": [
        "df_network_raw.createOrReplaceTempView(\"network_staging\")\n"
      ],
      "metadata": {
        "id": "-3gG91ZVQH8V"
      },
      "execution_count": 24,
      "outputs": []
    },
    {
      "cell_type": "markdown",
      "source": [
        "### 3- Rate Raw Data"
      ],
      "metadata": {
        "id": "dH7m6EjT3yI5"
      }
    },
    {
      "cell_type": "code",
      "source": [
        "df_rate_raw = spark.read.option(\"header\", \"true\").option(\"inferSchema\", \"true\").csv(\"/content/health-insurance-raw-data/rate/*/*.csv\")\n",
        "\n",
        "\n",
        "df_rate_raw.show()\n",
        "# drop na from age !!"
      ],
      "metadata": {
        "colab": {
          "base_uri": "https://localhost:8080/"
        },
        "id": "5mUom7M24HEV",
        "outputId": "4df0e82b-fc9d-4b31-ce0d-37fafbe9002e"
      },
      "execution_count": 25,
      "outputs": [
        {
          "output_type": "stream",
          "name": "stdout",
          "text": [
            "+------------+---------+--------+----------+----------+-------------------+---------+----------+-----------------+------------------+--------------+-------------+-------------+-------------+--------------+---------------------+------+--------------------------------+---------------------------------+-----------------------------------------+---------------------+----------------------+------------------------------+---------+\n",
            "|BusinessYear|StateCode|IssuerId|SourceName|VersionNum|         ImportDate|IssuerId2|FederalTIN|RateEffectiveDate|RateExpirationDate|        PlanId| RatingAreaId|      Tobacco|          Age|IndividualRate|IndividualTobaccoRate|Couple|PrimarySubscriberAndOneDependent|PrimarySubscriberAndTwoDependents|PrimarySubscriberAndThreeOrMoreDependents|CoupleAndOneDependent|CoupleAndTwoDependents|CoupleAndThreeOrMoreDependents|RowNumber|\n",
            "+------------+---------+--------+----------+----------+-------------------+---------+----------+-----------------+------------------+--------------+-------------+-------------+-------------+--------------+---------------------+------+--------------------------------+---------------------------------+-----------------------------------------+---------------------+----------------------+------------------------------+---------+\n",
            "|        2014|       AK|   21989|      HIOS|         6|2014-03-19 07:06:49|    21989|93-0438772|       2014-01-01|        2014-12-31|21989AK0010001|Rating Area 1|No Preference|         0-20|         29.00|                 NULL|  NULL|                            NULL|                             NULL|                                     NULL|                 NULL|                  NULL|                          NULL|       14|\n",
            "|        2014|       AK|   21989|      HIOS|         6|2014-03-19 07:06:49|    21989|93-0438772|       2014-01-01|        2014-12-31|21989AK0020001|Rating Area 1|No Preference|Family Option|         36.95|                 NULL| 73.90|                          107.61|                           107.61|                                   107.61|               144.56|                144.56|                        144.56|       14|\n",
            "|        2014|       AK|   21989|      HIOS|         6|2014-03-19 07:06:49|    21989|93-0438772|       2014-01-01|        2014-12-31|21989AK0020001|Rating Area 2|No Preference|Family Option|         36.95|                 NULL| 73.90|                          107.61|                           107.61|                                   107.61|               144.56|                144.56|                        144.56|       15|\n",
            "|        2014|       AK|   21989|      HIOS|         6|2014-03-19 07:06:49|    21989|93-0438772|       2014-01-01|        2014-12-31|21989AK0010001|Rating Area 1|No Preference|           21|         32.00|                 NULL|  NULL|                            NULL|                             NULL|                                     NULL|                 NULL|                  NULL|                          NULL|       15|\n",
            "|        2014|       AK|   21989|      HIOS|         6|2014-03-19 07:06:49|    21989|93-0438772|       2014-01-01|        2014-12-31|21989AK0010001|Rating Area 1|No Preference|           22|         32.00|                 NULL|  NULL|                            NULL|                             NULL|                                     NULL|                 NULL|                  NULL|                          NULL|       16|\n",
            "|        2014|       AK|   21989|      HIOS|         6|2014-03-19 07:06:49|    21989|93-0438772|       2014-01-01|        2014-12-31|21989AK0020001|Rating Area 3|No Preference|Family Option|         36.95|                 NULL| 73.90|                          107.61|                           107.61|                                   107.61|               144.56|                144.56|                        144.56|       16|\n",
            "|        2014|       AK|   21989|      HIOS|         6|2014-03-19 07:06:49|    21989|93-0438772|       2014-01-01|        2014-12-31|21989AK0020002|Rating Area 1|No Preference|Family Option|         32.45|                 NULL| 64.90|                           94.50|                            94.50|                                    94.50|               126.95|                126.95|                        126.95|       17|\n",
            "|        2014|       AK|   21989|      HIOS|         6|2014-03-19 07:06:49|    21989|93-0438772|       2014-01-01|        2014-12-31|21989AK0010001|Rating Area 1|No Preference|           23|         32.00|                 NULL|  NULL|                            NULL|                             NULL|                                     NULL|                 NULL|                  NULL|                          NULL|       17|\n",
            "|        2014|       AK|   21989|      HIOS|         6|2014-03-19 07:06:49|    21989|93-0438772|       2014-01-01|        2014-12-31|21989AK0010001|Rating Area 1|No Preference|           24|         32.00|                 NULL|  NULL|                            NULL|                             NULL|                                     NULL|                 NULL|                  NULL|                          NULL|       18|\n",
            "|        2014|       AK|   21989|      HIOS|         6|2014-03-19 07:06:49|    21989|93-0438772|       2014-01-01|        2014-12-31|21989AK0020002|Rating Area 2|No Preference|Family Option|         32.45|                 NULL| 64.90|                           94.50|                            94.50|                                    94.50|               126.95|                126.95|                        126.95|       18|\n",
            "|        2014|       AK|   21989|      HIOS|         6|2014-03-19 07:06:49|    21989|93-0438772|       2014-01-01|        2014-12-31|21989AK0020002|Rating Area 3|No Preference|Family Option|         32.45|                 NULL| 64.90|                           94.50|                            94.50|                                    94.50|               126.95|                126.95|                        126.95|       19|\n",
            "|        2014|       AK|   21989|      HIOS|         6|2014-03-19 07:06:49|    21989|93-0438772|       2014-01-01|        2014-12-31|21989AK0010001|Rating Area 1|No Preference|           25|         32.00|                 NULL|  NULL|                            NULL|                             NULL|                                     NULL|                 NULL|                  NULL|                          NULL|       19|\n",
            "|        2014|       AK|   21989|      HIOS|         6|2014-03-19 07:06:49|    21989|93-0438772|       2014-01-01|        2014-12-31|21989AK0010001|Rating Area 1|No Preference|           26|         32.00|                 NULL|  NULL|                            NULL|                             NULL|                                     NULL|                 NULL|                  NULL|                          NULL|       20|\n",
            "|        2014|       AK|   21989|      HIOS|         6|2014-03-19 07:06:49|    21989|93-0438772|       2014-01-01|        2014-12-31|21989AK0010001|Rating Area 1|No Preference|           27|         32.00|                 NULL|  NULL|                            NULL|                             NULL|                                     NULL|                 NULL|                  NULL|                          NULL|       21|\n",
            "|        2014|       AK|   21989|      HIOS|         6|2014-03-19 07:06:49|    21989|93-0438772|       2014-01-01|        2014-12-31|21989AK0010001|Rating Area 1|No Preference|           28|         32.00|                 NULL|  NULL|                            NULL|                             NULL|                                     NULL|                 NULL|                  NULL|                          NULL|       22|\n",
            "|        2014|       AK|   21989|      HIOS|         6|2014-03-19 07:06:49|    21989|93-0438772|       2014-01-01|        2014-12-31|21989AK0010001|Rating Area 1|No Preference|           29|         32.00|                 NULL|  NULL|                            NULL|                             NULL|                                     NULL|                 NULL|                  NULL|                          NULL|       23|\n",
            "|        2014|       AK|   21989|      HIOS|         6|2014-03-19 07:06:49|    21989|93-0438772|       2014-01-01|        2014-12-31|21989AK0010001|Rating Area 1|No Preference|           30|         32.00|                 NULL|  NULL|                            NULL|                             NULL|                                     NULL|                 NULL|                  NULL|                          NULL|       24|\n",
            "|        2014|       AK|   21989|      HIOS|         6|2014-03-19 07:06:49|    21989|93-0438772|       2014-01-01|        2014-12-31|21989AK0010001|Rating Area 1|No Preference|           31|         32.00|                 NULL|  NULL|                            NULL|                             NULL|                                     NULL|                 NULL|                  NULL|                          NULL|       25|\n",
            "|        2014|       AK|   21989|      HIOS|         6|2014-03-19 07:06:49|    21989|93-0438772|       2014-01-01|        2014-12-31|21989AK0010001|Rating Area 1|No Preference|           32|         32.00|                 NULL|  NULL|                            NULL|                             NULL|                                     NULL|                 NULL|                  NULL|                          NULL|       26|\n",
            "|        2014|       AK|   21989|      HIOS|         6|2014-03-19 07:06:49|    21989|93-0438772|       2014-01-01|        2014-12-31|21989AK0010001|Rating Area 1|No Preference|           33|         32.00|                 NULL|  NULL|                            NULL|                             NULL|                                     NULL|                 NULL|                  NULL|                          NULL|       27|\n",
            "+------------+---------+--------+----------+----------+-------------------+---------+----------+-----------------+------------------+--------------+-------------+-------------+-------------+--------------+---------------------+------+--------------------------------+---------------------------------+-----------------------------------------+---------------------+----------------------+------------------------------+---------+\n",
            "only showing top 20 rows\n",
            "\n"
          ]
        }
      ]
    },
    {
      "cell_type": "code",
      "source": [
        "df_rate_raw.filter(df_rate_raw.PlanId == None).show()"
      ],
      "metadata": {
        "colab": {
          "base_uri": "https://localhost:8080/"
        },
        "id": "TYzVfSecMs1s",
        "outputId": "0e2e3842-06d2-472a-fed9-7e29e3f60a79"
      },
      "execution_count": 26,
      "outputs": [
        {
          "output_type": "stream",
          "name": "stdout",
          "text": [
            "+------------+---------+--------+----------+----------+----------+---------+----------+-----------------+------------------+------+------------+-------+---+--------------+---------------------+------+--------------------------------+---------------------------------+-----------------------------------------+---------------------+----------------------+------------------------------+---------+\n",
            "|BusinessYear|StateCode|IssuerId|SourceName|VersionNum|ImportDate|IssuerId2|FederalTIN|RateEffectiveDate|RateExpirationDate|PlanId|RatingAreaId|Tobacco|Age|IndividualRate|IndividualTobaccoRate|Couple|PrimarySubscriberAndOneDependent|PrimarySubscriberAndTwoDependents|PrimarySubscriberAndThreeOrMoreDependents|CoupleAndOneDependent|CoupleAndTwoDependents|CoupleAndThreeOrMoreDependents|RowNumber|\n",
            "+------------+---------+--------+----------+----------+----------+---------+----------+-----------------+------------------+------+------------+-------+---+--------------+---------------------+------+--------------------------------+---------------------------------+-----------------------------------------+---------------------+----------------------+------------------------------+---------+\n",
            "+------------+---------+--------+----------+----------+----------+---------+----------+-----------------+------------------+------+------------+-------+---+--------------+---------------------+------+--------------------------------+---------------------------------+-----------------------------------------+---------------------+----------------------+------------------------------+---------+\n",
            "\n"
          ]
        }
      ]
    },
    {
      "cell_type": "code",
      "source": [
        "df_rate_raw.createOrReplaceTempView(\"rate_staging\")\n"
      ],
      "metadata": {
        "id": "xoLlu5mU4a2z"
      },
      "execution_count": 27,
      "outputs": []
    },
    {
      "cell_type": "markdown",
      "source": [
        "### 4- Benifit Raw Data"
      ],
      "metadata": {
        "id": "rTnSoxgd3-Q5"
      }
    },
    {
      "cell_type": "code",
      "source": [
        "df_benifit_cost_raw = spark.read.option(\"header\", \"true\").option(\"inferSchema\", \"true\").csv(\"/content/health-insurance-raw-data/benefits-and-cost-sharing/*/*.csv\")\n",
        "\n",
        "df_benifit_cost_raw.show()\n"
      ],
      "metadata": {
        "colab": {
          "base_uri": "https://localhost:8080/"
        },
        "id": "TAZKq41xMX1C",
        "outputId": "e5d14b7c-b37f-4781-eb6e-831d47f221f9"
      },
      "execution_count": 28,
      "outputs": [
        {
          "output_type": "stream",
          "name": "stdout",
          "text": [
            "+------------+---------+--------+----------+----------+-------------------+---------+----------+-------------------+-----------------+--------------------+-------------+-------------+-------------+-------------+-------------+-------------+-----+--------------+---------+---------------+--------+--------------------+-----------+----------+--------------------+--------------------+----------------+----------------+-----------------+-----------------+---------+\n",
            "|BusinessYear|StateCode|IssuerId|SourceName|VersionNum|         ImportDate|IssuerId2|StateCode2|StandardComponentId|           PlanId|         BenefitName|CopayInnTier1|CopayInnTier2|CopayOutofNet|CoinsInnTier1|CoinsInnTier2|CoinsOutofNet|IsEHB|IsStateMandate|IsCovered|QuantLimitOnSvc|LimitQty|           LimitUnit|MinimumStay|Exclusions|         Explanation|        EHBVarReason|IsSubjToDedTier1|IsSubjToDedTier2|IsExclFromInnMOOP|IsExclFromOonMOOP|RowNumber|\n",
            "+------------+---------+--------+----------+----------+-------------------+---------+----------+-------------------+-----------------+--------------------+-------------+-------------+-------------+-------------+-------------+-------------+-----+--------------+---------+---------------+--------+--------------------+-----------+----------+--------------------+--------------------+----------------+----------------+-----------------+-----------------+---------+\n",
            "|        2014|       AK|   21989|      HIOS|         6|2014-03-19 07:06:49|    21989|        AK|     21989AK0010001|21989AK0010001-00|Routine Dental Se...|    No Charge|         NULL|    No Charge|          20%|         NULL|          20%| NULL|          NULL|  Covered|            Yes|    1000|    Dollars per Year|       NULL|      NULL|Combined annual b...|           Above EHB|              No|              No|               No|               No|       68|\n",
            "|        2014|       AK|   21989|      HIOS|         6|2014-03-19 07:06:49|    21989|        AK|     21989AK0010001|21989AK0010001-00|Dental Check-Up f...|    No Charge|         NULL|    No Charge|          20%|         NULL|          20%|  Yes|          NULL|  Covered|            Yes|       1|Visit(s) per 6 Mo...|       NULL|      NULL|See policy for ad...| Substantially Equal|              No|              No|               No|               No|      104|\n",
            "|        2014|       AK|   21989|      HIOS|         6|2014-03-19 07:06:49|    21989|        AK|     21989AK0010001|21989AK0010001-00|Basic Dental Care...|    No Charge|         NULL|    No Charge|          40%|         NULL|          40%|  Yes|          NULL|  Covered|           NULL|    NULL|                NULL|       NULL|      NULL|See policy for ad...| Substantially Equal|             Yes|             Yes|               No|               No|      110|\n",
            "|        2014|       AK|   21989|      HIOS|         6|2014-03-19 07:06:49|    21989|        AK|     21989AK0010001|21989AK0010001-00| Orthodontia - Child|    No Charge|         NULL|    No Charge|          50%|         NULL|          50%| NULL|          NULL|  Covered|           NULL|    NULL|                NULL|       NULL|      NULL|24 month waiting ...|Additional EHB Be...|             Yes|             Yes|               No|               No|      111|\n",
            "|        2014|       AK|   21989|      HIOS|         6|2014-03-19 07:06:49|    21989|        AK|     21989AK0010001|21989AK0010001-00|Major Dental Care...|    No Charge|         NULL|    No Charge|          50%|         NULL|          50%|  Yes|          NULL|  Covered|           NULL|    NULL|                NULL|       NULL|      NULL|See policy for ad...| Substantially Equal|             Yes|             Yes|               No|               No|      112|\n",
            "|        2014|       AK|   21989|      HIOS|         6|2014-03-19 07:06:49|    21989|        AK|     21989AK0010001|21989AK0010001-00|Basic Dental Care...|    No Charge|         NULL|    No Charge|          40%|         NULL|          40%| NULL|          NULL|  Covered|            Yes|    1000|    Dollars per Year|       NULL|      NULL|Combined annual b...|           Above EHB|             Yes|             Yes|               No|               No|      113|\n",
            "|        2014|       AK|   21989|      HIOS|         6|2014-03-19 07:06:49|    21989|        AK|     21989AK0010001|21989AK0010001-00| Orthodontia - Adult|         NULL|         NULL|         NULL|         NULL|         NULL|         NULL| NULL|          NULL|     NULL|           NULL|    NULL|                NULL|       NULL|      NULL|                NULL|                NULL|            NULL|            NULL|             NULL|             NULL|      114|\n",
            "|        2014|       AK|   21989|      HIOS|         6|2014-03-19 07:06:49|    21989|        AK|     21989AK0010001|21989AK0010001-00|Major Dental Care...|    No Charge|         NULL|    No Charge|          50%|         NULL|          50%| NULL|          NULL|  Covered|            Yes|    1000|    Dollars per Year|       NULL|      NULL|Combined annual b...|           Above EHB|             Yes|             Yes|               No|               No|      115|\n",
            "|        2014|       AK|   21989|      HIOS|         6|2014-03-19 07:06:49|    21989|        AK|     21989AK0010001|21989AK0010001-00|   Accidental Dental|         NULL|         NULL|         NULL|         NULL|         NULL|         NULL| NULL|          NULL|     NULL|           NULL|    NULL|                NULL|       NULL|      NULL|                NULL|                NULL|            NULL|            NULL|             NULL|             NULL|      118|\n",
            "|        2014|       AK|   21989|      HIOS|         6|2014-03-19 07:06:49|    21989|        AK|     21989AK0010001|21989AK0010001-01|Routine Dental Se...|    No Charge|         NULL|    No Charge|          20%|         NULL|          20%| NULL|          NULL|  Covered|            Yes|    1000|    Dollars per Year|       NULL|      NULL|Combined annual b...|           Above EHB|              No|              No|               No|               No|       68|\n",
            "|        2014|       AK|   21989|      HIOS|         6|2014-03-19 07:06:49|    21989|        AK|     21989AK0010001|21989AK0010001-01|Dental Check-Up f...|    No Charge|         NULL|    No Charge|          20%|         NULL|          20%|  Yes|          NULL|  Covered|            Yes|       1|Visit(s) per 6 Mo...|       NULL|      NULL|See policy for ad...| Substantially Equal|              No|              No|               No|               No|      104|\n",
            "|        2014|       AK|   21989|      HIOS|         6|2014-03-19 07:06:49|    21989|        AK|     21989AK0010001|21989AK0010001-01|Basic Dental Care...|    No Charge|         NULL|    No Charge|          40%|         NULL|          40%|  Yes|          NULL|  Covered|           NULL|    NULL|                NULL|       NULL|      NULL|See policy for ad...| Substantially Equal|             Yes|             Yes|               No|               No|      110|\n",
            "|        2014|       AK|   21989|      HIOS|         6|2014-03-19 07:06:49|    21989|        AK|     21989AK0010001|21989AK0010001-01| Orthodontia - Child|    No Charge|         NULL|    No Charge|          50%|         NULL|          50%| NULL|          NULL|  Covered|           NULL|    NULL|                NULL|       NULL|      NULL|24 month waiting ...|Additional EHB Be...|             Yes|             Yes|               No|               No|      111|\n",
            "|        2014|       AK|   21989|      HIOS|         6|2014-03-19 07:06:49|    21989|        AK|     21989AK0010001|21989AK0010001-01|Major Dental Care...|    No Charge|         NULL|    No Charge|          50%|         NULL|          50%|  Yes|          NULL|  Covered|           NULL|    NULL|                NULL|       NULL|      NULL|See policy for ad...| Substantially Equal|             Yes|             Yes|               No|               No|      112|\n",
            "|        2014|       AK|   21989|      HIOS|         6|2014-03-19 07:06:49|    21989|        AK|     21989AK0010001|21989AK0010001-01|Basic Dental Care...|    No Charge|         NULL|    No Charge|          40%|         NULL|          40%| NULL|          NULL|  Covered|            Yes|    1000|    Dollars per Year|       NULL|      NULL|Combined annual b...|           Above EHB|             Yes|             Yes|               No|               No|      113|\n",
            "|        2014|       AK|   21989|      HIOS|         6|2014-03-19 07:06:49|    21989|        AK|     21989AK0010001|21989AK0010001-01| Orthodontia - Adult|         NULL|         NULL|         NULL|         NULL|         NULL|         NULL| NULL|          NULL|     NULL|           NULL|    NULL|                NULL|       NULL|      NULL|                NULL|                NULL|            NULL|            NULL|             NULL|             NULL|      114|\n",
            "|        2014|       AK|   21989|      HIOS|         6|2014-03-19 07:06:49|    21989|        AK|     21989AK0010001|21989AK0010001-01|Major Dental Care...|    No Charge|         NULL|    No Charge|          50%|         NULL|          50%| NULL|          NULL|  Covered|            Yes|    1000|    Dollars per Year|       NULL|      NULL|Combined annual b...|           Above EHB|             Yes|             Yes|               No|               No|      115|\n",
            "|        2014|       AK|   21989|      HIOS|         6|2014-03-19 07:06:49|    21989|        AK|     21989AK0010001|21989AK0010001-01|   Accidental Dental|         NULL|         NULL|         NULL|         NULL|         NULL|         NULL| NULL|          NULL|     NULL|           NULL|    NULL|                NULL|       NULL|      NULL|                NULL|                NULL|            NULL|            NULL|             NULL|             NULL|      118|\n",
            "|        2014|       AK|   21989|      HIOS|         6|2014-03-19 07:06:49|    21989|        AK|     21989AK0020001|21989AK0020001-00|Routine Dental Se...|    No Charge|         NULL|    No Charge|           0%|         NULL|           0%| NULL|          NULL|  Covered|            Yes|    1000|    Dollars per Year|       NULL|      NULL|Combined annual b...|           Above EHB|              No|              No|               No|               No|       68|\n",
            "|        2014|       AK|   21989|      HIOS|         6|2014-03-19 07:06:49|    21989|        AK|     21989AK0020001|21989AK0020001-00|Dental Check-Up f...|    No Charge|         NULL|    No Charge|           0%|         NULL|           0%|  Yes|          NULL|  Covered|            Yes|       1|Visit(s) per 6 Mo...|       NULL|      NULL|See policy for ad...| Substantially Equal|              No|              No|               No|               No|      104|\n",
            "+------------+---------+--------+----------+----------+-------------------+---------+----------+-------------------+-----------------+--------------------+-------------+-------------+-------------+-------------+-------------+-------------+-----+--------------+---------+---------------+--------+--------------------+-----------+----------+--------------------+--------------------+----------------+----------------+-----------------+-----------------+---------+\n",
            "only showing top 20 rows\n",
            "\n"
          ]
        }
      ]
    },
    {
      "cell_type": "code",
      "source": [
        "df_benifit_cost_raw.select(countDistinct(\"BenefitName\")).show()\n"
      ],
      "metadata": {
        "colab": {
          "base_uri": "https://localhost:8080/"
        },
        "id": "zSLpLZjwMpT_",
        "outputId": "09cc3ee6-5796-42bc-ef5e-5c53880dc79d"
      },
      "execution_count": 29,
      "outputs": [
        {
          "output_type": "stream",
          "name": "stdout",
          "text": [
            "+---------------------------+\n",
            "|count(DISTINCT BenefitName)|\n",
            "+---------------------------+\n",
            "|                       1329|\n",
            "+---------------------------+\n",
            "\n"
          ]
        }
      ]
    },
    {
      "cell_type": "code",
      "source": [
        "df_benifit_cost_raw.createOrReplaceTempView(\"benifit_staging\")\n"
      ],
      "metadata": {
        "id": "hApPZy58MpgX"
      },
      "execution_count": 30,
      "outputs": []
    },
    {
      "cell_type": "markdown",
      "source": [
        "## Step 3 : Define the Data Model\n"
      ],
      "metadata": {
        "id": "iJ5vQ6-BOwBK"
      }
    },
    {
      "cell_type": "markdown",
      "source": [
        "### Organization Table"
      ],
      "metadata": {
        "id": "3oqkbFKqb2c_"
      }
    },
    {
      "cell_type": "code",
      "source": [
        "organization_table = spark.sql(\"\"\"\n",
        "                            SELECT  DISTINCT p.IssuerId AS OrganizationId,\n",
        "                                    p.IssuerMarketPlaceMarketingName AS Name,\n",
        "                                    p.StateCode AS StateCode\n",
        "                            FROM plan_staging p\n",
        "\n",
        "\"\"\")\n",
        "\n",
        "organization_table.createOrReplaceTempView('organization_table')\n",
        "\n",
        "organization_table.show()\n"
      ],
      "metadata": {
        "colab": {
          "base_uri": "https://localhost:8080/"
        },
        "id": "E0G1_WcZb0Fi",
        "outputId": "f1eac9d1-8071-4d5e-9524-5069c34dbeee"
      },
      "execution_count": 31,
      "outputs": [
        {
          "output_type": "stream",
          "name": "stdout",
          "text": [
            "+--------------+--------------------+---------+\n",
            "|OrganizationId|                Name|StateCode|\n",
            "+--------------+--------------------+---------+\n",
            "|         23435|         BannerAetna|       AZ|\n",
            "|         34210| Renaissance Dental |       WI|\n",
            "|         27833|Ambetter of Illinois|       IL|\n",
            "|         60075|TRUASSURE INSURAN...|       AL|\n",
            "|         15833|            Guardian|       FL|\n",
            "|         91908|Oscar Insurance C...|       OK|\n",
            "|         24601|           BEST Life|       TN|\n",
            "|         47638|Retailers Insuran...|       MI|\n",
            "|         66759|   Dominion National|       NC|\n",
            "|         99969|           MedMutual|       OH|\n",
            "|         24832|Renaissance Life ...|       VA|\n",
            "|         85533|Imperial Insuranc...|       AZ|\n",
            "|         34968|             MetLife|       OH|\n",
            "|         17414|AmeriHealth Carit...|       NC|\n",
            "|         68398|    UnitedHealthcare|       FL|\n",
            "|         97560|    UnitedHealthcare|       MS|\n",
            "|         52664|           SummaCare|       OH|\n",
            "|         11904|      DentaQuest- LA|       LA|\n",
            "|         95426|    UnitedHealthcare|       MO|\n",
            "|         71788|       Delta Dental |       MT|\n",
            "+--------------+--------------------+---------+\n",
            "only showing top 20 rows\n",
            "\n"
          ]
        }
      ]
    },
    {
      "cell_type": "code",
      "source": [
        "organization_table.count()"
      ],
      "metadata": {
        "colab": {
          "base_uri": "https://localhost:8080/"
        },
        "id": "eQIMJmxbc0Zn",
        "outputId": "38aa9fe4-5456-4dca-a192-5a218f3b6d76"
      },
      "execution_count": 32,
      "outputs": [
        {
          "output_type": "execute_result",
          "data": {
            "text/plain": [
              "464"
            ]
          },
          "metadata": {},
          "execution_count": 32
        }
      ]
    },
    {
      "cell_type": "code",
      "source": [
        "organization_table.select(countDistinct(\"OrganizationId\")).show()\n"
      ],
      "metadata": {
        "colab": {
          "base_uri": "https://localhost:8080/"
        },
        "id": "4g99-iT2c4Pb",
        "outputId": "3be394bb-8a40-492f-c221-efa4362e25b4"
      },
      "execution_count": 33,
      "outputs": [
        {
          "output_type": "stream",
          "name": "stdout",
          "text": [
            "+------------------------------+\n",
            "|count(DISTINCT OrganizationId)|\n",
            "+------------------------------+\n",
            "|                           462|\n",
            "+------------------------------+\n",
            "\n"
          ]
        }
      ]
    },
    {
      "cell_type": "code",
      "source": [
        "organization_table = organization_table.drop_duplicates(['OrganizationId','Name','StateCode'])\n",
        "organization_table.count()"
      ],
      "metadata": {
        "colab": {
          "base_uri": "https://localhost:8080/"
        },
        "id": "ZDgN_ESPhnga",
        "outputId": "1336dc78-d562-48af-c564-7d6915388794"
      },
      "execution_count": 34,
      "outputs": [
        {
          "output_type": "execute_result",
          "data": {
            "text/plain": [
              "464"
            ]
          },
          "metadata": {},
          "execution_count": 34
        }
      ]
    },
    {
      "cell_type": "code",
      "source": [
        "from pyspark.sql.functions import desc\n",
        "\n",
        "most_common_value = organization_table.groupBy(\"OrganizationId\").count().orderBy(desc(\"count\")).first()[0]\n",
        "most_common_value"
      ],
      "metadata": {
        "colab": {
          "base_uri": "https://localhost:8080/",
          "height": 0
        },
        "id": "LCwdoxkQdpNs",
        "outputId": "b5058322-ca34-427e-eade-06d30fdab52f"
      },
      "execution_count": 35,
      "outputs": [
        {
          "output_type": "execute_result",
          "data": {
            "text/plain": [
              "'14630'"
            ],
            "application/vnd.google.colaboratory.intrinsic+json": {
              "type": "string"
            }
          },
          "metadata": {},
          "execution_count": 35
        }
      ]
    },
    {
      "cell_type": "code",
      "source": [
        "organization_table.filter(organization_table.OrganizationId ==\"36096\").show()"
      ],
      "metadata": {
        "colab": {
          "base_uri": "https://localhost:8080/"
        },
        "id": "S3sqLI1_dvSf",
        "outputId": "5c88b340-e712-4f88-d6c2-86c4b9af30ad"
      },
      "execution_count": 36,
      "outputs": [
        {
          "output_type": "stream",
          "name": "stdout",
          "text": [
            "+--------------+--------------------+---------+\n",
            "|OrganizationId|                Name|StateCode|\n",
            "+--------------+--------------------+---------+\n",
            "|         36096|Blue Cross and Bl...|       IL|\n",
            "+--------------+--------------------+---------+\n",
            "\n"
          ]
        }
      ]
    },
    {
      "cell_type": "code",
      "source": [
        "organization_table.filter(organization_table.Name ==\"OPM\").show(5)"
      ],
      "metadata": {
        "colab": {
          "base_uri": "https://localhost:8080/"
        },
        "id": "-xLkC4llfOK7",
        "outputId": "7004d015-90ec-438f-c629-eb915e5e954b"
      },
      "execution_count": 37,
      "outputs": [
        {
          "output_type": "stream",
          "name": "stdout",
          "text": [
            "+--------------+----+---------+\n",
            "|OrganizationId|Name|StateCode|\n",
            "+--------------+----+---------+\n",
            "+--------------+----+---------+\n",
            "\n"
          ]
        }
      ]
    },
    {
      "cell_type": "markdown",
      "source": [
        "From the exploration above we conclude that the issuer ID is not unique.\n",
        "Each organization can exist in different states and the identifier is the organiztion with the state code with the id (which represents the id of this organization in this state)\n",
        "if we take a closer look , the id has duplicates across the data , so we need to add a primary key"
      ],
      "metadata": {
        "id": "mQQV3YosgG5L"
      }
    },
    {
      "cell_type": "code",
      "source": [
        "organization_table = organization_table.withColumn(\"Id\", monotonically_increasing_id())\n",
        "organization_table.show(5)"
      ],
      "metadata": {
        "colab": {
          "base_uri": "https://localhost:8080/"
        },
        "id": "q25l73QsM7yG",
        "outputId": "a1ce0a65-7460-4a15-a00a-ce20e7bff520"
      },
      "execution_count": 38,
      "outputs": [
        {
          "output_type": "stream",
          "name": "stdout",
          "text": [
            "+--------------+--------------------+---------+---+\n",
            "|OrganizationId|                Name|StateCode| Id|\n",
            "+--------------+--------------------+---------+---+\n",
            "|         23435|         BannerAetna|       AZ|  0|\n",
            "|         34210| Renaissance Dental |       WI|  1|\n",
            "|         27833|Ambetter of Illinois|       IL|  2|\n",
            "|         60075|TRUASSURE INSURAN...|       AL|  3|\n",
            "|         15833|            Guardian|       FL|  4|\n",
            "+--------------+--------------------+---------+---+\n",
            "only showing top 5 rows\n",
            "\n"
          ]
        }
      ]
    },
    {
      "cell_type": "code",
      "source": [
        "# from pyspark.sql.functions import col\n",
        "\n",
        "# df_filtered = organization_table.groupBy(col(\"Id\")).count().filter(col(\"count\") > 1)\n",
        "# df_filtered.show()\n"
      ],
      "metadata": {
        "id": "ee7Yc2ireXJJ"
      },
      "execution_count": 39,
      "outputs": []
    },
    {
      "cell_type": "markdown",
      "source": [
        "### Network Table"
      ],
      "metadata": {
        "id": "dxy63gO4QilF"
      }
    },
    {
      "cell_type": "code",
      "source": [
        "network_table = spark.sql(\"\"\"\n",
        "                            SELECT  DISTINCT n.NetworkId AS NetworkId,\n",
        "                                    n.IssuerId AS OrganizationId,\n",
        "                                    n.NetworkName AS NetworkName,\n",
        "                                    n.StateCode AS StateCode,\n",
        "                                    n.BusinessYear AS Year\n",
        "\n",
        "                            FROM network_staging n\n",
        "\n",
        "\"\"\")\n",
        "network_table = network_table.withColumn(\"Id\", monotonically_increasing_id())\n",
        "\n",
        "network_table.createOrReplaceTempView('network_table')\n",
        "\n",
        "network_table.show(5)\n"
      ],
      "metadata": {
        "colab": {
          "base_uri": "https://localhost:8080/"
        },
        "id": "QNJeu0Z7QhdA",
        "outputId": "3e11610a-d484-402c-b7af-178473af4e6c"
      },
      "execution_count": 40,
      "outputs": [
        {
          "output_type": "stream",
          "name": "stdout",
          "text": [
            "+---------+--------------+--------------------+---------+----+---+\n",
            "|NetworkId|OrganizationId|         NetworkName|StateCode|Year| Id|\n",
            "+---------+--------------+--------------------+---------+----+---+\n",
            "|   INN001|         17575|   Pathway X HMO/POS|       IN|2015|  0|\n",
            "|   INN001|         20855|ADVANTAGE Health ...|       IN|2015|  1|\n",
            "|   ARN001|         67635|Lincoln DentalCon...|       AR|2015|  2|\n",
            "|   ORN001|         60257|  Renaissance Dental|       OR|2015|  3|\n",
            "|   ALN001|         28899|Ameritas PPO Dent...|       AL|2016|  4|\n",
            "+---------+--------------+--------------------+---------+----+---+\n",
            "only showing top 5 rows\n",
            "\n"
          ]
        }
      ]
    },
    {
      "cell_type": "code",
      "source": [
        "network_table.filter(network_table.NetworkName == \"Molina Marketplace\").show()"
      ],
      "metadata": {
        "colab": {
          "base_uri": "https://localhost:8080/"
        },
        "id": "5Sjx8zouSd9_",
        "outputId": "e78b3f84-4f2a-45c0-8623-d6fdaa407248"
      },
      "execution_count": 41,
      "outputs": [
        {
          "output_type": "stream",
          "name": "stdout",
          "text": [
            "+---------+--------------+------------------+---------+----+----+\n",
            "|NetworkId|OrganizationId|       NetworkName|StateCode|Year|  Id|\n",
            "+---------+--------------+------------------+---------+----+----+\n",
            "|   FLN001|         54172|Molina Marketplace|       FL|2015| 166|\n",
            "|   MIN001|         40047|Molina Marketplace|       MI|2014| 599|\n",
            "|   FLN001|         54172|Molina Marketplace|       FL|2016| 943|\n",
            "|   MIN001|         40047|Molina Marketplace|       MI|2016|1010|\n",
            "|   MIN001|         40047|Molina Marketplace|       MI|2015|1339|\n",
            "|   NMN001|         19722|Molina Marketplace|       NM|2015|3780|\n",
            "|   FLN001|         54172|Molina Marketplace|       FL|2014|4152|\n",
            "+---------+--------------+------------------+---------+----+----+\n",
            "\n"
          ]
        }
      ]
    },
    {
      "cell_type": "code",
      "source": [
        "network_table = network_table.drop_duplicates(['NetworkId','OrganizationId','NetworkName',\"StateCode\"])\n"
      ],
      "metadata": {
        "id": "C2rCP8Z8cQdx"
      },
      "execution_count": 42,
      "outputs": []
    },
    {
      "cell_type": "code",
      "source": [
        "network_table.filter(network_table.NetworkName == \"Molina Marketplace\").show()"
      ],
      "metadata": {
        "colab": {
          "base_uri": "https://localhost:8080/"
        },
        "id": "RXVxt1PMck75",
        "outputId": "41ebe806-ab5e-453f-a1b8-93a840c869d9"
      },
      "execution_count": 43,
      "outputs": [
        {
          "output_type": "stream",
          "name": "stdout",
          "text": [
            "+---------+--------------+------------------+---------+----+----+\n",
            "|NetworkId|OrganizationId|       NetworkName|StateCode|Year|  Id|\n",
            "+---------+--------------+------------------+---------+----+----+\n",
            "|   FLN001|         54172|Molina Marketplace|       FL|2015| 166|\n",
            "|   MIN001|         40047|Molina Marketplace|       MI|2014| 599|\n",
            "|   NMN001|         19722|Molina Marketplace|       NM|2015|3780|\n",
            "+---------+--------------+------------------+---------+----+----+\n",
            "\n"
          ]
        }
      ]
    },
    {
      "cell_type": "code",
      "source": [
        "network_table.filter(network_table.NetworkName == \"Phoenix HMOx\").show()"
      ],
      "metadata": {
        "colab": {
          "base_uri": "https://localhost:8080/"
        },
        "id": "Xu2cBrspTQGH",
        "outputId": "70984c61-d8b6-45c9-d059-6a24ccf68522"
      },
      "execution_count": 44,
      "outputs": [
        {
          "output_type": "stream",
          "name": "stdout",
          "text": [
            "+---------+--------------+------------+---------+----+----+\n",
            "|NetworkId|OrganizationId| NetworkName|StateCode|Year|  Id|\n",
            "+---------+--------------+------------+---------+----+----+\n",
            "|   AZN001|         23307|Phoenix HMOx|       AZ|2016|3258|\n",
            "+---------+--------------+------------+---------+----+----+\n",
            "\n"
          ]
        }
      ]
    },
    {
      "cell_type": "code",
      "source": [
        "network_table.filter(network_table.OrganizationId == \"19722\").show()"
      ],
      "metadata": {
        "colab": {
          "base_uri": "https://localhost:8080/"
        },
        "id": "suwqSEWYWAfr",
        "outputId": "de5adfdc-67e2-435c-f39c-6a3af3a10962"
      },
      "execution_count": 45,
      "outputs": [
        {
          "output_type": "stream",
          "name": "stdout",
          "text": [
            "+---------+--------------+--------------------+---------+----+----+\n",
            "|NetworkId|OrganizationId|         NetworkName|StateCode|Year|  Id|\n",
            "+---------+--------------+--------------------+---------+----+----+\n",
            "|   NMN001|         19722|Molina Healthcare...|       NM|2016|2429|\n",
            "|   NMN001|         19722|  Molina Marketplace|       NM|2015|3780|\n",
            "|   NMN001|         19722|Molina New Mexico...|       NM|2014|1197|\n",
            "|       No|         19722|          Individual|       NM|2017|3816|\n",
            "+---------+--------------+--------------------+---------+----+----+\n",
            "\n"
          ]
        }
      ]
    },
    {
      "cell_type": "code",
      "source": [
        "network_table.filter(network_table.OrganizationId == \"40047\").show()"
      ],
      "metadata": {
        "colab": {
          "base_uri": "https://localhost:8080/"
        },
        "id": "LqyqK-ifU9hT",
        "outputId": "f887386e-f84a-45ed-d4e0-e2ca42f9f8a1"
      },
      "execution_count": 46,
      "outputs": [
        {
          "output_type": "stream",
          "name": "stdout",
          "text": [
            "+---------+--------------+------------------+---------+----+----+\n",
            "|NetworkId|OrganizationId|       NetworkName|StateCode|Year|  Id|\n",
            "+---------+--------------+------------------+---------+----+----+\n",
            "|   MIN001|         40047|Molina Marketplace|       MI|2014| 599|\n",
            "|       No|         40047|        Individual|       MI|2017|2508|\n",
            "+---------+--------------+------------------+---------+----+----+\n",
            "\n"
          ]
        }
      ]
    },
    {
      "cell_type": "code",
      "source": [
        "# unique_network_ids = network_table.select(\"NetworkId\").distinct().collect()\n",
        "# unique_network_ids"
      ],
      "metadata": {
        "id": "uIHaUCMBWJmX"
      },
      "execution_count": 47,
      "outputs": []
    },
    {
      "cell_type": "markdown",
      "source": [
        "#### Clean Network table"
      ],
      "metadata": {
        "id": "u1iM5jUSbOZD"
      }
    },
    {
      "cell_type": "code",
      "source": [
        "network_table = network_table.filter(~col(\"NetworkId\").isin(\"No\",\"Yes\",\"Individual\") & ~col(\"networkId\").isNull())\n",
        "network_table.show(5)\n"
      ],
      "metadata": {
        "colab": {
          "base_uri": "https://localhost:8080/"
        },
        "id": "KlrFWo46W-US",
        "outputId": "fed9dea8-5185-4cab-b050-5f2cf040d78f"
      },
      "execution_count": 48,
      "outputs": [
        {
          "output_type": "stream",
          "name": "stdout",
          "text": [
            "+---------+--------------+--------------------+---------+----+----+\n",
            "|NetworkId|OrganizationId|         NetworkName|StateCode|Year|  Id|\n",
            "+---------+--------------+--------------------+---------+----+----+\n",
            "|   AKN001|         21989|Delta Dental Premier|       AK|2016|3467|\n",
            "|   AKN001|         21989|         ODS Premier|       AK|2014|1794|\n",
            "|   AKN001|         38344|        HeritagePlus|       AK|2014|1372|\n",
            "|   AKN001|         38344|HeritagePlus and ...|       AK|2016|1064|\n",
            "|   AKN001|         38536|Lincoln Dental Co...|       AK|2014|1971|\n",
            "+---------+--------------+--------------------+---------+----+----+\n",
            "only showing top 5 rows\n",
            "\n"
          ]
        }
      ]
    },
    {
      "cell_type": "markdown",
      "source": [
        "So a network can exist in different states but it exists only for one organization in that state.\n",
        "An organization can have only one network in the state."
      ],
      "metadata": {
        "id": "jtHpqzB4UuFu"
      }
    },
    {
      "cell_type": "code",
      "source": [
        "network_table.filter(network_table.NetworkId == \"AKN001\").show()"
      ],
      "metadata": {
        "colab": {
          "base_uri": "https://localhost:8080/"
        },
        "id": "2GAhNkOFTe7J",
        "outputId": "11cbeae5-7034-4f5a-a01c-9ed3b4fb7c80"
      },
      "execution_count": 49,
      "outputs": [
        {
          "output_type": "stream",
          "name": "stdout",
          "text": [
            "+---------+--------------+--------------------+---------+----+----+\n",
            "|NetworkId|OrganizationId|         NetworkName|StateCode|Year|  Id|\n",
            "+---------+--------------+--------------------+---------+----+----+\n",
            "|   AKN001|         21989|Delta Dental Premier|       AK|2016|3467|\n",
            "|   AKN001|         21989|         ODS Premier|       AK|2014|1794|\n",
            "|   AKN001|         38344|        HeritagePlus|       AK|2014|1372|\n",
            "|   AKN001|         38344|HeritagePlus and ...|       AK|2016|1064|\n",
            "|   AKN001|         38536|Lincoln Dental Co...|       AK|2014|1971|\n",
            "|   AKN001|         38536|Lincoln DentalCon...|       AK|2015|1436|\n",
            "|   AKN001|         42507|DentalGuard Prefe...|       AK|2014|3591|\n",
            "|   AKN001|         45858|Ameritas PPO Dent...|       AK|2016| 224|\n",
            "|   AKN001|         47904|  Renaissance Dental|       AK|2016| 584|\n",
            "|   AKN001|         58670|           Indemnity|       AK|2016|1315|\n",
            "|   AKN001|         58670|           indemnity|       AK|2015|4223|\n",
            "|   AKN001|         73836|     Endeavor Select|       AK|2016|1441|\n",
            "|   AKN001|         73836|Moda Plus AK Regi...|       AK|2014|2242|\n",
            "|   AKN001|         74819|BEST Life Nationwide|       AK|2016| 836|\n",
            "|   AKN001|         74819|    CONNECTIONDental|       AK|2015|3763|\n",
            "|   AKN001|         74819|            DenteMax|       AK|2014|2377|\n",
            "|   AKN001|         81761|Ameritas PPO Dent...|       AK|2015|  34|\n",
            "|   AKN001|         84394|Principal Plan De...|       AK|2015|3718|\n",
            "|   AKN001|         84859|Ameritas PPO Dent...|       AK|2015| 671|\n",
            "|   AKN001|         96211|Connection Dental...|       AK|2015|1724|\n",
            "+---------+--------------+--------------------+---------+----+----+\n",
            "\n"
          ]
        }
      ]
    },
    {
      "cell_type": "code",
      "source": [
        "network_table.createOrReplaceTempView('network_table')\n"
      ],
      "metadata": {
        "id": "5qjt9gchyoWI"
      },
      "execution_count": 50,
      "outputs": []
    },
    {
      "cell_type": "markdown",
      "source": [
        "### Plan Table"
      ],
      "metadata": {
        "id": "Ms65CsKYQq1o"
      }
    },
    {
      "cell_type": "code",
      "source": [
        "plan_table = spark.sql(\"\"\"\n",
        "                            SELECT  DISTINCT p.StandardComponentId AS Id,\n",
        "                                    n.Id AS NetworkId\n",
        "\n",
        "                            FROM plan_staging p\n",
        "                            JOIN network_table n\n",
        "                            ON n.NetworkId == p.NetworkId\n",
        "                            AND n.OrganizationId == p.IssuerId\n",
        "                            AND n.StateCode == p.StateCode\n",
        "\n",
        "\"\"\")\n",
        "# plan_table = plan_table.withColumn(\"plan_id\", monotonically_increasing_id())\n",
        "\n",
        "plan_table.createOrReplaceTempView('plan_table')\n",
        "\n",
        "plan_table.show(5)\n"
      ],
      "metadata": {
        "colab": {
          "base_uri": "https://localhost:8080/"
        },
        "id": "rxM6O-6gQu-m",
        "outputId": "d8276ff6-178d-4c02-acf7-1bdefb397ffa"
      },
      "execution_count": 51,
      "outputs": [
        {
          "output_type": "stream",
          "name": "stdout",
          "text": [
            "+--------------+---------+\n",
            "|            Id|NetworkId|\n",
            "+--------------+---------+\n",
            "|28725AL0120002|     2854|\n",
            "|16842FL0120076|      909|\n",
            "|18628FL0160035|     1342|\n",
            "|48129FL0080004|     1272|\n",
            "|43802GA0040027|     4014|\n",
            "+--------------+---------+\n",
            "only showing top 5 rows\n",
            "\n"
          ]
        }
      ]
    },
    {
      "cell_type": "code",
      "source": [
        "plan_table.count()"
      ],
      "metadata": {
        "colab": {
          "base_uri": "https://localhost:8080/"
        },
        "id": "u3iHvkVjQvck",
        "outputId": "63bd6873-83a4-48b9-c9ac-ce65c5ebe743"
      },
      "execution_count": 52,
      "outputs": [
        {
          "output_type": "execute_result",
          "data": {
            "text/plain": [
              "7963"
            ]
          },
          "metadata": {},
          "execution_count": 52
        }
      ]
    },
    {
      "cell_type": "code",
      "source": [
        "plan_table.select(countDistinct(\"Id\")).show()\n"
      ],
      "metadata": {
        "colab": {
          "base_uri": "https://localhost:8080/"
        },
        "id": "4b6iIp6fS6g4",
        "outputId": "9a78ce77-d33a-46b3-eac8-f571bd94f17b"
      },
      "execution_count": 53,
      "outputs": [
        {
          "output_type": "stream",
          "name": "stdout",
          "text": [
            "+------------------+\n",
            "|count(DISTINCT Id)|\n",
            "+------------------+\n",
            "|              4922|\n",
            "+------------------+\n",
            "\n"
          ]
        }
      ]
    },
    {
      "cell_type": "code",
      "source": [
        "plan_table.filter(plan_table.Id == \"21989AK0030001\").show()"
      ],
      "metadata": {
        "colab": {
          "base_uri": "https://localhost:8080/"
        },
        "id": "tfCclrZcTJq2",
        "outputId": "c7924cca-b530-44f7-dbdf-ea9928771742"
      },
      "execution_count": 54,
      "outputs": [
        {
          "output_type": "stream",
          "name": "stdout",
          "text": [
            "+--------------+---------+\n",
            "|            Id|NetworkId|\n",
            "+--------------+---------+\n",
            "|21989AK0030001|     3467|\n",
            "|21989AK0030001|     1794|\n",
            "+--------------+---------+\n",
            "\n"
          ]
        }
      ]
    },
    {
      "cell_type": "code",
      "source": [
        "network_table.filter(network_table.Id == 3467).show()"
      ],
      "metadata": {
        "colab": {
          "base_uri": "https://localhost:8080/"
        },
        "id": "ffnmvokwVAhQ",
        "outputId": "7b646e21-d25e-44fd-9ef9-1efe277d1ee7"
      },
      "execution_count": 55,
      "outputs": [
        {
          "output_type": "stream",
          "name": "stdout",
          "text": [
            "+---------+--------------+--------------------+---------+----+----+\n",
            "|NetworkId|OrganizationId|         NetworkName|StateCode|Year|  Id|\n",
            "+---------+--------------+--------------------+---------+----+----+\n",
            "|   AKN001|         21989|Delta Dental Premier|       AK|2016|3467|\n",
            "+---------+--------------+--------------------+---------+----+----+\n",
            "\n"
          ]
        }
      ]
    },
    {
      "cell_type": "code",
      "source": [
        "network_table.filter(network_table.Id == 1794).show()"
      ],
      "metadata": {
        "colab": {
          "base_uri": "https://localhost:8080/"
        },
        "id": "_xFzEHdNlb-j",
        "outputId": "6c832927-ad96-4076-fb68-929c6a87c638"
      },
      "execution_count": 56,
      "outputs": [
        {
          "output_type": "stream",
          "name": "stdout",
          "text": [
            "+---------+--------------+-----------+---------+----+----+\n",
            "|NetworkId|OrganizationId|NetworkName|StateCode|Year|  Id|\n",
            "+---------+--------------+-----------+---------+----+----+\n",
            "|   AKN001|         21989|ODS Premier|       AK|2014|1794|\n",
            "+---------+--------------+-----------+---------+----+----+\n",
            "\n"
          ]
        }
      ]
    },
    {
      "cell_type": "code",
      "source": [
        "df_network_raw.filter((df_network_raw.NetworkId ==\"AKN001\" )& (df_network_raw.IssuerId ==\"21989\" ) & (df_network_raw.StateCode ==\"AK\")).show()"
      ],
      "metadata": {
        "colab": {
          "base_uri": "https://localhost:8080/"
        },
        "id": "cMa6v4E_Vfg1",
        "outputId": "79be87b9-5f49-4c66-99c4-f3f9901b6a84"
      },
      "execution_count": 57,
      "outputs": [
        {
          "output_type": "stream",
          "name": "stdout",
          "text": [
            "+------------+---------+--------+----------+----------+-------------------+---------+----------+--------------------+---------+--------------------+---------+--------------+----------+\n",
            "|BusinessYear|StateCode|IssuerId|SourceName|VersionNum|         ImportDate|IssuerId2|StateCode2|         NetworkName|NetworkId|          NetworkURL|RowNumber|MarketCoverage|DentalOnly|\n",
            "+------------+---------+--------+----------+----------+-------------------+---------+----------+--------------------+---------+--------------------+---------+--------------+----------+\n",
            "|        2015|       AK|   21989|      HIOS|         4|2014-08-08 08:53:29|    21989|        AK|Delta Dental Premier|   AKN001|https://www.modah...|       14|          NULL|      NULL|\n",
            "|        2016|       AK|   21989|      HIOS|         4|2015-08-22 15:09:32|    21989|        AK|Delta Dental Premier|   AKN001|https://www.modah...|       13|          NULL|      NULL|\n",
            "|        2014|       AK|   21989|      HIOS|         6|2014-03-19 07:06:49|    21989|        AK|         ODS Premier|   AKN001|https://www.modah...|       13|          NULL|      NULL|\n",
            "+------------+---------+--------+----------+----------+-------------------+---------+----------+--------------------+---------+--------------------+---------+--------------+----------+\n",
            "\n"
          ]
        }
      ]
    },
    {
      "cell_type": "markdown",
      "source": [
        "This means that Network's name may change over years and that is why there is duplicates in this table so the primary key is both of the fields."
      ],
      "metadata": {
        "id": "a79jj1ltzFUh"
      }
    },
    {
      "cell_type": "markdown",
      "source": [
        "### Plan Variant Table"
      ],
      "metadata": {
        "id": "gSv94dvAmasO"
      }
    },
    {
      "cell_type": "code",
      "source": [
        "plan_variant_table = spark.sql(\"\"\"\n",
        "                            SELECT  DISTINCT p.PlanId AS Id,\n",
        "                                    p.StandardComponentId AS PlanId,\n",
        "                                    p.PlanMarketingName AS Name,\n",
        "                                    p.MarketCoverage AS MarketCoverage,\n",
        "                                    p.BusinessYear AS Year,\n",
        "                                    p.IsNewPlan AS IsNewPlan,\n",
        "                                    p.PlanType AS PlanType,\n",
        "                                    r.Age AS Age,\n",
        "                                    r.IndividualRate AS IndividualRate,\n",
        "                                    r.IndividualTobaccoRate AS IndividualTobaccoRate,\n",
        "                                    r.Couple AS Couple,\n",
        "                                    r.PrimarySubscriberAndOneDependent AS PrimarySubscriberAndOneDependent,\n",
        "                                    r.PrimarySubscriberAndTwoDependents AS PrimarySubscriberAndTwoDependents,\n",
        "                                    r.PrimarySubscriberAndThreeOrMoreDependents AS PrimarySubscriberAndThreeOrMoreDependents,\n",
        "                                    r.CoupleAndOneDependent AS CoupleAndOneDependent,\n",
        "                                    r.CoupleAndTwoDependents AS CoupleAndTwoDependents,\n",
        "                                    r.CoupleAndThreeOrMoreDependents AS CoupleAndThreeOrMoreDependents\n",
        "\n",
        "                            FROM plan_staging p\n",
        "                            INNER JOIN rate_staging r\n",
        "                            ON p.StandardComponentId == r.PlanId\n",
        "\n",
        "\"\"\")\n",
        "# plan_table = plan_table.withColumn(\"plan_id\", monotonically_increasing_id())\n",
        "\n",
        "\n",
        "plan_variant_table.show(5)\n"
      ],
      "metadata": {
        "colab": {
          "base_uri": "https://localhost:8080/"
        },
        "id": "GBte3b04zcNe",
        "outputId": "d350aa2d-7986-44c9-ace6-d54e7c0a954a"
      },
      "execution_count": 58,
      "outputs": [
        {
          "output_type": "stream",
          "name": "stdout",
          "text": [
            "+-----------------+--------------+--------------------+------------------+----+---------+--------+----+--------------+---------------------+------+--------------------------------+---------------------------------+-----------------------------------------+---------------------+----------------------+------------------------------+\n",
            "|               Id|        PlanId|                Name|    MarketCoverage|Year|IsNewPlan|PlanType| Age|IndividualRate|IndividualTobaccoRate|Couple|PrimarySubscriberAndOneDependent|PrimarySubscriberAndTwoDependents|PrimarySubscriberAndThreeOrMoreDependents|CoupleAndOneDependent|CoupleAndTwoDependents|CoupleAndThreeOrMoreDependents|\n",
            "+-----------------+--------------+--------------------+------------------+----+---------+--------+----+--------------+---------------------+------+--------------------------------+---------------------------------+-----------------------------------------+---------------------+----------------------+------------------------------+\n",
            "|46944AL0430001-01|46944AL0430001|Blue Saver Bronze...|SHOP (Small Group)|2023| Existing|     PPO|0-20|        108.40|                 NULL|  NULL|                            NULL|                             NULL|                                     NULL|                 NULL|                  NULL|                          NULL|\n",
            "|46944AL0430001-00|46944AL0430001|Blue Saver Bronze...|SHOP (Small Group)|2023| Existing|     PPO|0-20|        108.40|                 NULL|  NULL|                            NULL|                             NULL|                                     NULL|                 NULL|                  NULL|                          NULL|\n",
            "|46944AL0430001-01|46944AL0430001|Blue Saver Bronze...|SHOP (Small Group)|2023| Existing|     PPO|0-20|        110.25|                 NULL|  NULL|                            NULL|                             NULL|                                     NULL|                 NULL|                  NULL|                          NULL|\n",
            "|46944AL0430001-00|46944AL0430001|Blue Saver Bronze...|SHOP (Small Group)|2023| Existing|     PPO|0-20|        110.25|                 NULL|  NULL|                            NULL|                             NULL|                                     NULL|                 NULL|                  NULL|                          NULL|\n",
            "|46944AL0430001-01|46944AL0430001|Blue Saver Bronze...|SHOP (Small Group)|2023| Existing|     PPO|0-20|        112.13|                 NULL|  NULL|                            NULL|                             NULL|                                     NULL|                 NULL|                  NULL|                          NULL|\n",
            "+-----------------+--------------+--------------------+------------------+----+---------+--------+----+--------------+---------------------+------+--------------------------------+---------------------------------+-----------------------------------------+---------------------+----------------------+------------------------------+\n",
            "only showing top 5 rows\n",
            "\n"
          ]
        }
      ]
    },
    {
      "cell_type": "code",
      "source": [
        "plan_variant_table = plan_variant_table.drop_duplicates(['Id','Age','year'])\n"
      ],
      "metadata": {
        "id": "3jISd-9cTQk_"
      },
      "execution_count": 59,
      "outputs": []
    },
    {
      "cell_type": "code",
      "source": [
        "plan_variant_table.filter(plan_variant_table.PlanId ==\"11083MI0100001\").show(60)"
      ],
      "metadata": {
        "colab": {
          "base_uri": "https://localhost:8080/"
        },
        "id": "IbJb4lKcRL7c",
        "outputId": "bcfdcbb5-6d0d-4780-ba72-2305c91fc1be"
      },
      "execution_count": 60,
      "outputs": [
        {
          "output_type": "stream",
          "name": "stdout",
          "text": [
            "+-----------------+--------------+--------------------+------------------+----+---------+--------+-----------+--------------+---------------------+------+--------------------------------+---------------------------------+-----------------------------------------+---------------------+----------------------+------------------------------+\n",
            "|               Id|        PlanId|                Name|    MarketCoverage|Year|IsNewPlan|PlanType|        Age|IndividualRate|IndividualTobaccoRate|Couple|PrimarySubscriberAndOneDependent|PrimarySubscriberAndTwoDependents|PrimarySubscriberAndThreeOrMoreDependents|CoupleAndOneDependent|CoupleAndTwoDependents|CoupleAndThreeOrMoreDependents|\n",
            "+-----------------+--------------+--------------------+------------------+----+---------+--------+-----------+--------------+---------------------+------+--------------------------------+---------------------------------+-----------------------------------------+---------------------+----------------------+------------------------------+\n",
            "|11083MI0100001-00|11083MI0100001|EHB Basic Dental ...|SHOP (Small Group)|2023| Existing|     PPO|         22|       1022.00|                 NULL|  NULL|                            NULL|                             NULL|                                     NULL|                 NULL|                  NULL|                          NULL|\n",
            "|11083MI0100001-00|11083MI0100001|EHB Basic Dental ...|SHOP (Small Group)|2023| Existing|     PPO|         23|       1023.00|                 NULL|  NULL|                            NULL|                             NULL|                                     NULL|                 NULL|                  NULL|                          NULL|\n",
            "|11083MI0100001-00|11083MI0100001|EHB Basic Dental ...|SHOP (Small Group)|2023| Existing|     PPO|         24|       1024.00|                 NULL|  NULL|                            NULL|                             NULL|                                     NULL|                 NULL|                  NULL|                          NULL|\n",
            "|11083MI0100001-00|11083MI0100001|EHB Basic Dental ...|SHOP (Small Group)|2023| Existing|     PPO|         26|       1026.00|                 NULL|  NULL|                            NULL|                             NULL|                                     NULL|                 NULL|                  NULL|                          NULL|\n",
            "|11083MI0100001-00|11083MI0100001|EHB Basic Dental ...|SHOP (Small Group)|2023| Existing|     PPO|         28|       1028.00|                 NULL|  NULL|                            NULL|                             NULL|                                     NULL|                 NULL|                  NULL|                          NULL|\n",
            "|11083MI0100001-00|11083MI0100001|EHB Basic Dental ...|SHOP (Small Group)|2023| Existing|     PPO|         29|       1029.00|                 NULL|  NULL|                            NULL|                             NULL|                                     NULL|                 NULL|                  NULL|                          NULL|\n",
            "|11083MI0100001-00|11083MI0100001|EHB Basic Dental ...|SHOP (Small Group)|2023| Existing|     PPO|         30|       1030.00|                 NULL|  NULL|                            NULL|                             NULL|                                     NULL|                 NULL|                  NULL|                          NULL|\n",
            "|11083MI0100001-00|11083MI0100001|EHB Basic Dental ...|SHOP (Small Group)|2023| Existing|     PPO|         32|       1032.00|                 NULL|  NULL|                            NULL|                             NULL|                                     NULL|                 NULL|                  NULL|                          NULL|\n",
            "|11083MI0100001-00|11083MI0100001|EHB Basic Dental ...|SHOP (Small Group)|2023| Existing|     PPO|         34|       1034.00|                 NULL|  NULL|                            NULL|                             NULL|                                     NULL|                 NULL|                  NULL|                          NULL|\n",
            "|11083MI0100001-00|11083MI0100001|EHB Basic Dental ...|SHOP (Small Group)|2023| Existing|     PPO|         35|       1035.00|                 NULL|  NULL|                            NULL|                             NULL|                                     NULL|                 NULL|                  NULL|                          NULL|\n",
            "|11083MI0100001-00|11083MI0100001|EHB Basic Dental ...|SHOP (Small Group)|2023| Existing|     PPO|         36|       1036.00|                 NULL|  NULL|                            NULL|                             NULL|                                     NULL|                 NULL|                  NULL|                          NULL|\n",
            "|11083MI0100001-00|11083MI0100001|EHB Basic Dental ...|SHOP (Small Group)|2023| Existing|     PPO|         37|       1037.00|                 NULL|  NULL|                            NULL|                             NULL|                                     NULL|                 NULL|                  NULL|                          NULL|\n",
            "|11083MI0100001-00|11083MI0100001|EHB Basic Dental ...|SHOP (Small Group)|2023| Existing|     PPO|         39|       1039.00|                 NULL|  NULL|                            NULL|                             NULL|                                     NULL|                 NULL|                  NULL|                          NULL|\n",
            "|11083MI0100001-00|11083MI0100001|EHB Basic Dental ...|SHOP (Small Group)|2023| Existing|     PPO|         40|       1040.00|                 NULL|  NULL|                            NULL|                             NULL|                                     NULL|                 NULL|                  NULL|                          NULL|\n",
            "|11083MI0100001-00|11083MI0100001|EHB Basic Dental ...|SHOP (Small Group)|2023| Existing|     PPO|         41|       1041.00|                 NULL|  NULL|                            NULL|                             NULL|                                     NULL|                 NULL|                  NULL|                          NULL|\n",
            "|11083MI0100001-00|11083MI0100001|EHB Basic Dental ...|SHOP (Small Group)|2023| Existing|     PPO|         42|       1042.00|                 NULL|  NULL|                            NULL|                             NULL|                                     NULL|                 NULL|                  NULL|                          NULL|\n",
            "|11083MI0100001-00|11083MI0100001|EHB Basic Dental ...|SHOP (Small Group)|2023| Existing|     PPO|         45|       1045.00|                 NULL|  NULL|                            NULL|                             NULL|                                     NULL|                 NULL|                  NULL|                          NULL|\n",
            "|11083MI0100001-00|11083MI0100001|EHB Basic Dental ...|SHOP (Small Group)|2023| Existing|     PPO|         46|       1046.00|                 NULL|  NULL|                            NULL|                             NULL|                                     NULL|                 NULL|                  NULL|                          NULL|\n",
            "|11083MI0100001-00|11083MI0100001|EHB Basic Dental ...|SHOP (Small Group)|2023| Existing|     PPO|         47|       1047.00|                 NULL|  NULL|                            NULL|                             NULL|                                     NULL|                 NULL|                  NULL|                          NULL|\n",
            "|11083MI0100001-00|11083MI0100001|EHB Basic Dental ...|SHOP (Small Group)|2023| Existing|     PPO|         48|       1048.00|                 NULL|  NULL|                            NULL|                             NULL|                                     NULL|                 NULL|                  NULL|                          NULL|\n",
            "|11083MI0100001-00|11083MI0100001|EHB Basic Dental ...|SHOP (Small Group)|2023| Existing|     PPO|         50|       1050.00|                 NULL|  NULL|                            NULL|                             NULL|                                     NULL|                 NULL|                  NULL|                          NULL|\n",
            "|11083MI0100001-00|11083MI0100001|EHB Basic Dental ...|SHOP (Small Group)|2023| Existing|     PPO|         52|       1052.00|                 NULL|  NULL|                            NULL|                             NULL|                                     NULL|                 NULL|                  NULL|                          NULL|\n",
            "|11083MI0100001-00|11083MI0100001|EHB Basic Dental ...|SHOP (Small Group)|2023| Existing|     PPO|         53|       1053.00|                 NULL|  NULL|                            NULL|                             NULL|                                     NULL|                 NULL|                  NULL|                          NULL|\n",
            "|11083MI0100001-00|11083MI0100001|EHB Basic Dental ...|SHOP (Small Group)|2023| Existing|     PPO|         54|       1054.00|                 NULL|  NULL|                            NULL|                             NULL|                                     NULL|                 NULL|                  NULL|                          NULL|\n",
            "|11083MI0100001-00|11083MI0100001|EHB Basic Dental ...|SHOP (Small Group)|2023| Existing|     PPO|         55|       1055.00|                 NULL|  NULL|                            NULL|                             NULL|                                     NULL|                 NULL|                  NULL|                          NULL|\n",
            "|11083MI0100001-00|11083MI0100001|EHB Basic Dental ...|SHOP (Small Group)|2023| Existing|     PPO|         59|       1059.00|                 NULL|  NULL|                            NULL|                             NULL|                                     NULL|                 NULL|                  NULL|                          NULL|\n",
            "|11083MI0100001-00|11083MI0100001|EHB Basic Dental ...|SHOP (Small Group)|2023| Existing|     PPO|         60|       1060.00|                 NULL|  NULL|                            NULL|                             NULL|                                     NULL|                 NULL|                  NULL|                          NULL|\n",
            "|11083MI0100001-00|11083MI0100001|EHB Basic Dental ...|SHOP (Small Group)|2023| Existing|     PPO|         61|       1061.00|                 NULL|  NULL|                            NULL|                             NULL|                                     NULL|                 NULL|                  NULL|                          NULL|\n",
            "|11083MI0100001-00|11083MI0100001|EHB Basic Dental ...|SHOP (Small Group)|2023| Existing|     PPO|         63|       1063.00|                 NULL|  NULL|                            NULL|                             NULL|                                     NULL|                 NULL|                  NULL|                          NULL|\n",
            "|11083MI0100001-00|11083MI0100001|EHB Basic Dental ...|SHOP (Small Group)|2023| Existing|     PPO|       0-20|         26.59|                 NULL|  NULL|                            NULL|                             NULL|                                     NULL|                 NULL|                  NULL|                          NULL|\n",
            "|11083MI0100001-00|11083MI0100001|EHB Basic Dental ...|SHOP (Small Group)|2023| Existing|     PPO|         21|       1021.00|                 NULL|  NULL|                            NULL|                             NULL|                                     NULL|                 NULL|                  NULL|                          NULL|\n",
            "|11083MI0100001-00|11083MI0100001|EHB Basic Dental ...|SHOP (Small Group)|2023| Existing|     PPO|         25|       1025.00|                 NULL|  NULL|                            NULL|                             NULL|                                     NULL|                 NULL|                  NULL|                          NULL|\n",
            "|11083MI0100001-00|11083MI0100001|EHB Basic Dental ...|SHOP (Small Group)|2023| Existing|     PPO|         27|       1027.00|                 NULL|  NULL|                            NULL|                             NULL|                                     NULL|                 NULL|                  NULL|                          NULL|\n",
            "|11083MI0100001-00|11083MI0100001|EHB Basic Dental ...|SHOP (Small Group)|2023| Existing|     PPO|         31|       1031.00|                 NULL|  NULL|                            NULL|                             NULL|                                     NULL|                 NULL|                  NULL|                          NULL|\n",
            "|11083MI0100001-00|11083MI0100001|EHB Basic Dental ...|SHOP (Small Group)|2023| Existing|     PPO|         33|       1033.00|                 NULL|  NULL|                            NULL|                             NULL|                                     NULL|                 NULL|                  NULL|                          NULL|\n",
            "|11083MI0100001-00|11083MI0100001|EHB Basic Dental ...|SHOP (Small Group)|2023| Existing|     PPO|         38|       1038.00|                 NULL|  NULL|                            NULL|                             NULL|                                     NULL|                 NULL|                  NULL|                          NULL|\n",
            "|11083MI0100001-00|11083MI0100001|EHB Basic Dental ...|SHOP (Small Group)|2023| Existing|     PPO|         43|       1043.00|                 NULL|  NULL|                            NULL|                             NULL|                                     NULL|                 NULL|                  NULL|                          NULL|\n",
            "|11083MI0100001-00|11083MI0100001|EHB Basic Dental ...|SHOP (Small Group)|2023| Existing|     PPO|         44|       1044.00|                 NULL|  NULL|                            NULL|                             NULL|                                     NULL|                 NULL|                  NULL|                          NULL|\n",
            "|11083MI0100001-00|11083MI0100001|EHB Basic Dental ...|SHOP (Small Group)|2023| Existing|     PPO|         49|       1049.00|                 NULL|  NULL|                            NULL|                             NULL|                                     NULL|                 NULL|                  NULL|                          NULL|\n",
            "|11083MI0100001-00|11083MI0100001|EHB Basic Dental ...|SHOP (Small Group)|2023| Existing|     PPO|         51|       1051.00|                 NULL|  NULL|                            NULL|                             NULL|                                     NULL|                 NULL|                  NULL|                          NULL|\n",
            "|11083MI0100001-00|11083MI0100001|EHB Basic Dental ...|SHOP (Small Group)|2023| Existing|     PPO|         56|       1056.00|                 NULL|  NULL|                            NULL|                             NULL|                                     NULL|                 NULL|                  NULL|                          NULL|\n",
            "|11083MI0100001-00|11083MI0100001|EHB Basic Dental ...|SHOP (Small Group)|2023| Existing|     PPO|         57|       1057.00|                 NULL|  NULL|                            NULL|                             NULL|                                     NULL|                 NULL|                  NULL|                          NULL|\n",
            "|11083MI0100001-00|11083MI0100001|EHB Basic Dental ...|SHOP (Small Group)|2023| Existing|     PPO|         58|       1058.00|                 NULL|  NULL|                            NULL|                             NULL|                                     NULL|                 NULL|                  NULL|                          NULL|\n",
            "|11083MI0100001-00|11083MI0100001|EHB Basic Dental ...|SHOP (Small Group)|2023| Existing|     PPO|         62|       1062.00|                 NULL|  NULL|                            NULL|                             NULL|                                     NULL|                 NULL|                  NULL|                          NULL|\n",
            "|11083MI0100001-00|11083MI0100001|EHB Basic Dental ...|SHOP (Small Group)|2023| Existing|     PPO|         64|       1064.00|                 NULL|  NULL|                            NULL|                             NULL|                                     NULL|                 NULL|                  NULL|                          NULL|\n",
            "|11083MI0100001-00|11083MI0100001|EHB Basic Dental ...|SHOP (Small Group)|2023| Existing|     PPO|65 and over|       1065.00|                 NULL|  NULL|                            NULL|                             NULL|                                     NULL|                 NULL|                  NULL|                          NULL|\n",
            "+-----------------+--------------+--------------------+------------------+----+---------+--------+-----------+--------------+---------------------+------+--------------------------------+---------------------------------+-----------------------------------------+---------------------+----------------------+------------------------------+\n",
            "\n"
          ]
        }
      ]
    },
    {
      "cell_type": "code",
      "source": [
        "plan_variant_table.createOrReplaceTempView('plan_variant_table')"
      ],
      "metadata": {
        "id": "mnxiso2xU4Jv"
      },
      "execution_count": 61,
      "outputs": []
    },
    {
      "cell_type": "markdown",
      "source": [
        "## Step 4 : Data Analysis\n"
      ],
      "metadata": {
        "id": "kG3ax188TeCx"
      }
    },
    {
      "cell_type": "markdown",
      "source": [
        "Show the Top 5 Networks with the greatest number of organizations"
      ],
      "metadata": {
        "id": "mGviCnguTq6F"
      }
    },
    {
      "cell_type": "code",
      "source": [
        "\n",
        "network_counts = network_table.groupBy(\"NetworkId\").count()\n",
        "\n",
        "result = network_counts.join(network_table, \"NetworkId\")\n",
        "\n",
        "network_name_counts = result.groupBy(\"NetworkName\").count()\n",
        "\n",
        "top_networks = network_name_counts.orderBy(desc(\"count\")).limit(5).select(\"NetworkName\", \"count\")\n",
        "\n",
        "top_networks.show()\n",
        "\n"
      ],
      "metadata": {
        "colab": {
          "base_uri": "https://localhost:8080/"
        },
        "id": "gJsuc5TMTiqx",
        "outputId": "15ef254e-a9f4-46b0-99c4-8d3006dff102"
      },
      "execution_count": 62,
      "outputs": [
        {
          "output_type": "stream",
          "name": "stdout",
          "text": [
            "+--------------------+-----+\n",
            "|         NetworkName|count|\n",
            "+--------------------+-----+\n",
            "|Ameritas PPO Dent...|   96|\n",
            "|            DenteMax|   54|\n",
            "|        Delta Dental|   38|\n",
            "| Dentegra Dental PPO|   36|\n",
            "|  Renaissance Dental|   34|\n",
            "+--------------------+-----+\n",
            "\n"
          ]
        }
      ]
    },
    {
      "cell_type": "markdown",
      "source": [
        "The Plans with the highest Individual Rate for Each Age for Year 2023\n",
        "\n",
        "---\n",
        "\n"
      ],
      "metadata": {
        "id": "DCvtwdAZc9Xs"
      }
    },
    {
      "cell_type": "code",
      "source": [
        "from pyspark.sql.functions import desc\n",
        "\n",
        "plan_variant_table.filter(plan_variant_table.Year == 2023) \\\n",
        "  .groupBy(\"Age\") \\\n",
        "  .agg({\"IndividualRate\": \"max\"}) \\\n",
        "  .withColumnRenamed(\"max(IndividualRate)\", \"IndividualRate\") \\\n",
        "  .join(plan_variant_table, [\"Age\", \"IndividualRate\"], \"inner\") \\\n",
        "  .select(\"PlanId\", \"Name\", \"Age\", \"IndividualRate\") \\\n",
        "  .show()\n",
        "\n"
      ],
      "metadata": {
        "colab": {
          "base_uri": "https://localhost:8080/"
        },
        "id": "CLD_a09Ic9wX",
        "outputId": "7c67327a-f7b1-42e3-cfce-5b2e37066d3c"
      },
      "execution_count": 63,
      "outputs": [
        {
          "output_type": "stream",
          "name": "stdout",
          "text": [
            "+--------------+--------------------+---+--------------+\n",
            "|        PlanId|                Name|Age|IndividualRate|\n",
            "+--------------+--------------------+---+--------------+\n",
            "|40411NC0030001|Cigna Dental Pedi...| 62|       9999.00|\n",
            "|48121FL0030001|Cigna Dental Pedi...| 62|       9999.00|\n",
            "|48121FL0030001|Cigna Dental Pedi...| 62|       9999.00|\n",
            "|86830AZ0050001|Cigna Dental Pedi...| 62|       9999.00|\n",
            "|86830AZ0050001|Cigna Dental Pedi...| 62|       9999.00|\n",
            "|99248TN0030001|Cigna Dental Pedi...| 62|       9999.00|\n",
            "|40411NC0030001|Cigna Dental Pedi...| 51|       9999.00|\n",
            "|48121FL0030001|Cigna Dental Pedi...| 51|       9999.00|\n",
            "|48121FL0030001|Cigna Dental Pedi...| 51|       9999.00|\n",
            "|86830AZ0050001|Cigna Dental Pedi...| 51|       9999.00|\n",
            "|99248TN0030001|Cigna Dental Pedi...| 51|       9999.00|\n",
            "|99248TN0030001|Cigna Dental Pedi...| 51|       9999.00|\n",
            "|48121FL0030001|Cigna Dental Pedi...| 29|       9999.00|\n",
            "|48121FL0030001|Cigna Dental Pedi...| 29|       9999.00|\n",
            "|86830AZ0050001|Cigna Dental Pedi...| 29|       9999.00|\n",
            "|48121FL0030001|Cigna Dental Pedi...| 58|       9999.00|\n",
            "|74483MO0030001|Cigna Dental Pedi...| 58|       9999.00|\n",
            "|99248TN0030001|Cigna Dental Pedi...| 58|       9999.00|\n",
            "|99248TN0030001|Cigna Dental Pedi...| 58|       9999.00|\n",
            "|48121FL0030001|Cigna Dental Pedi...| 34|       9999.00|\n",
            "+--------------+--------------------+---+--------------+\n",
            "only showing top 20 rows\n",
            "\n"
          ]
        }
      ]
    },
    {
      "cell_type": "markdown",
      "source": [
        "Individual Rate changes over years 2016 to 2023 grouped by Age"
      ],
      "metadata": {
        "id": "l1hTXMrqjvZ5"
      }
    },
    {
      "cell_type": "code",
      "source": [
        "from pyspark.sql.functions import lag, col\n",
        "from pyspark.sql.window import Window\n",
        "\n",
        "w = Window.partitionBy(\"Age\").orderBy(\"Year\")\n",
        "\n",
        "plan_variant_table.filter((plan_variant_table.Year >= 2016) & (plan_variant_table.Year <= 2023)) \\\n",
        "  .select(\"Age\", \"IndividualRate\", \"Year\") \\\n",
        "  .withColumn(\"IndividualRate_2016\", lag(\"IndividualRate\", 1).over(w)) \\\n",
        "  .withColumn(\"IndividualRate_2023\", col(\"IndividualRate\")) \\\n",
        "  .groupBy(\"Age\") \\\n",
        "  .agg({\"IndividualRate_2016\": \"avg\", \"IndividualRate_2023\": \"avg\"}) \\\n",
        "  .select(\"Age\", \"avg(IndividualRate_2016)\", \"avg(IndividualRate_2023)\", \\\n",
        "          ((col(\"avg(IndividualRate_2023)\") - col(\"avg(IndividualRate_2016)\")) / col(\"avg(IndividualRate_2016)\") * 100).alias(\"Change\")) \\\n",
        "  .show()\n"
      ],
      "metadata": {
        "colab": {
          "base_uri": "https://localhost:8080/"
        },
        "id": "14IG5kZSjQSw",
        "outputId": "fa5addb5-76c3-4520-d30c-6f1f94e0d879"
      },
      "execution_count": 64,
      "outputs": [
        {
          "output_type": "stream",
          "name": "stdout",
          "text": [
            "+----+------------------------+------------------------+--------------------+\n",
            "| Age|avg(IndividualRate_2016)|avg(IndividualRate_2023)|              Change|\n",
            "+----+------------------------+------------------------+--------------------+\n",
            "|0-20|      115.72161681487495|      115.68493333333357|-0.03169976582686199|\n",
            "|  21|      214.77521827000766|      214.69925252525212| -0.0353698836241126|\n",
            "|  22|       214.3922554567504|       214.3177414141416|-0.03475593950446075|\n",
            "|  23|      215.03921584478567|      214.96050505050496|-0.03660299539853...|\n",
            "|  24|      214.73429264349284|      214.65570505050556|-0.03659759790568196|\n",
            "|  25|       216.1183346806786|      216.03959999999952|-0.03643128233215817|\n",
            "|  26|      219.29485852869882|      219.21773737373775|-0.03516778983260299|\n",
            "|  27|       223.8271948261927|      223.74493333333365|-0.03675223331237257|\n",
            "|  28|       229.7308730800333|       229.6462262626272|-0.03684607831381574|\n",
            "|  29|      235.55830234438167|       235.4713010101011|-0.03693409801934807|\n",
            "|  30|      237.67565076798738|      237.59110303030334|-0.03557273848239...|\n",
            "|  31|       242.2260913500399|      242.13639595959543|-0.03702961557301566|\n",
            "|  32|      245.59941794664525|      245.50835959595972|-0.03707596355350919|\n",
            "|  33|      248.68262732417114|      248.59032323232296|-0.03711722561457987|\n",
            "|  34|       250.7041471301536|      250.61366464646463|-0.03609133902439383|\n",
            "|  35|      252.71258286176212|       252.6190626262624|-0.03700656075003092|\n",
            "|  36|      253.41832659660437|       253.3241090909088|-0.03717864724344064|\n",
            "|  37|      255.40119240097061|      255.30617373737428|-0.03720368832388181|\n",
            "|  38|      256.15019401778443|       256.0548727272722| -0.0372130463838779|\n",
            "|  39|       259.4829708973328|      259.38671515151566|-0.03709520724395299|\n",
            "+----+------------------------+------------------------+--------------------+\n",
            "only showing top 20 rows\n",
            "\n"
          ]
        }
      ]
    },
    {
      "cell_type": "markdown",
      "source": [
        "## Step 5 : Performance Optimization"
      ],
      "metadata": {
        "id": "LuMNIUivjxCL"
      }
    },
    {
      "cell_type": "markdown",
      "source": [
        "### RDDs VS DataFrames\n",
        "In this PySpark application we used DataFrames instead of using RDDs, This is an optimization because RDDs have no built-in optimization while DataFrames benefit from Spark's built-in optimizations, including the Catalyst optimizer and Tungsten execution engine. These optimizations enable DataFrames to offer better performance and resource efficiency compared to RDDs."
      ],
      "metadata": {
        "id": "ElvAc-dz52Zu"
      }
    },
    {
      "cell_type": "markdown",
      "source": [
        "### Cashing and Presisting DataFrames\n",
        "The `cache()` method caches the DataFrame in memory, while the `persist()` method allows you to specify a storage level for the DataFrame. By default, the `persist()` method stores the DataFrame in memory, but you can also store it on disk or in a combination of memory and disk."
      ],
      "metadata": {
        "id": "Zztr-IcCw7-o"
      }
    },
    {
      "cell_type": "code",
      "source": [
        "plan_variant_table.storageLevel"
      ],
      "metadata": {
        "colab": {
          "base_uri": "https://localhost:8080/"
        },
        "id": "0xXx1x6x6JD5",
        "outputId": "efef930b-d072-4e93-c2aa-874616e1003c"
      },
      "execution_count": 68,
      "outputs": [
        {
          "output_type": "execute_result",
          "data": {
            "text/plain": [
              "StorageLevel(False, False, False, False, 1)"
            ]
          },
          "metadata": {},
          "execution_count": 68
        }
      ]
    },
    {
      "cell_type": "code",
      "source": [
        "from pyspark.storagelevel import StorageLevel\n",
        "\n",
        "plan_variant_table.persist(StorageLevel.DISK_ONLY)  # Persist the DataFrame on disk\n"
      ],
      "metadata": {
        "colab": {
          "base_uri": "https://localhost:8080/"
        },
        "id": "OolK_XXJ6TmL",
        "outputId": "e7554314-be48-48ed-dcf3-2592232daf57"
      },
      "execution_count": 67,
      "outputs": [
        {
          "output_type": "execute_result",
          "data": {
            "text/plain": [
              "DataFrame[Id: string, PlanId: string, Name: string, MarketCoverage: string, Year: string, IsNewPlan: string, PlanType: string, Age: string, IndividualRate: string, IndividualTobaccoRate: string, Couple: string, PrimarySubscriberAndOneDependent: string, PrimarySubscriberAndTwoDependents: string, PrimarySubscriberAndThreeOrMoreDependents: string, CoupleAndOneDependent: string, CoupleAndTwoDependents: double, CoupleAndThreeOrMoreDependents: double]"
            ]
          },
          "metadata": {},
          "execution_count": 67
        }
      ]
    },
    {
      "cell_type": "code",
      "source": [
        "plan_variant_table.storageLevel"
      ],
      "metadata": {
        "colab": {
          "base_uri": "https://localhost:8080/"
        },
        "id": "eC5gQ2VS6BeA",
        "outputId": "94633fce-f0e0-4204-af11-b2322a9d538d"
      },
      "execution_count": 69,
      "outputs": [
        {
          "output_type": "execute_result",
          "data": {
            "text/plain": [
              "StorageLevel(True, False, False, False, 1)"
            ]
          },
          "metadata": {},
          "execution_count": 69
        }
      ]
    },
    {
      "cell_type": "markdown",
      "source": [
        "This Cell took 0 seconds"
      ],
      "metadata": {
        "id": "9IzdhnnV8AQR"
      }
    },
    {
      "cell_type": "code",
      "source": [
        "plan_variant_table.filter(plan_variant_table.PlanId == \"48121FL0030001\").show(5)"
      ],
      "metadata": {
        "colab": {
          "base_uri": "https://localhost:8080/"
        },
        "id": "kQuPqhjk7zBl",
        "outputId": "77f89d6b-7cf8-492d-9678-1742a248e07b"
      },
      "execution_count": 76,
      "outputs": [
        {
          "output_type": "stream",
          "name": "stdout",
          "text": [
            "+-----------------+--------------+--------------------+--------------+----+---------+--------+---+--------------+---------------------+------+--------------------------------+---------------------------------+-----------------------------------------+---------------------+----------------------+------------------------------+\n",
            "|               Id|        PlanId|                Name|MarketCoverage|Year|IsNewPlan|PlanType|Age|IndividualRate|IndividualTobaccoRate|Couple|PrimarySubscriberAndOneDependent|PrimarySubscriberAndTwoDependents|PrimarySubscriberAndThreeOrMoreDependents|CoupleAndOneDependent|CoupleAndTwoDependents|CoupleAndThreeOrMoreDependents|\n",
            "+-----------------+--------------+--------------------+--------------+----+---------+--------+---+--------------+---------------------+------+--------------------------------+---------------------------------+-----------------------------------------+---------------------+----------------------+------------------------------+\n",
            "|48121FL0030001-00|48121FL0030001|Cigna Dental Pedi...|    Individual|2023| Existing|     PPO| 21|       9999.00|                 NULL|  NULL|                            NULL|                             NULL|                                     NULL|                 NULL|                  NULL|                          NULL|\n",
            "|48121FL0030001-00|48121FL0030001|Cigna Dental Pedi...|    Individual|2023| Existing|     PPO| 23|       9999.00|                 NULL|  NULL|                            NULL|                             NULL|                                     NULL|                 NULL|                  NULL|                          NULL|\n",
            "|48121FL0030001-00|48121FL0030001|Cigna Dental Pedi...|    Individual|2023| Existing|     PPO| 25|       9999.00|                 NULL|  NULL|                            NULL|                             NULL|                                     NULL|                 NULL|                  NULL|                          NULL|\n",
            "|48121FL0030001-00|48121FL0030001|Cigna Dental Pedi...|    Individual|2023| Existing|     PPO| 27|       9999.00|                 NULL|  NULL|                            NULL|                             NULL|                                     NULL|                 NULL|                  NULL|                          NULL|\n",
            "|48121FL0030001-00|48121FL0030001|Cigna Dental Pedi...|    Individual|2023| Existing|     PPO| 28|       9999.00|                 NULL|  NULL|                            NULL|                             NULL|                                     NULL|                 NULL|                  NULL|                          NULL|\n",
            "+-----------------+--------------+--------------------+--------------+----+---------+--------+---+--------------+---------------------+------+--------------------------------+---------------------------------+-----------------------------------------+---------------------+----------------------+------------------------------+\n",
            "only showing top 5 rows\n",
            "\n"
          ]
        }
      ]
    }
  ]
}