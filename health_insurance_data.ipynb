{
  "nbformat": 4,
  "nbformat_minor": 0,
  "metadata": {
    "colab": {
      "provenance": []
    },
    "kernelspec": {
      "name": "python3",
      "display_name": "Python 3"
    },
    "language_info": {
      "name": "python"
    }
  },
  "cells": [
    {
      "cell_type": "markdown",
      "source": [
        "# Health Insurance\n",
        "\n",
        "#### Project Summary\n",
        "This project aims to gather data of health insurance plans and analyze it through many aspects, It aims to answer questions like:\n",
        "- What are the top 5 Networks that have the biggest Number of organizations\n",
        "-\n",
        "-\n",
        "-\n",
        "And many more analytical questions.\n",
        "\n",
        "The project follows the following steps:\n",
        "* Step 1: Gather Data\n",
        "* Step 2: Explore and Assess the Data\n",
        "* Step 3: Define the Data Model\n",
        "* Step 4: Data Analysis\n",
        "* Step 5: Performance Optimization"
      ],
      "metadata": {
        "id": "suq-qd5GAw62"
      }
    },
    {
      "cell_type": "markdown",
      "source": [
        "## Step 1: Gather Data\n",
        "\n",
        "\n",
        "\n",
        "\n",
        "\n"
      ],
      "metadata": {
        "id": "kY29q80VEPui"
      }
    },
    {
      "cell_type": "code",
      "source": [
        "import requests\n",
        "import zipfile\n",
        "from io import BytesIO\n",
        "import os\n",
        "\n",
        "\n",
        "parent_folder = 'health-insurance-raw-data'\n",
        "domain = \"https://download.cms.gov/marketplace-puf/\"\n",
        "\n"
      ],
      "metadata": {
        "id": "OOatC6quAxQZ"
      },
      "execution_count": 1,
      "outputs": []
    },
    {
      "cell_type": "code",
      "source": [
        "def get_zip_urls (url):\n",
        "  zip_urls = []\n",
        "  for i in range(2014,2024):\n",
        "    zip_urls.append(domain+str(i)+url)\n",
        "\n",
        "  return zip_urls\n",
        "\n",
        "\n",
        "def download_data(urls,folder_name):\n",
        "  # Iterate over the URLs and extract the zip files\n",
        "  for url in urls:\n",
        "      response = requests.get(url)\n",
        "      year = url.split(\"/\")[-2]\n",
        "\n",
        "      with zipfile.ZipFile(BytesIO(response.content)) as z:\n",
        "          for filename in z.namelist():\n",
        "              os.makedirs(parent_folder + \"/\" + folder_name + \"/\" + year, exist_ok=True)\n",
        "\n",
        "              with open(parent_folder + \"/\" + folder_name + \"/\" +  year + \"/\" + filename, \"wb\") as f:\n",
        "                  f.write(z.read(filename))\n",
        "\n",
        "\n"
      ],
      "metadata": {
        "id": "Iz9QjmbE2scK"
      },
      "execution_count": 2,
      "outputs": []
    },
    {
      "cell_type": "code",
      "source": [
        "folders = ['benefits-and-cost-sharing',\"rate\",\"plan-attributes\",\"business-rules\",\"service-area\",\"network\"]\n",
        "remaining_urls = [\"/benefits-and-cost-sharing-puf.zip\",\"/rate-puf.zip\",\"/plan-attributes-puf.zip\",\"/business-rules-puf.zip\",\"/service-area-puf.zip\",\"/network-puf.zip\"]\n",
        "for i in range(len(folders)):\n",
        "  urls = get_zip_urls(remaining_urls[i])\n",
        "  download_data(urls,folders[i])"
      ],
      "metadata": {
        "id": "5-xodys14vbW"
      },
      "execution_count": 3,
      "outputs": []
    },
    {
      "cell_type": "markdown",
      "source": [
        "## Step 2 : Explore and Assess the data  "
      ],
      "metadata": {
        "id": "Fiz0pP9HHeKG"
      }
    },
    {
      "cell_type": "code",
      "source": [
        "!pip install pyspark"
      ],
      "metadata": {
        "colab": {
          "base_uri": "https://localhost:8080/"
        },
        "id": "c8gk-UeAuYlU",
        "outputId": "88643846-c64d-482e-e3ad-d663ec3be086"
      },
      "execution_count": 4,
      "outputs": [
        {
          "output_type": "stream",
          "name": "stdout",
          "text": [
            "Collecting pyspark\n",
            "  Downloading pyspark-3.5.0.tar.gz (316.9 MB)\n",
            "\u001b[2K     \u001b[90m━━━━━━━━━━━━━━━━━━━━━━━━━━━━━━━━━━━━━━━━\u001b[0m \u001b[32m316.9/316.9 MB\u001b[0m \u001b[31m3.6 MB/s\u001b[0m eta \u001b[36m0:00:00\u001b[0m\n",
            "\u001b[?25h  Preparing metadata (setup.py) ... \u001b[?25l\u001b[?25hdone\n",
            "Requirement already satisfied: py4j==0.10.9.7 in /usr/local/lib/python3.10/dist-packages (from pyspark) (0.10.9.7)\n",
            "Building wheels for collected packages: pyspark\n",
            "  Building wheel for pyspark (setup.py) ... \u001b[?25l\u001b[?25hdone\n",
            "  Created wheel for pyspark: filename=pyspark-3.5.0-py2.py3-none-any.whl size=317425344 sha256=7b4455009c4c850f1bd2b7841111c5427c4c3ace4285b339cb14e61c0e83b37a\n",
            "  Stored in directory: /root/.cache/pip/wheels/41/4e/10/c2cf2467f71c678cfc8a6b9ac9241e5e44a01940da8fbb17fc\n",
            "Successfully built pyspark\n",
            "Installing collected packages: pyspark\n",
            "Successfully installed pyspark-3.5.0\n"
          ]
        }
      ]
    },
    {
      "cell_type": "code",
      "source": [
        "from pyspark.sql import SparkSession"
      ],
      "metadata": {
        "id": "vtVzucrHuZ3l"
      },
      "execution_count": 5,
      "outputs": []
    },
    {
      "cell_type": "code",
      "source": [
        "from pyspark.sql.functions import countDistinct\n",
        "from pyspark.sql.functions import monotonically_increasing_id\n",
        "from pyspark.sql.functions import count,when,col\n",
        "from pyspark.sql.functions import desc\n"
      ],
      "metadata": {
        "id": "02XqUKN3MmbW"
      },
      "execution_count": 6,
      "outputs": []
    },
    {
      "cell_type": "code",
      "source": [
        "spark = SparkSession.builder \\\n",
        "    .appName(\"HealthInsurance\") \\\n",
        "    .getOrCreate()"
      ],
      "metadata": {
        "id": "-BV8eTYpucA_"
      },
      "execution_count": 7,
      "outputs": []
    },
    {
      "cell_type": "markdown",
      "source": [
        "### 1- Plan Attributes Raw Data"
      ],
      "metadata": {
        "id": "_ZWL5YF9HyZp"
      }
    },
    {
      "cell_type": "code",
      "source": [
        "df_plan_raw = spark.read.option(\"header\", \"true\").option(\"inferSchema\", \"true\").csv(\"/content/health-insurance-raw-data/plan-attributes/*/*.csv\")\n",
        "\n",
        "\n",
        "df_plan_raw.show(5)\n",
        "# df_plan_raw.filter(df_plan_raw.BusinessYear == \"2023\").show()\n"
      ],
      "metadata": {
        "colab": {
          "base_uri": "https://localhost:8080/"
        },
        "id": "GGcpwPAcuRak",
        "outputId": "fbdf0b1a-5c8b-4a09-f074-b4f4adf64499"
      },
      "execution_count": 60,
      "outputs": [
        {
          "output_type": "stream",
          "name": "stdout",
          "text": [
            "+------------+---------+--------+------------------------------+----------+---------------+------------------+--------------+-------------------+--------------------+-------------+---------+-------------+-----------+---------+---------+----------+----------+----------------+----------------+----------------------------+-------------------------------+---------------------------+-------------------+------------------------------------------------------------+----------------------+--------------------+---------------+----------------------+--------------------------------+----------------------+---------------------------------------+----------------+-----------------+------------------+--------------------+-------------------------------+------------------------+-----------------------------------+---------------+-----------------------+------------+-----------------+------------------------+--------------------+--------------------+------------------------+--------------------------------+---------------------------------------+----------------------+--------------------+---------------------+------------------------+-----------------------+-------------------------+-------------------+---------------------------+--------------------------+----------------------------+----------------------+---------------------------------+--------------------------------+----------------------------------+----------------------------+-------------------------------+-----------------------------+----------------------------------------------+--------------------------------------------------------+--------------------------+-------------------------------+------------------------------+--------------------------+-------------------------------+------------------------------+--------------------------+-------------------------------+------------------------------+----------------------------+---------------------------------+--------------------------------+--------------------------+-------------------------------+------------------------------+--------------------------+-------------------------------+------------------------------+--------------------------+-------------------------------+------------------------------+----------------------------+---------------------------------+--------------------------------+--------------------------+-------------------------------+------------------------------+--------------------------+-------------------------------+------------------------------+--------------------------+-------------------------------+------------------------------+----------------------------+---------------------------------+--------------------------------+-------------------------+------------------------------+-----------------------------+--------------------------+-------------------------+------------------------------+-----------------------------+--------------------------+-------------------------+------------------------------+-----------------------------+---------------------------+--------------------------------+-------------------------------+-------------------------+------------------------------+-----------------------------+--------------------------+-------------------------+------------------------------+-----------------------------+--------------------------+-------------------------+------------------------------+-----------------------------+---------------------------+--------------------------------+-------------------------------+-------------------------+------------------------------+-----------------------------+--------------------------+-------------------------+------------------------------+-----------------------------+--------------------------+-------------------------+------------------------------+-----------------------------+---------------------------+--------------------------------+-------------------------------+-------------+----------------------------+----------------------------------+-------------------------------+--------------------+\n",
            "|BusinessYear|StateCode|IssuerId|IssuerMarketPlaceMarketingName|SourceName|     ImportDate|    MarketCoverage|DentalOnlyPlan|StandardComponentId|   PlanMarketingName|HIOSProductId|NetworkId|ServiceAreaId|FormularyId|IsNewPlan| PlanType|MetalLevel|DesignType|UniquePlanDesign| QHPNonQHPTypeId|IsNoticeRequiredForPregnancy|IsReferralRequiredForSpecialist|SpecialistRequiringReferral|PlanLevelExclusions|IndianPlanVariationEstimatedAdvancedPaymentAmountPerEnrollee|CompositeRatingOffered|   ChildOnlyOffering|ChildOnlyPlanId|WellnessProgramOffered|DiseaseManagementProgramsOffered|EHBPercentTotalPremium|EHBPediatricDentalApportionmentQuantity|IsGuaranteedRate|PlanEffectiveDate|PlanExpirationDate|OutOfCountryCoverage|OutOfCountryCoverageDescription|OutOfServiceAreaCoverage|OutOfServiceAreaCoverageDescription|NationalNetwork|URLForEnrollmentPayment|FormularyURL|           PlanId|PlanVariantMarketingName|    CSRVariationType|IssuerActuarialValue|AVCalculatorOutputNumber|MedicalDrugDeductiblesIntegrated|MedicalDrugMaximumOutofPocketIntegrated|MultipleInNetworkTiers|FirstTierUtilization|SecondTierUtilization|SBCHavingaBabyDeductible|SBCHavingaBabyCopayment|SBCHavingaBabyCoinsurance|SBCHavingaBabyLimit|SBCHavingDiabetesDeductible|SBCHavingDiabetesCopayment|SBCHavingDiabetesCoinsurance|SBCHavingDiabetesLimit|SBCHavingSimplefractureDeductible|SBCHavingSimplefractureCopayment|SBCHavingSimplefractureCoinsurance|SBCHavingSimplefractureLimit|SpecialtyDrugMaximumCoinsurance|InpatientCopaymentMaximumDays|BeginPrimaryCareCostSharingAfterNumberOfVisits|BeginPrimaryCareDeductibleCoinsuranceAfterNumberOfCopays|MEHBInnTier1IndividualMOOP|MEHBInnTier1FamilyPerPersonMOOP|MEHBInnTier1FamilyPerGroupMOOP|MEHBInnTier2IndividualMOOP|MEHBInnTier2FamilyPerPersonMOOP|MEHBInnTier2FamilyPerGroupMOOP|MEHBOutOfNetIndividualMOOP|MEHBOutOfNetFamilyPerPersonMOOP|MEHBOutOfNetFamilyPerGroupMOOP|MEHBCombInnOonIndividualMOOP|MEHBCombInnOonFamilyPerPersonMOOP|MEHBCombInnOonFamilyPerGroupMOOP|DEHBInnTier1IndividualMOOP|DEHBInnTier1FamilyPerPersonMOOP|DEHBInnTier1FamilyPerGroupMOOP|DEHBInnTier2IndividualMOOP|DEHBInnTier2FamilyPerPersonMOOP|DEHBInnTier2FamilyPerGroupMOOP|DEHBOutOfNetIndividualMOOP|DEHBOutOfNetFamilyPerPersonMOOP|DEHBOutOfNetFamilyPerGroupMOOP|DEHBCombInnOonIndividualMOOP|DEHBCombInnOonFamilyPerPersonMOOP|DEHBCombInnOonFamilyPerGroupMOOP|TEHBInnTier1IndividualMOOP|TEHBInnTier1FamilyPerPersonMOOP|TEHBInnTier1FamilyPerGroupMOOP|TEHBInnTier2IndividualMOOP|TEHBInnTier2FamilyPerPersonMOOP|TEHBInnTier2FamilyPerGroupMOOP|TEHBOutOfNetIndividualMOOP|TEHBOutOfNetFamilyPerPersonMOOP|TEHBOutOfNetFamilyPerGroupMOOP|TEHBCombInnOonIndividualMOOP|TEHBCombInnOonFamilyPerPersonMOOP|TEHBCombInnOonFamilyPerGroupMOOP|MEHBDedInnTier1Individual|MEHBDedInnTier1FamilyPerPerson|MEHBDedInnTier1FamilyPerGroup|MEHBDedInnTier1Coinsurance|MEHBDedInnTier2Individual|MEHBDedInnTier2FamilyPerPerson|MEHBDedInnTier2FamilyPerGroup|MEHBDedInnTier2Coinsurance|MEHBDedOutOfNetIndividual|MEHBDedOutOfNetFamilyPerPerson|MEHBDedOutOfNetFamilyPerGroup|MEHBDedCombInnOonIndividual|MEHBDedCombInnOonFamilyPerPerson|MEHBDedCombInnOonFamilyPerGroup|DEHBDedInnTier1Individual|DEHBDedInnTier1FamilyPerPerson|DEHBDedInnTier1FamilyPerGroup|DEHBDedInnTier1Coinsurance|DEHBDedInnTier2Individual|DEHBDedInnTier2FamilyPerPerson|DEHBDedInnTier2FamilyPerGroup|DEHBDedInnTier2Coinsurance|DEHBDedOutOfNetIndividual|DEHBDedOutOfNetFamilyPerPerson|DEHBDedOutOfNetFamilyPerGroup|DEHBDedCombInnOonIndividual|DEHBDedCombInnOonFamilyPerPerson|DEHBDedCombInnOonFamilyPerGroup|TEHBDedInnTier1Individual|TEHBDedInnTier1FamilyPerPerson|TEHBDedInnTier1FamilyPerGroup|TEHBDedInnTier1Coinsurance|TEHBDedInnTier2Individual|TEHBDedInnTier2FamilyPerPerson|TEHBDedInnTier2FamilyPerGroup|TEHBDedInnTier2Coinsurance|TEHBDedOutOfNetIndividual|TEHBDedOutOfNetFamilyPerPerson|TEHBDedOutOfNetFamilyPerGroup|TEHBDedCombInnOonIndividual|TEHBDedCombInnOonFamilyPerPerson|TEHBDedCombInnOonFamilyPerGroup|IsHSAEligible|HSAOrHRAEmployerContribution|HSAOrHRAEmployerContributionAmount|URLForSummaryofBenefitsCoverage|        PlanBrochure|\n",
            "+------------+---------+--------+------------------------------+----------+---------------+------------------+--------------+-------------------+--------------------+-------------+---------+-------------+-----------+---------+---------+----------+----------+----------------+----------------+----------------------------+-------------------------------+---------------------------+-------------------+------------------------------------------------------------+----------------------+--------------------+---------------+----------------------+--------------------------------+----------------------+---------------------------------------+----------------+-----------------+------------------+--------------------+-------------------------------+------------------------+-----------------------------------+---------------+-----------------------+------------+-----------------+------------------------+--------------------+--------------------+------------------------+--------------------------------+---------------------------------------+----------------------+--------------------+---------------------+------------------------+-----------------------+-------------------------+-------------------+---------------------------+--------------------------+----------------------------+----------------------+---------------------------------+--------------------------------+----------------------------------+----------------------------+-------------------------------+-----------------------------+----------------------------------------------+--------------------------------------------------------+--------------------------+-------------------------------+------------------------------+--------------------------+-------------------------------+------------------------------+--------------------------+-------------------------------+------------------------------+----------------------------+---------------------------------+--------------------------------+--------------------------+-------------------------------+------------------------------+--------------------------+-------------------------------+------------------------------+--------------------------+-------------------------------+------------------------------+----------------------------+---------------------------------+--------------------------------+--------------------------+-------------------------------+------------------------------+--------------------------+-------------------------------+------------------------------+--------------------------+-------------------------------+------------------------------+----------------------------+---------------------------------+--------------------------------+-------------------------+------------------------------+-----------------------------+--------------------------+-------------------------+------------------------------+-----------------------------+--------------------------+-------------------------+------------------------------+-----------------------------+---------------------------+--------------------------------+-------------------------------+-------------------------+------------------------------+-----------------------------+--------------------------+-------------------------+------------------------------+-----------------------------+--------------------------+-------------------------+------------------------------+-----------------------------+---------------------------+--------------------------------+-------------------------------+-------------------------+------------------------------+-----------------------------+--------------------------+-------------------------+------------------------------+-----------------------------+--------------------------+-------------------------+------------------------------+-----------------------------+---------------------------+--------------------------------+-------------------------------+-------------+----------------------------+----------------------------------+-------------------------------+--------------------+\n",
            "|        2023|       AK|   21989|          Delta Dental of A...|      HIOS|11/19/2022 1:01|SHOP (Small Group)|           Yes|     21989AK0130001|Delta Dental Prem...|   21989AK013|   AKN001|       AKS001|       NULL| Existing|Indemnity|      High|      NULL|            NULL|Off the Exchange|                        NULL|                             No|                       NULL|               NULL|                                                        NULL|                    No|Allows Adult and ...|             No|  Allows Adult and ...|                            NULL|                  NULL|                                   NULL|  Estimated Rate|         1/1/2023|        12/31/2023|                 Yes|           Providers treated...|                     Yes|                   National Network|            Yes|   https://www.delta...|        NULL|21989AK0130001-00|    Delta Dental Prem...|Standard High Off...|                NULL|                    NULL|                            NULL|                                   NULL|                    No|                100%|                 NULL|                    NULL|                   NULL|                     NULL|               NULL|                       NULL|                      NULL|                        NULL|                  NULL|                             NULL|                            NULL|                              NULL|                        NULL|                           NULL|                            0|                                             0|                                                       0|            Not Applicable|           per person not ap...|          per group not app...|                      NULL|                           NULL|                          NULL|            Not Applicable|           per person not ap...|          per group not app...|                       $375 |                  $375 per person|                  $750 per group|                      NULL|                           NULL|                          NULL|                      NULL|                           NULL|                          NULL|                      NULL|                           NULL|                          NULL|                        NULL|                             NULL|                            NULL|                      NULL|                           NULL|                          NULL|                      NULL|                           NULL|                          NULL|                      NULL|                           NULL|                          NULL|                        NULL|                             NULL|                            NULL|           Not Applicable|          per person not ap...|         per group not app...|                      NULL|                     NULL|                          NULL|                         NULL|                      NULL|           Not Applicable|          per person not ap...|         per group not app...|                       $50 |                  $50 per person|                 $150 per group|                     NULL|                          NULL|                         NULL|                      NULL|                     NULL|                          NULL|                         NULL|                      NULL|                     NULL|                          NULL|                         NULL|                       NULL|                            NULL|                           NULL|                     NULL|                          NULL|                         NULL|                      NULL|                     NULL|                          NULL|                         NULL|                      NULL|                     NULL|                          NULL|                         NULL|                       NULL|                            NULL|                           NULL|         NULL|                        NULL|                              NULL|                           NULL|https://www.delta...|\n",
            "|        2023|       AK|   21989|          Delta Dental of A...|      HIOS|11/19/2022 1:01|        Individual|           Yes|     21989AK0030001|Delta Dental Prem...|   21989AK003|   AKN001|       AKS001|       NULL| Existing|Indemnity|       Low|      NULL|            NULL|            Both|                        NULL|                           NULL|                       NULL|               NULL|                                                        NULL|                    No|Allows Adult and ...|           NULL|                  NULL|                            NULL|                  NULL|                                      1| Guaranteed Rate|         1/1/2023|        12/31/2023|                 Yes|           Providers treated...|                     Yes|                   National network|            Yes|   https://www.delta...|        NULL|21989AK0030001-00|    Delta Dental Prem...|Standard Low Off ...|                NULL|                    NULL|                            NULL|                                   NULL|                    No|                100%|                 NULL|                    NULL|                   NULL|                     NULL|               NULL|                       NULL|                      NULL|                        NULL|                  NULL|                             NULL|                            NULL|                              NULL|                        NULL|                           NULL|                            0|                                             0|                                                       0|            Not Applicable|           per person not ap...|          per group not app...|                      NULL|                           NULL|                          NULL|            Not Applicable|           per person not ap...|          per group not app...|                       $375 |                  $375 per person|                  $750 per group|                      NULL|                           NULL|                          NULL|                      NULL|                           NULL|                          NULL|                      NULL|                           NULL|                          NULL|                        NULL|                             NULL|                            NULL|                      NULL|                           NULL|                          NULL|                      NULL|                           NULL|                          NULL|                      NULL|                           NULL|                          NULL|                        NULL|                             NULL|                            NULL|           Not Applicable|          per person not ap...|         per group not app...|                      NULL|                     NULL|                          NULL|                         NULL|                      NULL|           Not Applicable|          per person not ap...|         per group not app...|                        $0 |                   $0 per person|                   $0 per group|                     NULL|                          NULL|                         NULL|                      NULL|                     NULL|                          NULL|                         NULL|                      NULL|                     NULL|                          NULL|                         NULL|                       NULL|                            NULL|                           NULL|                     NULL|                          NULL|                         NULL|                      NULL|                     NULL|                          NULL|                         NULL|                      NULL|                     NULL|                          NULL|                         NULL|                       NULL|                            NULL|                           NULL|         NULL|                        NULL|                              NULL|                           NULL|https://www.delta...|\n",
            "|        2023|       AK|   21989|          Delta Dental of A...|      HIOS|11/19/2022 1:01|        Individual|           Yes|     21989AK0030001|Delta Dental Prem...|   21989AK003|   AKN001|       AKS001|       NULL| Existing|Indemnity|       Low|      NULL|            NULL|            Both|                        NULL|                           NULL|                       NULL|               NULL|                                                        NULL|                    No|Allows Adult and ...|           NULL|                  NULL|                            NULL|                  NULL|                                      1| Guaranteed Rate|         1/1/2023|        12/31/2023|                 Yes|           Providers treated...|                     Yes|                   National network|            Yes|   https://www.delta...|        NULL|21989AK0030001-01|    Delta Dental Prem...|Standard Low On E...|                NULL|                    NULL|                            NULL|                                   NULL|                    No|                100%|                 NULL|                    NULL|                   NULL|                     NULL|               NULL|                       NULL|                      NULL|                        NULL|                  NULL|                             NULL|                            NULL|                              NULL|                        NULL|                           NULL|                            0|                                             0|                                                       0|            Not Applicable|           per person not ap...|          per group not app...|                      NULL|                           NULL|                          NULL|            Not Applicable|           per person not ap...|          per group not app...|                       $375 |                  $375 per person|                  $750 per group|                      NULL|                           NULL|                          NULL|                      NULL|                           NULL|                          NULL|                      NULL|                           NULL|                          NULL|                        NULL|                             NULL|                            NULL|                      NULL|                           NULL|                          NULL|                      NULL|                           NULL|                          NULL|                      NULL|                           NULL|                          NULL|                        NULL|                             NULL|                            NULL|           Not Applicable|          per person not ap...|         per group not app...|                      NULL|                     NULL|                          NULL|                         NULL|                      NULL|           Not Applicable|          per person not ap...|         per group not app...|                        $0 |                   $0 per person|                   $0 per group|                     NULL|                          NULL|                         NULL|                      NULL|                     NULL|                          NULL|                         NULL|                      NULL|                     NULL|                          NULL|                         NULL|                       NULL|                            NULL|                           NULL|                     NULL|                          NULL|                         NULL|                      NULL|                     NULL|                          NULL|                         NULL|                      NULL|                     NULL|                          NULL|                         NULL|                       NULL|                            NULL|                           NULL|         NULL|                        NULL|                              NULL|                           NULL|https://www.delta...|\n",
            "|        2023|       AK|   21989|          Delta Dental of A...|      HIOS|11/19/2022 1:01|SHOP (Small Group)|           Yes|     21989AK0130002|Delta Dental Prem...|   21989AK013|   AKN001|       AKS001|       NULL| Existing|Indemnity|      High|      NULL|            NULL|Off the Exchange|                        NULL|                             No|                       NULL|               NULL|                                                        NULL|                    No|Allows Adult and ...|             No|  Allows Adult and ...|                            NULL|                  NULL|                                   NULL|  Estimated Rate|         1/1/2023|        12/31/2023|                 Yes|           Providers treated...|                     Yes|                   National Network|            Yes|   https://www.delta...|        NULL|21989AK0130002-00|    Delta Dental Prem...|Standard High Off...|                NULL|                    NULL|                            NULL|                                   NULL|                    No|                100%|                 NULL|                    NULL|                   NULL|                     NULL|               NULL|                       NULL|                      NULL|                        NULL|                  NULL|                             NULL|                            NULL|                              NULL|                        NULL|                           NULL|                            0|                                             0|                                                       0|            Not Applicable|           per person not ap...|          per group not app...|                      NULL|                           NULL|                          NULL|            Not Applicable|           per person not ap...|          per group not app...|                       $375 |                  $375 per person|                  $750 per group|                      NULL|                           NULL|                          NULL|                      NULL|                           NULL|                          NULL|                      NULL|                           NULL|                          NULL|                        NULL|                             NULL|                            NULL|                      NULL|                           NULL|                          NULL|                      NULL|                           NULL|                          NULL|                      NULL|                           NULL|                          NULL|                        NULL|                             NULL|                            NULL|           Not Applicable|          per person not ap...|         per group not app...|                      NULL|                     NULL|                          NULL|                         NULL|                      NULL|           Not Applicable|          per person not ap...|         per group not app...|                       $50 |                  $50 per person|                 $150 per group|                     NULL|                          NULL|                         NULL|                      NULL|                     NULL|                          NULL|                         NULL|                      NULL|                     NULL|                          NULL|                         NULL|                       NULL|                            NULL|                           NULL|                     NULL|                          NULL|                         NULL|                      NULL|                     NULL|                          NULL|                         NULL|                      NULL|                     NULL|                          NULL|                         NULL|                       NULL|                            NULL|                           NULL|         NULL|                        NULL|                              NULL|                           NULL|https://www.delta...|\n",
            "|        2023|       AK|   21989|          Delta Dental of A...|      HIOS|11/19/2022 1:01|SHOP (Small Group)|           Yes|     21989AK0130024|Delta Dental Prem...|   21989AK013|   AKN001|       AKS001|       NULL| Existing|Indemnity|      High|      NULL|            NULL|Off the Exchange|                        NULL|                             No|                       NULL|               NULL|                                                        NULL|                    No|Allows Adult and ...|             No|  Allows Adult and ...|                            NULL|                  NULL|                                   NULL|  Estimated Rate|         1/1/2023|        12/31/2023|                 Yes|           Providers treated...|                     Yes|                   National Network|            Yes|   https://www.delta...|        NULL|21989AK0130024-00|    Delta Dental Prem...|Standard High Off...|                NULL|                    NULL|                            NULL|                                   NULL|                    No|                100%|                 NULL|                    NULL|                   NULL|                     NULL|               NULL|                       NULL|                      NULL|                        NULL|                  NULL|                             NULL|                            NULL|                              NULL|                        NULL|                           NULL|                            0|                                             0|                                                       0|            Not Applicable|           per person not ap...|          per group not app...|                      NULL|                           NULL|                          NULL|            Not Applicable|           per person not ap...|          per group not app...|                       $375 |                  $375 per person|                  $750 per group|                      NULL|                           NULL|                          NULL|                      NULL|                           NULL|                          NULL|                      NULL|                           NULL|                          NULL|                        NULL|                             NULL|                            NULL|                      NULL|                           NULL|                          NULL|                      NULL|                           NULL|                          NULL|                      NULL|                           NULL|                          NULL|                        NULL|                             NULL|                            NULL|           Not Applicable|          per person not ap...|         per group not app...|                      NULL|                     NULL|                          NULL|                         NULL|                      NULL|           Not Applicable|          per person not ap...|         per group not app...|                       $50 |                  $50 per person|                 $150 per group|                     NULL|                          NULL|                         NULL|                      NULL|                     NULL|                          NULL|                         NULL|                      NULL|                     NULL|                          NULL|                         NULL|                       NULL|                            NULL|                           NULL|                     NULL|                          NULL|                         NULL|                      NULL|                     NULL|                          NULL|                         NULL|                      NULL|                     NULL|                          NULL|                         NULL|                       NULL|                            NULL|                           NULL|         NULL|                        NULL|                              NULL|                           NULL|https://www.delta...|\n",
            "+------------+---------+--------+------------------------------+----------+---------------+------------------+--------------+-------------------+--------------------+-------------+---------+-------------+-----------+---------+---------+----------+----------+----------------+----------------+----------------------------+-------------------------------+---------------------------+-------------------+------------------------------------------------------------+----------------------+--------------------+---------------+----------------------+--------------------------------+----------------------+---------------------------------------+----------------+-----------------+------------------+--------------------+-------------------------------+------------------------+-----------------------------------+---------------+-----------------------+------------+-----------------+------------------------+--------------------+--------------------+------------------------+--------------------------------+---------------------------------------+----------------------+--------------------+---------------------+------------------------+-----------------------+-------------------------+-------------------+---------------------------+--------------------------+----------------------------+----------------------+---------------------------------+--------------------------------+----------------------------------+----------------------------+-------------------------------+-----------------------------+----------------------------------------------+--------------------------------------------------------+--------------------------+-------------------------------+------------------------------+--------------------------+-------------------------------+------------------------------+--------------------------+-------------------------------+------------------------------+----------------------------+---------------------------------+--------------------------------+--------------------------+-------------------------------+------------------------------+--------------------------+-------------------------------+------------------------------+--------------------------+-------------------------------+------------------------------+----------------------------+---------------------------------+--------------------------------+--------------------------+-------------------------------+------------------------------+--------------------------+-------------------------------+------------------------------+--------------------------+-------------------------------+------------------------------+----------------------------+---------------------------------+--------------------------------+-------------------------+------------------------------+-----------------------------+--------------------------+-------------------------+------------------------------+-----------------------------+--------------------------+-------------------------+------------------------------+-----------------------------+---------------------------+--------------------------------+-------------------------------+-------------------------+------------------------------+-----------------------------+--------------------------+-------------------------+------------------------------+-----------------------------+--------------------------+-------------------------+------------------------------+-----------------------------+---------------------------+--------------------------------+-------------------------------+-------------------------+------------------------------+-----------------------------+--------------------------+-------------------------+------------------------------+-----------------------------+--------------------------+-------------------------+------------------------------+-----------------------------+---------------------------+--------------------------------+-------------------------------+-------------+----------------------------+----------------------------------+-------------------------------+--------------------+\n",
            "only showing top 5 rows\n",
            "\n"
          ]
        }
      ]
    },
    {
      "cell_type": "code",
      "source": [
        "df_plan_raw.count()"
      ],
      "metadata": {
        "colab": {
          "base_uri": "https://localhost:8080/"
        },
        "id": "yXNipJuJvyLF",
        "outputId": "9ffc2652-c0d0-4ac5-c01f-7354914478f7"
      },
      "execution_count": 61,
      "outputs": [
        {
          "output_type": "execute_result",
          "data": {
            "text/plain": [
              "227036"
            ]
          },
          "metadata": {},
          "execution_count": 61
        }
      ]
    },
    {
      "cell_type": "code",
      "source": [
        "# df_plan_raw.printSchema()"
      ],
      "metadata": {
        "id": "hX4v4Id3LPUO"
      },
      "execution_count": 10,
      "outputs": []
    },
    {
      "cell_type": "code",
      "source": [
        "df_plan_raw.select(countDistinct(\"StandardComponentId\")).show()\n"
      ],
      "metadata": {
        "colab": {
          "base_uri": "https://localhost:8080/"
        },
        "id": "CwMU8q7WMjbQ",
        "outputId": "8d3e5bcd-30bc-49f3-c536-38cc7ded21e6"
      },
      "execution_count": 62,
      "outputs": [
        {
          "output_type": "stream",
          "name": "stdout",
          "text": [
            "+-----------------------------------+\n",
            "|count(DISTINCT StandardComponentId)|\n",
            "+-----------------------------------+\n",
            "|                              17814|\n",
            "+-----------------------------------+\n",
            "\n"
          ]
        }
      ]
    },
    {
      "cell_type": "code",
      "source": [
        "df_plan_raw.filter(df_plan_raw.IssuerMarketPlaceMarketingName == \"HIOS\").show(5)\n"
      ],
      "metadata": {
        "colab": {
          "base_uri": "https://localhost:8080/"
        },
        "id": "f5xle4FfSeD_",
        "outputId": "7815265c-eeab-41d8-dd68-2ebe73fb20ad"
      },
      "execution_count": 63,
      "outputs": [
        {
          "output_type": "stream",
          "name": "stdout",
          "text": [
            "+------------+---------+--------+------------------------------+----------+-------------------+--------------+--------------+-------------------+------------------+-------------+----------+--------------+--------------------+----------+--------+----------+----------+----------------+---------------+----------------------------+-------------------------------+---------------------------+-------------------+------------------------------------------------------------+----------------------+-----------------+---------------+----------------------+--------------------------------+----------------------+---------------------------------------+----------------+-----------------+------------------+--------------------+-------------------------------+------------------------+-----------------------------------+---------------+-----------------------+------------+------+------------------------+----------------+--------------------+------------------------+--------------------------------+---------------------------------------+----------------------+--------------------+---------------------+------------------------+-----------------------+-------------------------+-------------------+---------------------------+--------------------------+----------------------------+----------------------+---------------------------------+--------------------------------+----------------------------------+----------------------------+-------------------------------+-----------------------------+----------------------------------------------+--------------------------------------------------------+--------------------------+-------------------------------+------------------------------+--------------------------+-------------------------------+------------------------------+--------------------------+-------------------------------+------------------------------+----------------------------+---------------------------------+--------------------------------+--------------------------+-------------------------------+------------------------------+--------------------------+-------------------------------+------------------------------+--------------------------+-------------------------------+------------------------------+----------------------------+---------------------------------+--------------------------------+--------------------------+-------------------------------+------------------------------+--------------------------+-------------------------------+------------------------------+--------------------------+-------------------------------+------------------------------+----------------------------+---------------------------------+--------------------------------+-------------------------+------------------------------+-----------------------------+--------------------------+-------------------------+------------------------------+-----------------------------+--------------------------+-------------------------+------------------------------+-----------------------------+---------------------------+--------------------------------+-------------------------------+-------------------------+------------------------------+-----------------------------+--------------------------+-------------------------+------------------------------+-----------------------------+--------------------------+-------------------------+------------------------------+-----------------------------+---------------------------+--------------------------------+-------------------------------+-------------------------+------------------------------+-----------------------------+--------------------------+-------------------------+------------------------------+-----------------------------+--------------------------+-------------------------+------------------------------+-----------------------------+---------------------------+--------------------------------+-------------------------------+-------------+----------------------------+----------------------------------+-------------------------------+------------+\n",
            "|BusinessYear|StateCode|IssuerId|IssuerMarketPlaceMarketingName|SourceName|         ImportDate|MarketCoverage|DentalOnlyPlan|StandardComponentId| PlanMarketingName|HIOSProductId| NetworkId| ServiceAreaId|         FormularyId| IsNewPlan|PlanType|MetalLevel|DesignType|UniquePlanDesign|QHPNonQHPTypeId|IsNoticeRequiredForPregnancy|IsReferralRequiredForSpecialist|SpecialistRequiringReferral|PlanLevelExclusions|IndianPlanVariationEstimatedAdvancedPaymentAmountPerEnrollee|CompositeRatingOffered|ChildOnlyOffering|ChildOnlyPlanId|WellnessProgramOffered|DiseaseManagementProgramsOffered|EHBPercentTotalPremium|EHBPediatricDentalApportionmentQuantity|IsGuaranteedRate|PlanEffectiveDate|PlanExpirationDate|OutOfCountryCoverage|OutOfCountryCoverageDescription|OutOfServiceAreaCoverage|OutOfServiceAreaCoverageDescription|NationalNetwork|URLForEnrollmentPayment|FormularyURL|PlanId|PlanVariantMarketingName|CSRVariationType|IssuerActuarialValue|AVCalculatorOutputNumber|MedicalDrugDeductiblesIntegrated|MedicalDrugMaximumOutofPocketIntegrated|MultipleInNetworkTiers|FirstTierUtilization|SecondTierUtilization|SBCHavingaBabyDeductible|SBCHavingaBabyCopayment|SBCHavingaBabyCoinsurance|SBCHavingaBabyLimit|SBCHavingDiabetesDeductible|SBCHavingDiabetesCopayment|SBCHavingDiabetesCoinsurance|SBCHavingDiabetesLimit|SBCHavingSimplefractureDeductible|SBCHavingSimplefractureCopayment|SBCHavingSimplefractureCoinsurance|SBCHavingSimplefractureLimit|SpecialtyDrugMaximumCoinsurance|InpatientCopaymentMaximumDays|BeginPrimaryCareCostSharingAfterNumberOfVisits|BeginPrimaryCareDeductibleCoinsuranceAfterNumberOfCopays|MEHBInnTier1IndividualMOOP|MEHBInnTier1FamilyPerPersonMOOP|MEHBInnTier1FamilyPerGroupMOOP|MEHBInnTier2IndividualMOOP|MEHBInnTier2FamilyPerPersonMOOP|MEHBInnTier2FamilyPerGroupMOOP|MEHBOutOfNetIndividualMOOP|MEHBOutOfNetFamilyPerPersonMOOP|MEHBOutOfNetFamilyPerGroupMOOP|MEHBCombInnOonIndividualMOOP|MEHBCombInnOonFamilyPerPersonMOOP|MEHBCombInnOonFamilyPerGroupMOOP|DEHBInnTier1IndividualMOOP|DEHBInnTier1FamilyPerPersonMOOP|DEHBInnTier1FamilyPerGroupMOOP|DEHBInnTier2IndividualMOOP|DEHBInnTier2FamilyPerPersonMOOP|DEHBInnTier2FamilyPerGroupMOOP|DEHBOutOfNetIndividualMOOP|DEHBOutOfNetFamilyPerPersonMOOP|DEHBOutOfNetFamilyPerGroupMOOP|DEHBCombInnOonIndividualMOOP|DEHBCombInnOonFamilyPerPersonMOOP|DEHBCombInnOonFamilyPerGroupMOOP|TEHBInnTier1IndividualMOOP|TEHBInnTier1FamilyPerPersonMOOP|TEHBInnTier1FamilyPerGroupMOOP|TEHBInnTier2IndividualMOOP|TEHBInnTier2FamilyPerPersonMOOP|TEHBInnTier2FamilyPerGroupMOOP|TEHBOutOfNetIndividualMOOP|TEHBOutOfNetFamilyPerPersonMOOP|TEHBOutOfNetFamilyPerGroupMOOP|TEHBCombInnOonIndividualMOOP|TEHBCombInnOonFamilyPerPersonMOOP|TEHBCombInnOonFamilyPerGroupMOOP|MEHBDedInnTier1Individual|MEHBDedInnTier1FamilyPerPerson|MEHBDedInnTier1FamilyPerGroup|MEHBDedInnTier1Coinsurance|MEHBDedInnTier2Individual|MEHBDedInnTier2FamilyPerPerson|MEHBDedInnTier2FamilyPerGroup|MEHBDedInnTier2Coinsurance|MEHBDedOutOfNetIndividual|MEHBDedOutOfNetFamilyPerPerson|MEHBDedOutOfNetFamilyPerGroup|MEHBDedCombInnOonIndividual|MEHBDedCombInnOonFamilyPerPerson|MEHBDedCombInnOonFamilyPerGroup|DEHBDedInnTier1Individual|DEHBDedInnTier1FamilyPerPerson|DEHBDedInnTier1FamilyPerGroup|DEHBDedInnTier1Coinsurance|DEHBDedInnTier2Individual|DEHBDedInnTier2FamilyPerPerson|DEHBDedInnTier2FamilyPerGroup|DEHBDedInnTier2Coinsurance|DEHBDedOutOfNetIndividual|DEHBDedOutOfNetFamilyPerPerson|DEHBDedOutOfNetFamilyPerGroup|DEHBDedCombInnOonIndividual|DEHBDedCombInnOonFamilyPerPerson|DEHBDedCombInnOonFamilyPerGroup|TEHBDedInnTier1Individual|TEHBDedInnTier1FamilyPerPerson|TEHBDedInnTier1FamilyPerGroup|TEHBDedInnTier1Coinsurance|TEHBDedInnTier2Individual|TEHBDedInnTier2FamilyPerPerson|TEHBDedInnTier2FamilyPerGroup|TEHBDedInnTier2Coinsurance|TEHBDedOutOfNetIndividual|TEHBDedOutOfNetFamilyPerPerson|TEHBDedOutOfNetFamilyPerGroup|TEHBDedCombInnOonIndividual|TEHBDedCombInnOonFamilyPerPerson|TEHBDedCombInnOonFamilyPerGroup|IsHSAEligible|HSAOrHRAEmployerContribution|HSAOrHRAEmployerContributionAmount|URLForSummaryofBenefitsCoverage|PlanBrochure|\n",
            "+------------+---------+--------+------------------------------+----------+-------------------+--------------+--------------+-------------------+------------------+-------------+----------+--------------+--------------------+----------+--------+----------+----------+----------------+---------------+----------------------------+-------------------------------+---------------------------+-------------------+------------------------------------------------------------+----------------------+-----------------+---------------+----------------------+--------------------------------+----------------------+---------------------------------------+----------------+-----------------+------------------+--------------------+-------------------------------+------------------------+-----------------------------------+---------------+-----------------------+------------+------+------------------------+----------------+--------------------+------------------------+--------------------------------+---------------------------------------+----------------------+--------------------+---------------------+------------------------+-----------------------+-------------------------+-------------------+---------------------------+--------------------------+----------------------------+----------------------+---------------------------------+--------------------------------+----------------------------------+----------------------------+-------------------------------+-----------------------------+----------------------------------------------+--------------------------------------------------------+--------------------------+-------------------------------+------------------------------+--------------------------+-------------------------------+------------------------------+--------------------------+-------------------------------+------------------------------+----------------------------+---------------------------------+--------------------------------+--------------------------+-------------------------------+------------------------------+--------------------------+-------------------------------+------------------------------+--------------------------+-------------------------------+------------------------------+----------------------------+---------------------------------+--------------------------------+--------------------------+-------------------------------+------------------------------+--------------------------+-------------------------------+------------------------------+--------------------------+-------------------------------+------------------------------+----------------------------+---------------------------------+--------------------------------+-------------------------+------------------------------+-----------------------------+--------------------------+-------------------------+------------------------------+-----------------------------+--------------------------+-------------------------+------------------------------+-----------------------------+---------------------------+--------------------------------+-------------------------------+-------------------------+------------------------------+-----------------------------+--------------------------+-------------------------+------------------------------+-----------------------------+--------------------------+-------------------------+------------------------------+-----------------------------+---------------------------+--------------------------------+-------------------------------+-------------------------+------------------------------+-----------------------------+--------------------------+-------------------------+------------------------------+-----------------------------+--------------------------+-------------------------+------------------------------+-----------------------------+---------------------------+--------------------------------+-------------------------------+-------------+----------------------------+----------------------------------+-------------------------------+------------+\n",
            "|        2016|       AK|   21989|                          HIOS|         4|2015-08-22 15:09:32|             1|         21989|                 AK|SHOP (Small Group)|          Yes|93-0438772|21989AK0080001|Delta Dental Prem...|21989AK008|    NULL|    AKN001|    AKS001|            NULL|            New|                   Indemnity|                           High|                       NULL|   Off the Exchange|                                                        NULL|                  NULL|             NULL|           NULL|                  NULL|                              No|  Allows Adult and ...|                                   NULL|            NULL|             NULL|              NULL|              $49.42|                 Estimated Rate|                    NULL|                                  0|              0|                      0|  2016-01-01|  NULL|                      No|            NULL|                 Yes|        National Network|                             Yes|                                   NULL|                  NULL|   21989AK0080001-00| Standard High Off...|                  86.30%|                   NULL|                     NULL|               NULL|                         No|                      100%|                        NULL|                  NULL|                             NULL|                            NULL|                              NULL|                        NULL|                           NULL|                         NULL|                                          NULL|                                          Not Applicable|      per person not ap...|           per group not app...|                          NULL|                      NULL|                           NULL|                Not Applicable|      per person not ap...|           per group not app...|                          $350|             $350 per person|                   $700 per group|                            NULL|                      NULL|                           NULL|                          NULL|                      NULL|                           NULL|                          NULL|                      NULL|                           NULL|                          NULL|                        NULL|                             NULL|                            NULL|                      NULL|                           NULL|                          NULL|                      NULL|                           NULL|                          NULL|                      NULL|                           NULL|                          NULL|                        NULL|                             NULL|                  Not Applicable|     per person not ap...|          per group not app...|                         NULL|                      NULL|                     NULL|                          NULL|                         NULL|            Not Applicable|     per person not ap...|          per group not app...|                          $50|             $50 per person|                  $150 per group|                           NULL|                     NULL|                          NULL|                         NULL|                      NULL|                     NULL|                          NULL|                         NULL|                      NULL|                     NULL|                          NULL|                         NULL|                       NULL|                            NULL|                           NULL|                     NULL|                          NULL|                         NULL|                      NULL|                     NULL|                          NULL|                         NULL|                      NULL|                     NULL|                          NULL|                         NULL|                       NULL|                            NULL|                           NULL|         NULL|                        NULL|              https://www.modah...|           https://www.modah...|           4|\n",
            "|        2016|       AK|   21989|                          HIOS|         4|2015-08-22 15:09:32|             1|         21989|                 AK|        Individual|          Yes|93-0438772|21989AK0030001|Delta Dental Prem...|21989AK003|    NULL|    AKN001|    AKS001|            NULL|       Existing|                   Indemnity|                            Low|                       NULL|               Both|                                                        NULL|                  NULL|             NULL|           NULL|                  NULL|                              No|  Allows Adult and ...|                                   NULL|            NULL|             NULL|              NULL|              $43.00|                Guaranteed Rate|                    NULL|                                  0|              0|                      0|  2016-01-01|  NULL|                      No|            NULL|                 Yes|        National Network|                             Yes|                                   NULL|                  NULL|   21989AK0030001-00| Standard Low Off ...|                  70.70%|                   NULL|                     NULL|               NULL|                         No|                      100%|                        NULL|                  NULL|                             NULL|                            NULL|                              NULL|                        NULL|                           NULL|                         NULL|                                          NULL|                                          Not Applicable|      per person not ap...|           per group not app...|                          NULL|                      NULL|                           NULL|                Not Applicable|      per person not ap...|           per group not app...|                          $350|             $350 per person|                   $700 per group|                            NULL|                      NULL|                           NULL|                          NULL|                      NULL|                           NULL|                          NULL|                      NULL|                           NULL|                          NULL|                        NULL|                             NULL|                            NULL|                      NULL|                           NULL|                          NULL|                      NULL|                           NULL|                          NULL|                      NULL|                           NULL|                          NULL|                        NULL|                             NULL|                  Not Applicable|     per person not ap...|          per group not app...|                         NULL|                      NULL|                     NULL|                          NULL|                         NULL|            Not Applicable|     per person not ap...|          per group not app...|                           $0|              $0 per person|                    $0 per group|                           NULL|                     NULL|                          NULL|                         NULL|                      NULL|                     NULL|                          NULL|                         NULL|                      NULL|                     NULL|                          NULL|                         NULL|                       NULL|                            NULL|                           NULL|                     NULL|                          NULL|                         NULL|                      NULL|                     NULL|                          NULL|                         NULL|                      NULL|                     NULL|                          NULL|                         NULL|                       NULL|                            NULL|                           NULL|         NULL|                        NULL|              https://www.modah...|           https://www.modah...|           4|\n",
            "|        2016|       AK|   21989|                          HIOS|         4|2015-08-22 15:09:32|             1|         21989|                 AK|        Individual|          Yes|93-0438772|21989AK0030001|Delta Dental Prem...|21989AK003|    NULL|    AKN001|    AKS001|            NULL|       Existing|                   Indemnity|                            Low|                       NULL|               Both|                                                        NULL|                  NULL|             NULL|           NULL|                  NULL|                              No|  Allows Adult and ...|                                   NULL|            NULL|             NULL|              NULL|              $43.00|                Guaranteed Rate|                    NULL|                                  0|              0|                      0|  2016-01-01|  NULL|                      No|            NULL|                 Yes|        National Network|                             Yes|                                   NULL|                  NULL|   21989AK0030001-01| Standard Low On E...|                  70.70%|                   NULL|                     NULL|               NULL|                         No|                      100%|                        NULL|                  NULL|                             NULL|                            NULL|                              NULL|                        NULL|                           NULL|                         NULL|                                          NULL|                                          Not Applicable|      per person not ap...|           per group not app...|                          NULL|                      NULL|                           NULL|                Not Applicable|      per person not ap...|           per group not app...|                          $350|             $350 per person|                   $700 per group|                            NULL|                      NULL|                           NULL|                          NULL|                      NULL|                           NULL|                          NULL|                      NULL|                           NULL|                          NULL|                        NULL|                             NULL|                            NULL|                      NULL|                           NULL|                          NULL|                      NULL|                           NULL|                          NULL|                      NULL|                           NULL|                          NULL|                        NULL|                             NULL|                  Not Applicable|     per person not ap...|          per group not app...|                         NULL|                      NULL|                     NULL|                          NULL|                         NULL|            Not Applicable|     per person not ap...|          per group not app...|                           $0|              $0 per person|                    $0 per group|                           NULL|                     NULL|                          NULL|                         NULL|                      NULL|                     NULL|                          NULL|                         NULL|                      NULL|                     NULL|                          NULL|                         NULL|                       NULL|                            NULL|                           NULL|                     NULL|                          NULL|                         NULL|                      NULL|                     NULL|                          NULL|                         NULL|                      NULL|                     NULL|                          NULL|                         NULL|                       NULL|                            NULL|                           NULL|         NULL|                        NULL|              https://www.modah...|           https://www.modah...|           5|\n",
            "|        2016|       AK|   21989|                          HIOS|         4|2015-08-22 15:09:32|             2|         21989|                 AK|        Individual|          Yes|93-0438772|21989AK0050001|Delta Dental PPO ...|21989AK005|    NULL|    AKN002|    AKS002|            NULL|            New|                         PPO|                           High|                       NULL|               Both|                                                        NULL|                  NULL|             NULL|           NULL|                  NULL|                              No|  Allows Adult and ...|                                   NULL|            NULL|             NULL|              NULL|              $38.00|                Guaranteed Rate|                    NULL|                                  0|              0|                      0|  2016-01-01|  NULL|                      No|            NULL|                 Yes|        National Network|                             Yes|                                   NULL|                  NULL|   21989AK0050001-00| Standard High Off...|                  83.40%|                   NULL|                     NULL|               NULL|                         No|                      100%|                        NULL|                  NULL|                             NULL|                            NULL|                              NULL|                        NULL|                           NULL|                         NULL|                                          NULL|                                                    $350|           $350 per person|                 $700 per group|                          NULL|                      NULL|                           NULL|                Not Applicable|      per person not ap...|           per group not app...|                Not Applicable|        per person not ap...|             per group not app...|                            NULL|                      NULL|                           NULL|                          NULL|                      NULL|                           NULL|                          NULL|                      NULL|                           NULL|                          NULL|                        NULL|                             NULL|                            NULL|                      NULL|                           NULL|                          NULL|                      NULL|                           NULL|                          NULL|                      NULL|                           NULL|                          NULL|                        NULL|                             NULL|                  Not Applicable|     per person not ap...|          per group not app...|                         NULL|                      NULL|                     NULL|                          NULL|                         NULL|            Not Applicable|     per person not ap...|          per group not app...|                           $0|              $0 per person|                    $0 per group|                           NULL|                     NULL|                          NULL|                         NULL|                      NULL|                     NULL|                          NULL|                         NULL|                      NULL|                     NULL|                          NULL|                         NULL|                       NULL|                            NULL|                           NULL|                     NULL|                          NULL|                         NULL|                      NULL|                     NULL|                          NULL|                         NULL|                      NULL|                     NULL|                          NULL|                         NULL|                       NULL|                            NULL|                           NULL|         NULL|                        NULL|              https://www.modah...|           https://www.modah...|           4|\n",
            "|        2016|       AK|   21989|                          HIOS|         4|2015-08-22 15:09:32|             2|         21989|                 AK|SHOP (Small Group)|          Yes|93-0438772|21989AK0080002|Delta Dental Prem...|21989AK008|    NULL|    AKN001|    AKS001|            NULL|            New|                   Indemnity|                           High|                       NULL|   Off the Exchange|                                                        NULL|                  NULL|             NULL|           NULL|                  NULL|                              No|  Allows Adult and ...|                                   NULL|            NULL|             NULL|              NULL|              $49.42|                 Estimated Rate|                    NULL|                                  0|              0|                      0|  2016-01-01|  NULL|                      No|            NULL|                 Yes|        National Network|                             Yes|                                   NULL|                  NULL|   21989AK0080002-00| Standard High Off...|                  86.30%|                   NULL|                     NULL|               NULL|                         No|                      100%|                        NULL|                  NULL|                             NULL|                            NULL|                              NULL|                        NULL|                           NULL|                         NULL|                                          NULL|                                          Not Applicable|      per person not ap...|           per group not app...|                          NULL|                      NULL|                           NULL|                Not Applicable|      per person not ap...|           per group not app...|                          $350|             $350 per person|                   $700 per group|                            NULL|                      NULL|                           NULL|                          NULL|                      NULL|                           NULL|                          NULL|                      NULL|                           NULL|                          NULL|                        NULL|                             NULL|                            NULL|                      NULL|                           NULL|                          NULL|                      NULL|                           NULL|                          NULL|                      NULL|                           NULL|                          NULL|                        NULL|                             NULL|                  Not Applicable|     per person not ap...|          per group not app...|                         NULL|                      NULL|                     NULL|                          NULL|                         NULL|            Not Applicable|     per person not ap...|          per group not app...|                          $50|             $50 per person|                  $150 per group|                           NULL|                     NULL|                          NULL|                         NULL|                      NULL|                     NULL|                          NULL|                         NULL|                      NULL|                     NULL|                          NULL|                         NULL|                       NULL|                            NULL|                           NULL|                     NULL|                          NULL|                         NULL|                      NULL|                     NULL|                          NULL|                         NULL|                      NULL|                     NULL|                          NULL|                         NULL|                       NULL|                            NULL|                           NULL|         NULL|                        NULL|              https://www.modah...|           https://www.modah...|           4|\n",
            "+------------+---------+--------+------------------------------+----------+-------------------+--------------+--------------+-------------------+------------------+-------------+----------+--------------+--------------------+----------+--------+----------+----------+----------------+---------------+----------------------------+-------------------------------+---------------------------+-------------------+------------------------------------------------------------+----------------------+-----------------+---------------+----------------------+--------------------------------+----------------------+---------------------------------------+----------------+-----------------+------------------+--------------------+-------------------------------+------------------------+-----------------------------------+---------------+-----------------------+------------+------+------------------------+----------------+--------------------+------------------------+--------------------------------+---------------------------------------+----------------------+--------------------+---------------------+------------------------+-----------------------+-------------------------+-------------------+---------------------------+--------------------------+----------------------------+----------------------+---------------------------------+--------------------------------+----------------------------------+----------------------------+-------------------------------+-----------------------------+----------------------------------------------+--------------------------------------------------------+--------------------------+-------------------------------+------------------------------+--------------------------+-------------------------------+------------------------------+--------------------------+-------------------------------+------------------------------+----------------------------+---------------------------------+--------------------------------+--------------------------+-------------------------------+------------------------------+--------------------------+-------------------------------+------------------------------+--------------------------+-------------------------------+------------------------------+----------------------------+---------------------------------+--------------------------------+--------------------------+-------------------------------+------------------------------+--------------------------+-------------------------------+------------------------------+--------------------------+-------------------------------+------------------------------+----------------------------+---------------------------------+--------------------------------+-------------------------+------------------------------+-----------------------------+--------------------------+-------------------------+------------------------------+-----------------------------+--------------------------+-------------------------+------------------------------+-----------------------------+---------------------------+--------------------------------+-------------------------------+-------------------------+------------------------------+-----------------------------+--------------------------+-------------------------+------------------------------+-----------------------------+--------------------------+-------------------------+------------------------------+-----------------------------+---------------------------+--------------------------------+-------------------------------+-------------------------+------------------------------+-----------------------------+--------------------------+-------------------------+------------------------------+-----------------------------+--------------------------+-------------------------+------------------------------+-----------------------------+---------------------------+--------------------------------+-------------------------------+-------------+----------------------------+----------------------------------+-------------------------------+------------+\n",
            "only showing top 5 rows\n",
            "\n"
          ]
        }
      ]
    },
    {
      "cell_type": "code",
      "source": [
        "df_plan_raw.filter(df_plan_raw.IssuerId == \"21989\").show(5)\n"
      ],
      "metadata": {
        "colab": {
          "base_uri": "https://localhost:8080/"
        },
        "id": "ZxhNiUjlTgDI",
        "outputId": "b77fc696-8363-4156-df6c-6a3979a89669"
      },
      "execution_count": 13,
      "outputs": [
        {
          "output_type": "stream",
          "name": "stdout",
          "text": [
            "+------------+---------+--------+------------------------------+----------+---------------+------------------+--------------+-------------------+--------------------+-------------+---------+-------------+-----------+---------+---------+----------+----------+----------------+----------------+----------------------------+-------------------------------+---------------------------+-------------------+------------------------------------------------------------+----------------------+--------------------+---------------+----------------------+--------------------------------+----------------------+---------------------------------------+----------------+-----------------+------------------+--------------------+-------------------------------+------------------------+-----------------------------------+---------------+-----------------------+------------+-----------------+------------------------+--------------------+--------------------+------------------------+--------------------------------+---------------------------------------+----------------------+--------------------+---------------------+------------------------+-----------------------+-------------------------+-------------------+---------------------------+--------------------------+----------------------------+----------------------+---------------------------------+--------------------------------+----------------------------------+----------------------------+-------------------------------+-----------------------------+----------------------------------------------+--------------------------------------------------------+--------------------------+-------------------------------+------------------------------+--------------------------+-------------------------------+------------------------------+--------------------------+-------------------------------+------------------------------+----------------------------+---------------------------------+--------------------------------+--------------------------+-------------------------------+------------------------------+--------------------------+-------------------------------+------------------------------+--------------------------+-------------------------------+------------------------------+----------------------------+---------------------------------+--------------------------------+--------------------------+-------------------------------+------------------------------+--------------------------+-------------------------------+------------------------------+--------------------------+-------------------------------+------------------------------+----------------------------+---------------------------------+--------------------------------+-------------------------+------------------------------+-----------------------------+--------------------------+-------------------------+------------------------------+-----------------------------+--------------------------+-------------------------+------------------------------+-----------------------------+---------------------------+--------------------------------+-------------------------------+-------------------------+------------------------------+-----------------------------+--------------------------+-------------------------+------------------------------+-----------------------------+--------------------------+-------------------------+------------------------------+-----------------------------+---------------------------+--------------------------------+-------------------------------+-------------------------+------------------------------+-----------------------------+--------------------------+-------------------------+------------------------------+-----------------------------+--------------------------+-------------------------+------------------------------+-----------------------------+---------------------------+--------------------------------+-------------------------------+-------------+----------------------------+----------------------------------+-------------------------------+--------------------+\n",
            "|BusinessYear|StateCode|IssuerId|IssuerMarketPlaceMarketingName|SourceName|     ImportDate|    MarketCoverage|DentalOnlyPlan|StandardComponentId|   PlanMarketingName|HIOSProductId|NetworkId|ServiceAreaId|FormularyId|IsNewPlan| PlanType|MetalLevel|DesignType|UniquePlanDesign| QHPNonQHPTypeId|IsNoticeRequiredForPregnancy|IsReferralRequiredForSpecialist|SpecialistRequiringReferral|PlanLevelExclusions|IndianPlanVariationEstimatedAdvancedPaymentAmountPerEnrollee|CompositeRatingOffered|   ChildOnlyOffering|ChildOnlyPlanId|WellnessProgramOffered|DiseaseManagementProgramsOffered|EHBPercentTotalPremium|EHBPediatricDentalApportionmentQuantity|IsGuaranteedRate|PlanEffectiveDate|PlanExpirationDate|OutOfCountryCoverage|OutOfCountryCoverageDescription|OutOfServiceAreaCoverage|OutOfServiceAreaCoverageDescription|NationalNetwork|URLForEnrollmentPayment|FormularyURL|           PlanId|PlanVariantMarketingName|    CSRVariationType|IssuerActuarialValue|AVCalculatorOutputNumber|MedicalDrugDeductiblesIntegrated|MedicalDrugMaximumOutofPocketIntegrated|MultipleInNetworkTiers|FirstTierUtilization|SecondTierUtilization|SBCHavingaBabyDeductible|SBCHavingaBabyCopayment|SBCHavingaBabyCoinsurance|SBCHavingaBabyLimit|SBCHavingDiabetesDeductible|SBCHavingDiabetesCopayment|SBCHavingDiabetesCoinsurance|SBCHavingDiabetesLimit|SBCHavingSimplefractureDeductible|SBCHavingSimplefractureCopayment|SBCHavingSimplefractureCoinsurance|SBCHavingSimplefractureLimit|SpecialtyDrugMaximumCoinsurance|InpatientCopaymentMaximumDays|BeginPrimaryCareCostSharingAfterNumberOfVisits|BeginPrimaryCareDeductibleCoinsuranceAfterNumberOfCopays|MEHBInnTier1IndividualMOOP|MEHBInnTier1FamilyPerPersonMOOP|MEHBInnTier1FamilyPerGroupMOOP|MEHBInnTier2IndividualMOOP|MEHBInnTier2FamilyPerPersonMOOP|MEHBInnTier2FamilyPerGroupMOOP|MEHBOutOfNetIndividualMOOP|MEHBOutOfNetFamilyPerPersonMOOP|MEHBOutOfNetFamilyPerGroupMOOP|MEHBCombInnOonIndividualMOOP|MEHBCombInnOonFamilyPerPersonMOOP|MEHBCombInnOonFamilyPerGroupMOOP|DEHBInnTier1IndividualMOOP|DEHBInnTier1FamilyPerPersonMOOP|DEHBInnTier1FamilyPerGroupMOOP|DEHBInnTier2IndividualMOOP|DEHBInnTier2FamilyPerPersonMOOP|DEHBInnTier2FamilyPerGroupMOOP|DEHBOutOfNetIndividualMOOP|DEHBOutOfNetFamilyPerPersonMOOP|DEHBOutOfNetFamilyPerGroupMOOP|DEHBCombInnOonIndividualMOOP|DEHBCombInnOonFamilyPerPersonMOOP|DEHBCombInnOonFamilyPerGroupMOOP|TEHBInnTier1IndividualMOOP|TEHBInnTier1FamilyPerPersonMOOP|TEHBInnTier1FamilyPerGroupMOOP|TEHBInnTier2IndividualMOOP|TEHBInnTier2FamilyPerPersonMOOP|TEHBInnTier2FamilyPerGroupMOOP|TEHBOutOfNetIndividualMOOP|TEHBOutOfNetFamilyPerPersonMOOP|TEHBOutOfNetFamilyPerGroupMOOP|TEHBCombInnOonIndividualMOOP|TEHBCombInnOonFamilyPerPersonMOOP|TEHBCombInnOonFamilyPerGroupMOOP|MEHBDedInnTier1Individual|MEHBDedInnTier1FamilyPerPerson|MEHBDedInnTier1FamilyPerGroup|MEHBDedInnTier1Coinsurance|MEHBDedInnTier2Individual|MEHBDedInnTier2FamilyPerPerson|MEHBDedInnTier2FamilyPerGroup|MEHBDedInnTier2Coinsurance|MEHBDedOutOfNetIndividual|MEHBDedOutOfNetFamilyPerPerson|MEHBDedOutOfNetFamilyPerGroup|MEHBDedCombInnOonIndividual|MEHBDedCombInnOonFamilyPerPerson|MEHBDedCombInnOonFamilyPerGroup|DEHBDedInnTier1Individual|DEHBDedInnTier1FamilyPerPerson|DEHBDedInnTier1FamilyPerGroup|DEHBDedInnTier1Coinsurance|DEHBDedInnTier2Individual|DEHBDedInnTier2FamilyPerPerson|DEHBDedInnTier2FamilyPerGroup|DEHBDedInnTier2Coinsurance|DEHBDedOutOfNetIndividual|DEHBDedOutOfNetFamilyPerPerson|DEHBDedOutOfNetFamilyPerGroup|DEHBDedCombInnOonIndividual|DEHBDedCombInnOonFamilyPerPerson|DEHBDedCombInnOonFamilyPerGroup|TEHBDedInnTier1Individual|TEHBDedInnTier1FamilyPerPerson|TEHBDedInnTier1FamilyPerGroup|TEHBDedInnTier1Coinsurance|TEHBDedInnTier2Individual|TEHBDedInnTier2FamilyPerPerson|TEHBDedInnTier2FamilyPerGroup|TEHBDedInnTier2Coinsurance|TEHBDedOutOfNetIndividual|TEHBDedOutOfNetFamilyPerPerson|TEHBDedOutOfNetFamilyPerGroup|TEHBDedCombInnOonIndividual|TEHBDedCombInnOonFamilyPerPerson|TEHBDedCombInnOonFamilyPerGroup|IsHSAEligible|HSAOrHRAEmployerContribution|HSAOrHRAEmployerContributionAmount|URLForSummaryofBenefitsCoverage|        PlanBrochure|\n",
            "+------------+---------+--------+------------------------------+----------+---------------+------------------+--------------+-------------------+--------------------+-------------+---------+-------------+-----------+---------+---------+----------+----------+----------------+----------------+----------------------------+-------------------------------+---------------------------+-------------------+------------------------------------------------------------+----------------------+--------------------+---------------+----------------------+--------------------------------+----------------------+---------------------------------------+----------------+-----------------+------------------+--------------------+-------------------------------+------------------------+-----------------------------------+---------------+-----------------------+------------+-----------------+------------------------+--------------------+--------------------+------------------------+--------------------------------+---------------------------------------+----------------------+--------------------+---------------------+------------------------+-----------------------+-------------------------+-------------------+---------------------------+--------------------------+----------------------------+----------------------+---------------------------------+--------------------------------+----------------------------------+----------------------------+-------------------------------+-----------------------------+----------------------------------------------+--------------------------------------------------------+--------------------------+-------------------------------+------------------------------+--------------------------+-------------------------------+------------------------------+--------------------------+-------------------------------+------------------------------+----------------------------+---------------------------------+--------------------------------+--------------------------+-------------------------------+------------------------------+--------------------------+-------------------------------+------------------------------+--------------------------+-------------------------------+------------------------------+----------------------------+---------------------------------+--------------------------------+--------------------------+-------------------------------+------------------------------+--------------------------+-------------------------------+------------------------------+--------------------------+-------------------------------+------------------------------+----------------------------+---------------------------------+--------------------------------+-------------------------+------------------------------+-----------------------------+--------------------------+-------------------------+------------------------------+-----------------------------+--------------------------+-------------------------+------------------------------+-----------------------------+---------------------------+--------------------------------+-------------------------------+-------------------------+------------------------------+-----------------------------+--------------------------+-------------------------+------------------------------+-----------------------------+--------------------------+-------------------------+------------------------------+-----------------------------+---------------------------+--------------------------------+-------------------------------+-------------------------+------------------------------+-----------------------------+--------------------------+-------------------------+------------------------------+-----------------------------+--------------------------+-------------------------+------------------------------+-----------------------------+---------------------------+--------------------------------+-------------------------------+-------------+----------------------------+----------------------------------+-------------------------------+--------------------+\n",
            "|        2023|       AK|   21989|          Delta Dental of A...|      HIOS|11/19/2022 1:01|SHOP (Small Group)|           Yes|     21989AK0130001|Delta Dental Prem...|   21989AK013|   AKN001|       AKS001|       NULL| Existing|Indemnity|      High|      NULL|            NULL|Off the Exchange|                        NULL|                             No|                       NULL|               NULL|                                                        NULL|                    No|Allows Adult and ...|             No|  Allows Adult and ...|                            NULL|                  NULL|                                   NULL|  Estimated Rate|         1/1/2023|        12/31/2023|                 Yes|           Providers treated...|                     Yes|                   National Network|            Yes|   https://www.delta...|        NULL|21989AK0130001-00|    Delta Dental Prem...|Standard High Off...|                NULL|                    NULL|                            NULL|                                   NULL|                    No|                100%|                 NULL|                    NULL|                   NULL|                     NULL|               NULL|                       NULL|                      NULL|                        NULL|                  NULL|                             NULL|                            NULL|                              NULL|                        NULL|                           NULL|                            0|                                             0|                                                       0|            Not Applicable|           per person not ap...|          per group not app...|                      NULL|                           NULL|                          NULL|            Not Applicable|           per person not ap...|          per group not app...|                       $375 |                  $375 per person|                  $750 per group|                      NULL|                           NULL|                          NULL|                      NULL|                           NULL|                          NULL|                      NULL|                           NULL|                          NULL|                        NULL|                             NULL|                            NULL|                      NULL|                           NULL|                          NULL|                      NULL|                           NULL|                          NULL|                      NULL|                           NULL|                          NULL|                        NULL|                             NULL|                            NULL|           Not Applicable|          per person not ap...|         per group not app...|                      NULL|                     NULL|                          NULL|                         NULL|                      NULL|           Not Applicable|          per person not ap...|         per group not app...|                       $50 |                  $50 per person|                 $150 per group|                     NULL|                          NULL|                         NULL|                      NULL|                     NULL|                          NULL|                         NULL|                      NULL|                     NULL|                          NULL|                         NULL|                       NULL|                            NULL|                           NULL|                     NULL|                          NULL|                         NULL|                      NULL|                     NULL|                          NULL|                         NULL|                      NULL|                     NULL|                          NULL|                         NULL|                       NULL|                            NULL|                           NULL|         NULL|                        NULL|                              NULL|                           NULL|https://www.delta...|\n",
            "|        2023|       AK|   21989|          Delta Dental of A...|      HIOS|11/19/2022 1:01|        Individual|           Yes|     21989AK0030001|Delta Dental Prem...|   21989AK003|   AKN001|       AKS001|       NULL| Existing|Indemnity|       Low|      NULL|            NULL|            Both|                        NULL|                           NULL|                       NULL|               NULL|                                                        NULL|                    No|Allows Adult and ...|           NULL|                  NULL|                            NULL|                  NULL|                                      1| Guaranteed Rate|         1/1/2023|        12/31/2023|                 Yes|           Providers treated...|                     Yes|                   National network|            Yes|   https://www.delta...|        NULL|21989AK0030001-00|    Delta Dental Prem...|Standard Low Off ...|                NULL|                    NULL|                            NULL|                                   NULL|                    No|                100%|                 NULL|                    NULL|                   NULL|                     NULL|               NULL|                       NULL|                      NULL|                        NULL|                  NULL|                             NULL|                            NULL|                              NULL|                        NULL|                           NULL|                            0|                                             0|                                                       0|            Not Applicable|           per person not ap...|          per group not app...|                      NULL|                           NULL|                          NULL|            Not Applicable|           per person not ap...|          per group not app...|                       $375 |                  $375 per person|                  $750 per group|                      NULL|                           NULL|                          NULL|                      NULL|                           NULL|                          NULL|                      NULL|                           NULL|                          NULL|                        NULL|                             NULL|                            NULL|                      NULL|                           NULL|                          NULL|                      NULL|                           NULL|                          NULL|                      NULL|                           NULL|                          NULL|                        NULL|                             NULL|                            NULL|           Not Applicable|          per person not ap...|         per group not app...|                      NULL|                     NULL|                          NULL|                         NULL|                      NULL|           Not Applicable|          per person not ap...|         per group not app...|                        $0 |                   $0 per person|                   $0 per group|                     NULL|                          NULL|                         NULL|                      NULL|                     NULL|                          NULL|                         NULL|                      NULL|                     NULL|                          NULL|                         NULL|                       NULL|                            NULL|                           NULL|                     NULL|                          NULL|                         NULL|                      NULL|                     NULL|                          NULL|                         NULL|                      NULL|                     NULL|                          NULL|                         NULL|                       NULL|                            NULL|                           NULL|         NULL|                        NULL|                              NULL|                           NULL|https://www.delta...|\n",
            "|        2023|       AK|   21989|          Delta Dental of A...|      HIOS|11/19/2022 1:01|        Individual|           Yes|     21989AK0030001|Delta Dental Prem...|   21989AK003|   AKN001|       AKS001|       NULL| Existing|Indemnity|       Low|      NULL|            NULL|            Both|                        NULL|                           NULL|                       NULL|               NULL|                                                        NULL|                    No|Allows Adult and ...|           NULL|                  NULL|                            NULL|                  NULL|                                      1| Guaranteed Rate|         1/1/2023|        12/31/2023|                 Yes|           Providers treated...|                     Yes|                   National network|            Yes|   https://www.delta...|        NULL|21989AK0030001-01|    Delta Dental Prem...|Standard Low On E...|                NULL|                    NULL|                            NULL|                                   NULL|                    No|                100%|                 NULL|                    NULL|                   NULL|                     NULL|               NULL|                       NULL|                      NULL|                        NULL|                  NULL|                             NULL|                            NULL|                              NULL|                        NULL|                           NULL|                            0|                                             0|                                                       0|            Not Applicable|           per person not ap...|          per group not app...|                      NULL|                           NULL|                          NULL|            Not Applicable|           per person not ap...|          per group not app...|                       $375 |                  $375 per person|                  $750 per group|                      NULL|                           NULL|                          NULL|                      NULL|                           NULL|                          NULL|                      NULL|                           NULL|                          NULL|                        NULL|                             NULL|                            NULL|                      NULL|                           NULL|                          NULL|                      NULL|                           NULL|                          NULL|                      NULL|                           NULL|                          NULL|                        NULL|                             NULL|                            NULL|           Not Applicable|          per person not ap...|         per group not app...|                      NULL|                     NULL|                          NULL|                         NULL|                      NULL|           Not Applicable|          per person not ap...|         per group not app...|                        $0 |                   $0 per person|                   $0 per group|                     NULL|                          NULL|                         NULL|                      NULL|                     NULL|                          NULL|                         NULL|                      NULL|                     NULL|                          NULL|                         NULL|                       NULL|                            NULL|                           NULL|                     NULL|                          NULL|                         NULL|                      NULL|                     NULL|                          NULL|                         NULL|                      NULL|                     NULL|                          NULL|                         NULL|                       NULL|                            NULL|                           NULL|         NULL|                        NULL|                              NULL|                           NULL|https://www.delta...|\n",
            "|        2023|       AK|   21989|          Delta Dental of A...|      HIOS|11/19/2022 1:01|SHOP (Small Group)|           Yes|     21989AK0130002|Delta Dental Prem...|   21989AK013|   AKN001|       AKS001|       NULL| Existing|Indemnity|      High|      NULL|            NULL|Off the Exchange|                        NULL|                             No|                       NULL|               NULL|                                                        NULL|                    No|Allows Adult and ...|             No|  Allows Adult and ...|                            NULL|                  NULL|                                   NULL|  Estimated Rate|         1/1/2023|        12/31/2023|                 Yes|           Providers treated...|                     Yes|                   National Network|            Yes|   https://www.delta...|        NULL|21989AK0130002-00|    Delta Dental Prem...|Standard High Off...|                NULL|                    NULL|                            NULL|                                   NULL|                    No|                100%|                 NULL|                    NULL|                   NULL|                     NULL|               NULL|                       NULL|                      NULL|                        NULL|                  NULL|                             NULL|                            NULL|                              NULL|                        NULL|                           NULL|                            0|                                             0|                                                       0|            Not Applicable|           per person not ap...|          per group not app...|                      NULL|                           NULL|                          NULL|            Not Applicable|           per person not ap...|          per group not app...|                       $375 |                  $375 per person|                  $750 per group|                      NULL|                           NULL|                          NULL|                      NULL|                           NULL|                          NULL|                      NULL|                           NULL|                          NULL|                        NULL|                             NULL|                            NULL|                      NULL|                           NULL|                          NULL|                      NULL|                           NULL|                          NULL|                      NULL|                           NULL|                          NULL|                        NULL|                             NULL|                            NULL|           Not Applicable|          per person not ap...|         per group not app...|                      NULL|                     NULL|                          NULL|                         NULL|                      NULL|           Not Applicable|          per person not ap...|         per group not app...|                       $50 |                  $50 per person|                 $150 per group|                     NULL|                          NULL|                         NULL|                      NULL|                     NULL|                          NULL|                         NULL|                      NULL|                     NULL|                          NULL|                         NULL|                       NULL|                            NULL|                           NULL|                     NULL|                          NULL|                         NULL|                      NULL|                     NULL|                          NULL|                         NULL|                      NULL|                     NULL|                          NULL|                         NULL|                       NULL|                            NULL|                           NULL|         NULL|                        NULL|                              NULL|                           NULL|https://www.delta...|\n",
            "|        2023|       AK|   21989|          Delta Dental of A...|      HIOS|11/19/2022 1:01|SHOP (Small Group)|           Yes|     21989AK0130024|Delta Dental Prem...|   21989AK013|   AKN001|       AKS001|       NULL| Existing|Indemnity|      High|      NULL|            NULL|Off the Exchange|                        NULL|                             No|                       NULL|               NULL|                                                        NULL|                    No|Allows Adult and ...|             No|  Allows Adult and ...|                            NULL|                  NULL|                                   NULL|  Estimated Rate|         1/1/2023|        12/31/2023|                 Yes|           Providers treated...|                     Yes|                   National Network|            Yes|   https://www.delta...|        NULL|21989AK0130024-00|    Delta Dental Prem...|Standard High Off...|                NULL|                    NULL|                            NULL|                                   NULL|                    No|                100%|                 NULL|                    NULL|                   NULL|                     NULL|               NULL|                       NULL|                      NULL|                        NULL|                  NULL|                             NULL|                            NULL|                              NULL|                        NULL|                           NULL|                            0|                                             0|                                                       0|            Not Applicable|           per person not ap...|          per group not app...|                      NULL|                           NULL|                          NULL|            Not Applicable|           per person not ap...|          per group not app...|                       $375 |                  $375 per person|                  $750 per group|                      NULL|                           NULL|                          NULL|                      NULL|                           NULL|                          NULL|                      NULL|                           NULL|                          NULL|                        NULL|                             NULL|                            NULL|                      NULL|                           NULL|                          NULL|                      NULL|                           NULL|                          NULL|                      NULL|                           NULL|                          NULL|                        NULL|                             NULL|                            NULL|           Not Applicable|          per person not ap...|         per group not app...|                      NULL|                     NULL|                          NULL|                         NULL|                      NULL|           Not Applicable|          per person not ap...|         per group not app...|                       $50 |                  $50 per person|                 $150 per group|                     NULL|                          NULL|                         NULL|                      NULL|                     NULL|                          NULL|                         NULL|                      NULL|                     NULL|                          NULL|                         NULL|                       NULL|                            NULL|                           NULL|                     NULL|                          NULL|                         NULL|                      NULL|                     NULL|                          NULL|                         NULL|                      NULL|                     NULL|                          NULL|                         NULL|                       NULL|                            NULL|                           NULL|         NULL|                        NULL|                              NULL|                           NULL|https://www.delta...|\n",
            "+------------+---------+--------+------------------------------+----------+---------------+------------------+--------------+-------------------+--------------------+-------------+---------+-------------+-----------+---------+---------+----------+----------+----------------+----------------+----------------------------+-------------------------------+---------------------------+-------------------+------------------------------------------------------------+----------------------+--------------------+---------------+----------------------+--------------------------------+----------------------+---------------------------------------+----------------+-----------------+------------------+--------------------+-------------------------------+------------------------+-----------------------------------+---------------+-----------------------+------------+-----------------+------------------------+--------------------+--------------------+------------------------+--------------------------------+---------------------------------------+----------------------+--------------------+---------------------+------------------------+-----------------------+-------------------------+-------------------+---------------------------+--------------------------+----------------------------+----------------------+---------------------------------+--------------------------------+----------------------------------+----------------------------+-------------------------------+-----------------------------+----------------------------------------------+--------------------------------------------------------+--------------------------+-------------------------------+------------------------------+--------------------------+-------------------------------+------------------------------+--------------------------+-------------------------------+------------------------------+----------------------------+---------------------------------+--------------------------------+--------------------------+-------------------------------+------------------------------+--------------------------+-------------------------------+------------------------------+--------------------------+-------------------------------+------------------------------+----------------------------+---------------------------------+--------------------------------+--------------------------+-------------------------------+------------------------------+--------------------------+-------------------------------+------------------------------+--------------------------+-------------------------------+------------------------------+----------------------------+---------------------------------+--------------------------------+-------------------------+------------------------------+-----------------------------+--------------------------+-------------------------+------------------------------+-----------------------------+--------------------------+-------------------------+------------------------------+-----------------------------+---------------------------+--------------------------------+-------------------------------+-------------------------+------------------------------+-----------------------------+--------------------------+-------------------------+------------------------------+-----------------------------+--------------------------+-------------------------+------------------------------+-----------------------------+---------------------------+--------------------------------+-------------------------------+-------------------------+------------------------------+-----------------------------+--------------------------+-------------------------+------------------------------+-----------------------------+--------------------------+-------------------------+------------------------------+-----------------------------+---------------------------+--------------------------------+-------------------------------+-------------+----------------------------+----------------------------------+-------------------------------+--------------------+\n",
            "only showing top 5 rows\n",
            "\n"
          ]
        }
      ]
    },
    {
      "cell_type": "code",
      "source": [
        "df_plan_raw.filter(df_plan_raw.IssuerId == \"38344\").show(5)\n",
        "\n"
      ],
      "metadata": {
        "colab": {
          "base_uri": "https://localhost:8080/"
        },
        "id": "WQoic33KTwdw",
        "outputId": "15e5aea0-33d2-43e9-9497-a9240e430eeb"
      },
      "execution_count": 14,
      "outputs": [
        {
          "output_type": "stream",
          "name": "stdout",
          "text": [
            "+------------+---------+--------+------------------------------+----------+---------------+--------------+--------------+-------------------+--------------------+-------------+---------+-------------+-----------+---------+--------+----------+--------------+----------------+---------------+----------------------------+-------------------------------+---------------------------+-------------------+------------------------------------------------------------+----------------------+--------------------+---------------+----------------------+--------------------------------+----------------------+---------------------------------------+----------------+-----------------+------------------+--------------------+-------------------------------+------------------------+-----------------------------------+---------------+-----------------------+--------------------+-----------------+------------------------+--------------------+--------------------+------------------------+--------------------------------+---------------------------------------+----------------------+--------------------+---------------------+------------------------+-----------------------+-------------------------+-------------------+---------------------------+--------------------------+----------------------------+----------------------+---------------------------------+--------------------------------+----------------------------------+----------------------------+-------------------------------+-----------------------------+----------------------------------------------+--------------------------------------------------------+--------------------------+-------------------------------+------------------------------+--------------------------+-------------------------------+------------------------------+--------------------------+-------------------------------+------------------------------+----------------------------+---------------------------------+--------------------------------+--------------------------+-------------------------------+------------------------------+--------------------------+-------------------------------+------------------------------+--------------------------+-------------------------------+------------------------------+----------------------------+---------------------------------+--------------------------------+--------------------------+-------------------------------+------------------------------+--------------------------+-------------------------------+------------------------------+--------------------------+-------------------------------+------------------------------+----------------------------+---------------------------------+--------------------------------+-------------------------+------------------------------+-----------------------------+--------------------------+-------------------------+------------------------------+-----------------------------+--------------------------+-------------------------+------------------------------+-----------------------------+---------------------------+--------------------------------+-------------------------------+-------------------------+------------------------------+-----------------------------+--------------------------+-------------------------+------------------------------+-----------------------------+--------------------------+-------------------------+------------------------------+-----------------------------+---------------------------+--------------------------------+-------------------------------+-------------------------+------------------------------+-----------------------------+--------------------------+-------------------------+------------------------------+-----------------------------+--------------------------+-------------------------+------------------------------+-----------------------------+---------------------------+--------------------------------+-------------------------------+-------------+----------------------------+----------------------------------+-------------------------------+--------------------+\n",
            "|BusinessYear|StateCode|IssuerId|IssuerMarketPlaceMarketingName|SourceName|     ImportDate|MarketCoverage|DentalOnlyPlan|StandardComponentId|   PlanMarketingName|HIOSProductId|NetworkId|ServiceAreaId|FormularyId|IsNewPlan|PlanType|MetalLevel|    DesignType|UniquePlanDesign|QHPNonQHPTypeId|IsNoticeRequiredForPregnancy|IsReferralRequiredForSpecialist|SpecialistRequiringReferral|PlanLevelExclusions|IndianPlanVariationEstimatedAdvancedPaymentAmountPerEnrollee|CompositeRatingOffered|   ChildOnlyOffering|ChildOnlyPlanId|WellnessProgramOffered|DiseaseManagementProgramsOffered|EHBPercentTotalPremium|EHBPediatricDentalApportionmentQuantity|IsGuaranteedRate|PlanEffectiveDate|PlanExpirationDate|OutOfCountryCoverage|OutOfCountryCoverageDescription|OutOfServiceAreaCoverage|OutOfServiceAreaCoverageDescription|NationalNetwork|URLForEnrollmentPayment|        FormularyURL|           PlanId|PlanVariantMarketingName|    CSRVariationType|IssuerActuarialValue|AVCalculatorOutputNumber|MedicalDrugDeductiblesIntegrated|MedicalDrugMaximumOutofPocketIntegrated|MultipleInNetworkTiers|FirstTierUtilization|SecondTierUtilization|SBCHavingaBabyDeductible|SBCHavingaBabyCopayment|SBCHavingaBabyCoinsurance|SBCHavingaBabyLimit|SBCHavingDiabetesDeductible|SBCHavingDiabetesCopayment|SBCHavingDiabetesCoinsurance|SBCHavingDiabetesLimit|SBCHavingSimplefractureDeductible|SBCHavingSimplefractureCopayment|SBCHavingSimplefractureCoinsurance|SBCHavingSimplefractureLimit|SpecialtyDrugMaximumCoinsurance|InpatientCopaymentMaximumDays|BeginPrimaryCareCostSharingAfterNumberOfVisits|BeginPrimaryCareDeductibleCoinsuranceAfterNumberOfCopays|MEHBInnTier1IndividualMOOP|MEHBInnTier1FamilyPerPersonMOOP|MEHBInnTier1FamilyPerGroupMOOP|MEHBInnTier2IndividualMOOP|MEHBInnTier2FamilyPerPersonMOOP|MEHBInnTier2FamilyPerGroupMOOP|MEHBOutOfNetIndividualMOOP|MEHBOutOfNetFamilyPerPersonMOOP|MEHBOutOfNetFamilyPerGroupMOOP|MEHBCombInnOonIndividualMOOP|MEHBCombInnOonFamilyPerPersonMOOP|MEHBCombInnOonFamilyPerGroupMOOP|DEHBInnTier1IndividualMOOP|DEHBInnTier1FamilyPerPersonMOOP|DEHBInnTier1FamilyPerGroupMOOP|DEHBInnTier2IndividualMOOP|DEHBInnTier2FamilyPerPersonMOOP|DEHBInnTier2FamilyPerGroupMOOP|DEHBOutOfNetIndividualMOOP|DEHBOutOfNetFamilyPerPersonMOOP|DEHBOutOfNetFamilyPerGroupMOOP|DEHBCombInnOonIndividualMOOP|DEHBCombInnOonFamilyPerPersonMOOP|DEHBCombInnOonFamilyPerGroupMOOP|TEHBInnTier1IndividualMOOP|TEHBInnTier1FamilyPerPersonMOOP|TEHBInnTier1FamilyPerGroupMOOP|TEHBInnTier2IndividualMOOP|TEHBInnTier2FamilyPerPersonMOOP|TEHBInnTier2FamilyPerGroupMOOP|TEHBOutOfNetIndividualMOOP|TEHBOutOfNetFamilyPerPersonMOOP|TEHBOutOfNetFamilyPerGroupMOOP|TEHBCombInnOonIndividualMOOP|TEHBCombInnOonFamilyPerPersonMOOP|TEHBCombInnOonFamilyPerGroupMOOP|MEHBDedInnTier1Individual|MEHBDedInnTier1FamilyPerPerson|MEHBDedInnTier1FamilyPerGroup|MEHBDedInnTier1Coinsurance|MEHBDedInnTier2Individual|MEHBDedInnTier2FamilyPerPerson|MEHBDedInnTier2FamilyPerGroup|MEHBDedInnTier2Coinsurance|MEHBDedOutOfNetIndividual|MEHBDedOutOfNetFamilyPerPerson|MEHBDedOutOfNetFamilyPerGroup|MEHBDedCombInnOonIndividual|MEHBDedCombInnOonFamilyPerPerson|MEHBDedCombInnOonFamilyPerGroup|DEHBDedInnTier1Individual|DEHBDedInnTier1FamilyPerPerson|DEHBDedInnTier1FamilyPerGroup|DEHBDedInnTier1Coinsurance|DEHBDedInnTier2Individual|DEHBDedInnTier2FamilyPerPerson|DEHBDedInnTier2FamilyPerGroup|DEHBDedInnTier2Coinsurance|DEHBDedOutOfNetIndividual|DEHBDedOutOfNetFamilyPerPerson|DEHBDedOutOfNetFamilyPerGroup|DEHBDedCombInnOonIndividual|DEHBDedCombInnOonFamilyPerPerson|DEHBDedCombInnOonFamilyPerGroup|TEHBDedInnTier1Individual|TEHBDedInnTier1FamilyPerPerson|TEHBDedInnTier1FamilyPerGroup|TEHBDedInnTier1Coinsurance|TEHBDedInnTier2Individual|TEHBDedInnTier2FamilyPerPerson|TEHBDedInnTier2FamilyPerGroup|TEHBDedInnTier2Coinsurance|TEHBDedOutOfNetIndividual|TEHBDedOutOfNetFamilyPerPerson|TEHBDedOutOfNetFamilyPerGroup|TEHBDedCombInnOonIndividual|TEHBDedCombInnOonFamilyPerPerson|TEHBDedCombInnOonFamilyPerGroup|IsHSAEligible|HSAOrHRAEmployerContribution|HSAOrHRAEmployerContributionAmount|URLForSummaryofBenefitsCoverage|        PlanBrochure|\n",
            "+------------+---------+--------+------------------------------+----------+---------------+--------------+--------------+-------------------+--------------------+-------------+---------+-------------+-----------+---------+--------+----------+--------------+----------------+---------------+----------------------------+-------------------------------+---------------------------+-------------------+------------------------------------------------------------+----------------------+--------------------+---------------+----------------------+--------------------------------+----------------------+---------------------------------------+----------------+-----------------+------------------+--------------------+-------------------------------+------------------------+-----------------------------------+---------------+-----------------------+--------------------+-----------------+------------------------+--------------------+--------------------+------------------------+--------------------------------+---------------------------------------+----------------------+--------------------+---------------------+------------------------+-----------------------+-------------------------+-------------------+---------------------------+--------------------------+----------------------------+----------------------+---------------------------------+--------------------------------+----------------------------------+----------------------------+-------------------------------+-----------------------------+----------------------------------------------+--------------------------------------------------------+--------------------------+-------------------------------+------------------------------+--------------------------+-------------------------------+------------------------------+--------------------------+-------------------------------+------------------------------+----------------------------+---------------------------------+--------------------------------+--------------------------+-------------------------------+------------------------------+--------------------------+-------------------------------+------------------------------+--------------------------+-------------------------------+------------------------------+----------------------------+---------------------------------+--------------------------------+--------------------------+-------------------------------+------------------------------+--------------------------+-------------------------------+------------------------------+--------------------------+-------------------------------+------------------------------+----------------------------+---------------------------------+--------------------------------+-------------------------+------------------------------+-----------------------------+--------------------------+-------------------------+------------------------------+-----------------------------+--------------------------+-------------------------+------------------------------+-----------------------------+---------------------------+--------------------------------+-------------------------------+-------------------------+------------------------------+-----------------------------+--------------------------+-------------------------+------------------------------+-----------------------------+--------------------------+-------------------------+------------------------------+-----------------------------+---------------------------+--------------------------------+-------------------------------+-------------------------+------------------------------+-----------------------------+--------------------------+-------------------------+------------------------------+-----------------------------+--------------------------+-------------------------+------------------------------+-----------------------------+---------------------------+--------------------------------+-------------------------------+-------------+----------------------------+----------------------------------+-------------------------------+--------------------+\n",
            "|        2023|       AK|   38344|          Premera Blue Cros...|      HIOS|12/20/2022 1:00|    Individual|            No|     38344AK1060001|Premera Blue Cros...|   38344AK106|   AKN001|       AKS001|     AKF001| Existing|     PPO|      Gold|Not Applicable|             Yes|On the Exchange|                          No|                             No|                       NULL|               NULL|                                                      $0.00 |                    No|Allows Adult and ...|           NULL|                    No|            Asthma, Heart Dis...|                0.9937|                                   NULL|            NULL|         1/1/2023|        12/31/2023|                 Yes|           Benefits for cove...|                     Yes|               If you're outside...|             No|   https://pay.insta...|https://www.preme...|38344AK1060001-01|    Premera Blue Cros...|Standard Gold On ...|              79.18%|              0.79621838|                             Yes|                                    Yes|                   Yes|                 99%|                   1%|                 $1,500 |                   $10 |                  $3,300 |               $60 |                      $200 |                   $1,600 |                         $0 |                  $20 |                          $1,500 |                           $200 |                             $300 |                         $0 |                           NULL|                            0|                                             2|                                                       0|                      NULL|                           NULL|                          NULL|                      NULL|                           NULL|                          NULL|                      NULL|                           NULL|                          NULL|                        NULL|                             NULL|                            NULL|                      NULL|                           NULL|                          NULL|                      NULL|                           NULL|                          NULL|                      NULL|                           NULL|                          NULL|                        NULL|                             NULL|                            NULL|                   $6,300 |               $6300 per person|              $12600 per group|                   $6,300 |               $6300 per person|              $12600 per group|            Not Applicable|           per person not ap...|          per group not app...|              Not Applicable|             per person not ap...|            per group not app...|                     NULL|                          NULL|                         NULL|                      NULL|                     NULL|                          NULL|                         NULL|                      NULL|                     NULL|                          NULL|                         NULL|                       NULL|                            NULL|                           NULL|                     NULL|                          NULL|                         NULL|                      NULL|                     NULL|                          NULL|                         NULL|                      NULL|                     NULL|                          NULL|                         NULL|                       NULL|                            NULL|                           NULL|                  $1,500 |              $1500 per person|              $3000 per group|                    30.00%|                  $1,500 |              $1500 per person|              $3000 per group|                    30.00%|                  $3,000 |              $3000 per person|         per group not app...|             Not Applicable|            per person not ap...|           per group not app...|           No|                        NULL|                              NULL|           https://www.preme...|https://www.preme...|\n",
            "|        2023|       AK|   38344|          Premera Blue Cros...|      HIOS|12/20/2022 1:00|    Individual|            No|     38344AK1060001|Premera Blue Cros...|   38344AK106|   AKN001|       AKS001|     AKF001| Existing|     PPO|      Gold|Not Applicable|             Yes|On the Exchange|                          No|                             No|                       NULL|               NULL|                                                      $0.00 |                    No|Allows Adult and ...|           NULL|                    No|            Asthma, Heart Dis...|                0.9937|                                   NULL|            NULL|         1/1/2023|        12/31/2023|                 Yes|           Benefits for cove...|                     Yes|               If you're outside...|             No|   https://pay.insta...|https://www.preme...|38344AK1060001-02|    Premera Blue Cros...|Zero Cost Sharing...|             100.00%|                       1|                             Yes|                                    Yes|                   Yes|                 99%|                   1%|                     $0 |                    $0 |                      $0 |                $0 |                        $0 |                       $0 |                         $0 |                   $0 |                              $0 |                             $0 |                               $0 |                         $0 |                           NULL|                            0|                                             2|                                                       0|                      NULL|                           NULL|                          NULL|                      NULL|                           NULL|                          NULL|                      NULL|                           NULL|                          NULL|                        NULL|                             NULL|                            NULL|                      NULL|                           NULL|                          NULL|                      NULL|                           NULL|                          NULL|                      NULL|                           NULL|                          NULL|                        NULL|                             NULL|                            NULL|                       $0 |                  $0 per person|                  $0 per group|                       $0 |                  $0 per person|                  $0 per group|                       $0 |                  $0 per person|                  $0 per group|                         $0 |                    $0 per person|                    $0 per group|                     NULL|                          NULL|                         NULL|                      NULL|                     NULL|                          NULL|                         NULL|                      NULL|                     NULL|                          NULL|                         NULL|                       NULL|                            NULL|                           NULL|                     NULL|                          NULL|                         NULL|                      NULL|                     NULL|                          NULL|                         NULL|                      NULL|                     NULL|                          NULL|                         NULL|                       NULL|                            NULL|                           NULL|                      $0 |                 $0 per person|                 $0 per group|                     0.00%|                      $0 |                 $0 per person|                 $0 per group|                     0.00%|                      $0 |                 $0 per person|                 $0 per group|                        $0 |                   $0 per person|                   $0 per group|           No|                        NULL|                              NULL|           https://www.preme...|https://www.preme...|\n",
            "|        2023|       AK|   38344|          Premera Blue Cros...|      HIOS|12/20/2022 1:00|    Individual|            No|     38344AK1060001|Premera Blue Cros...|   38344AK106|   AKN001|       AKS001|     AKF001| Existing|     PPO|      Gold|Not Applicable|             Yes|On the Exchange|                          No|                             No|                       NULL|               NULL|                                                      $0.00 |                    No|Allows Adult and ...|           NULL|                    No|            Asthma, Heart Dis...|                0.9937|                                   NULL|            NULL|         1/1/2023|        12/31/2023|                 Yes|           Benefits for cove...|                     Yes|               If you're outside...|             No|   https://pay.insta...|https://www.preme...|38344AK1060001-03|    Premera Blue Cros...|Limited Cost Shar...|              79.18%|              0.79621838|                             Yes|                                    Yes|                   Yes|                 99%|                   1%|                 $1,500 |                   $10 |                  $3,300 |               $60 |                      $200 |                   $1,600 |                         $0 |                  $20 |                          $1,500 |                           $200 |                             $300 |                         $0 |                           NULL|                            0|                                             2|                                                       0|                      NULL|                           NULL|                          NULL|                      NULL|                           NULL|                          NULL|                      NULL|                           NULL|                          NULL|                        NULL|                             NULL|                            NULL|                      NULL|                           NULL|                          NULL|                      NULL|                           NULL|                          NULL|                      NULL|                           NULL|                          NULL|                        NULL|                             NULL|                            NULL|                   $6,300 |               $6300 per person|              $12600 per group|                   $6,300 |               $6300 per person|              $12600 per group|            Not Applicable|           per person not ap...|          per group not app...|              Not Applicable|             per person not ap...|            per group not app...|                     NULL|                          NULL|                         NULL|                      NULL|                     NULL|                          NULL|                         NULL|                      NULL|                     NULL|                          NULL|                         NULL|                       NULL|                            NULL|                           NULL|                     NULL|                          NULL|                         NULL|                      NULL|                     NULL|                          NULL|                         NULL|                      NULL|                     NULL|                          NULL|                         NULL|                       NULL|                            NULL|                           NULL|                  $1,500 |              $1500 per person|              $3000 per group|                    30.00%|                  $1,500 |              $1500 per person|              $3000 per group|                    30.00%|                  $3,000 |              $3000 per person|         per group not app...|             Not Applicable|            per person not ap...|           per group not app...|           No|                        NULL|                              NULL|           https://www.preme...|https://www.preme...|\n",
            "|        2023|       AK|   38344|          Premera Blue Cros...|      HIOS|12/20/2022 1:00|    Individual|            No|     38344AK1060002|Premera Blue Cros...|   38344AK106|   AKN001|       AKS001|     AKF002| Existing|     PPO|    Silver|Not Applicable|             Yes|On the Exchange|                          No|                             No|                       NULL|               NULL|                                                      $0.00 |                    No|Allows Adult and ...|           NULL|                    No|            Asthma, Heart Dis...|                0.9946|                                   NULL|            NULL|         1/1/2023|        12/31/2023|                 Yes|           Benefits for cove...|                     Yes|               If you're outside...|             No|   https://pay.insta...|https://www.preme...|38344AK1060002-01|    Premera Blue Cros...|Standard Silver O...|              70.96%|             0.718784417|                             Yes|                                    Yes|                   Yes|                 99%|                   1%|                 $4,500 |                   $10 |                  $2,400 |               $60 |                      $200 |                   $1,800 |                         $0 |                  $20 |                          $2,300 |                           $200 |                               $0 |                         $0 |                           NULL|                            0|                                             2|                                                       0|                      NULL|                           NULL|                          NULL|                      NULL|                           NULL|                          NULL|                      NULL|                           NULL|                          NULL|                        NULL|                             NULL|                            NULL|                      NULL|                           NULL|                          NULL|                      NULL|                           NULL|                          NULL|                      NULL|                           NULL|                          NULL|                        NULL|                             NULL|                            NULL|                   $8,200 |               $8200 per person|              $16400 per group|                   $8,200 |               $8200 per person|              $16400 per group|            Not Applicable|           per person not ap...|          per group not app...|              Not Applicable|             per person not ap...|            per group not app...|                     NULL|                          NULL|                         NULL|                      NULL|                     NULL|                          NULL|                         NULL|                      NULL|                     NULL|                          NULL|                         NULL|                       NULL|                            NULL|                           NULL|                     NULL|                          NULL|                         NULL|                      NULL|                     NULL|                          NULL|                         NULL|                      NULL|                     NULL|                          NULL|                         NULL|                       NULL|                            NULL|                           NULL|                  $4,500 |              $4500 per person|              $9000 per group|                    30.00%|                  $4,500 |              $4500 per person|              $9000 per group|                    30.00%|                  $9,000 |              $9000 per person|         per group not app...|             Not Applicable|            per person not ap...|           per group not app...|           No|                        NULL|                              NULL|           https://www.preme...|https://www.preme...|\n",
            "|        2023|       AK|   38344|          Premera Blue Cros...|      HIOS|12/20/2022 1:00|    Individual|            No|     38344AK1060002|Premera Blue Cros...|   38344AK106|   AKN001|       AKS001|     AKF002| Existing|     PPO|    Silver|Not Applicable|             Yes|On the Exchange|                          No|                             No|                       NULL|               NULL|                                                      $0.00 |                    No|Allows Adult and ...|           NULL|                    No|            Asthma, Heart Dis...|                0.9946|                                   NULL|            NULL|         1/1/2023|        12/31/2023|                 Yes|           Benefits for cove...|                     Yes|               If you're outside...|             No|   https://pay.insta...|https://www.preme...|38344AK1060002-02|    Premera Blue Cros...|Zero Cost Sharing...|             100.00%|                       1|                             Yes|                                    Yes|                   Yes|                 99%|                   1%|                     $0 |                    $0 |                      $0 |                $0 |                        $0 |                       $0 |                         $0 |                   $0 |                              $0 |                             $0 |                               $0 |                         $0 |                           NULL|                            0|                                             2|                                                       0|                      NULL|                           NULL|                          NULL|                      NULL|                           NULL|                          NULL|                      NULL|                           NULL|                          NULL|                        NULL|                             NULL|                            NULL|                      NULL|                           NULL|                          NULL|                      NULL|                           NULL|                          NULL|                      NULL|                           NULL|                          NULL|                        NULL|                             NULL|                            NULL|                       $0 |                  $0 per person|                  $0 per group|                       $0 |                  $0 per person|                  $0 per group|                       $0 |                  $0 per person|                  $0 per group|                         $0 |                    $0 per person|                    $0 per group|                     NULL|                          NULL|                         NULL|                      NULL|                     NULL|                          NULL|                         NULL|                      NULL|                     NULL|                          NULL|                         NULL|                       NULL|                            NULL|                           NULL|                     NULL|                          NULL|                         NULL|                      NULL|                     NULL|                          NULL|                         NULL|                      NULL|                     NULL|                          NULL|                         NULL|                       NULL|                            NULL|                           NULL|                      $0 |                 $0 per person|                 $0 per group|                     0.00%|                      $0 |                 $0 per person|                 $0 per group|                     0.00%|                      $0 |                 $0 per person|                 $0 per group|                        $0 |                   $0 per person|                   $0 per group|           No|                        NULL|                              NULL|           https://www.preme...|https://www.preme...|\n",
            "+------------+---------+--------+------------------------------+----------+---------------+--------------+--------------+-------------------+--------------------+-------------+---------+-------------+-----------+---------+--------+----------+--------------+----------------+---------------+----------------------------+-------------------------------+---------------------------+-------------------+------------------------------------------------------------+----------------------+--------------------+---------------+----------------------+--------------------------------+----------------------+---------------------------------------+----------------+-----------------+------------------+--------------------+-------------------------------+------------------------+-----------------------------------+---------------+-----------------------+--------------------+-----------------+------------------------+--------------------+--------------------+------------------------+--------------------------------+---------------------------------------+----------------------+--------------------+---------------------+------------------------+-----------------------+-------------------------+-------------------+---------------------------+--------------------------+----------------------------+----------------------+---------------------------------+--------------------------------+----------------------------------+----------------------------+-------------------------------+-----------------------------+----------------------------------------------+--------------------------------------------------------+--------------------------+-------------------------------+------------------------------+--------------------------+-------------------------------+------------------------------+--------------------------+-------------------------------+------------------------------+----------------------------+---------------------------------+--------------------------------+--------------------------+-------------------------------+------------------------------+--------------------------+-------------------------------+------------------------------+--------------------------+-------------------------------+------------------------------+----------------------------+---------------------------------+--------------------------------+--------------------------+-------------------------------+------------------------------+--------------------------+-------------------------------+------------------------------+--------------------------+-------------------------------+------------------------------+----------------------------+---------------------------------+--------------------------------+-------------------------+------------------------------+-----------------------------+--------------------------+-------------------------+------------------------------+-----------------------------+--------------------------+-------------------------+------------------------------+-----------------------------+---------------------------+--------------------------------+-------------------------------+-------------------------+------------------------------+-----------------------------+--------------------------+-------------------------+------------------------------+-----------------------------+--------------------------+-------------------------+------------------------------+-----------------------------+---------------------------+--------------------------------+-------------------------------+-------------------------+------------------------------+-----------------------------+--------------------------+-------------------------+------------------------------+-----------------------------+--------------------------+-------------------------+------------------------------+-----------------------------+---------------------------+--------------------------------+-------------------------------+-------------+----------------------------+----------------------------------+-------------------------------+--------------------+\n",
            "only showing top 5 rows\n",
            "\n"
          ]
        }
      ]
    },
    {
      "cell_type": "markdown",
      "source": [
        "We conclude from the above 3 cells that some data is outdated , and organization names were named HIOS at first then they were renamed in more recent years, so we don't need the raws with outdated data, so we can drop all data with ``` IssuerMarketPlaceMarketingName ``` value of ```HIOS```\n",
        "\n"
      ],
      "metadata": {
        "id": "BrCEfPX4UAd3"
      }
    },
    {
      "cell_type": "code",
      "source": [
        "df_plan_raw = df_plan_raw.filter(df_plan_raw.IssuerMarketPlaceMarketingName != \"HIOS\")\n"
      ],
      "metadata": {
        "id": "FrQQm2QNUq-k"
      },
      "execution_count": 64,
      "outputs": []
    },
    {
      "cell_type": "code",
      "source": [
        "df_plan_raw.select(countDistinct(\"StandardComponentId\")).show()\n"
      ],
      "metadata": {
        "colab": {
          "base_uri": "https://localhost:8080/"
        },
        "id": "hdgH80XAWvP8",
        "outputId": "2ccc6735-5d33-4ba2-fff5-96e28b3f82d7"
      },
      "execution_count": 65,
      "outputs": [
        {
          "output_type": "stream",
          "name": "stdout",
          "text": [
            "+-----------------------------------+\n",
            "|count(DISTINCT StandardComponentId)|\n",
            "+-----------------------------------+\n",
            "|                              14503|\n",
            "+-----------------------------------+\n",
            "\n"
          ]
        }
      ]
    },
    {
      "cell_type": "code",
      "source": [
        "df_plan_raw.createOrReplaceTempView(\"plan_staging\")\n"
      ],
      "metadata": {
        "id": "8cawOdrZJPnW"
      },
      "execution_count": 66,
      "outputs": []
    },
    {
      "cell_type": "markdown",
      "source": [
        "### 2- Network Raw Data"
      ],
      "metadata": {
        "id": "DxqMZL5AN3oK"
      }
    },
    {
      "cell_type": "code",
      "source": [
        "df_network_raw = spark.read.option(\"header\", \"true\").option(\"inferSchema\", \"true\").csv(\"/content/health-insurance-raw-data/network/*/*.csv\")\n",
        "\n",
        "\n",
        "df_network_raw.show()\n"
      ],
      "metadata": {
        "colab": {
          "base_uri": "https://localhost:8080/"
        },
        "id": "KkvaUYh-N-lv",
        "outputId": "13835775-ae7e-44fc-b107-b72396198a9c"
      },
      "execution_count": 67,
      "outputs": [
        {
          "output_type": "stream",
          "name": "stdout",
          "text": [
            "+------------+---------+--------+----------+----------+-------------------+---------+----------+--------------------+---------+--------------------+---------+--------------+----------+\n",
            "|BusinessYear|StateCode|IssuerId|SourceName|VersionNum|         ImportDate|IssuerId2|StateCode2|         NetworkName|NetworkId|          NetworkURL|RowNumber|MarketCoverage|DentalOnly|\n",
            "+------------+---------+--------+----------+----------+-------------------+---------+----------+--------------------+---------+--------------------+---------+--------------+----------+\n",
            "|        2015|       GA|   89942|      HIOS|         7|2015-02-19 06:21:02|    89942|        GA|Kaiser Permanente...|   GAN001|   kp.org/gaprovider|       13|          NULL|      NULL|\n",
            "|        2015|       GA|   93332|      HIOS|        10|2014-09-29 21:43:29|    93332|        GA|        Atlanta HMOx|   GAN001|https://www.human...|       13|          NULL|      NULL|\n",
            "|        2015|       GA|   93332|      HIOS|        10|2014-09-29 21:43:29|    93332|        GA|   Columbus, GA HMOx|   GAN002|https://www.human...|       14|          NULL|      NULL|\n",
            "|        2015|       GA|   93332|      HIOS|        10|2014-09-29 21:43:29|    93332|        GA|       Savannah HMOx|   GAN003|https://www.human...|       15|          NULL|      NULL|\n",
            "|        2015|       GA|   93332|      HIOS|        10|2014-09-29 21:43:29|    93332|        GA|          Macon HMOx|   GAN005|https://www.human...|       16|          NULL|      NULL|\n",
            "|        2015|       GA|   93332|      HIOS|        10|2014-09-29 21:43:29|    93332|        GA|National POS - Op...|   GAN004|https://www.human...|       17|          NULL|      NULL|\n",
            "|        2015|       GA|   98239|      HIOS|         4|2014-09-06 03:39:47|    98239|        GA|Careington Maximu...|   GAN001|www.careington.co...|       13|          NULL|      NULL|\n",
            "|        2015|       IN|   10064|      HIOS|         2|2014-08-08 08:53:29|    10064|        IN|Principal Plan De...|   INN001|http://c3.go2dent...|       13|          NULL|      NULL|\n",
            "|        2015|       IN|   17575|      HIOS|        14|2014-12-12 09:23:47|    17575|        IN|   Pathway X HMO/POS|   INN001|https://www.anthe...|       13|          NULL|      NULL|\n",
            "|        2015|       IN|   17575|      HIOS|        14|2014-12-12 09:23:47|    17575|        IN|Pathway X HMO/POS...|   INN002|https://www.anthe...|       14|          NULL|      NULL|\n",
            "|        2015|       IN|   17575|      HIOS|        14|2014-12-12 09:23:47|    17575|        IN|     Pathway HMO/POS|   INN003|https://www.anthe...|       15|          NULL|      NULL|\n",
            "|        2015|       IN|   17575|      HIOS|        14|2014-12-12 09:23:47|    17575|        IN|Pathway HMO/POS w...|   INN004|https://www.anthe...|       16|          NULL|      NULL|\n",
            "|        2015|       IN|   17575|      HIOS|        14|2014-12-12 09:23:47|    17575|        IN|Blue Preferred HM...|   INN005|https://www.anthe...|       17|          NULL|      NULL|\n",
            "|        2015|       IN|   17575|      HIOS|        14|2014-12-12 09:23:47|    17575|        IN|Blue Preferred HM...|   INN006|https://www.anthe...|       18|          NULL|      NULL|\n",
            "|        2015|       IN|   17575|      HIOS|        14|2014-12-12 09:23:47|    17575|        IN|         Blue Access|   INN007|https://www.anthe...|       19|          NULL|      NULL|\n",
            "|        2015|       IN|   17575|      HIOS|        14|2014-12-12 09:23:47|    17575|        IN|Blue Access with ...|   INN008|https://www.anthe...|       20|          NULL|      NULL|\n",
            "|        2015|       IN|   17575|      HIOS|        14|2014-12-12 09:23:47|    17575|        IN|        Dental Prime|   INN009|http://www.geoacc...|       21|          NULL|      NULL|\n",
            "|        2015|       IN|   20855|      HIOS|         9|2015-07-22 09:15:52|    20855|        IN|ADVANTAGE Health ...|   INN001|http://www.advant...|       13|          NULL|      NULL|\n",
            "|        2015|       IN|   21029|      HIOS|         3|2014-09-05 03:32:16|    21029|        IN|Assurant Dental N...|   INN001|http://assurant.g...|       13|          NULL|      NULL|\n",
            "|        2015|       IN|   28856|      HIOS|         1|2014-06-21 03:20:41|    28856|        IN|Delta Dental PPO ...|   INN001|http://www.deltad...|       13|          NULL|      NULL|\n",
            "+------------+---------+--------+----------+----------+-------------------+---------+----------+--------------------+---------+--------------------+---------+--------------+----------+\n",
            "only showing top 20 rows\n",
            "\n"
          ]
        }
      ]
    },
    {
      "cell_type": "code",
      "source": [
        "df_network_raw.createOrReplaceTempView(\"network_staging\")\n"
      ],
      "metadata": {
        "id": "-3gG91ZVQH8V"
      },
      "execution_count": 68,
      "outputs": []
    },
    {
      "cell_type": "markdown",
      "source": [
        "### 3- Rate Raw Data"
      ],
      "metadata": {
        "id": "dH7m6EjT3yI5"
      }
    },
    {
      "cell_type": "code",
      "source": [
        "df_rate_raw = spark.read.option(\"header\", \"true\").option(\"inferSchema\", \"true\").csv(\"/content/health-insurance-raw-data/rate/*/*.csv\")\n",
        "\n",
        "\n",
        "df_rate_raw.show()\n"
      ],
      "metadata": {
        "colab": {
          "base_uri": "https://localhost:8080/"
        },
        "id": "5mUom7M24HEV",
        "outputId": "fdc247ea-fe1b-467d-925e-49b7fd4e03b7"
      },
      "execution_count": 92,
      "outputs": [
        {
          "output_type": "stream",
          "name": "stdout",
          "text": [
            "+------------+---------+--------+----------+----------+-------------------+---------+----------+-----------------+------------------+--------------+-------------+-------------+-------------+--------------+---------------------+------+--------------------------------+---------------------------------+-----------------------------------------+---------------------+----------------------+------------------------------+---------+\n",
            "|BusinessYear|StateCode|IssuerId|SourceName|VersionNum|         ImportDate|IssuerId2|FederalTIN|RateEffectiveDate|RateExpirationDate|        PlanId| RatingAreaId|      Tobacco|          Age|IndividualRate|IndividualTobaccoRate|Couple|PrimarySubscriberAndOneDependent|PrimarySubscriberAndTwoDependents|PrimarySubscriberAndThreeOrMoreDependents|CoupleAndOneDependent|CoupleAndTwoDependents|CoupleAndThreeOrMoreDependents|RowNumber|\n",
            "+------------+---------+--------+----------+----------+-------------------+---------+----------+-----------------+------------------+--------------+-------------+-------------+-------------+--------------+---------------------+------+--------------------------------+---------------------------------+-----------------------------------------+---------------------+----------------------+------------------------------+---------+\n",
            "|        2014|       AK|   21989|      HIOS|         6|2014-03-19 07:06:49|    21989|93-0438772|       2014-01-01|        2014-12-31|21989AK0010001|Rating Area 1|No Preference|         0-20|         29.00|                 NULL|  NULL|                            NULL|                             NULL|                                     NULL|                 NULL|                  NULL|                          NULL|       14|\n",
            "|        2014|       AK|   21989|      HIOS|         6|2014-03-19 07:06:49|    21989|93-0438772|       2014-01-01|        2014-12-31|21989AK0020001|Rating Area 1|No Preference|Family Option|         36.95|                 NULL| 73.90|                          107.61|                           107.61|                                   107.61|               144.56|                144.56|                        144.56|       14|\n",
            "|        2014|       AK|   21989|      HIOS|         6|2014-03-19 07:06:49|    21989|93-0438772|       2014-01-01|        2014-12-31|21989AK0020001|Rating Area 2|No Preference|Family Option|         36.95|                 NULL| 73.90|                          107.61|                           107.61|                                   107.61|               144.56|                144.56|                        144.56|       15|\n",
            "|        2014|       AK|   21989|      HIOS|         6|2014-03-19 07:06:49|    21989|93-0438772|       2014-01-01|        2014-12-31|21989AK0010001|Rating Area 1|No Preference|           21|         32.00|                 NULL|  NULL|                            NULL|                             NULL|                                     NULL|                 NULL|                  NULL|                          NULL|       15|\n",
            "|        2014|       AK|   21989|      HIOS|         6|2014-03-19 07:06:49|    21989|93-0438772|       2014-01-01|        2014-12-31|21989AK0010001|Rating Area 1|No Preference|           22|         32.00|                 NULL|  NULL|                            NULL|                             NULL|                                     NULL|                 NULL|                  NULL|                          NULL|       16|\n",
            "|        2014|       AK|   21989|      HIOS|         6|2014-03-19 07:06:49|    21989|93-0438772|       2014-01-01|        2014-12-31|21989AK0020001|Rating Area 3|No Preference|Family Option|         36.95|                 NULL| 73.90|                          107.61|                           107.61|                                   107.61|               144.56|                144.56|                        144.56|       16|\n",
            "|        2014|       AK|   21989|      HIOS|         6|2014-03-19 07:06:49|    21989|93-0438772|       2014-01-01|        2014-12-31|21989AK0020002|Rating Area 1|No Preference|Family Option|         32.45|                 NULL| 64.90|                           94.50|                            94.50|                                    94.50|               126.95|                126.95|                        126.95|       17|\n",
            "|        2014|       AK|   21989|      HIOS|         6|2014-03-19 07:06:49|    21989|93-0438772|       2014-01-01|        2014-12-31|21989AK0010001|Rating Area 1|No Preference|           23|         32.00|                 NULL|  NULL|                            NULL|                             NULL|                                     NULL|                 NULL|                  NULL|                          NULL|       17|\n",
            "|        2014|       AK|   21989|      HIOS|         6|2014-03-19 07:06:49|    21989|93-0438772|       2014-01-01|        2014-12-31|21989AK0010001|Rating Area 1|No Preference|           24|         32.00|                 NULL|  NULL|                            NULL|                             NULL|                                     NULL|                 NULL|                  NULL|                          NULL|       18|\n",
            "|        2014|       AK|   21989|      HIOS|         6|2014-03-19 07:06:49|    21989|93-0438772|       2014-01-01|        2014-12-31|21989AK0020002|Rating Area 2|No Preference|Family Option|         32.45|                 NULL| 64.90|                           94.50|                            94.50|                                    94.50|               126.95|                126.95|                        126.95|       18|\n",
            "|        2014|       AK|   21989|      HIOS|         6|2014-03-19 07:06:49|    21989|93-0438772|       2014-01-01|        2014-12-31|21989AK0020002|Rating Area 3|No Preference|Family Option|         32.45|                 NULL| 64.90|                           94.50|                            94.50|                                    94.50|               126.95|                126.95|                        126.95|       19|\n",
            "|        2014|       AK|   21989|      HIOS|         6|2014-03-19 07:06:49|    21989|93-0438772|       2014-01-01|        2014-12-31|21989AK0010001|Rating Area 1|No Preference|           25|         32.00|                 NULL|  NULL|                            NULL|                             NULL|                                     NULL|                 NULL|                  NULL|                          NULL|       19|\n",
            "|        2014|       AK|   21989|      HIOS|         6|2014-03-19 07:06:49|    21989|93-0438772|       2014-01-01|        2014-12-31|21989AK0010001|Rating Area 1|No Preference|           26|         32.00|                 NULL|  NULL|                            NULL|                             NULL|                                     NULL|                 NULL|                  NULL|                          NULL|       20|\n",
            "|        2014|       AK|   21989|      HIOS|         6|2014-03-19 07:06:49|    21989|93-0438772|       2014-01-01|        2014-12-31|21989AK0010001|Rating Area 1|No Preference|           27|         32.00|                 NULL|  NULL|                            NULL|                             NULL|                                     NULL|                 NULL|                  NULL|                          NULL|       21|\n",
            "|        2014|       AK|   21989|      HIOS|         6|2014-03-19 07:06:49|    21989|93-0438772|       2014-01-01|        2014-12-31|21989AK0010001|Rating Area 1|No Preference|           28|         32.00|                 NULL|  NULL|                            NULL|                             NULL|                                     NULL|                 NULL|                  NULL|                          NULL|       22|\n",
            "|        2014|       AK|   21989|      HIOS|         6|2014-03-19 07:06:49|    21989|93-0438772|       2014-01-01|        2014-12-31|21989AK0010001|Rating Area 1|No Preference|           29|         32.00|                 NULL|  NULL|                            NULL|                             NULL|                                     NULL|                 NULL|                  NULL|                          NULL|       23|\n",
            "|        2014|       AK|   21989|      HIOS|         6|2014-03-19 07:06:49|    21989|93-0438772|       2014-01-01|        2014-12-31|21989AK0010001|Rating Area 1|No Preference|           30|         32.00|                 NULL|  NULL|                            NULL|                             NULL|                                     NULL|                 NULL|                  NULL|                          NULL|       24|\n",
            "|        2014|       AK|   21989|      HIOS|         6|2014-03-19 07:06:49|    21989|93-0438772|       2014-01-01|        2014-12-31|21989AK0010001|Rating Area 1|No Preference|           31|         32.00|                 NULL|  NULL|                            NULL|                             NULL|                                     NULL|                 NULL|                  NULL|                          NULL|       25|\n",
            "|        2014|       AK|   21989|      HIOS|         6|2014-03-19 07:06:49|    21989|93-0438772|       2014-01-01|        2014-12-31|21989AK0010001|Rating Area 1|No Preference|           32|         32.00|                 NULL|  NULL|                            NULL|                             NULL|                                     NULL|                 NULL|                  NULL|                          NULL|       26|\n",
            "|        2014|       AK|   21989|      HIOS|         6|2014-03-19 07:06:49|    21989|93-0438772|       2014-01-01|        2014-12-31|21989AK0010001|Rating Area 1|No Preference|           33|         32.00|                 NULL|  NULL|                            NULL|                             NULL|                                     NULL|                 NULL|                  NULL|                          NULL|       27|\n",
            "+------------+---------+--------+----------+----------+-------------------+---------+----------+-----------------+------------------+--------------+-------------+-------------+-------------+--------------+---------------------+------+--------------------------------+---------------------------------+-----------------------------------------+---------------------+----------------------+------------------------------+---------+\n",
            "only showing top 20 rows\n",
            "\n"
          ]
        }
      ]
    },
    {
      "cell_type": "code",
      "source": [
        "df_rate_raw.createOrReplaceTempView(\"rate_staging\")\n"
      ],
      "metadata": {
        "id": "xoLlu5mU4a2z"
      },
      "execution_count": 93,
      "outputs": []
    },
    {
      "cell_type": "markdown",
      "source": [
        "### 4- Benifit Raw Data"
      ],
      "metadata": {
        "id": "rTnSoxgd3-Q5"
      }
    },
    {
      "cell_type": "markdown",
      "source": [
        "## Step 3 : Define the Data Model\n"
      ],
      "metadata": {
        "id": "iJ5vQ6-BOwBK"
      }
    },
    {
      "cell_type": "markdown",
      "source": [
        "### Organization Table"
      ],
      "metadata": {
        "id": "3oqkbFKqb2c_"
      }
    },
    {
      "cell_type": "code",
      "source": [
        "organization_table = spark.sql(\"\"\"\n",
        "                            SELECT  DISTINCT p.IssuerId AS OrganizationId,\n",
        "                                    p.IssuerMarketPlaceMarketingName AS Name,\n",
        "                                    p.StateCode AS StateCode\n",
        "                            FROM plan_staging p\n",
        "\n",
        "\"\"\")\n",
        "\n",
        "organization_table.createOrReplaceTempView('organization_table')\n",
        "\n",
        "organization_table.show()\n"
      ],
      "metadata": {
        "colab": {
          "base_uri": "https://localhost:8080/"
        },
        "id": "E0G1_WcZb0Fi",
        "outputId": "952b93c3-347e-48ff-aee1-955d21eced54"
      },
      "execution_count": 34,
      "outputs": [
        {
          "output_type": "stream",
          "name": "stdout",
          "text": [
            "+--------------+--------------------+---------+\n",
            "|OrganizationId|                Name|StateCode|\n",
            "+--------------+--------------------+---------+\n",
            "|         23435|         BannerAetna|       AZ|\n",
            "|         15995|               SERFF|       AR|\n",
            "|         29497|               SERFF|       DE|\n",
            "|         34210| Renaissance Dental |       WI|\n",
            "|         27833|Ambetter of Illinois|       IL|\n",
            "|         60075|TRUASSURE INSURAN...|       AL|\n",
            "|         15833|            Guardian|       FL|\n",
            "|         91908|Oscar Insurance C...|       OK|\n",
            "|         24601|           BEST Life|       TN|\n",
            "|         47638|Retailers Insuran...|       MI|\n",
            "|         50274|               SERFF|       KS|\n",
            "|         35700|               SERFF|       MI|\n",
            "|         14186|               SERFF|       SD|\n",
            "|         66759|   Dominion National|       NC|\n",
            "|         27811|               SERFF|       KS|\n",
            "|         34930|               SERFF|       MI|\n",
            "|         99969|           MedMutual|       OH|\n",
            "|         24832|Renaissance Life ...|       VA|\n",
            "|         85533|Imperial Insuranc...|       AZ|\n",
            "|         34968|             MetLife|       OH|\n",
            "+--------------+--------------------+---------+\n",
            "only showing top 20 rows\n",
            "\n"
          ]
        }
      ]
    },
    {
      "cell_type": "code",
      "source": [
        "organization_table.count()"
      ],
      "metadata": {
        "colab": {
          "base_uri": "https://localhost:8080/"
        },
        "id": "eQIMJmxbc0Zn",
        "outputId": "81b93cd9-655b-4a11-d3a5-ed6b593871f7"
      },
      "execution_count": 25,
      "outputs": [
        {
          "output_type": "execute_result",
          "data": {
            "text/plain": [
              "1071"
            ]
          },
          "metadata": {},
          "execution_count": 25
        }
      ]
    },
    {
      "cell_type": "code",
      "source": [
        "organization_table.select(countDistinct(\"OrganizationId\")).show()\n"
      ],
      "metadata": {
        "colab": {
          "base_uri": "https://localhost:8080/"
        },
        "id": "4g99-iT2c4Pb",
        "outputId": "2b46f927-fdb5-431d-fc20-97cb847d9c6e"
      },
      "execution_count": 26,
      "outputs": [
        {
          "output_type": "stream",
          "name": "stdout",
          "text": [
            "+------------------------------+\n",
            "|count(DISTINCT OrganizationId)|\n",
            "+------------------------------+\n",
            "|                           797|\n",
            "+------------------------------+\n",
            "\n"
          ]
        }
      ]
    },
    {
      "cell_type": "code",
      "source": [
        "organization_table = organization_table.drop_duplicates(['OrganizationId','Name','StateCode'])\n",
        "organization_table.count()"
      ],
      "metadata": {
        "colab": {
          "base_uri": "https://localhost:8080/"
        },
        "id": "ZDgN_ESPhnga",
        "outputId": "38e97123-afb8-4884-c8a4-696cb279d03f"
      },
      "execution_count": 27,
      "outputs": [
        {
          "output_type": "execute_result",
          "data": {
            "text/plain": [
              "1071"
            ]
          },
          "metadata": {},
          "execution_count": 27
        }
      ]
    },
    {
      "cell_type": "code",
      "source": [
        "from pyspark.sql.functions import desc\n",
        "\n",
        "most_common_value = organization_table.groupBy(\"OrganizationId\").count().orderBy(desc(\"count\")).first()[0]\n",
        "most_common_value"
      ],
      "metadata": {
        "colab": {
          "base_uri": "https://localhost:8080/",
          "height": 36
        },
        "id": "LCwdoxkQdpNs",
        "outputId": "7f247fc2-bcb5-4317-b3f2-a9fb4e002485"
      },
      "execution_count": 28,
      "outputs": [
        {
          "output_type": "execute_result",
          "data": {
            "text/plain": [
              "'36096'"
            ],
            "application/vnd.google.colaboratory.intrinsic+json": {
              "type": "string"
            }
          },
          "metadata": {},
          "execution_count": 28
        }
      ]
    },
    {
      "cell_type": "code",
      "source": [
        "organization_table.filter(organization_table.OrganizationId ==\"36096\").show()"
      ],
      "metadata": {
        "colab": {
          "base_uri": "https://localhost:8080/"
        },
        "id": "S3sqLI1_dvSf",
        "outputId": "a6854f5a-5625-4817-caf5-2dd499e873a1"
      },
      "execution_count": 29,
      "outputs": [
        {
          "output_type": "stream",
          "name": "stdout",
          "text": [
            "+--------------+--------------------+---------+\n",
            "|OrganizationId|                Name|StateCode|\n",
            "+--------------+--------------------+---------+\n",
            "|         36096|               SERFF|       IL|\n",
            "|         36096|                 OPM|       IL|\n",
            "|         36096|Blue Cross and Bl...|       IL|\n",
            "|         36096|Blue Cross and Bl...|       IL|\n",
            "+--------------+--------------------+---------+\n",
            "\n"
          ]
        }
      ]
    },
    {
      "cell_type": "code",
      "source": [
        "organization_table.filter(organization_table.Name ==\"OPM\").show(5)"
      ],
      "metadata": {
        "colab": {
          "base_uri": "https://localhost:8080/",
          "height": 175
        },
        "id": "-xLkC4llfOK7",
        "outputId": "31e8cb3e-13c1-4ca5-a90e-9f6fa870f3cc"
      },
      "execution_count": 91,
      "outputs": [
        {
          "output_type": "error",
          "ename": "NameError",
          "evalue": "ignored",
          "traceback": [
            "\u001b[0;31m---------------------------------------------------------------------------\u001b[0m",
            "\u001b[0;31mNameError\u001b[0m                                 Traceback (most recent call last)",
            "\u001b[0;32m<ipython-input-91-5026e6662f56>\u001b[0m in \u001b[0;36m<cell line: 1>\u001b[0;34m()\u001b[0m\n\u001b[0;32m----> 1\u001b[0;31m \u001b[0morganization_table\u001b[0m\u001b[0;34m.\u001b[0m\u001b[0mfilter\u001b[0m\u001b[0;34m(\u001b[0m\u001b[0morganization_table\u001b[0m\u001b[0;34m.\u001b[0m\u001b[0mName\u001b[0m \u001b[0;34m==\u001b[0m\u001b[0;34m\"SERFF\"\u001b[0m\u001b[0;34m)\u001b[0m\u001b[0;34m.\u001b[0m\u001b[0mshow\u001b[0m\u001b[0;34m(\u001b[0m\u001b[0;36m5\u001b[0m\u001b[0;34m)\u001b[0m\u001b[0;34m\u001b[0m\u001b[0;34m\u001b[0m\u001b[0m\n\u001b[0m",
            "\u001b[0;31mNameError\u001b[0m: name 'organization_table' is not defined"
          ]
        }
      ]
    },
    {
      "cell_type": "markdown",
      "source": [
        "From the exploration above we conclude that the issuer ID is not unique.\n",
        "Each organization can exist in different states and the identifier is the organiztion with the state code with the id (which represents the id of this organization in this state)\n",
        "if we take a closer look , the id has duplicates across the data , so we need to add a primary key"
      ],
      "metadata": {
        "id": "mQQV3YosgG5L"
      }
    },
    {
      "cell_type": "code",
      "source": [
        "organization_table = organization_table.withColumn(\"Id\", monotonically_increasing_id())\n",
        "organization_table.show(5)"
      ],
      "metadata": {
        "colab": {
          "base_uri": "https://localhost:8080/"
        },
        "id": "q25l73QsM7yG",
        "outputId": "e73d6e2e-3864-4d74-dc14-772b2890c58a"
      },
      "execution_count": 31,
      "outputs": [
        {
          "output_type": "stream",
          "name": "stdout",
          "text": [
            "+--------------+--------------------+---------+---+\n",
            "|OrganizationId|                Name|StateCode| Id|\n",
            "+--------------+--------------------+---------+---+\n",
            "|         23435|         BannerAetna|       AZ|  0|\n",
            "|         15995|               SERFF|       AR|  1|\n",
            "|         29497|               SERFF|       DE|  2|\n",
            "|         34210| Renaissance Dental |       WI|  3|\n",
            "|         27833|Ambetter of Illinois|       IL|  4|\n",
            "+--------------+--------------------+---------+---+\n",
            "only showing top 5 rows\n",
            "\n"
          ]
        }
      ]
    },
    {
      "cell_type": "code",
      "source": [
        "# from pyspark.sql.functions import col\n",
        "\n",
        "# df_filtered = organization_table.groupBy(col(\"Id\")).count().filter(col(\"count\") > 1)\n",
        "# df_filtered.show()\n"
      ],
      "metadata": {
        "id": "ee7Yc2ireXJJ"
      },
      "execution_count": null,
      "outputs": []
    },
    {
      "cell_type": "markdown",
      "source": [
        "### Network Table"
      ],
      "metadata": {
        "id": "dxy63gO4QilF"
      }
    },
    {
      "cell_type": "code",
      "source": [
        "network_table = spark.sql(\"\"\"\n",
        "                            SELECT  DISTINCT n.NetworkId AS NetworkId,\n",
        "                                    n.IssuerId AS OrganizationId,\n",
        "                                    n.NetworkName AS NetworkName,\n",
        "                                    n.StateCode AS StateCode,\n",
        "                                    n.BusinessYear AS Year\n",
        "\n",
        "                            FROM network_staging n\n",
        "\n",
        "\"\"\")\n",
        "network_table = network_table.withColumn(\"Id\", monotonically_increasing_id())\n",
        "\n",
        "network_table.createOrReplaceTempView('network_table')\n",
        "\n",
        "network_table.show(5)\n"
      ],
      "metadata": {
        "colab": {
          "base_uri": "https://localhost:8080/"
        },
        "id": "QNJeu0Z7QhdA",
        "outputId": "2f927209-20aa-48bf-d56b-de479739108f"
      },
      "execution_count": 69,
      "outputs": [
        {
          "output_type": "stream",
          "name": "stdout",
          "text": [
            "+---------+--------------+--------------------+---------+----+---+\n",
            "|NetworkId|OrganizationId|         NetworkName|StateCode|Year| Id|\n",
            "+---------+--------------+--------------------+---------+----+---+\n",
            "|   INN001|         17575|   Pathway X HMO/POS|       IN|2015|  0|\n",
            "|   INN001|         20855|ADVANTAGE Health ...|       IN|2015|  1|\n",
            "|   ARN001|         67635|Lincoln DentalCon...|       AR|2015|  2|\n",
            "|   ORN001|         60257|  Renaissance Dental|       OR|2015|  3|\n",
            "|   ALN001|         28899|Ameritas PPO Dent...|       AL|2016|  4|\n",
            "+---------+--------------+--------------------+---------+----+---+\n",
            "only showing top 5 rows\n",
            "\n"
          ]
        }
      ]
    },
    {
      "cell_type": "code",
      "source": [
        "network_table.filter(network_table.NetworkName == \"Molina Marketplace\").show()"
      ],
      "metadata": {
        "colab": {
          "base_uri": "https://localhost:8080/"
        },
        "id": "5Sjx8zouSd9_",
        "outputId": "a8d7e3dc-4d5e-4dff-cd2e-be3f2e403b04"
      },
      "execution_count": 70,
      "outputs": [
        {
          "output_type": "stream",
          "name": "stdout",
          "text": [
            "+---------+--------------+------------------+---------+----+----+\n",
            "|NetworkId|OrganizationId|       NetworkName|StateCode|Year|  Id|\n",
            "+---------+--------------+------------------+---------+----+----+\n",
            "|   FLN001|         54172|Molina Marketplace|       FL|2015| 166|\n",
            "|   MIN001|         40047|Molina Marketplace|       MI|2014| 599|\n",
            "|   FLN001|         54172|Molina Marketplace|       FL|2016| 943|\n",
            "|   MIN001|         40047|Molina Marketplace|       MI|2016|1010|\n",
            "|   MIN001|         40047|Molina Marketplace|       MI|2015|1339|\n",
            "|   NMN001|         19722|Molina Marketplace|       NM|2015|3780|\n",
            "|   FLN001|         54172|Molina Marketplace|       FL|2014|4152|\n",
            "+---------+--------------+------------------+---------+----+----+\n",
            "\n"
          ]
        }
      ]
    },
    {
      "cell_type": "code",
      "source": [
        "network_table = network_table.drop_duplicates(['NetworkId','OrganizationId','NetworkName',\"StateCode\"])\n"
      ],
      "metadata": {
        "id": "C2rCP8Z8cQdx"
      },
      "execution_count": 71,
      "outputs": []
    },
    {
      "cell_type": "code",
      "source": [
        "network_table.filter(network_table.NetworkName == \"Molina Marketplace\").show()"
      ],
      "metadata": {
        "colab": {
          "base_uri": "https://localhost:8080/"
        },
        "id": "RXVxt1PMck75",
        "outputId": "8d4e1adf-d7de-445a-fa8f-9137cb77bf55"
      },
      "execution_count": 72,
      "outputs": [
        {
          "output_type": "stream",
          "name": "stdout",
          "text": [
            "+---------+--------------+------------------+---------+----+----+\n",
            "|NetworkId|OrganizationId|       NetworkName|StateCode|Year|  Id|\n",
            "+---------+--------------+------------------+---------+----+----+\n",
            "|   FLN001|         54172|Molina Marketplace|       FL|2015| 166|\n",
            "|   MIN001|         40047|Molina Marketplace|       MI|2014| 599|\n",
            "|   NMN001|         19722|Molina Marketplace|       NM|2015|3780|\n",
            "+---------+--------------+------------------+---------+----+----+\n",
            "\n"
          ]
        }
      ]
    },
    {
      "cell_type": "code",
      "source": [
        "network_table.filter(network_table.NetworkName == \"Phoenix HMOx\").show()"
      ],
      "metadata": {
        "colab": {
          "base_uri": "https://localhost:8080/"
        },
        "id": "Xu2cBrspTQGH",
        "outputId": "f4664c08-1172-4e52-a6bb-6200c707e8c2"
      },
      "execution_count": 48,
      "outputs": [
        {
          "output_type": "stream",
          "name": "stdout",
          "text": [
            "+---------+--------------+------------+---------+----+----+\n",
            "|NetworkId|OrganizationId| NetworkName|StateCode|Year|  Id|\n",
            "+---------+--------------+------------+---------+----+----+\n",
            "|   AZN001|         23307|Phoenix HMOx|       AZ|2016|3258|\n",
            "+---------+--------------+------------+---------+----+----+\n",
            "\n"
          ]
        }
      ]
    },
    {
      "cell_type": "code",
      "source": [
        "network_table.filter(network_table.OrganizationId == \"19722\").show()"
      ],
      "metadata": {
        "colab": {
          "base_uri": "https://localhost:8080/"
        },
        "id": "suwqSEWYWAfr",
        "outputId": "88bd717b-7f9f-4923-b41c-caabce866f29"
      },
      "execution_count": 49,
      "outputs": [
        {
          "output_type": "stream",
          "name": "stdout",
          "text": [
            "+---------+--------------+--------------------+---------+----+----+\n",
            "|NetworkId|OrganizationId|         NetworkName|StateCode|Year|  Id|\n",
            "+---------+--------------+--------------------+---------+----+----+\n",
            "|   NMN001|         19722|Molina Healthcare...|       NM|2016|2429|\n",
            "|   NMN001|         19722|  Molina Marketplace|       NM|2015|3780|\n",
            "|   NMN001|         19722|Molina New Mexico...|       NM|2014|1197|\n",
            "+---------+--------------+--------------------+---------+----+----+\n",
            "\n"
          ]
        }
      ]
    },
    {
      "cell_type": "code",
      "source": [
        "network_table.filter(network_table.OrganizationId == \"40047\").show()"
      ],
      "metadata": {
        "colab": {
          "base_uri": "https://localhost:8080/"
        },
        "id": "LqyqK-ifU9hT",
        "outputId": "e0b007d9-16d4-40da-bdf3-ddb1d7eafef3"
      },
      "execution_count": 50,
      "outputs": [
        {
          "output_type": "stream",
          "name": "stdout",
          "text": [
            "+---------+--------------+------------------+---------+----+---+\n",
            "|NetworkId|OrganizationId|       NetworkName|StateCode|Year| Id|\n",
            "+---------+--------------+------------------+---------+----+---+\n",
            "|   MIN001|         40047|Molina Marketplace|       MI|2014|599|\n",
            "+---------+--------------+------------------+---------+----+---+\n",
            "\n"
          ]
        }
      ]
    },
    {
      "cell_type": "code",
      "source": [
        "# unique_network_ids = network_table.select(\"NetworkId\").distinct().collect()\n",
        "# unique_network_ids"
      ],
      "metadata": {
        "id": "uIHaUCMBWJmX"
      },
      "execution_count": null,
      "outputs": []
    },
    {
      "cell_type": "markdown",
      "source": [
        "#### Clean Network table"
      ],
      "metadata": {
        "id": "u1iM5jUSbOZD"
      }
    },
    {
      "cell_type": "code",
      "source": [
        "network_table = network_table.filter(~col(\"NetworkId\").isin(\"No\",\"Yes\",\"Individual\") & ~col(\"networkId\").isNull())\n",
        "network_table.show(5)\n"
      ],
      "metadata": {
        "colab": {
          "base_uri": "https://localhost:8080/"
        },
        "id": "KlrFWo46W-US",
        "outputId": "7072f8ca-e1bb-4adc-a47a-5decd621b829"
      },
      "execution_count": 74,
      "outputs": [
        {
          "output_type": "stream",
          "name": "stdout",
          "text": [
            "+---------+--------------+--------------------+---------+----+----+\n",
            "|NetworkId|OrganizationId|         NetworkName|StateCode|Year|  Id|\n",
            "+---------+--------------+--------------------+---------+----+----+\n",
            "|   AKN001|         21989|Delta Dental Premier|       AK|2016|3467|\n",
            "|   AKN001|         21989|         ODS Premier|       AK|2014|1794|\n",
            "|   AKN001|         38344|        HeritagePlus|       AK|2014|1372|\n",
            "|   AKN001|         38344|HeritagePlus and ...|       AK|2016|1064|\n",
            "|   AKN001|         38536|Lincoln Dental Co...|       AK|2014|1971|\n",
            "+---------+--------------+--------------------+---------+----+----+\n",
            "only showing top 5 rows\n",
            "\n"
          ]
        }
      ]
    },
    {
      "cell_type": "markdown",
      "source": [
        "So a network can exist in different states but it exists only for one organization in that state.\n",
        "An organization can have only one network in the state."
      ],
      "metadata": {
        "id": "jtHpqzB4UuFu"
      }
    },
    {
      "cell_type": "code",
      "source": [
        "network_table.filter(network_table.NetworkId == \"AKN001\").show()"
      ],
      "metadata": {
        "colab": {
          "base_uri": "https://localhost:8080/"
        },
        "id": "2GAhNkOFTe7J",
        "outputId": "87fa359b-aafc-46b4-f40a-73fcae3b2ebb"
      },
      "execution_count": 75,
      "outputs": [
        {
          "output_type": "stream",
          "name": "stdout",
          "text": [
            "+---------+--------------+--------------------+---------+----+----+\n",
            "|NetworkId|OrganizationId|         NetworkName|StateCode|Year|  Id|\n",
            "+---------+--------------+--------------------+---------+----+----+\n",
            "|   AKN001|         21989|Delta Dental Premier|       AK|2016|3467|\n",
            "|   AKN001|         21989|         ODS Premier|       AK|2014|1794|\n",
            "|   AKN001|         38344|        HeritagePlus|       AK|2014|1372|\n",
            "|   AKN001|         38344|HeritagePlus and ...|       AK|2016|1064|\n",
            "|   AKN001|         38536|Lincoln Dental Co...|       AK|2014|1971|\n",
            "|   AKN001|         38536|Lincoln DentalCon...|       AK|2015|1436|\n",
            "|   AKN001|         42507|DentalGuard Prefe...|       AK|2014|3591|\n",
            "|   AKN001|         45858|Ameritas PPO Dent...|       AK|2016| 224|\n",
            "|   AKN001|         47904|  Renaissance Dental|       AK|2016| 584|\n",
            "|   AKN001|         58670|           Indemnity|       AK|2016|1315|\n",
            "|   AKN001|         58670|           indemnity|       AK|2015|4223|\n",
            "|   AKN001|         73836|     Endeavor Select|       AK|2016|1441|\n",
            "|   AKN001|         73836|Moda Plus AK Regi...|       AK|2014|2242|\n",
            "|   AKN001|         74819|BEST Life Nationwide|       AK|2016| 836|\n",
            "|   AKN001|         74819|    CONNECTIONDental|       AK|2015|3763|\n",
            "|   AKN001|         74819|            DenteMax|       AK|2014|2377|\n",
            "|   AKN001|         81761|Ameritas PPO Dent...|       AK|2015|  34|\n",
            "|   AKN001|         84394|Principal Plan De...|       AK|2015|3718|\n",
            "|   AKN001|         84859|Ameritas PPO Dent...|       AK|2015| 671|\n",
            "|   AKN001|         96211|Connection Dental...|       AK|2015|1724|\n",
            "+---------+--------------+--------------------+---------+----+----+\n",
            "\n"
          ]
        }
      ]
    },
    {
      "cell_type": "code",
      "source": [
        "network_table.createOrReplaceTempView('network_table')\n"
      ],
      "metadata": {
        "id": "5qjt9gchyoWI"
      },
      "execution_count": 83,
      "outputs": []
    },
    {
      "cell_type": "markdown",
      "source": [
        "### Plan Table"
      ],
      "metadata": {
        "id": "Ms65CsKYQq1o"
      }
    },
    {
      "cell_type": "code",
      "source": [
        "plan_table = spark.sql(\"\"\"\n",
        "                            SELECT  DISTINCT p.StandardComponentId AS Id,\n",
        "                                    n.Id AS NetworkId\n",
        "\n",
        "                            FROM plan_staging p\n",
        "                            JOIN network_table n\n",
        "                            ON n.NetworkId == p.NetworkId\n",
        "                            AND n.OrganizationId == p.IssuerId\n",
        "                            AND n.StateCode == p.StateCode\n",
        "\n",
        "\"\"\")\n",
        "# plan_table = plan_table.withColumn(\"plan_id\", monotonically_increasing_id())\n",
        "\n",
        "plan_table.createOrReplaceTempView('plan_table')\n",
        "\n",
        "plan_table.show(5)\n"
      ],
      "metadata": {
        "colab": {
          "base_uri": "https://localhost:8080/"
        },
        "id": "rxM6O-6gQu-m",
        "outputId": "8af5edc5-df6b-4b77-d55c-b216e241c070"
      },
      "execution_count": 84,
      "outputs": [
        {
          "output_type": "stream",
          "name": "stdout",
          "text": [
            "+--------------+---------+\n",
            "|            Id|NetworkId|\n",
            "+--------------+---------+\n",
            "|28725AL0120002|     2854|\n",
            "|16842FL0120076|      909|\n",
            "|18628FL0160035|     1342|\n",
            "|48129FL0080004|     1272|\n",
            "|43802GA0040027|     4014|\n",
            "+--------------+---------+\n",
            "only showing top 5 rows\n",
            "\n"
          ]
        }
      ]
    },
    {
      "cell_type": "code",
      "source": [
        "plan_table.count()"
      ],
      "metadata": {
        "colab": {
          "base_uri": "https://localhost:8080/"
        },
        "id": "u3iHvkVjQvck",
        "outputId": "d2ef0c48-09b5-49ec-c28a-abad78fdaa9e"
      },
      "execution_count": 85,
      "outputs": [
        {
          "output_type": "execute_result",
          "data": {
            "text/plain": [
              "10882"
            ]
          },
          "metadata": {},
          "execution_count": 85
        }
      ]
    },
    {
      "cell_type": "code",
      "source": [
        "plan_table.select(countDistinct(\"Id\")).show()\n"
      ],
      "metadata": {
        "colab": {
          "base_uri": "https://localhost:8080/"
        },
        "id": "4b6iIp6fS6g4",
        "outputId": "f841e650-c906-49b1-aa11-0719a9df3379"
      },
      "execution_count": 86,
      "outputs": [
        {
          "output_type": "stream",
          "name": "stdout",
          "text": [
            "+------------------+\n",
            "|count(DISTINCT Id)|\n",
            "+------------------+\n",
            "|              6590|\n",
            "+------------------+\n",
            "\n"
          ]
        }
      ]
    },
    {
      "cell_type": "code",
      "source": [
        "plan_table.filter(plan_table.Id == \"21989AK0030001\").show()"
      ],
      "metadata": {
        "colab": {
          "base_uri": "https://localhost:8080/"
        },
        "id": "tfCclrZcTJq2",
        "outputId": "19d9af46-cf93-4e23-e4f4-5ba8a7a91f4e"
      },
      "execution_count": 87,
      "outputs": [
        {
          "output_type": "stream",
          "name": "stdout",
          "text": [
            "+--------------+---------+\n",
            "|            Id|NetworkId|\n",
            "+--------------+---------+\n",
            "|21989AK0030001|     3467|\n",
            "|21989AK0030001|     1794|\n",
            "+--------------+---------+\n",
            "\n"
          ]
        }
      ]
    },
    {
      "cell_type": "code",
      "source": [
        "network_table.filter(network_table.Id == 3467).show()"
      ],
      "metadata": {
        "colab": {
          "base_uri": "https://localhost:8080/"
        },
        "id": "ffnmvokwVAhQ",
        "outputId": "b937fed5-25ef-4f02-c86e-ddf12479d0a1"
      },
      "execution_count": 81,
      "outputs": [
        {
          "output_type": "stream",
          "name": "stdout",
          "text": [
            "+---------+--------------+--------------------+---------+----+----+\n",
            "|NetworkId|OrganizationId|         NetworkName|StateCode|Year|  Id|\n",
            "+---------+--------------+--------------------+---------+----+----+\n",
            "|   AKN001|         21989|Delta Dental Premier|       AK|2016|3467|\n",
            "+---------+--------------+--------------------+---------+----+----+\n",
            "\n"
          ]
        }
      ]
    },
    {
      "cell_type": "code",
      "source": [
        "network_table.filter(network_table.Id == 1794).show()"
      ],
      "metadata": {
        "colab": {
          "base_uri": "https://localhost:8080/"
        },
        "id": "_xFzEHdNlb-j",
        "outputId": "8695413e-724c-481a-842a-a66062b447e3"
      },
      "execution_count": 58,
      "outputs": [
        {
          "output_type": "stream",
          "name": "stdout",
          "text": [
            "+---------+--------------+-----------+---------+----+----+\n",
            "|NetworkId|OrganizationId|NetworkName|StateCode|Year|  Id|\n",
            "+---------+--------------+-----------+---------+----+----+\n",
            "|   AKN001|         21989|ODS Premier|       AK|2014|1794|\n",
            "+---------+--------------+-----------+---------+----+----+\n",
            "\n"
          ]
        }
      ]
    },
    {
      "cell_type": "code",
      "source": [
        "df_network_raw.filter((df_network_raw.NetworkId ==\"AKN001\" )& (df_network_raw.IssuerId ==\"21989\" ) & (df_network_raw.StateCode ==\"AK\")).show()"
      ],
      "metadata": {
        "colab": {
          "base_uri": "https://localhost:8080/"
        },
        "id": "cMa6v4E_Vfg1",
        "outputId": "53d2e256-0413-4d72-e789-cb03f274f1ba"
      },
      "execution_count": 88,
      "outputs": [
        {
          "output_type": "stream",
          "name": "stdout",
          "text": [
            "+------------+---------+--------+----------+----------+-------------------+---------+----------+--------------------+---------+--------------------+---------+--------------+----------+\n",
            "|BusinessYear|StateCode|IssuerId|SourceName|VersionNum|         ImportDate|IssuerId2|StateCode2|         NetworkName|NetworkId|          NetworkURL|RowNumber|MarketCoverage|DentalOnly|\n",
            "+------------+---------+--------+----------+----------+-------------------+---------+----------+--------------------+---------+--------------------+---------+--------------+----------+\n",
            "|        2015|       AK|   21989|      HIOS|         4|2014-08-08 08:53:29|    21989|        AK|Delta Dental Premier|   AKN001|https://www.modah...|       14|          NULL|      NULL|\n",
            "|        2016|       AK|   21989|      HIOS|         4|2015-08-22 15:09:32|    21989|        AK|Delta Dental Premier|   AKN001|https://www.modah...|       13|          NULL|      NULL|\n",
            "|        2014|       AK|   21989|      HIOS|         6|2014-03-19 07:06:49|    21989|        AK|         ODS Premier|   AKN001|https://www.modah...|       13|          NULL|      NULL|\n",
            "+------------+---------+--------+----------+----------+-------------------+---------+----------+--------------------+---------+--------------------+---------+--------------+----------+\n",
            "\n"
          ]
        }
      ]
    },
    {
      "cell_type": "markdown",
      "source": [
        "This means that Network's name may change over years and that is why there is duplicates in this table so the primary key is both of the fields."
      ],
      "metadata": {
        "id": "a79jj1ltzFUh"
      }
    },
    {
      "cell_type": "markdown",
      "source": [
        "### Plan Variant Table"
      ],
      "metadata": {
        "id": "gSv94dvAmasO"
      }
    },
    {
      "cell_type": "code",
      "source": [
        "plan_variant_table = spark.sql(\"\"\"\n",
        "                            SELECT  DISTINCT p.StandardComponentId AS PlanId,\n",
        "                                    p.PlanId AS Id,\n",
        "                                    p.PlanMarketingName AS Name,\n",
        "                                    p.MarketCoverage AS MarketCoverage,\n",
        "                                    p.BusinessYear AS Year,\n",
        "                                    p.IsNewPlan AS IsNewPlan,\n",
        "                                    p.PlanType AS PlanType,\n",
        "\n",
        "\n",
        "                            FROM plan_staging p\n",
        "                            JOIN\n",
        "\n",
        "\"\"\")\n",
        "# plan_table = plan_table.withColumn(\"plan_id\", monotonically_increasing_id())\n",
        "\n",
        "plan_variant_table.createOrReplaceTempView('plan_variant_table')\n",
        "\n",
        "plan_variant_table.show(5)\n"
      ],
      "metadata": {
        "id": "GBte3b04zcNe"
      },
      "execution_count": null,
      "outputs": []
    },
    {
      "cell_type": "markdown",
      "source": [
        "## Step 4 : Data Analysis\n"
      ],
      "metadata": {
        "id": "kG3ax188TeCx"
      }
    },
    {
      "cell_type": "markdown",
      "source": [
        "Show the Top 5 Networks with the greatest number of organizations"
      ],
      "metadata": {
        "id": "mGviCnguTq6F"
      }
    },
    {
      "cell_type": "code",
      "source": [
        "\n",
        "network_counts = network_table.groupBy(\"NetworkId\").count()\n",
        "\n",
        "result = network_counts.join(network_table, \"NetworkId\")\n",
        "\n",
        "network_name_counts = result.groupBy(\"NetworkName\").count()\n",
        "\n",
        "top_networks = network_name_counts.orderBy(desc(\"count\")).limit(5).select(\"NetworkName\", \"count\")\n",
        "\n",
        "top_networks.show()\n",
        "\n"
      ],
      "metadata": {
        "colab": {
          "base_uri": "https://localhost:8080/"
        },
        "id": "gJsuc5TMTiqx",
        "outputId": "a2ebd2a0-03a8-4e78-8d7f-7f3804b9e170"
      },
      "execution_count": 90,
      "outputs": [
        {
          "output_type": "stream",
          "name": "stdout",
          "text": [
            "+--------------------+-----+\n",
            "|         NetworkName|count|\n",
            "+--------------------+-----+\n",
            "|Ameritas PPO Dent...|   96|\n",
            "|            DenteMax|   54|\n",
            "|        Delta Dental|   38|\n",
            "| Dentegra Dental PPO|   36|\n",
            "|  Renaissance Dental|   34|\n",
            "+--------------------+-----+\n",
            "\n"
          ]
        }
      ]
    },
    {
      "cell_type": "markdown",
      "source": [],
      "metadata": {
        "id": "l1hTXMrqjvZ5"
      }
    },
    {
      "cell_type": "markdown",
      "source": [
        "## Step 5 : Performance Optimization"
      ],
      "metadata": {
        "id": "LuMNIUivjxCL"
      }
    }
  ]
}